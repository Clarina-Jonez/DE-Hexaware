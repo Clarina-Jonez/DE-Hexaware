{
  "nbformat": 4,
  "nbformat_minor": 0,
  "metadata": {
    "colab": {
      "provenance": []
    },
    "kernelspec": {
      "name": "python3",
      "display_name": "Python 3"
    },
    "language_info": {
      "name": "python"
    }
  },
  "cells": [
    {
      "cell_type": "code",
      "execution_count": 1,
      "metadata": {
        "id": "vuRY78DwYglT"
      },
      "outputs": [],
      "source": [
        "import pandas as pd"
      ]
    },
    {
      "cell_type": "markdown",
      "source": [
        "Dataset Creation"
      ],
      "metadata": {
        "id": "czTGeWezau0i"
      }
    },
    {
      "cell_type": "code",
      "source": [
        "data = {\n",
        "    'Student_ID': [1,2,3,4,5,6,7,8,9,None],\n",
        "    'Name': ['Aksha','Bickin','Clare','Dishon','Eva','Fiona','Griffin','Harry','Issac','Jones'],\n",
        "    'Marks': [85,92,88,90,74,79,None,91,None,94],\n",
        "    'Gender': ['F','M','F','M','F','F','M','M','M','M']\n",
        "}\n",
        "\n",
        "df = pd.DataFrame(data)\n",
        "df.to_csv('Students.csv', index = False)"
      ],
      "metadata": {
        "id": "fO6QIdfEZP39"
      },
      "execution_count": 2,
      "outputs": []
    },
    {
      "cell_type": "markdown",
      "source": [
        "Data Cleaning"
      ],
      "metadata": {
        "id": "GwRjV0jGasGG"
      }
    },
    {
      "cell_type": "code",
      "source": [
        "# Step 1: Load the dataset\n",
        "df = pd.read_csv(\"/content/Students.csv\")\n",
        "print(\"Original Data:\")\n",
        "print(df)"
      ],
      "metadata": {
        "colab": {
          "base_uri": "https://localhost:8080/"
        },
        "id": "kZgra7MWatRb",
        "outputId": "f27ae0b2-59d0-49ce-fb74-de9cce8a269f"
      },
      "execution_count": 3,
      "outputs": [
        {
          "output_type": "stream",
          "name": "stdout",
          "text": [
            "Original Data:\n",
            "   Student_ID     Name  Marks Gender\n",
            "0         1.0    Aksha   85.0      F\n",
            "1         2.0   Bickin   92.0      M\n",
            "2         3.0    Clare   88.0      F\n",
            "3         4.0   Dishon   90.0      M\n",
            "4         5.0      Eva   74.0      F\n",
            "5         6.0    Fiona   79.0      F\n",
            "6         7.0  Griffin    NaN      M\n",
            "7         8.0    Harry   91.0      M\n",
            "8         9.0    Issac    NaN      M\n",
            "9         NaN    Jones   94.0      M\n"
          ]
        }
      ]
    },
    {
      "cell_type": "code",
      "source": [
        "# Convert Student_ID to Int64\n",
        "df['Student_ID'] = df['Student_ID'].astype('Int64')\n",
        "print(df)"
      ],
      "metadata": {
        "colab": {
          "base_uri": "https://localhost:8080/"
        },
        "id": "yXI6IhSHc18O",
        "outputId": "aff71574-ba4d-4f25-971d-b45e5a07f6b0"
      },
      "execution_count": 15,
      "outputs": [
        {
          "output_type": "stream",
          "name": "stdout",
          "text": [
            "   Student_ID     Name  Marks Gender\n",
            "0           1    Aksha   85.0      F\n",
            "1           2   Bickin   92.0      M\n",
            "2           3    Clare   88.0      F\n",
            "3           4   Dishon   90.0      M\n",
            "4           5      Eva   74.0      F\n",
            "5           6    Fiona   79.0      F\n",
            "6           7  Griffin    NaN      M\n",
            "7           8    Harry   91.0      M\n",
            "8           9    Issac    NaN      M\n",
            "9        <NA>    Jones   94.0      M\n"
          ]
        }
      ]
    },
    {
      "cell_type": "code",
      "source": [
        "# Drop rows where Student_ID is missing\n",
        "df_cleaned = df.dropna(subset=['Student_ID']).copy()\n",
        "print(\"\\nAfter dropping rows with missing Student_ID:\")\n",
        "print(df_cleaned)"
      ],
      "metadata": {
        "colab": {
          "base_uri": "https://localhost:8080/"
        },
        "id": "ohKQDLU8a-Lm",
        "outputId": "93992531-d9ff-4c82-c4e2-af5f278d6d7f"
      },
      "execution_count": 19,
      "outputs": [
        {
          "output_type": "stream",
          "name": "stdout",
          "text": [
            "\n",
            "After dropping rows with missing Student_ID:\n",
            "   Student_ID     Name  Marks Gender\n",
            "0           1    Aksha   85.0      F\n",
            "1           2   Bickin   92.0      M\n",
            "2           3    Clare   88.0      F\n",
            "3           4   Dishon   90.0      M\n",
            "4           5      Eva   74.0      F\n",
            "5           6    Fiona   79.0      F\n",
            "6           7  Griffin    NaN      M\n",
            "7           8    Harry   91.0      M\n",
            "8           9    Issac    NaN      M\n"
          ]
        }
      ]
    },
    {
      "cell_type": "code",
      "source": [
        "# Fill missing Marks with a default value (0)\n",
        "df_cleaned['Marks'] = df_cleaned['Marks'].fillna(0)"
      ],
      "metadata": {
        "id": "Du6jwSpmd1Dp"
      },
      "execution_count": 20,
      "outputs": []
    },
    {
      "cell_type": "code",
      "source": [
        "# Check for missing values\n",
        "df_cleaned.isnull().sum()"
      ],
      "metadata": {
        "colab": {
          "base_uri": "https://localhost:8080/",
          "height": 209
        },
        "id": "dQWBhMwyeprc",
        "outputId": "0f635eb0-f1e3-48c2-d020-2aa4b60cc841"
      },
      "execution_count": 22,
      "outputs": [
        {
          "output_type": "execute_result",
          "data": {
            "text/plain": [
              "Student_ID    0\n",
              "Name          0\n",
              "Marks         0\n",
              "Gender        0\n",
              "dtype: int64"
            ],
            "text/html": [
              "<div>\n",
              "<style scoped>\n",
              "    .dataframe tbody tr th:only-of-type {\n",
              "        vertical-align: middle;\n",
              "    }\n",
              "\n",
              "    .dataframe tbody tr th {\n",
              "        vertical-align: top;\n",
              "    }\n",
              "\n",
              "    .dataframe thead th {\n",
              "        text-align: right;\n",
              "    }\n",
              "</style>\n",
              "<table border=\"1\" class=\"dataframe\">\n",
              "  <thead>\n",
              "    <tr style=\"text-align: right;\">\n",
              "      <th></th>\n",
              "      <th>0</th>\n",
              "    </tr>\n",
              "  </thead>\n",
              "  <tbody>\n",
              "    <tr>\n",
              "      <th>Student_ID</th>\n",
              "      <td>0</td>\n",
              "    </tr>\n",
              "    <tr>\n",
              "      <th>Name</th>\n",
              "      <td>0</td>\n",
              "    </tr>\n",
              "    <tr>\n",
              "      <th>Marks</th>\n",
              "      <td>0</td>\n",
              "    </tr>\n",
              "    <tr>\n",
              "      <th>Gender</th>\n",
              "      <td>0</td>\n",
              "    </tr>\n",
              "  </tbody>\n",
              "</table>\n",
              "</div><br><label><b>dtype:</b> int64</label>"
            ]
          },
          "metadata": {},
          "execution_count": 22
        }
      ]
    },
    {
      "cell_type": "code",
      "source": [
        "# Show cleaned DataFrame\n",
        "print(\"\\nFinal Cleaned Data:\")\n",
        "print(df_cleaned)"
      ],
      "metadata": {
        "colab": {
          "base_uri": "https://localhost:8080/"
        },
        "id": "ORfIyaN4ezm8",
        "outputId": "01a57abe-fc5d-4890-fc38-f6051440f9f5"
      },
      "execution_count": 23,
      "outputs": [
        {
          "output_type": "stream",
          "name": "stdout",
          "text": [
            "\n",
            "Final Cleaned Data:\n",
            "   Student_ID     Name  Marks Gender\n",
            "0           1    Aksha   85.0      F\n",
            "1           2   Bickin   92.0      M\n",
            "2           3    Clare   88.0      F\n",
            "3           4   Dishon   90.0      M\n",
            "4           5      Eva   74.0      F\n",
            "5           6    Fiona   79.0      F\n",
            "6           7  Griffin    0.0      M\n",
            "7           8    Harry   91.0      M\n",
            "8           9    Issac    0.0      M\n"
          ]
        }
      ]
    },
    {
      "cell_type": "markdown",
      "source": [
        "Cleaning Steps Summary:\n",
        "\n",
        "1. Dropped rows with missing Student_ID\n",
        "\n",
        "2. Filled missing Marks with fillna()\n",
        "\n",
        "---\n",
        "\n"
      ],
      "metadata": {
        "id": "7mamCCNZfR8U"
      }
    },
    {
      "cell_type": "markdown",
      "source": [
        "Dataset Creation"
      ],
      "metadata": {
        "id": "42gLwRM7jjt4"
      }
    },
    {
      "cell_type": "code",
      "source": [
        "# Create second dataset\n",
        "\n",
        "dept_data = {\n",
        "    'Student_ID': [1, 2, 3, 4, 5, 6, 7, 8, 9],\n",
        "    'Department': ['Science', 'Commerce', 'Arts', 'Science', 'Commerce', 'Arts', 'Science', 'Commerce', 'Science']\n",
        "}\n",
        "\n",
        "df_dept = pd.DataFrame(dept_data)\n",
        "df_dept.to_csv('departments.csv', index=False)"
      ],
      "metadata": {
        "id": "cvOzWHiyfkbT"
      },
      "execution_count": 35,
      "outputs": []
    },
    {
      "cell_type": "code",
      "source": [
        "df_dept = pd.read_csv('/content/departments.csv')"
      ],
      "metadata": {
        "id": "59gLcs0tgJGU"
      },
      "execution_count": 36,
      "outputs": []
    },
    {
      "cell_type": "code",
      "source": [
        "print(df_dept)"
      ],
      "metadata": {
        "colab": {
          "base_uri": "https://localhost:8080/"
        },
        "id": "4OxLjLHkg84j",
        "outputId": "dad67ec6-6589-46d0-a36f-c96a39112ca5"
      },
      "execution_count": 37,
      "outputs": [
        {
          "output_type": "stream",
          "name": "stdout",
          "text": [
            "   Student_ID Department\n",
            "0           1    Science\n",
            "1           2   Commerce\n",
            "2           3       Arts\n",
            "3           4    Science\n",
            "4           5   Commerce\n",
            "5           6       Arts\n",
            "6           7    Science\n",
            "7           8   Commerce\n",
            "8           9    Science\n"
          ]
        }
      ]
    },
    {
      "cell_type": "code",
      "source": [
        "# Join datasets on Student_ID\n",
        "merged_df = pd.merge(df_cleaned, df_dept, on = 'Student_ID', how = 'inner')\n",
        "\n",
        "print(\"\\nMerged Data (Inner Join):\")\n",
        "print(merged_df)"
      ],
      "metadata": {
        "colab": {
          "base_uri": "https://localhost:8080/"
        },
        "id": "Rxj8vLS4gUDH",
        "outputId": "0cf6720c-6aba-4c28-fb9f-13ad6f5cd1c8"
      },
      "execution_count": 38,
      "outputs": [
        {
          "output_type": "stream",
          "name": "stdout",
          "text": [
            "\n",
            "Merged Data (Inner Join):\n",
            "   Student_ID     Name  Marks Gender Department\n",
            "0           1    Aksha   85.0      F    Science\n",
            "1           2   Bickin   92.0      M   Commerce\n",
            "2           3    Clare   88.0      F       Arts\n",
            "3           4   Dishon   90.0      M    Science\n",
            "4           5      Eva   74.0      F   Commerce\n",
            "5           6    Fiona   79.0      F       Arts\n",
            "6           7  Griffin    0.0      M    Science\n",
            "7           8    Harry   91.0      M   Commerce\n",
            "8           9    Issac    0.0      M    Science\n"
          ]
        }
      ]
    },
    {
      "cell_type": "code",
      "source": [
        "# Left Join\n",
        "left_join = pd.merge(df_cleaned, df_dept, on='Student_ID', how='left')\n",
        "print(\"Left Join:\\n\", left_join)\n",
        "\n",
        "# Right Join\n",
        "right_join = pd.merge(df_cleaned, df_dept, on='Student_ID', how='right')\n",
        "print(\"\\nRight Join:\\n\", right_join)\n",
        "\n",
        "# Outer Join\n",
        "outer_join = pd.merge(df_cleaned, df_dept, on='Student_ID', how='outer')\n",
        "print(\"\\nOuter Join:\\n\", outer_join)"
      ],
      "metadata": {
        "colab": {
          "base_uri": "https://localhost:8080/"
        },
        "id": "QDJ-8dZ-hqAY",
        "outputId": "b0d5f268-691d-48e4-b9f2-21d88fde8966"
      },
      "execution_count": 47,
      "outputs": [
        {
          "output_type": "stream",
          "name": "stdout",
          "text": [
            "Left Join:\n",
            "    Student_ID     Name  Marks Gender Department\n",
            "0           1    Aksha   85.0      F    Science\n",
            "1           2   Bickin   92.0      M   Commerce\n",
            "2           3    Clare   88.0      F       Arts\n",
            "3           4   Dishon   90.0      M    Science\n",
            "4           5      Eva   74.0      F   Commerce\n",
            "5           6    Fiona   79.0      F       Arts\n",
            "6           7  Griffin    0.0      M    Science\n",
            "7           8    Harry   91.0      M   Commerce\n",
            "8           9    Issac    0.0      M    Science\n",
            "\n",
            "Right Join:\n",
            "    Student_ID     Name  Marks Gender Department\n",
            "0           1    Aksha   85.0      F    Science\n",
            "1           2   Bickin   92.0      M   Commerce\n",
            "2           3    Clare   88.0      F       Arts\n",
            "3           4   Dishon   90.0      M    Science\n",
            "4           5      Eva   74.0      F   Commerce\n",
            "5           6    Fiona   79.0      F       Arts\n",
            "6           7  Griffin    0.0      M    Science\n",
            "7           8    Harry   91.0      M   Commerce\n",
            "8           9    Issac    0.0      M    Science\n",
            "\n",
            "Outer Join:\n",
            "    Student_ID     Name  Marks Gender Department\n",
            "0           1    Aksha   85.0      F    Science\n",
            "1           2   Bickin   92.0      M   Commerce\n",
            "2           3    Clare   88.0      F       Arts\n",
            "3           4   Dishon   90.0      M    Science\n",
            "4           5      Eva   74.0      F   Commerce\n",
            "5           6    Fiona   79.0      F       Arts\n",
            "6           7  Griffin    0.0      M    Science\n",
            "7           8    Harry   91.0      M   Commerce\n",
            "8           9    Issac    0.0      M    Science\n"
          ]
        }
      ]
    },
    {
      "cell_type": "markdown",
      "source": [
        "Pandas Join (Merge):\n",
        "1. Inner\n",
        "2. Left\n",
        "3. Right\n",
        "4. Outer\n",
        "\n",
        "---\n",
        "\n"
      ],
      "metadata": {
        "id": "Kv2rC-t8jFPf"
      }
    }
  ]
}