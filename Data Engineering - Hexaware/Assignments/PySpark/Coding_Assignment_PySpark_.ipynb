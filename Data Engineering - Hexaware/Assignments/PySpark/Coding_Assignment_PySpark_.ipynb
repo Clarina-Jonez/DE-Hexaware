{
  "nbformat": 4,
  "nbformat_minor": 0,
  "metadata": {
    "colab": {
      "provenance": []
    },
    "kernelspec": {
      "name": "python3",
      "display_name": "Python 3"
    },
    "language_info": {
      "name": "python"
    }
  },
  "cells": [
    {
      "cell_type": "code",
      "execution_count": 12,
      "metadata": {
        "id": "WbBTgme1mNpB"
      },
      "outputs": [],
      "source": [
        "# Import necessary libraries\n",
        "from pyspark.sql import SparkSession\n",
        "from pyspark.sql.functions import col, avg, max, rank\n",
        "from pyspark.sql.window import Window"
      ]
    },
    {
      "cell_type": "code",
      "source": [
        "# Create Spark session\n",
        "spark = SparkSession.builder.appName(\"PySparkCaseStudy\").getOrCreate()"
      ],
      "metadata": {
        "id": "LIlfZ9pZnkVf"
      },
      "execution_count": 13,
      "outputs": []
    },
    {
      "cell_type": "code",
      "source": [
        "# Load CSV files into DataFrames\n",
        "employees = spark.read.csv(\"employees.csv\", header=True, inferSchema=True)\n",
        "departments = spark.read.csv(\"departments.csv\", header=True, inferSchema=True)"
      ],
      "metadata": {
        "id": "CGwqxWdnnp-7"
      },
      "execution_count": 14,
      "outputs": []
    },
    {
      "cell_type": "code",
      "source": [
        "# Show loaded data\n",
        "employees.show()\n",
        "departments.show()"
      ],
      "metadata": {
        "colab": {
          "base_uri": "https://localhost:8080/"
        },
        "id": "wiKoz3m-nqee",
        "outputId": "7c9727a3-5a84-4934-d175-bba261ac44b8"
      },
      "execution_count": 15,
      "outputs": [
        {
          "output_type": "stream",
          "name": "stdout",
          "text": [
            "+-----+-------+------+------+----------+\n",
            "|EmpID|   Name|DeptID|Salary|  JoinDate|\n",
            "+-----+-------+------+------+----------+\n",
            "|    1|  Alice|   101| 70000|2021-01-10|\n",
            "|    2|    Bob|   102| 48000|2020-03-15|\n",
            "|    3|Charlie|   101| 52000|2021-07-01|\n",
            "|    4|  Diana|   103| 82000|2019-11-23|\n",
            "|    5|    Eve|   102| 46000|2022-05-10|\n",
            "|    6|  Frank|   101| 62000|2023-07-09|\n",
            "|    7|    Gia|   102| 74000|2021-03-10|\n",
            "|    8|  Harry|   102| 68000|2020-09-20|\n",
            "|    9|    Ian|   101| 57000|2021-10-21|\n",
            "|   10|  Jenny|   103| 85000|2019-11-12|\n",
            "+-----+-------+------+------+----------+\n",
            "\n",
            "+------+-----------+\n",
            "|DeptID|   DeptName|\n",
            "+------+-----------+\n",
            "|   101|Engineering|\n",
            "|   102|      Sales|\n",
            "|   103|         HR|\n",
            "+------+-----------+\n",
            "\n"
          ]
        }
      ]
    },
    {
      "cell_type": "markdown",
      "source": [
        "1. Filter: Get employees earning more than ₹50,000"
      ],
      "metadata": {
        "id": "_wB233ean-0N"
      }
    },
    {
      "cell_type": "code",
      "source": [
        "high_earners = employees.filter(col(\"Salary\") > 50000)\n",
        "high_earners.show()"
      ],
      "metadata": {
        "colab": {
          "base_uri": "https://localhost:8080/"
        },
        "id": "eOmNE_jTn4SG",
        "outputId": "863a8139-9395-4831-9095-04a64c4bed9f"
      },
      "execution_count": 16,
      "outputs": [
        {
          "output_type": "stream",
          "name": "stdout",
          "text": [
            "+-----+-------+------+------+----------+\n",
            "|EmpID|   Name|DeptID|Salary|  JoinDate|\n",
            "+-----+-------+------+------+----------+\n",
            "|    1|  Alice|   101| 70000|2021-01-10|\n",
            "|    3|Charlie|   101| 52000|2021-07-01|\n",
            "|    4|  Diana|   103| 82000|2019-11-23|\n",
            "|    6|  Frank|   101| 62000|2023-07-09|\n",
            "|    7|    Gia|   102| 74000|2021-03-10|\n",
            "|    8|  Harry|   102| 68000|2020-09-20|\n",
            "|    9|    Ian|   101| 57000|2021-10-21|\n",
            "|   10|  Jenny|   103| 85000|2019-11-12|\n",
            "+-----+-------+------+------+----------+\n",
            "\n"
          ]
        }
      ]
    },
    {
      "cell_type": "markdown",
      "source": [
        "2. Join: Add department names to the employee table"
      ],
      "metadata": {
        "id": "031RZHYQoJmN"
      }
    },
    {
      "cell_type": "code",
      "source": [
        "emp_with_dept = employees.join(departments, on=\"DeptID\", how=\"inner\")\n",
        "emp_with_dept.show()"
      ],
      "metadata": {
        "colab": {
          "base_uri": "https://localhost:8080/"
        },
        "id": "J-VuzDmeoFl6",
        "outputId": "8a883d35-05be-4ea0-9148-14331435fa0c"
      },
      "execution_count": 17,
      "outputs": [
        {
          "output_type": "stream",
          "name": "stdout",
          "text": [
            "+------+-----+-------+------+----------+-----------+\n",
            "|DeptID|EmpID|   Name|Salary|  JoinDate|   DeptName|\n",
            "+------+-----+-------+------+----------+-----------+\n",
            "|   101|    1|  Alice| 70000|2021-01-10|Engineering|\n",
            "|   102|    2|    Bob| 48000|2020-03-15|      Sales|\n",
            "|   101|    3|Charlie| 52000|2021-07-01|Engineering|\n",
            "|   103|    4|  Diana| 82000|2019-11-23|         HR|\n",
            "|   102|    5|    Eve| 46000|2022-05-10|      Sales|\n",
            "|   101|    6|  Frank| 62000|2023-07-09|Engineering|\n",
            "|   102|    7|    Gia| 74000|2021-03-10|      Sales|\n",
            "|   102|    8|  Harry| 68000|2020-09-20|      Sales|\n",
            "|   101|    9|    Ian| 57000|2021-10-21|Engineering|\n",
            "|   103|   10|  Jenny| 85000|2019-11-12|         HR|\n",
            "+------+-----+-------+------+----------+-----------+\n",
            "\n"
          ]
        }
      ]
    },
    {
      "cell_type": "markdown",
      "source": [
        "3. GroupBy & Aggregation: Average salary by department"
      ],
      "metadata": {
        "id": "qKrnRfmfoY6r"
      }
    },
    {
      "cell_type": "code",
      "source": [
        "avg_salary = emp_with_dept.groupBy(\"DeptName\").agg(avg(\"Salary\").alias(\"AvgSalary\"))\n",
        "avg_salary.show()"
      ],
      "metadata": {
        "colab": {
          "base_uri": "https://localhost:8080/"
        },
        "id": "bmlgI3zroRJ_",
        "outputId": "4d897ba0-83cf-47d5-911f-d758be80627e"
      },
      "execution_count": 18,
      "outputs": [
        {
          "output_type": "stream",
          "name": "stdout",
          "text": [
            "+-----------+---------+\n",
            "|   DeptName|AvgSalary|\n",
            "+-----------+---------+\n",
            "|      Sales|  59000.0|\n",
            "|Engineering|  60250.0|\n",
            "|         HR|  83500.0|\n",
            "+-----------+---------+\n",
            "\n"
          ]
        }
      ]
    },
    {
      "cell_type": "markdown",
      "source": [
        "4. Aggregation: Maximum salary in the company"
      ],
      "metadata": {
        "id": "mFYdVizqokz3"
      }
    },
    {
      "cell_type": "code",
      "source": [
        "max_salary = employees.agg(max(\"Salary\").alias(\"MaxSalary\"))\n",
        "max_salary.show()"
      ],
      "metadata": {
        "colab": {
          "base_uri": "https://localhost:8080/"
        },
        "id": "PedL-PXRohIn",
        "outputId": "a10d5478-2ae0-476f-8786-1b0f1a4f598f"
      },
      "execution_count": 19,
      "outputs": [
        {
          "output_type": "stream",
          "name": "stdout",
          "text": [
            "+---------+\n",
            "|MaxSalary|\n",
            "+---------+\n",
            "|    85000|\n",
            "+---------+\n",
            "\n"
          ]
        }
      ]
    },
    {
      "cell_type": "markdown",
      "source": [
        "5. Window Function: Rank employees within department by salary"
      ],
      "metadata": {
        "id": "S5i7yxCCowT4"
      }
    },
    {
      "cell_type": "code",
      "source": [
        "# Define window spec\n",
        "window_spec = Window.partitionBy(\"DeptID\").orderBy(col(\"Salary\").desc())\n",
        "\n",
        "# Add rank\n",
        "ranked_employees = employees.withColumn(\"Rank\", rank().over(window_spec))\n",
        "ranked_employees.show()"
      ],
      "metadata": {
        "colab": {
          "base_uri": "https://localhost:8080/"
        },
        "id": "D43Af5aqoooT",
        "outputId": "da591dc4-c876-4e6b-fcb7-52e8187a07ae"
      },
      "execution_count": 20,
      "outputs": [
        {
          "output_type": "stream",
          "name": "stdout",
          "text": [
            "+-----+-------+------+------+----------+----+\n",
            "|EmpID|   Name|DeptID|Salary|  JoinDate|Rank|\n",
            "+-----+-------+------+------+----------+----+\n",
            "|    1|  Alice|   101| 70000|2021-01-10|   1|\n",
            "|    6|  Frank|   101| 62000|2023-07-09|   2|\n",
            "|    9|    Ian|   101| 57000|2021-10-21|   3|\n",
            "|    3|Charlie|   101| 52000|2021-07-01|   4|\n",
            "|    7|    Gia|   102| 74000|2021-03-10|   1|\n",
            "|    8|  Harry|   102| 68000|2020-09-20|   2|\n",
            "|    2|    Bob|   102| 48000|2020-03-15|   3|\n",
            "|    5|    Eve|   102| 46000|2022-05-10|   4|\n",
            "|   10|  Jenny|   103| 85000|2019-11-12|   1|\n",
            "|    4|  Diana|   103| 82000|2019-11-23|   2|\n",
            "+-----+-------+------+------+----------+----+\n",
            "\n"
          ]
        }
      ]
    },
    {
      "cell_type": "markdown",
      "source": [
        "6. Combine Actions: Filter + Join + GroupBy + Aggregation"
      ],
      "metadata": {
        "id": "3yFUAmYeo6kg"
      }
    },
    {
      "cell_type": "code",
      "source": [
        "# Find avg salary of departments that have at least one employee earning >60k\n",
        "filtered = employees.filter(col(\"Salary\") > 60000)\n",
        "filtered_with_dept = filtered.join(departments, \"DeptID\")\n",
        "result = filtered_with_dept.groupBy(\"DeptName\").agg(avg(\"Salary\").alias(\"AvgHighSalary\"))\n",
        "result.show()"
      ],
      "metadata": {
        "colab": {
          "base_uri": "https://localhost:8080/"
        },
        "id": "ViRpkOfBo0t-",
        "outputId": "a227b99a-ebdf-49e8-fea8-f18944ba547b"
      },
      "execution_count": 21,
      "outputs": [
        {
          "output_type": "stream",
          "name": "stdout",
          "text": [
            "+-----------+-------------+\n",
            "|   DeptName|AvgHighSalary|\n",
            "+-----------+-------------+\n",
            "|      Sales|      71000.0|\n",
            "|Engineering|      66000.0|\n",
            "|         HR|      83500.0|\n",
            "+-----------+-------------+\n",
            "\n"
          ]
        }
      ]
    }
  ]
}