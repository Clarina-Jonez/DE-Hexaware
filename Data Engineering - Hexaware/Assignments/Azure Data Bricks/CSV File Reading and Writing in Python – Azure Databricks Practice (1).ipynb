{
 "cells": [
  {
   "cell_type": "markdown",
   "metadata": {
    "application/vnd.databricks.v1+cell": {
     "cellMetadata": {},
     "inputWidgets": {},
     "nuid": "b6e7f17d-45ac-46f0-9999-a65c095e0e80",
     "showTitle": false,
     "tableResultSettingsMap": {},
     "title": ""
    }
   },
   "source": [
    "### Part 0: Upload the CSV File\n",
    "Steps:\n",
    "\n",
    "- Go to Data tab → DBFS.\n",
    "- Click Upload → Choose your file (salary.csv).\n",
    "- File will be saved under: \n",
    "    /FileStore/tables/salary.csv"
   ]
  },
  {
   "cell_type": "markdown",
   "metadata": {
    "application/vnd.databricks.v1+cell": {
     "cellMetadata": {},
     "inputWidgets": {},
     "nuid": "61a6329d-0f1e-4e2c-ba2e-c4308b4b8239",
     "showTitle": false,
     "tableResultSettingsMap": {},
     "title": ""
    }
   },
   "source": [
    "\n",
    "### Part 1: Reading CSV Files\n",
    "\n",
    "\uD83D\uDFE6 1.1 Using csv.reader"
   ]
  },
  {
   "cell_type": "code",
   "execution_count": 0,
   "metadata": {
    "application/vnd.databricks.v1+cell": {
     "cellMetadata": {
      "byteLimit": 2048000,
      "rowLimit": 10000
     },
     "inputWidgets": {},
     "nuid": "19bcd272-439b-4e0e-a090-2c14b0951848",
     "showTitle": false,
     "tableResultSettingsMap": {},
     "title": ""
    }
   },
   "outputs": [
    {
     "output_type": "stream",
     "name": "stdout",
     "output_type": "stream",
     "text": [
      "Header: ['name', 'id', 'age', 'department', 'salary']\nRows: [['user1', '1', '25', 'Jr manager', '98000'], ['user2', '2', '30', 'sr manager', '100000'], ['user3', '6', '35', 'sr manager', '100000'], ['user4', '4', '32', 'head', '70000'], ['user5', '1', '45', 'Jr manager', '60000'], ['user6', '6', '47', 'head2', '45000'], ['user7', '5', '21', 'worker', '25000'], ['user8', '1', '22', 'Jr manager', '50000'], ['user9', '10', '54', 'lead', '45000'], ['user10', '59', '52', 'lead2', '50000'], ['user11', '6', '25', 'head2', '50000'], ['user12', '2', '27', 'sr manager', '70000'], ['user13', '59', '54', 'lead2', '45000'], ['user14', '2', '25', 'sr manager', '70000'], ['user15', '1', '32', 'Jr manager', '50000'], ['user16', '3', '37', 'worker', '25000'], ['user17', '74', '63', 'Manager', '68000'], ['user18', '7', '25', 'head', '45000'], ['user19', '10', '32', 'lvl2 head', '52000'], ['user20', '10', '32', 'lvl2 head', '52000']]\n"
     ]
    }
   ],
   "source": [
    "import csv\n",
    "\n",
    "rows = []\n",
    "with open('/dbfs/FileStore/tables/salary.csv', 'r') as file:\n",
    "    csvreader = csv.reader(file)\n",
    "    header = next(csvreader)\n",
    "    for row in csvreader:\n",
    "        rows.append(row)\n",
    "\n",
    "print(\"Header:\", header)\n",
    "print(\"Rows:\", rows)"
   ]
  },
  {
   "cell_type": "markdown",
   "metadata": {
    "application/vnd.databricks.v1+cell": {
     "cellMetadata": {},
     "inputWidgets": {},
     "nuid": "3b53dbe0-e7e9-450c-8294-4358e503a376",
     "showTitle": false,
     "tableResultSettingsMap": {},
     "title": ""
    }
   },
   "source": [
    "\uD83D\uDFE6 1.2 Using .readlines()"
   ]
  },
  {
   "cell_type": "code",
   "execution_count": 0,
   "metadata": {
    "application/vnd.databricks.v1+cell": {
     "cellMetadata": {
      "byteLimit": 2048000,
      "rowLimit": 10000
     },
     "inputWidgets": {},
     "nuid": "1245abc8-b802-48c2-b754-1c8e0dfcb0fc",
     "showTitle": false,
     "tableResultSettingsMap": {},
     "title": ""
    }
   },
   "outputs": [
    {
     "output_type": "stream",
     "name": "stdout",
     "output_type": "stream",
     "text": [
      "Header: ['name,id,age,department,salary']\n\nRows: ['user1,1,25,Jr manager,98000', 'user2,2,30,sr manager,100000', 'user3,6,35,sr manager,100000', 'user4,4,32,head,70000', 'user5,1,45,Jr manager,60000', 'user6,6,47,head2,45000', 'user7,5,21,worker,25000', 'user8,1,22,Jr manager,50000', 'user9,10,54,lead,45000', 'user10,59,52,lead2,50000', 'user11,6,25,head2,50000', 'user12,2,27,sr manager,70000', 'user13,59,54,lead2,45000', 'user14,2,25,sr manager,70000', 'user15,1,32,Jr manager,50000', 'user16,3,37,worker,25000', 'user17,74,63,Manager,68000', 'user18,7,25,head,45000', 'user19,10,32,lvl2 head,52000', 'user20,10,32,lvl2 head,52000']\n"
     ]
    }
   ],
   "source": [
    "with open('/dbfs/FileStore/tables/salary.csv', 'r') as file:\n",
    "    content = file.readlines()\n",
    "\n",
    "header = content[:1]\n",
    "rows = content[1:]\n",
    "\n",
    "print(\"Header:\", [h.strip() for h in header])\n",
    "print(\"\\nRows:\", [r.strip() for r in rows])"
   ]
  },
  {
   "cell_type": "markdown",
   "metadata": {
    "application/vnd.databricks.v1+cell": {
     "cellMetadata": {},
     "inputWidgets": {},
     "nuid": "c833761d-cf47-4a3e-98ab-8ff58cbb50b7",
     "showTitle": false,
     "tableResultSettingsMap": {},
     "title": ""
    }
   },
   "source": [
    "\uD83D\uDFE6 1.3 Using pandas.read_csv()"
   ]
  },
  {
   "cell_type": "code",
   "execution_count": 0,
   "metadata": {
    "application/vnd.databricks.v1+cell": {
     "cellMetadata": {
      "byteLimit": 2048000,
      "rowLimit": 10000
     },
     "inputWidgets": {},
     "nuid": "e3e5a7c9-ce9b-493d-a5b1-d2e792e6b43e",
     "showTitle": false,
     "tableResultSettingsMap": {},
     "title": ""
    }
   },
   "outputs": [
    {
     "output_type": "stream",
     "name": "stdout",
     "output_type": "stream",
     "text": [
      "    name  id  age  department  salary\n0  user1   1   25  Jr manager   98000\n1  user2   2   30  sr manager  100000\n2  user3   6   35  sr manager  100000\n3  user4   4   32        head   70000\n4  user5   1   45  Jr manager   60000\nColumns: ['name', 'id', 'age', 'department', 'salary']\n"
     ]
    }
   ],
   "source": [
    "import pandas as pd\n",
    "\n",
    "df = pd.read_csv('/dbfs/FileStore/tables/salary.csv')\n",
    "print(df.head())\n",
    "print(\"Columns:\", df.columns.tolist())"
   ]
  },
  {
   "cell_type": "markdown",
   "metadata": {
    "application/vnd.databricks.v1+cell": {
     "cellMetadata": {},
     "inputWidgets": {},
     "nuid": "ab63926f-b4a7-4b04-a2c4-dbc3c6180a0f",
     "showTitle": false,
     "tableResultSettingsMap": {},
     "title": ""
    }
   },
   "source": [
    "\uD83D\uDFE6 1.4 Using csv.DictReader"
   ]
  },
  {
   "cell_type": "code",
   "execution_count": 0,
   "metadata": {
    "application/vnd.databricks.v1+cell": {
     "cellMetadata": {
      "byteLimit": 2048000,
      "rowLimit": 10000
     },
     "inputWidgets": {},
     "nuid": "f8d44823-e4de-4a24-8da1-5798e3e832b6",
     "showTitle": false,
     "tableResultSettingsMap": {},
     "title": ""
    }
   },
   "outputs": [
    {
     "output_type": "stream",
     "name": "stdout",
     "output_type": "stream",
     "text": [
      "{'name': 'user1', 'id': '1', 'age': '25', 'department': 'Jr manager', 'salary': '98000'}\n{'name': 'user2', 'id': '2', 'age': '30', 'department': 'sr manager', 'salary': '100000'}\n{'name': 'user3', 'id': '6', 'age': '35', 'department': 'sr manager', 'salary': '100000'}\n{'name': 'user4', 'id': '4', 'age': '32', 'department': 'head', 'salary': '70000'}\n{'name': 'user5', 'id': '1', 'age': '45', 'department': 'Jr manager', 'salary': '60000'}\n{'name': 'user6', 'id': '6', 'age': '47', 'department': 'head2', 'salary': '45000'}\n{'name': 'user7', 'id': '5', 'age': '21', 'department': 'worker', 'salary': '25000'}\n{'name': 'user8', 'id': '1', 'age': '22', 'department': 'Jr manager', 'salary': '50000'}\n{'name': 'user9', 'id': '10', 'age': '54', 'department': 'lead', 'salary': '45000'}\n{'name': 'user10', 'id': '59', 'age': '52', 'department': 'lead2', 'salary': '50000'}\n{'name': 'user11', 'id': '6', 'age': '25', 'department': 'head2', 'salary': '50000'}\n{'name': 'user12', 'id': '2', 'age': '27', 'department': 'sr manager', 'salary': '70000'}\n{'name': 'user13', 'id': '59', 'age': '54', 'department': 'lead2', 'salary': '45000'}\n{'name': 'user14', 'id': '2', 'age': '25', 'department': 'sr manager', 'salary': '70000'}\n{'name': 'user15', 'id': '1', 'age': '32', 'department': 'Jr manager', 'salary': '50000'}\n{'name': 'user16', 'id': '3', 'age': '37', 'department': 'worker', 'salary': '25000'}\n{'name': 'user17', 'id': '74', 'age': '63', 'department': 'Manager', 'salary': '68000'}\n{'name': 'user18', 'id': '7', 'age': '25', 'department': 'head', 'salary': '45000'}\n{'name': 'user19', 'id': '10', 'age': '32', 'department': 'lvl2 head', 'salary': '52000'}\n{'name': 'user20', 'id': '10', 'age': '32', 'department': 'lvl2 head', 'salary': '52000'}\n"
     ]
    }
   ],
   "source": [
    "import csv\n",
    "\n",
    "with open('/dbfs/FileStore/tables/salary.csv', 'r') as csvfile:\n",
    "    reader = csv.DictReader(csvfile)\n",
    "    for row in reader:\n",
    "        print(row)"
   ]
  },
  {
   "cell_type": "markdown",
   "metadata": {
    "application/vnd.databricks.v1+cell": {
     "cellMetadata": {},
     "inputWidgets": {},
     "nuid": "653697da-19ec-4731-99de-dd5847804d9d",
     "showTitle": false,
     "tableResultSettingsMap": {},
     "title": ""
    }
   },
   "source": [
    "___________________________________________________________________________________"
   ]
  },
  {
   "cell_type": "markdown",
   "metadata": {
    "application/vnd.databricks.v1+cell": {
     "cellMetadata": {},
     "inputWidgets": {},
     "nuid": "5ae751b6-054c-44aa-96a0-b02beced1f53",
     "showTitle": false,
     "tableResultSettingsMap": {},
     "title": ""
    }
   },
   "source": [
    "### Part 2: Writing CSV Files\n",
    "\uD83D\uDFE8 2.1 Using csv.writer"
   ]
  },
  {
   "cell_type": "code",
   "execution_count": 0,
   "metadata": {
    "application/vnd.databricks.v1+cell": {
     "cellMetadata": {
      "byteLimit": 2048000,
      "rowLimit": 10000
     },
     "inputWidgets": {},
     "nuid": "f8727022-c552-4900-b3d0-a31a7dda0168",
     "showTitle": false,
     "tableResultSettingsMap": {},
     "title": ""
    }
   },
   "outputs": [
    {
     "output_type": "stream",
     "name": "stdout",
     "output_type": "stream",
     "text": [
      "File written using csv.writer\n"
     ]
    }
   ],
   "source": [
    "import csv\n",
    "\n",
    "header = ['Name', 'M1 Score', 'M2 Score']\n",
    "data = [['Alex', 62, 80], ['Brad', 45, 56], ['Joey', 85, 98]]\n",
    "\n",
    "with open('/dbfs/FileStore/tables/Students_Data_writer.csv', 'w', newline='') as file:\n",
    "    csvwriter = csv.writer(file)\n",
    "    csvwriter.writerow(header)\n",
    "    csvwriter.writerows(data)\n",
    "\n",
    "print(\"File written using csv.writer\")"
   ]
  },
  {
   "cell_type": "markdown",
   "metadata": {
    "application/vnd.databricks.v1+cell": {
     "cellMetadata": {},
     "inputWidgets": {},
     "nuid": "4161cc51-648f-4352-bdd3-790175157a10",
     "showTitle": false,
     "tableResultSettingsMap": {},
     "title": ""
    }
   },
   "source": [
    "\uD83D\uDFE8 2.2 Using .writelines()"
   ]
  },
  {
   "cell_type": "code",
   "execution_count": 0,
   "metadata": {
    "application/vnd.databricks.v1+cell": {
     "cellMetadata": {
      "byteLimit": 2048000,
      "rowLimit": 10000
     },
     "inputWidgets": {},
     "nuid": "e41c5d73-ecf1-4e3e-89d7-2bbcf335115c",
     "showTitle": false,
     "tableResultSettingsMap": {},
     "title": ""
    }
   },
   "outputs": [
    {
     "output_type": "stream",
     "name": "stdout",
     "output_type": "stream",
     "text": [
      "File written using .writelines()\n"
     ]
    }
   ],
   "source": [
    "header = ['Name', 'M1 Score', 'M2 Score']\n",
    "data = [['Alex', 62, 80], ['Brad', 45, 56], ['Joey', 85, 98]]\n",
    "\n",
    "with open('/dbfs/FileStore/tables/Students_Data_writelines.csv', 'w') as file:\n",
    "    file.write(','.join(header) + '\\n')\n",
    "    for row in data:\n",
    "        file.write(','.join(map(str, row)) + '\\n')\n",
    "\n",
    "print(\"File written using .writelines()\")"
   ]
  },
  {
   "cell_type": "markdown",
   "metadata": {
    "application/vnd.databricks.v1+cell": {
     "cellMetadata": {},
     "inputWidgets": {},
     "nuid": "860bf9b3-a608-4987-aec7-55d2266152eb",
     "showTitle": false,
     "tableResultSettingsMap": {},
     "title": ""
    }
   },
   "source": [
    "\uD83D\uDFE8 2.3 Using pandas.to_csv()"
   ]
  },
  {
   "cell_type": "code",
   "execution_count": 0,
   "metadata": {
    "application/vnd.databricks.v1+cell": {
     "cellMetadata": {
      "byteLimit": 2048000,
      "rowLimit": 10000
     },
     "inputWidgets": {},
     "nuid": "db74259c-5756-4504-9c0a-ee387c8acc21",
     "showTitle": false,
     "tableResultSettingsMap": {},
     "title": ""
    }
   },
   "outputs": [
    {
     "output_type": "stream",
     "name": "stdout",
     "output_type": "stream",
     "text": [
      "File written using pandas.to_csv()\n"
     ]
    }
   ],
   "source": [
    "import pandas as pd\n",
    "\n",
    "header = ['Name', 'M1 Score', 'M2 Score']\n",
    "data = [['Alex', 62, 80], ['Brad', 45, 56], ['Joey', 85, 98]]\n",
    "\n",
    "df = pd.DataFrame(data, columns=header)\n",
    "df.to_csv('/dbfs/FileStore/tables/Students_Data_pandas.csv', index=False)\n",
    "\n",
    "print(\"File written using pandas.to_csv()\")"
   ]
  },
  {
   "cell_type": "markdown",
   "metadata": {
    "application/vnd.databricks.v1+cell": {
     "cellMetadata": {},
     "inputWidgets": {},
     "nuid": "8657aecc-2c89-4553-95fc-0d50dfeef790",
     "showTitle": false,
     "tableResultSettingsMap": {},
     "title": ""
    }
   },
   "source": [
    "\uD83D\uDFE8 2.4 Using csv.DictWriter"
   ]
  },
  {
   "cell_type": "code",
   "execution_count": 0,
   "metadata": {
    "application/vnd.databricks.v1+cell": {
     "cellMetadata": {
      "byteLimit": 2048000,
      "rowLimit": 10000
     },
     "inputWidgets": {},
     "nuid": "71e31a9d-7abe-4fd9-9166-fb835827387f",
     "showTitle": false,
     "tableResultSettingsMap": {},
     "title": ""
    }
   },
   "outputs": [
    {
     "output_type": "stream",
     "name": "stdout",
     "output_type": "stream",
     "text": [
      "File written using csv.DictWriter\n"
     ]
    }
   ],
   "source": [
    "import csv\n",
    "\n",
    "data = [\n",
    "    {'Name': 'Alex', 'M1 Score': 62, 'M2 Score': 80},\n",
    "    {'Name': 'Brad', 'M1 Score': 45, 'M2 Score': 56},\n",
    "    {'Name': 'Joey', 'M1 Score': 85, 'M2 Score': 98}\n",
    "]\n",
    "\n",
    "fieldnames = ['Name', 'M1 Score', 'M2 Score']\n",
    "\n",
    "with open('/dbfs/FileStore/tables/Students_Data_dictwriter.csv', 'w', newline='') as csvfile:\n",
    "    writer = csv.DictWriter(csvfile, fieldnames=fieldnames)\n",
    "    writer.writeheader()\n",
    "    writer.writerows(data)\n",
    "\n",
    "print(\"File written using csv.DictWriter\")"
   ]
  }
 ],
 "metadata": {
  "application/vnd.databricks.v1+notebook": {
   "computePreferences": null,
   "dashboards": [],
   "environmentMetadata": {
    "base_environment": "",
    "environment_version": "2"
   },
   "inputWidgetPreferences": null,
   "language": "python",
   "notebookMetadata": {
    "pythonIndentUnit": 4
   },
   "notebookName": "CSV File Reading and Writing in Python – Azure Databricks Practice",
   "widgets": {}
  },
  "language_info": {
   "name": "python"
  }
 },
 "nbformat": 4,
 "nbformat_minor": 0
}