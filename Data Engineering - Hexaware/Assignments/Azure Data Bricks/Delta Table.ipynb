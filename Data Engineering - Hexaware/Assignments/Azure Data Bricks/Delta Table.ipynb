{
 "cells": [
  {
   "cell_type": "markdown",
   "metadata": {
    "application/vnd.databricks.v1+cell": {
     "cellMetadata": {},
     "inputWidgets": {},
     "nuid": "8999b875-a3da-4690-9552-6b663256e58e",
     "showTitle": false,
     "tableResultSettingsMap": {},
     "title": ""
    }
   },
   "source": [
    "### Theory — What is Delta Lake?\n",
    "  Delta Lake is an open-source storage layer built on top of your data lake that:\n",
    "\n",
    "- Adds reliability to big data storage\n",
    "\n",
    "- Supports ACID transactions (Atomicity, Consistency, Isolation, Durability)\n",
    "\n",
    "- Handles scalable metadata\n",
    "\n",
    "- Allows streaming + batch processing on the same data\n",
    "\n",
    "- Keeps a transaction log (_delta_log) that enables:\n",
    "\n",
    "  - Versioning (Time Travel)\n",
    "\n",
    "  - Data updates and deletes\n",
    "\n",
    "  - Schema enforcement & evolution\n",
    "\n",
    "\uD83D\uDCA1 In Azure Databricks:\n",
    "\n",
    "- All new tables are Delta tables by default.\n",
    "\n",
    "- Data can be accessed via SQL or PySpark.\n",
    "\n",
    "- You can work with Delta using DataFrame API or SQL commands.\n",
    "\n",
    "____"
   ]
  },
  {
   "cell_type": "markdown",
   "metadata": {
    "application/vnd.databricks.v1+cell": {
     "cellMetadata": {},
     "inputWidgets": {},
     "nuid": "ee4647b2-d636-4376-8a23-861391ef7f13",
     "showTitle": false,
     "tableResultSettingsMap": {},
     "title": ""
    }
   },
   "source": [
    "####Upload CSV to DBFS:\n",
    "\n",
    "DBFS (Databricks File System) is a distributed file system in Databricks.\n",
    "We upload our CSV file here so Spark can access it.\n",
    "\n",
    "- Upload File & Set the destination folder : /FileStore/tables/salary-1.csv\n",
    "\n",
    "_____"
   ]
  },
  {
   "cell_type": "markdown",
   "metadata": {
    "application/vnd.databricks.v1+cell": {
     "cellMetadata": {},
     "inputWidgets": {},
     "nuid": "6b402081-beba-4680-bc1f-932e50b3d742",
     "showTitle": false,
     "tableResultSettingsMap": {},
     "title": ""
    }
   },
   "source": [
    "#### Define Schema & Read CSV:\n",
    "\n",
    "- We define schema explicitly to avoid CANNOT_DETERMINE_TYPE errors when Spark infers data types."
   ]
  },
  {
   "cell_type": "code",
   "execution_count": 0,
   "metadata": {
    "application/vnd.databricks.v1+cell": {
     "cellMetadata": {
      "byteLimit": 2048000,
      "rowLimit": 10000
     },
     "inputWidgets": {},
     "nuid": "34f80cac-1455-4c5a-808d-a4c131f3998e",
     "showTitle": false,
     "tableResultSettingsMap": {},
     "title": ""
    }
   },
   "outputs": [],
   "source": [
    "from pyspark.sql.types import StructType, StructField, StringType, IntegerType\n",
    "\n",
    "# Schema for salary.csv\n",
    "schema = StructType([\n",
    "    StructField(\"name\", StringType(), True),\n",
    "    StructField(\"id\", IntegerType(), True),\n",
    "    StructField(\"age\", IntegerType(), True),\n",
    "    StructField(\"department\", StringType(), True),\n",
    "    StructField(\"salary\", IntegerType(), True)\n",
    "])"
   ]
  },
  {
   "cell_type": "code",
   "execution_count": 0,
   "metadata": {
    "application/vnd.databricks.v1+cell": {
     "cellMetadata": {
      "byteLimit": 2048000,
      "rowLimit": 10000
     },
     "inputWidgets": {},
     "nuid": "9a574676-2140-4ca0-9414-038c67c8a667",
     "showTitle": false,
     "tableResultSettingsMap": {},
     "title": ""
    }
   },
   "outputs": [
    {
     "output_type": "display_data",
     "data": {
      "text/html": [
       "<style scoped>\n",
       "  .table-result-container {\n",
       "    max-height: 300px;\n",
       "    overflow: auto;\n",
       "  }\n",
       "  table, th, td {\n",
       "    border: 1px solid black;\n",
       "    border-collapse: collapse;\n",
       "  }\n",
       "  th, td {\n",
       "    padding: 5px;\n",
       "  }\n",
       "  th {\n",
       "    text-align: left;\n",
       "  }\n",
       "</style><div class='table-result-container'><table class='table-result'><thead style='background-color: white'><tr><th>name</th><th>id</th><th>age</th><th>department</th><th>salary</th></tr></thead><tbody><tr><td>user1</td><td>1</td><td>25</td><td>Jr manager</td><td>98000</td></tr><tr><td>user2</td><td>2</td><td>30</td><td>sr manager</td><td>100000</td></tr><tr><td>user3</td><td>6</td><td>35</td><td>sr manager</td><td>100000</td></tr><tr><td>user4</td><td>4</td><td>32</td><td>head</td><td>70000</td></tr><tr><td>user5</td><td>1</td><td>45</td><td>Jr manager</td><td>60000</td></tr><tr><td>user6</td><td>6</td><td>47</td><td>head2</td><td>45000</td></tr><tr><td>user7</td><td>5</td><td>21</td><td>worker</td><td>25000</td></tr><tr><td>user8</td><td>1</td><td>22</td><td>Jr manager</td><td>50000</td></tr><tr><td>user9</td><td>10</td><td>54</td><td>lead</td><td>45000</td></tr><tr><td>user10</td><td>59</td><td>52</td><td>lead2</td><td>50000</td></tr><tr><td>user11</td><td>6</td><td>25</td><td>head2</td><td>50000</td></tr><tr><td>user12</td><td>2</td><td>27</td><td>sr manager</td><td>70000</td></tr><tr><td>user13</td><td>59</td><td>54</td><td>lead2</td><td>45000</td></tr><tr><td>user14</td><td>2</td><td>25</td><td>sr manager</td><td>70000</td></tr><tr><td>user15</td><td>1</td><td>32</td><td>Jr manager</td><td>50000</td></tr><tr><td>user16</td><td>3</td><td>37</td><td>worker</td><td>25000</td></tr><tr><td>user17</td><td>74</td><td>63</td><td>Manager</td><td>68000</td></tr><tr><td>user18</td><td>7</td><td>25</td><td>head</td><td>45000</td></tr><tr><td>user19</td><td>10</td><td>32</td><td>lvl2 head</td><td>52000</td></tr><tr><td>user20</td><td>10</td><td>32</td><td>lvl2 head</td><td>52000</td></tr></tbody></table></div>"
      ]
     },
     "metadata": {
      "application/vnd.databricks.v1+output": {
       "addedWidgets": {},
       "aggData": [],
       "aggError": "",
       "aggOverflow": false,
       "aggSchema": [],
       "aggSeriesLimitReached": false,
       "aggType": "",
       "arguments": {},
       "columnCustomDisplayInfos": {},
       "data": [
        [
         "user1",
         1,
         25,
         "Jr manager",
         98000
        ],
        [
         "user2",
         2,
         30,
         "sr manager",
         100000
        ],
        [
         "user3",
         6,
         35,
         "sr manager",
         100000
        ],
        [
         "user4",
         4,
         32,
         "head",
         70000
        ],
        [
         "user5",
         1,
         45,
         "Jr manager",
         60000
        ],
        [
         "user6",
         6,
         47,
         "head2",
         45000
        ],
        [
         "user7",
         5,
         21,
         "worker",
         25000
        ],
        [
         "user8",
         1,
         22,
         "Jr manager",
         50000
        ],
        [
         "user9",
         10,
         54,
         "lead",
         45000
        ],
        [
         "user10",
         59,
         52,
         "lead2",
         50000
        ],
        [
         "user11",
         6,
         25,
         "head2",
         50000
        ],
        [
         "user12",
         2,
         27,
         "sr manager",
         70000
        ],
        [
         "user13",
         59,
         54,
         "lead2",
         45000
        ],
        [
         "user14",
         2,
         25,
         "sr manager",
         70000
        ],
        [
         "user15",
         1,
         32,
         "Jr manager",
         50000
        ],
        [
         "user16",
         3,
         37,
         "worker",
         25000
        ],
        [
         "user17",
         74,
         63,
         "Manager",
         68000
        ],
        [
         "user18",
         7,
         25,
         "head",
         45000
        ],
        [
         "user19",
         10,
         32,
         "lvl2 head",
         52000
        ],
        [
         "user20",
         10,
         32,
         "lvl2 head",
         52000
        ]
       ],
       "datasetInfos": [],
       "dbfsResultPath": null,
       "isJsonSchema": true,
       "metadata": {},
       "overflow": false,
       "plotOptions": {
        "customPlotOptions": {},
        "displayType": "table",
        "pivotAggregation": null,
        "pivotColumns": null,
        "xColumns": null,
        "yColumns": null
       },
       "removedWidgets": [],
       "schema": [
        {
         "metadata": "{}",
         "name": "name",
         "type": "\"string\""
        },
        {
         "metadata": "{}",
         "name": "id",
         "type": "\"integer\""
        },
        {
         "metadata": "{}",
         "name": "age",
         "type": "\"integer\""
        },
        {
         "metadata": "{}",
         "name": "department",
         "type": "\"string\""
        },
        {
         "metadata": "{}",
         "name": "salary",
         "type": "\"integer\""
        }
       ],
       "type": "table"
      }
     },
     "output_type": "display_data"
    }
   ],
   "source": [
    "# Read CSV into DataFrame\n",
    "df = spark.read.option(\"header\", True) \\\n",
    "               .schema(schema) \\\n",
    "               .csv(\"/FileStore/tables/salary.csv\")\n",
    "\n",
    "display(df)"
   ]
  },
  {
   "cell_type": "markdown",
   "metadata": {
    "application/vnd.databricks.v1+cell": {
     "cellMetadata": {},
     "inputWidgets": {},
     "nuid": "da90f38e-a0fe-4e18-a417-90c44b92c420",
     "showTitle": false,
     "tableResultSettingsMap": {},
     "title": ""
    }
   },
   "source": [
    "#### Write Data in Delta Format:\n",
    "We store the data as Delta format so it can have ACID support and time travel.\n"
   ]
  },
  {
   "cell_type": "code",
   "execution_count": 0,
   "metadata": {
    "application/vnd.databricks.v1+cell": {
     "cellMetadata": {
      "byteLimit": 2048000,
      "rowLimit": 10000
     },
     "inputWidgets": {},
     "nuid": "f988702d-e5c2-436b-8e75-388ace2e370c",
     "showTitle": false,
     "tableResultSettingsMap": {},
     "title": ""
    }
   },
   "outputs": [],
   "source": [
    "# Write DataFrame to Delta format\n",
    "df.write.format(\"delta\").mode(\"overwrite\").save(\"/FileStore/tables/delta_train/\")"
   ]
  },
  {
   "cell_type": "code",
   "execution_count": 0,
   "metadata": {
    "application/vnd.databricks.v1+cell": {
     "cellMetadata": {
      "byteLimit": 2048000,
      "rowLimit": 10000
     },
     "inputWidgets": {},
     "nuid": "c4d58c0e-d55d-4e1a-a090-ff2934ba1be4",
     "showTitle": false,
     "tableResultSettingsMap": {},
     "title": ""
    }
   },
   "outputs": [
    {
     "output_type": "display_data",
     "data": {
      "text/html": [
       "<style scoped>\n",
       "  .table-result-container {\n",
       "    max-height: 300px;\n",
       "    overflow: auto;\n",
       "  }\n",
       "  table, th, td {\n",
       "    border: 1px solid black;\n",
       "    border-collapse: collapse;\n",
       "  }\n",
       "  th, td {\n",
       "    padding: 5px;\n",
       "  }\n",
       "  th {\n",
       "    text-align: left;\n",
       "  }\n",
       "</style><div class='table-result-container'><table class='table-result'><thead style='background-color: white'><tr><th>path</th><th>name</th><th>size</th><th>modificationTime</th></tr></thead><tbody><tr><td>dbfs:/FileStore/tables/delta_train/_delta_log/</td><td>_delta_log/</td><td>0</td><td>1754894574000</td></tr><tr><td>dbfs:/FileStore/tables/delta_train/part-00000-6e97caf1-014e-4488-b749-c90a6c61116a.c000.snappy.parquet</td><td>part-00000-6e97caf1-014e-4488-b749-c90a6c61116a.c000.snappy.parquet</td><td>1812</td><td>1754895491000</td></tr><tr><td>dbfs:/FileStore/tables/delta_train/part-00000-ad127322-7a84-42ec-ba20-d8ffa4eece2d.c000.snappy.parquet</td><td>part-00000-ad127322-7a84-42ec-ba20-d8ffa4eece2d.c000.snappy.parquet</td><td>1812</td><td>1754895036000</td></tr><tr><td>dbfs:/FileStore/tables/delta_train/part-00000-b0413123-7afc-4245-b56b-f97fc77e4919.c000.snappy.parquet</td><td>part-00000-b0413123-7afc-4245-b56b-f97fc77e4919.c000.snappy.parquet</td><td>1812</td><td>1754894576000</td></tr></tbody></table></div>"
      ]
     },
     "metadata": {
      "application/vnd.databricks.v1+output": {
       "addedWidgets": {},
       "aggData": [],
       "aggError": "",
       "aggOverflow": false,
       "aggSchema": [],
       "aggSeriesLimitReached": false,
       "aggType": "",
       "arguments": {},
       "columnCustomDisplayInfos": {},
       "data": [
        [
         "dbfs:/FileStore/tables/delta_train/_delta_log/",
         "_delta_log/",
         0,
         1754894574000
        ],
        [
         "dbfs:/FileStore/tables/delta_train/part-00000-6e97caf1-014e-4488-b749-c90a6c61116a.c000.snappy.parquet",
         "part-00000-6e97caf1-014e-4488-b749-c90a6c61116a.c000.snappy.parquet",
         1812,
         1754895491000
        ],
        [
         "dbfs:/FileStore/tables/delta_train/part-00000-ad127322-7a84-42ec-ba20-d8ffa4eece2d.c000.snappy.parquet",
         "part-00000-ad127322-7a84-42ec-ba20-d8ffa4eece2d.c000.snappy.parquet",
         1812,
         1754895036000
        ],
        [
         "dbfs:/FileStore/tables/delta_train/part-00000-b0413123-7afc-4245-b56b-f97fc77e4919.c000.snappy.parquet",
         "part-00000-b0413123-7afc-4245-b56b-f97fc77e4919.c000.snappy.parquet",
         1812,
         1754894576000
        ]
       ],
       "datasetInfos": [],
       "dbfsResultPath": null,
       "isJsonSchema": true,
       "metadata": {},
       "overflow": false,
       "plotOptions": {
        "customPlotOptions": {},
        "displayType": "table",
        "pivotAggregation": null,
        "pivotColumns": null,
        "xColumns": null,
        "yColumns": null
       },
       "removedWidgets": [],
       "schema": [
        {
         "metadata": "{}",
         "name": "path",
         "type": "\"string\""
        },
        {
         "metadata": "{}",
         "name": "name",
         "type": "\"string\""
        },
        {
         "metadata": "{}",
         "name": "size",
         "type": "\"long\""
        },
        {
         "metadata": "{}",
         "name": "modificationTime",
         "type": "\"long\""
        }
       ],
       "type": "table"
      }
     },
     "output_type": "display_data"
    }
   ],
   "source": [
    "# Verify files in Delta location\n",
    "display(dbutils.fs.ls(\"/FileStore/tables/delta_train/\"))"
   ]
  },
  {
   "cell_type": "markdown",
   "metadata": {
    "application/vnd.databricks.v1+cell": {
     "cellMetadata": {},
     "inputWidgets": {},
     "nuid": "0162d82a-6233-40dc-a5c9-5a73b35cf317",
     "showTitle": false,
     "tableResultSettingsMap": {},
     "title": ""
    }
   },
   "source": [
    "####Create Database & External Delta Table:\n",
    "We register our data as a Delta table inside a database."
   ]
  },
  {
   "cell_type": "code",
   "execution_count": 0,
   "metadata": {
    "application/vnd.databricks.v1+cell": {
     "cellMetadata": {
      "byteLimit": 2048000,
      "rowLimit": 10000
     },
     "inputWidgets": {},
     "nuid": "64bc16b8-90de-48e5-b9ea-e19bd597242c",
     "showTitle": false,
     "tableResultSettingsMap": {},
     "title": ""
    }
   },
   "outputs": [
    {
     "output_type": "execute_result",
     "data": {
      "text/plain": [
       "DataFrame[]"
      ]
     },
     "execution_count": 16,
     "metadata": {},
     "output_type": "execute_result"
    }
   ],
   "source": [
    "# Create database if not exists\n",
    "spark.sql(\"CREATE DATABASE IF NOT EXISTS delta_training\")"
   ]
  },
  {
   "cell_type": "code",
   "execution_count": 0,
   "metadata": {
    "application/vnd.databricks.v1+cell": {
     "cellMetadata": {
      "byteLimit": 2048000,
      "rowLimit": 10000
     },
     "inputWidgets": {},
     "nuid": "fd7b5096-0d06-47ac-b448-513ae72c86d4",
     "showTitle": false,
     "tableResultSettingsMap": {},
     "title": ""
    }
   },
   "outputs": [
    {
     "output_type": "execute_result",
     "data": {
      "text/plain": [
       "DataFrame[]"
      ]
     },
     "execution_count": 17,
     "metadata": {},
     "output_type": "execute_result"
    }
   ],
   "source": [
    "# Create external Delta table pointing to our Delta data\n",
    "spark.sql(\"\"\"\n",
    "CREATE TABLE IF NOT EXISTS delta_training.emp_file\n",
    "USING DELTA\n",
    "LOCATION '/FileStore/tables/delta_train/'\n",
    "\"\"\")"
   ]
  },
  {
   "cell_type": "code",
   "execution_count": 0,
   "metadata": {
    "application/vnd.databricks.v1+cell": {
     "cellMetadata": {
      "byteLimit": 2048000,
      "rowLimit": 10000
     },
     "inputWidgets": {},
     "nuid": "234b4d9d-898f-4863-8c85-094d5177e5b8",
     "showTitle": false,
     "tableResultSettingsMap": {},
     "title": ""
    }
   },
   "outputs": [
    {
     "output_type": "display_data",
     "data": {
      "text/html": [
       "<style scoped>\n",
       "  .table-result-container {\n",
       "    max-height: 300px;\n",
       "    overflow: auto;\n",
       "  }\n",
       "  table, th, td {\n",
       "    border: 1px solid black;\n",
       "    border-collapse: collapse;\n",
       "  }\n",
       "  th, td {\n",
       "    padding: 5px;\n",
       "  }\n",
       "  th {\n",
       "    text-align: left;\n",
       "  }\n",
       "</style><div class='table-result-container'><table class='table-result'><thead style='background-color: white'><tr><th>database</th><th>tableName</th><th>isTemporary</th></tr></thead><tbody><tr><td>delta_training</td><td>emp_file</td><td>false</td></tr></tbody></table></div>"
      ]
     },
     "metadata": {
      "application/vnd.databricks.v1+output": {
       "addedWidgets": {},
       "aggData": [],
       "aggError": "",
       "aggOverflow": false,
       "aggSchema": [],
       "aggSeriesLimitReached": false,
       "aggType": "",
       "arguments": {},
       "columnCustomDisplayInfos": {},
       "data": [
        [
         "delta_training",
         "emp_file",
         false
        ]
       ],
       "datasetInfos": [],
       "dbfsResultPath": null,
       "isJsonSchema": true,
       "metadata": {},
       "overflow": false,
       "plotOptions": {
        "customPlotOptions": {},
        "displayType": "table",
        "pivotAggregation": null,
        "pivotColumns": null,
        "xColumns": null,
        "yColumns": null
       },
       "removedWidgets": [],
       "schema": [
        {
         "metadata": "{}",
         "name": "database",
         "type": "\"string\""
        },
        {
         "metadata": "{}",
         "name": "tableName",
         "type": "\"string\""
        },
        {
         "metadata": "{}",
         "name": "isTemporary",
         "type": "\"boolean\""
        }
       ],
       "type": "table"
      }
     },
     "output_type": "display_data"
    }
   ],
   "source": [
    "# List tables in the database\n",
    "spark.sql(\"SHOW TABLES IN delta_training\").display()"
   ]
  },
  {
   "cell_type": "markdown",
   "metadata": {
    "application/vnd.databricks.v1+cell": {
     "cellMetadata": {},
     "inputWidgets": {},
     "nuid": "9c682173-ddf8-4bdd-85a4-705b82209293",
     "showTitle": false,
     "tableResultSettingsMap": {},
     "title": ""
    }
   },
   "source": [
    "####Query the Delta Table:\n",
    "Now we can query data using SQL."
   ]
  },
  {
   "cell_type": "code",
   "execution_count": 0,
   "metadata": {
    "application/vnd.databricks.v1+cell": {
     "cellMetadata": {
      "byteLimit": 2048000,
      "rowLimit": 10000
     },
     "inputWidgets": {},
     "nuid": "8aaf7454-6c1a-4774-8f05-d435e65af335",
     "showTitle": false,
     "tableResultSettingsMap": {},
     "title": ""
    }
   },
   "outputs": [
    {
     "output_type": "display_data",
     "data": {
      "text/html": [
       "<style scoped>\n",
       "  .table-result-container {\n",
       "    max-height: 300px;\n",
       "    overflow: auto;\n",
       "  }\n",
       "  table, th, td {\n",
       "    border: 1px solid black;\n",
       "    border-collapse: collapse;\n",
       "  }\n",
       "  th, td {\n",
       "    padding: 5px;\n",
       "  }\n",
       "  th {\n",
       "    text-align: left;\n",
       "  }\n",
       "</style><div class='table-result-container'><table class='table-result'><thead style='background-color: white'><tr><th>name</th><th>id</th><th>age</th><th>department</th><th>salary</th></tr></thead><tbody><tr><td>user1</td><td>1</td><td>25</td><td>Jr manager</td><td>98000</td></tr><tr><td>user2</td><td>2</td><td>30</td><td>sr manager</td><td>100000</td></tr><tr><td>user3</td><td>6</td><td>35</td><td>sr manager</td><td>100000</td></tr><tr><td>user4</td><td>4</td><td>32</td><td>head</td><td>70000</td></tr><tr><td>user5</td><td>1</td><td>45</td><td>Jr manager</td><td>60000</td></tr><tr><td>user6</td><td>6</td><td>47</td><td>head2</td><td>45000</td></tr><tr><td>user7</td><td>5</td><td>21</td><td>worker</td><td>25000</td></tr><tr><td>user8</td><td>1</td><td>22</td><td>Jr manager</td><td>50000</td></tr><tr><td>user9</td><td>10</td><td>54</td><td>lead</td><td>45000</td></tr><tr><td>user10</td><td>59</td><td>52</td><td>lead2</td><td>50000</td></tr><tr><td>user11</td><td>6</td><td>25</td><td>head2</td><td>50000</td></tr><tr><td>user12</td><td>2</td><td>27</td><td>sr manager</td><td>70000</td></tr><tr><td>user13</td><td>59</td><td>54</td><td>lead2</td><td>45000</td></tr><tr><td>user14</td><td>2</td><td>25</td><td>sr manager</td><td>70000</td></tr><tr><td>user15</td><td>1</td><td>32</td><td>Jr manager</td><td>50000</td></tr><tr><td>user16</td><td>3</td><td>37</td><td>worker</td><td>25000</td></tr><tr><td>user17</td><td>74</td><td>63</td><td>Manager</td><td>68000</td></tr><tr><td>user18</td><td>7</td><td>25</td><td>head</td><td>45000</td></tr><tr><td>user19</td><td>10</td><td>32</td><td>lvl2 head</td><td>52000</td></tr><tr><td>user20</td><td>10</td><td>32</td><td>lvl2 head</td><td>52000</td></tr></tbody></table></div>"
      ]
     },
     "metadata": {
      "application/vnd.databricks.v1+output": {
       "addedWidgets": {},
       "aggData": [],
       "aggError": "",
       "aggOverflow": false,
       "aggSchema": [],
       "aggSeriesLimitReached": false,
       "aggType": "",
       "arguments": {},
       "columnCustomDisplayInfos": {},
       "data": [
        [
         "user1",
         1,
         25,
         "Jr manager",
         98000
        ],
        [
         "user2",
         2,
         30,
         "sr manager",
         100000
        ],
        [
         "user3",
         6,
         35,
         "sr manager",
         100000
        ],
        [
         "user4",
         4,
         32,
         "head",
         70000
        ],
        [
         "user5",
         1,
         45,
         "Jr manager",
         60000
        ],
        [
         "user6",
         6,
         47,
         "head2",
         45000
        ],
        [
         "user7",
         5,
         21,
         "worker",
         25000
        ],
        [
         "user8",
         1,
         22,
         "Jr manager",
         50000
        ],
        [
         "user9",
         10,
         54,
         "lead",
         45000
        ],
        [
         "user10",
         59,
         52,
         "lead2",
         50000
        ],
        [
         "user11",
         6,
         25,
         "head2",
         50000
        ],
        [
         "user12",
         2,
         27,
         "sr manager",
         70000
        ],
        [
         "user13",
         59,
         54,
         "lead2",
         45000
        ],
        [
         "user14",
         2,
         25,
         "sr manager",
         70000
        ],
        [
         "user15",
         1,
         32,
         "Jr manager",
         50000
        ],
        [
         "user16",
         3,
         37,
         "worker",
         25000
        ],
        [
         "user17",
         74,
         63,
         "Manager",
         68000
        ],
        [
         "user18",
         7,
         25,
         "head",
         45000
        ],
        [
         "user19",
         10,
         32,
         "lvl2 head",
         52000
        ],
        [
         "user20",
         10,
         32,
         "lvl2 head",
         52000
        ]
       ],
       "datasetInfos": [],
       "dbfsResultPath": null,
       "isJsonSchema": true,
       "metadata": {},
       "overflow": false,
       "plotOptions": {
        "customPlotOptions": {},
        "displayType": "table",
        "pivotAggregation": null,
        "pivotColumns": null,
        "xColumns": null,
        "yColumns": null
       },
       "removedWidgets": [],
       "schema": [
        {
         "metadata": "{}",
         "name": "name",
         "type": "\"string\""
        },
        {
         "metadata": "{}",
         "name": "id",
         "type": "\"integer\""
        },
        {
         "metadata": "{}",
         "name": "age",
         "type": "\"integer\""
        },
        {
         "metadata": "{}",
         "name": "department",
         "type": "\"string\""
        },
        {
         "metadata": "{}",
         "name": "salary",
         "type": "\"integer\""
        }
       ],
       "type": "table"
      }
     },
     "output_type": "display_data"
    }
   ],
   "source": [
    "# Verify table\n",
    "spark.sql(\"SELECT * FROM delta_training.emp_file\").display()"
   ]
  },
  {
   "cell_type": "markdown",
   "metadata": {
    "application/vnd.databricks.v1+cell": {
     "cellMetadata": {},
     "inputWidgets": {},
     "nuid": "e44294c2-fb62-4697-864f-316f75874c09",
     "showTitle": false,
     "tableResultSettingsMap": {},
     "title": ""
    }
   },
   "source": [
    "####Update Records:\n",
    "Delta Lake allows updates (not possible in plain Parquet).\n",
    "\n",
    "- Example: Increase salary by 5000 for all Jr manager employees.\n",
    "\n"
   ]
  },
  {
   "cell_type": "code",
   "execution_count": 0,
   "metadata": {
    "application/vnd.databricks.v1+cell": {
     "cellMetadata": {
      "byteLimit": 2048000,
      "rowLimit": 10000
     },
     "inputWidgets": {},
     "nuid": "ad0682a4-a652-4def-b97a-21ff1065c261",
     "showTitle": false,
     "tableResultSettingsMap": {},
     "title": ""
    }
   },
   "outputs": [
    {
     "output_type": "display_data",
     "data": {
      "text/html": [
       "<style scoped>\n",
       "  .table-result-container {\n",
       "    max-height: 300px;\n",
       "    overflow: auto;\n",
       "  }\n",
       "  table, th, td {\n",
       "    border: 1px solid black;\n",
       "    border-collapse: collapse;\n",
       "  }\n",
       "  th, td {\n",
       "    padding: 5px;\n",
       "  }\n",
       "  th {\n",
       "    text-align: left;\n",
       "  }\n",
       "</style><div class='table-result-container'><table class='table-result'><thead style='background-color: white'><tr><th>name</th><th>id</th><th>age</th><th>department</th><th>salary</th></tr></thead><tbody><tr><td>user2</td><td>2</td><td>30</td><td>sr manager</td><td>100000</td></tr><tr><td>user3</td><td>6</td><td>35</td><td>sr manager</td><td>100000</td></tr><tr><td>user4</td><td>4</td><td>32</td><td>head</td><td>70000</td></tr><tr><td>user6</td><td>6</td><td>47</td><td>head2</td><td>45000</td></tr><tr><td>user7</td><td>5</td><td>21</td><td>worker</td><td>25000</td></tr><tr><td>user9</td><td>10</td><td>54</td><td>lead</td><td>45000</td></tr><tr><td>user10</td><td>59</td><td>52</td><td>lead2</td><td>50000</td></tr><tr><td>user11</td><td>6</td><td>25</td><td>head2</td><td>50000</td></tr><tr><td>user12</td><td>2</td><td>27</td><td>sr manager</td><td>70000</td></tr><tr><td>user13</td><td>59</td><td>54</td><td>lead2</td><td>45000</td></tr><tr><td>user14</td><td>2</td><td>25</td><td>sr manager</td><td>70000</td></tr><tr><td>user16</td><td>3</td><td>37</td><td>worker</td><td>25000</td></tr><tr><td>user17</td><td>74</td><td>63</td><td>Manager</td><td>68000</td></tr><tr><td>user18</td><td>7</td><td>25</td><td>head</td><td>45000</td></tr><tr><td>user19</td><td>10</td><td>32</td><td>lvl2 head</td><td>52000</td></tr><tr><td>user20</td><td>10</td><td>32</td><td>lvl2 head</td><td>52000</td></tr><tr><td>user1</td><td>1</td><td>25</td><td>Jr manager</td><td>103000</td></tr><tr><td>user5</td><td>1</td><td>45</td><td>Jr manager</td><td>65000</td></tr><tr><td>user8</td><td>1</td><td>22</td><td>Jr manager</td><td>55000</td></tr><tr><td>user15</td><td>1</td><td>32</td><td>Jr manager</td><td>55000</td></tr></tbody></table></div>"
      ]
     },
     "metadata": {
      "application/vnd.databricks.v1+output": {
       "addedWidgets": {},
       "aggData": [],
       "aggError": "",
       "aggOverflow": false,
       "aggSchema": [],
       "aggSeriesLimitReached": false,
       "aggType": "",
       "arguments": {},
       "columnCustomDisplayInfos": {},
       "data": [
        [
         "user2",
         2,
         30,
         "sr manager",
         100000
        ],
        [
         "user3",
         6,
         35,
         "sr manager",
         100000
        ],
        [
         "user4",
         4,
         32,
         "head",
         70000
        ],
        [
         "user6",
         6,
         47,
         "head2",
         45000
        ],
        [
         "user7",
         5,
         21,
         "worker",
         25000
        ],
        [
         "user9",
         10,
         54,
         "lead",
         45000
        ],
        [
         "user10",
         59,
         52,
         "lead2",
         50000
        ],
        [
         "user11",
         6,
         25,
         "head2",
         50000
        ],
        [
         "user12",
         2,
         27,
         "sr manager",
         70000
        ],
        [
         "user13",
         59,
         54,
         "lead2",
         45000
        ],
        [
         "user14",
         2,
         25,
         "sr manager",
         70000
        ],
        [
         "user16",
         3,
         37,
         "worker",
         25000
        ],
        [
         "user17",
         74,
         63,
         "Manager",
         68000
        ],
        [
         "user18",
         7,
         25,
         "head",
         45000
        ],
        [
         "user19",
         10,
         32,
         "lvl2 head",
         52000
        ],
        [
         "user20",
         10,
         32,
         "lvl2 head",
         52000
        ],
        [
         "user1",
         1,
         25,
         "Jr manager",
         103000
        ],
        [
         "user5",
         1,
         45,
         "Jr manager",
         65000
        ],
        [
         "user8",
         1,
         22,
         "Jr manager",
         55000
        ],
        [
         "user15",
         1,
         32,
         "Jr manager",
         55000
        ]
       ],
       "datasetInfos": [],
       "dbfsResultPath": null,
       "isJsonSchema": true,
       "metadata": {},
       "overflow": false,
       "plotOptions": {
        "customPlotOptions": {},
        "displayType": "table",
        "pivotAggregation": null,
        "pivotColumns": null,
        "xColumns": null,
        "yColumns": null
       },
       "removedWidgets": [],
       "schema": [
        {
         "metadata": "{}",
         "name": "name",
         "type": "\"string\""
        },
        {
         "metadata": "{}",
         "name": "id",
         "type": "\"integer\""
        },
        {
         "metadata": "{}",
         "name": "age",
         "type": "\"integer\""
        },
        {
         "metadata": "{}",
         "name": "department",
         "type": "\"string\""
        },
        {
         "metadata": "{}",
         "name": "salary",
         "type": "\"integer\""
        }
       ],
       "type": "table"
      }
     },
     "output_type": "display_data"
    }
   ],
   "source": [
    "from delta.tables import *\n",
    "\n",
    "# Load Delta table object\n",
    "deltaTable = DeltaTable.forPath(spark, \"/FileStore/tables/delta_train/\")\n",
    "\n",
    "# Update conditionally\n",
    "deltaTable.update(\n",
    "    condition=\"department = 'Jr manager'\",\n",
    "    set={\"salary\": \"salary + 5000\"}\n",
    ")\n",
    "\n",
    "# Verify update\n",
    "display(spark.sql(\"SELECT * FROM delta_training.emp_file\"))"
   ]
  },
  {
   "cell_type": "markdown",
   "metadata": {
    "application/vnd.databricks.v1+cell": {
     "cellMetadata": {},
     "inputWidgets": {},
     "nuid": "ca6aa0ab-d059-403d-99e2-ea6cec81de9f",
     "showTitle": false,
     "tableResultSettingsMap": {},
     "title": ""
    }
   },
   "source": [
    "####Delete Records:\n",
    "We can delete rows from a Delta table.\n",
    "- Example: Remove employees older than 40."
   ]
  },
  {
   "cell_type": "code",
   "execution_count": 0,
   "metadata": {
    "application/vnd.databricks.v1+cell": {
     "cellMetadata": {
      "byteLimit": 2048000,
      "rowLimit": 10000
     },
     "inputWidgets": {},
     "nuid": "aace9321-d943-4c05-aebe-6476bcba1f02",
     "showTitle": false,
     "tableResultSettingsMap": {},
     "title": ""
    }
   },
   "outputs": [
    {
     "output_type": "display_data",
     "data": {
      "text/html": [
       "<style scoped>\n",
       "  .table-result-container {\n",
       "    max-height: 300px;\n",
       "    overflow: auto;\n",
       "  }\n",
       "  table, th, td {\n",
       "    border: 1px solid black;\n",
       "    border-collapse: collapse;\n",
       "  }\n",
       "  th, td {\n",
       "    padding: 5px;\n",
       "  }\n",
       "  th {\n",
       "    text-align: left;\n",
       "  }\n",
       "</style><div class='table-result-container'><table class='table-result'><thead style='background-color: white'><tr><th>name</th><th>id</th><th>age</th><th>department</th><th>salary</th></tr></thead><tbody><tr><td>user1</td><td>1</td><td>25</td><td>Jr manager</td><td>103000</td></tr><tr><td>user8</td><td>1</td><td>22</td><td>Jr manager</td><td>55000</td></tr><tr><td>user15</td><td>1</td><td>32</td><td>Jr manager</td><td>55000</td></tr><tr><td>user2</td><td>2</td><td>30</td><td>sr manager</td><td>100000</td></tr><tr><td>user3</td><td>6</td><td>35</td><td>sr manager</td><td>100000</td></tr><tr><td>user4</td><td>4</td><td>32</td><td>head</td><td>70000</td></tr><tr><td>user7</td><td>5</td><td>21</td><td>worker</td><td>25000</td></tr><tr><td>user11</td><td>6</td><td>25</td><td>head2</td><td>50000</td></tr><tr><td>user12</td><td>2</td><td>27</td><td>sr manager</td><td>70000</td></tr><tr><td>user14</td><td>2</td><td>25</td><td>sr manager</td><td>70000</td></tr><tr><td>user16</td><td>3</td><td>37</td><td>worker</td><td>25000</td></tr><tr><td>user18</td><td>7</td><td>25</td><td>head</td><td>45000</td></tr><tr><td>user19</td><td>10</td><td>32</td><td>lvl2 head</td><td>52000</td></tr><tr><td>user20</td><td>10</td><td>32</td><td>lvl2 head</td><td>52000</td></tr></tbody></table></div>"
      ]
     },
     "metadata": {
      "application/vnd.databricks.v1+output": {
       "addedWidgets": {},
       "aggData": [],
       "aggError": "",
       "aggOverflow": false,
       "aggSchema": [],
       "aggSeriesLimitReached": false,
       "aggType": "",
       "arguments": {},
       "columnCustomDisplayInfos": {},
       "data": [
        [
         "user1",
         1,
         25,
         "Jr manager",
         103000
        ],
        [
         "user8",
         1,
         22,
         "Jr manager",
         55000
        ],
        [
         "user15",
         1,
         32,
         "Jr manager",
         55000
        ],
        [
         "user2",
         2,
         30,
         "sr manager",
         100000
        ],
        [
         "user3",
         6,
         35,
         "sr manager",
         100000
        ],
        [
         "user4",
         4,
         32,
         "head",
         70000
        ],
        [
         "user7",
         5,
         21,
         "worker",
         25000
        ],
        [
         "user11",
         6,
         25,
         "head2",
         50000
        ],
        [
         "user12",
         2,
         27,
         "sr manager",
         70000
        ],
        [
         "user14",
         2,
         25,
         "sr manager",
         70000
        ],
        [
         "user16",
         3,
         37,
         "worker",
         25000
        ],
        [
         "user18",
         7,
         25,
         "head",
         45000
        ],
        [
         "user19",
         10,
         32,
         "lvl2 head",
         52000
        ],
        [
         "user20",
         10,
         32,
         "lvl2 head",
         52000
        ]
       ],
       "datasetInfos": [],
       "dbfsResultPath": null,
       "isJsonSchema": true,
       "metadata": {},
       "overflow": false,
       "plotOptions": {
        "customPlotOptions": {},
        "displayType": "table",
        "pivotAggregation": null,
        "pivotColumns": null,
        "xColumns": null,
        "yColumns": null
       },
       "removedWidgets": [],
       "schema": [
        {
         "metadata": "{}",
         "name": "name",
         "type": "\"string\""
        },
        {
         "metadata": "{}",
         "name": "id",
         "type": "\"integer\""
        },
        {
         "metadata": "{}",
         "name": "age",
         "type": "\"integer\""
        },
        {
         "metadata": "{}",
         "name": "department",
         "type": "\"string\""
        },
        {
         "metadata": "{}",
         "name": "salary",
         "type": "\"integer\""
        }
       ],
       "type": "table"
      }
     },
     "output_type": "display_data"
    }
   ],
   "source": [
    "deltaTable.delete(\"age > 40\")\n",
    "\n",
    "# Verify delete\n",
    "display(spark.sql(\"SELECT * FROM delta_training.emp_file\"))"
   ]
  },
  {
   "cell_type": "markdown",
   "metadata": {
    "application/vnd.databricks.v1+cell": {
     "cellMetadata": {},
     "inputWidgets": {},
     "nuid": "060fce23-3c61-4895-8889-c060d466cb1f",
     "showTitle": false,
     "tableResultSettingsMap": {},
     "title": ""
    }
   },
   "source": [
    "####View Table History:\n",
    "Delta Lake stores a transaction log (_delta_log) that records every change.\n",
    "- DESCRIBE HISTORY lets us see all operations."
   ]
  },
  {
   "cell_type": "code",
   "execution_count": 0,
   "metadata": {
    "application/vnd.databricks.v1+cell": {
     "cellMetadata": {
      "byteLimit": 2048000,
      "rowLimit": 10000
     },
     "inputWidgets": {},
     "nuid": "3885dda6-4660-404c-9fc1-5072896609f7",
     "showTitle": false,
     "tableResultSettingsMap": {},
     "title": ""
    }
   },
   "outputs": [
    {
     "output_type": "display_data",
     "data": {
      "text/html": [
       "<style scoped>\n",
       "  .table-result-container {\n",
       "    max-height: 300px;\n",
       "    overflow: auto;\n",
       "  }\n",
       "  table, th, td {\n",
       "    border: 1px solid black;\n",
       "    border-collapse: collapse;\n",
       "  }\n",
       "  th, td {\n",
       "    padding: 5px;\n",
       "  }\n",
       "  th {\n",
       "    text-align: left;\n",
       "  }\n",
       "</style><div class='table-result-container'><table class='table-result'><thead style='background-color: white'><tr><th>version</th><th>timestamp</th><th>userId</th><th>userName</th><th>operation</th><th>operationParameters</th><th>job</th><th>notebook</th><th>clusterId</th><th>readVersion</th><th>isolationLevel</th><th>isBlindAppend</th><th>operationMetrics</th><th>userMetadata</th><th>engineInfo</th></tr></thead><tbody><tr><td>6</td><td>2025-08-11T07:13:45Z</td><td>141850294526812</td><td>azuser4016_mml.local@techademy.com</td><td>OPTIMIZE</td><td>Map(predicate -> [], auto -> true, clusterBy -> [], zOrderBy -> [], batchId -> 0)</td><td>null</td><td>List(3302580720025900)</td><td>0806-091707-wzczz7ob</td><td>5</td><td>SnapshotIsolation</td><td>false</td><td>Map(numRemovedFiles -> 1, numRemovedBytes -> 1814, p25FileSize -> 1712, numDeletionVectorsRemoved -> 1, minFileSize -> 1712, numAddedFiles -> 1, maxFileSize -> 1712, p75FileSize -> 1712, p50FileSize -> 1712, numAddedBytes -> 1712)</td><td>null</td><td>Databricks-Runtime/16.4.x-photon-scala2.12</td></tr><tr><td>5</td><td>2025-08-11T07:13:44Z</td><td>141850294526812</td><td>azuser4016_mml.local@techademy.com</td><td>DELETE</td><td>Map(predicate -> [\"(age#1092 > 40)\"])</td><td>null</td><td>List(3302580720025900)</td><td>0806-091707-wzczz7ob</td><td>4</td><td>WriteSerializable</td><td>false</td><td>Map(numRemovedFiles -> 0, numRemovedBytes -> 0, numCopiedRows -> 0, numDeletionVectorsAdded -> 1, numDeletionVectorsRemoved -> 0, numAddedChangeFiles -> 0, executionTimeMs -> 788, numDeletionVectorsUpdated -> 0, numDeletedRows -> 6, scanTimeMs -> 492, numAddedFiles -> 0, numAddedBytes -> 0, rewriteTimeMs -> 296)</td><td>null</td><td>Databricks-Runtime/16.4.x-photon-scala2.12</td></tr><tr><td>4</td><td>2025-08-11T07:11:25Z</td><td>141850294526812</td><td>azuser4016_mml.local@techademy.com</td><td>OPTIMIZE</td><td>Map(predicate -> [], auto -> true, clusterBy -> [], zOrderBy -> [], batchId -> 0)</td><td>null</td><td>List(3302580720025900)</td><td>0806-091707-wzczz7ob</td><td>3</td><td>SnapshotIsolation</td><td>false</td><td>Map(numRemovedFiles -> 2, numRemovedBytes -> 3307, p25FileSize -> 1814, numDeletionVectorsRemoved -> 1, minFileSize -> 1814, numAddedFiles -> 1, maxFileSize -> 1814, p75FileSize -> 1814, p50FileSize -> 1814, numAddedBytes -> 1814)</td><td>null</td><td>Databricks-Runtime/16.4.x-photon-scala2.12</td></tr><tr><td>3</td><td>2025-08-11T07:11:23Z</td><td>141850294526812</td><td>azuser4016_mml.local@techademy.com</td><td>UPDATE</td><td>Map(predicate -> [\"(department#1093 = Jr manager)\"])</td><td>null</td><td>List(3302580720025900)</td><td>0806-091707-wzczz7ob</td><td>2</td><td>WriteSerializable</td><td>false</td><td>Map(numRemovedFiles -> 0, numRemovedBytes -> 0, numCopiedRows -> 0, numDeletionVectorsAdded -> 1, numDeletionVectorsRemoved -> 0, numAddedChangeFiles -> 0, executionTimeMs -> 4064, numDeletionVectorsUpdated -> 0, scanTimeMs -> 2527, numAddedFiles -> 1, numUpdatedRows -> 4, numAddedBytes -> 1495, rewriteTimeMs -> 1519)</td><td>null</td><td>Databricks-Runtime/16.4.x-photon-scala2.12</td></tr><tr><td>2</td><td>2025-08-11T06:58:11Z</td><td>141850294526812</td><td>azuser4016_mml.local@techademy.com</td><td>WRITE</td><td>Map(mode -> Overwrite, statsOnLoad -> false, partitionBy -> [])</td><td>null</td><td>List(3302580720025900)</td><td>0806-091707-wzczz7ob</td><td>1</td><td>WriteSerializable</td><td>false</td><td>Map(numFiles -> 1, numRemovedFiles -> 1, numRemovedBytes -> 1812, numOutputRows -> 20, numOutputBytes -> 1812)</td><td>null</td><td>Databricks-Runtime/16.4.x-photon-scala2.12</td></tr><tr><td>1</td><td>2025-08-11T06:50:37Z</td><td>141850294526812</td><td>azuser4016_mml.local@techademy.com</td><td>WRITE</td><td>Map(mode -> Overwrite, statsOnLoad -> false, partitionBy -> [])</td><td>null</td><td>List(3302580720025900)</td><td>0806-091707-wzczz7ob</td><td>0</td><td>WriteSerializable</td><td>false</td><td>Map(numFiles -> 1, numRemovedFiles -> 1, numRemovedBytes -> 1812, numOutputRows -> 20, numOutputBytes -> 1812)</td><td>null</td><td>Databricks-Runtime/16.4.x-photon-scala2.12</td></tr><tr><td>0</td><td>2025-08-11T06:42:59Z</td><td>141850294526812</td><td>azuser4016_mml.local@techademy.com</td><td>WRITE</td><td>Map(mode -> Overwrite, statsOnLoad -> false, partitionBy -> [])</td><td>null</td><td>List(3302580720025900)</td><td>0806-091707-wzczz7ob</td><td>null</td><td>WriteSerializable</td><td>false</td><td>Map(numFiles -> 1, numRemovedFiles -> 0, numRemovedBytes -> 0, numOutputRows -> 20, numOutputBytes -> 1812)</td><td>null</td><td>Databricks-Runtime/16.4.x-photon-scala2.12</td></tr></tbody></table></div>"
      ]
     },
     "metadata": {
      "application/vnd.databricks.v1+output": {
       "addedWidgets": {},
       "aggData": [],
       "aggError": "",
       "aggOverflow": false,
       "aggSchema": [],
       "aggSeriesLimitReached": false,
       "aggType": "",
       "arguments": {},
       "columnCustomDisplayInfos": {},
       "data": [
        [
         6,
         "2025-08-11T07:13:45Z",
         "141850294526812",
         "azuser4016_mml.local@techademy.com",
         "OPTIMIZE",
         {
          "auto": "true",
          "batchId": "0",
          "clusterBy": "[]",
          "predicate": "[]",
          "zOrderBy": "[]"
         },
         null,
         [
          "3302580720025900"
         ],
         "0806-091707-wzczz7ob",
         5,
         "SnapshotIsolation",
         false,
         {
          "maxFileSize": "1712",
          "minFileSize": "1712",
          "numAddedBytes": "1712",
          "numAddedFiles": "1",
          "numDeletionVectorsRemoved": "1",
          "numRemovedBytes": "1814",
          "numRemovedFiles": "1",
          "p25FileSize": "1712",
          "p50FileSize": "1712",
          "p75FileSize": "1712"
         },
         null,
         "Databricks-Runtime/16.4.x-photon-scala2.12"
        ],
        [
         5,
         "2025-08-11T07:13:44Z",
         "141850294526812",
         "azuser4016_mml.local@techademy.com",
         "DELETE",
         {
          "predicate": "[\"(age#1092 > 40)\"]"
         },
         null,
         [
          "3302580720025900"
         ],
         "0806-091707-wzczz7ob",
         4,
         "WriteSerializable",
         false,
         {
          "executionTimeMs": "788",
          "numAddedBytes": "0",
          "numAddedChangeFiles": "0",
          "numAddedFiles": "0",
          "numCopiedRows": "0",
          "numDeletedRows": "6",
          "numDeletionVectorsAdded": "1",
          "numDeletionVectorsRemoved": "0",
          "numDeletionVectorsUpdated": "0",
          "numRemovedBytes": "0",
          "numRemovedFiles": "0",
          "rewriteTimeMs": "296",
          "scanTimeMs": "492"
         },
         null,
         "Databricks-Runtime/16.4.x-photon-scala2.12"
        ],
        [
         4,
         "2025-08-11T07:11:25Z",
         "141850294526812",
         "azuser4016_mml.local@techademy.com",
         "OPTIMIZE",
         {
          "auto": "true",
          "batchId": "0",
          "clusterBy": "[]",
          "predicate": "[]",
          "zOrderBy": "[]"
         },
         null,
         [
          "3302580720025900"
         ],
         "0806-091707-wzczz7ob",
         3,
         "SnapshotIsolation",
         false,
         {
          "maxFileSize": "1814",
          "minFileSize": "1814",
          "numAddedBytes": "1814",
          "numAddedFiles": "1",
          "numDeletionVectorsRemoved": "1",
          "numRemovedBytes": "3307",
          "numRemovedFiles": "2",
          "p25FileSize": "1814",
          "p50FileSize": "1814",
          "p75FileSize": "1814"
         },
         null,
         "Databricks-Runtime/16.4.x-photon-scala2.12"
        ],
        [
         3,
         "2025-08-11T07:11:23Z",
         "141850294526812",
         "azuser4016_mml.local@techademy.com",
         "UPDATE",
         {
          "predicate": "[\"(department#1093 = Jr manager)\"]"
         },
         null,
         [
          "3302580720025900"
         ],
         "0806-091707-wzczz7ob",
         2,
         "WriteSerializable",
         false,
         {
          "executionTimeMs": "4064",
          "numAddedBytes": "1495",
          "numAddedChangeFiles": "0",
          "numAddedFiles": "1",
          "numCopiedRows": "0",
          "numDeletionVectorsAdded": "1",
          "numDeletionVectorsRemoved": "0",
          "numDeletionVectorsUpdated": "0",
          "numRemovedBytes": "0",
          "numRemovedFiles": "0",
          "numUpdatedRows": "4",
          "rewriteTimeMs": "1519",
          "scanTimeMs": "2527"
         },
         null,
         "Databricks-Runtime/16.4.x-photon-scala2.12"
        ],
        [
         2,
         "2025-08-11T06:58:11Z",
         "141850294526812",
         "azuser4016_mml.local@techademy.com",
         "WRITE",
         {
          "mode": "Overwrite",
          "partitionBy": "[]",
          "statsOnLoad": "false"
         },
         null,
         [
          "3302580720025900"
         ],
         "0806-091707-wzczz7ob",
         1,
         "WriteSerializable",
         false,
         {
          "numFiles": "1",
          "numOutputBytes": "1812",
          "numOutputRows": "20",
          "numRemovedBytes": "1812",
          "numRemovedFiles": "1"
         },
         null,
         "Databricks-Runtime/16.4.x-photon-scala2.12"
        ],
        [
         1,
         "2025-08-11T06:50:37Z",
         "141850294526812",
         "azuser4016_mml.local@techademy.com",
         "WRITE",
         {
          "mode": "Overwrite",
          "partitionBy": "[]",
          "statsOnLoad": "false"
         },
         null,
         [
          "3302580720025900"
         ],
         "0806-091707-wzczz7ob",
         0,
         "WriteSerializable",
         false,
         {
          "numFiles": "1",
          "numOutputBytes": "1812",
          "numOutputRows": "20",
          "numRemovedBytes": "1812",
          "numRemovedFiles": "1"
         },
         null,
         "Databricks-Runtime/16.4.x-photon-scala2.12"
        ],
        [
         0,
         "2025-08-11T06:42:59Z",
         "141850294526812",
         "azuser4016_mml.local@techademy.com",
         "WRITE",
         {
          "mode": "Overwrite",
          "partitionBy": "[]",
          "statsOnLoad": "false"
         },
         null,
         [
          "3302580720025900"
         ],
         "0806-091707-wzczz7ob",
         null,
         "WriteSerializable",
         false,
         {
          "numFiles": "1",
          "numOutputBytes": "1812",
          "numOutputRows": "20",
          "numRemovedBytes": "0",
          "numRemovedFiles": "0"
         },
         null,
         "Databricks-Runtime/16.4.x-photon-scala2.12"
        ]
       ],
       "datasetInfos": [],
       "dbfsResultPath": null,
       "isJsonSchema": true,
       "metadata": {},
       "overflow": false,
       "plotOptions": {
        "customPlotOptions": {},
        "displayType": "table",
        "pivotAggregation": null,
        "pivotColumns": null,
        "xColumns": null,
        "yColumns": null
       },
       "removedWidgets": [],
       "schema": [
        {
         "metadata": "{}",
         "name": "version",
         "type": "\"long\""
        },
        {
         "metadata": "{}",
         "name": "timestamp",
         "type": "\"timestamp\""
        },
        {
         "metadata": "{}",
         "name": "userId",
         "type": "\"string\""
        },
        {
         "metadata": "{}",
         "name": "userName",
         "type": "\"string\""
        },
        {
         "metadata": "{}",
         "name": "operation",
         "type": "\"string\""
        },
        {
         "metadata": "{}",
         "name": "operationParameters",
         "type": "{\"type\":\"map\",\"keyType\":\"string\",\"valueType\":\"string\",\"valueContainsNull\":true}"
        },
        {
         "metadata": "{}",
         "name": "job",
         "type": "{\"type\":\"struct\",\"fields\":[{\"name\":\"jobId\",\"type\":\"string\",\"nullable\":true,\"metadata\":{}},{\"name\":\"jobName\",\"type\":\"string\",\"nullable\":true,\"metadata\":{}},{\"name\":\"jobRunId\",\"type\":\"string\",\"nullable\":true,\"metadata\":{}},{\"name\":\"runId\",\"type\":\"string\",\"nullable\":true,\"metadata\":{}},{\"name\":\"jobOwnerId\",\"type\":\"string\",\"nullable\":true,\"metadata\":{}},{\"name\":\"triggerType\",\"type\":\"string\",\"nullable\":true,\"metadata\":{}}]}"
        },
        {
         "metadata": "{}",
         "name": "notebook",
         "type": "{\"type\":\"struct\",\"fields\":[{\"name\":\"notebookId\",\"type\":\"string\",\"nullable\":true,\"metadata\":{}}]}"
        },
        {
         "metadata": "{}",
         "name": "clusterId",
         "type": "\"string\""
        },
        {
         "metadata": "{}",
         "name": "readVersion",
         "type": "\"long\""
        },
        {
         "metadata": "{}",
         "name": "isolationLevel",
         "type": "\"string\""
        },
        {
         "metadata": "{}",
         "name": "isBlindAppend",
         "type": "\"boolean\""
        },
        {
         "metadata": "{}",
         "name": "operationMetrics",
         "type": "{\"type\":\"map\",\"keyType\":\"string\",\"valueType\":\"string\",\"valueContainsNull\":true}"
        },
        {
         "metadata": "{}",
         "name": "userMetadata",
         "type": "\"string\""
        },
        {
         "metadata": "{}",
         "name": "engineInfo",
         "type": "\"string\""
        }
       ],
       "type": "table"
      }
     },
     "output_type": "display_data"
    }
   ],
   "source": [
    "display(spark.sql(\"DESCRIBE HISTORY delta_training.emp_file\"))"
   ]
  },
  {
   "cell_type": "markdown",
   "metadata": {
    "application/vnd.databricks.v1+cell": {
     "cellMetadata": {},
     "inputWidgets": {},
     "nuid": "1f9706bc-e7c5-44c7-b419-eacd64cfca00",
     "showTitle": false,
     "tableResultSettingsMap": {},
     "title": ""
    }
   },
   "source": [
    "####Time Travel (Query Older Versions):\n",
    "We can query previous versions of the table by version number or timestamp."
   ]
  },
  {
   "cell_type": "code",
   "execution_count": 0,
   "metadata": {
    "application/vnd.databricks.v1+cell": {
     "cellMetadata": {
      "byteLimit": 2048000,
      "implicitDf": true,
      "rowLimit": 10000
     },
     "inputWidgets": {},
     "nuid": "787a9d9f-dc0e-4cf8-8b69-ccf59c8365c2",
     "showTitle": false,
     "tableResultSettingsMap": {},
     "title": ""
    }
   },
   "outputs": [
    {
     "output_type": "display_data",
     "data": {
      "text/html": [
       "<style scoped>\n",
       "  .table-result-container {\n",
       "    max-height: 300px;\n",
       "    overflow: auto;\n",
       "  }\n",
       "  table, th, td {\n",
       "    border: 1px solid black;\n",
       "    border-collapse: collapse;\n",
       "  }\n",
       "  th, td {\n",
       "    padding: 5px;\n",
       "  }\n",
       "  th {\n",
       "    text-align: left;\n",
       "  }\n",
       "</style><div class='table-result-container'><table class='table-result'><thead style='background-color: white'><tr><th>name</th><th>id</th><th>age</th><th>department</th><th>salary</th></tr></thead><tbody><tr><td>user1</td><td>1</td><td>25</td><td>Jr manager</td><td>98000</td></tr><tr><td>user2</td><td>2</td><td>30</td><td>sr manager</td><td>100000</td></tr><tr><td>user3</td><td>6</td><td>35</td><td>sr manager</td><td>100000</td></tr><tr><td>user4</td><td>4</td><td>32</td><td>head</td><td>70000</td></tr><tr><td>user5</td><td>1</td><td>45</td><td>Jr manager</td><td>60000</td></tr><tr><td>user6</td><td>6</td><td>47</td><td>head2</td><td>45000</td></tr><tr><td>user7</td><td>5</td><td>21</td><td>worker</td><td>25000</td></tr><tr><td>user8</td><td>1</td><td>22</td><td>Jr manager</td><td>50000</td></tr><tr><td>user9</td><td>10</td><td>54</td><td>lead</td><td>45000</td></tr><tr><td>user10</td><td>59</td><td>52</td><td>lead2</td><td>50000</td></tr><tr><td>user11</td><td>6</td><td>25</td><td>head2</td><td>50000</td></tr><tr><td>user12</td><td>2</td><td>27</td><td>sr manager</td><td>70000</td></tr><tr><td>user13</td><td>59</td><td>54</td><td>lead2</td><td>45000</td></tr><tr><td>user14</td><td>2</td><td>25</td><td>sr manager</td><td>70000</td></tr><tr><td>user15</td><td>1</td><td>32</td><td>Jr manager</td><td>50000</td></tr><tr><td>user16</td><td>3</td><td>37</td><td>worker</td><td>25000</td></tr><tr><td>user17</td><td>74</td><td>63</td><td>Manager</td><td>68000</td></tr><tr><td>user18</td><td>7</td><td>25</td><td>head</td><td>45000</td></tr><tr><td>user19</td><td>10</td><td>32</td><td>lvl2 head</td><td>52000</td></tr><tr><td>user20</td><td>10</td><td>32</td><td>lvl2 head</td><td>52000</td></tr></tbody></table></div>"
      ]
     },
     "metadata": {
      "application/vnd.databricks.v1+output": {
       "addedWidgets": {},
       "aggData": [],
       "aggError": "",
       "aggOverflow": false,
       "aggSchema": [],
       "aggSeriesLimitReached": false,
       "aggType": "",
       "arguments": {},
       "columnCustomDisplayInfos": {},
       "data": [
        [
         "user1",
         1,
         25,
         "Jr manager",
         98000
        ],
        [
         "user2",
         2,
         30,
         "sr manager",
         100000
        ],
        [
         "user3",
         6,
         35,
         "sr manager",
         100000
        ],
        [
         "user4",
         4,
         32,
         "head",
         70000
        ],
        [
         "user5",
         1,
         45,
         "Jr manager",
         60000
        ],
        [
         "user6",
         6,
         47,
         "head2",
         45000
        ],
        [
         "user7",
         5,
         21,
         "worker",
         25000
        ],
        [
         "user8",
         1,
         22,
         "Jr manager",
         50000
        ],
        [
         "user9",
         10,
         54,
         "lead",
         45000
        ],
        [
         "user10",
         59,
         52,
         "lead2",
         50000
        ],
        [
         "user11",
         6,
         25,
         "head2",
         50000
        ],
        [
         "user12",
         2,
         27,
         "sr manager",
         70000
        ],
        [
         "user13",
         59,
         54,
         "lead2",
         45000
        ],
        [
         "user14",
         2,
         25,
         "sr manager",
         70000
        ],
        [
         "user15",
         1,
         32,
         "Jr manager",
         50000
        ],
        [
         "user16",
         3,
         37,
         "worker",
         25000
        ],
        [
         "user17",
         74,
         63,
         "Manager",
         68000
        ],
        [
         "user18",
         7,
         25,
         "head",
         45000
        ],
        [
         "user19",
         10,
         32,
         "lvl2 head",
         52000
        ],
        [
         "user20",
         10,
         32,
         "lvl2 head",
         52000
        ]
       ],
       "datasetInfos": [
        {
         "name": "_sqldf",
         "schema": {
          "fields": [
           {
            "metadata": {},
            "name": "name",
            "nullable": true,
            "type": "string"
           },
           {
            "metadata": {},
            "name": "id",
            "nullable": true,
            "type": "integer"
           },
           {
            "metadata": {},
            "name": "age",
            "nullable": true,
            "type": "integer"
           },
           {
            "metadata": {},
            "name": "department",
            "nullable": true,
            "type": "string"
           },
           {
            "metadata": {},
            "name": "salary",
            "nullable": true,
            "type": "integer"
           }
          ],
          "type": "struct"
         },
         "tableIdentifier": null,
         "typeStr": "pyspark.sql.dataframe.DataFrame"
        }
       ],
       "dbfsResultPath": null,
       "isJsonSchema": true,
       "metadata": {
        "createTempViewForImplicitDf": true,
        "dataframeName": "_sqldf",
        "executionCount": 26
       },
       "overflow": false,
       "plotOptions": {
        "customPlotOptions": {},
        "displayType": "table",
        "pivotAggregation": null,
        "pivotColumns": null,
        "xColumns": null,
        "yColumns": null
       },
       "removedWidgets": [],
       "schema": [
        {
         "metadata": "{}",
         "name": "name",
         "type": "\"string\""
        },
        {
         "metadata": "{}",
         "name": "id",
         "type": "\"integer\""
        },
        {
         "metadata": "{}",
         "name": "age",
         "type": "\"integer\""
        },
        {
         "metadata": "{}",
         "name": "department",
         "type": "\"string\""
        },
        {
         "metadata": "{}",
         "name": "salary",
         "type": "\"integer\""
        }
       ],
       "type": "table"
      }
     },
     "output_type": "display_data"
    }
   ],
   "source": [
    "%sql\n",
    "-- Example using version number\n",
    "SELECT * FROM delta_training.emp_file VERSION AS OF 0;"
   ]
  },
  {
   "cell_type": "code",
   "execution_count": 0,
   "metadata": {
    "application/vnd.databricks.v1+cell": {
     "cellMetadata": {
      "byteLimit": 2048000,
      "implicitDf": true,
      "rowLimit": 10000
     },
     "inputWidgets": {},
     "nuid": "9e57d255-1895-455a-925b-160e8cc40b97",
     "showTitle": false,
     "tableResultSettingsMap": {},
     "title": ""
    }
   },
   "outputs": [
    {
     "output_type": "display_data",
     "data": {
      "text/html": [
       "<style scoped>\n",
       "  .table-result-container {\n",
       "    max-height: 300px;\n",
       "    overflow: auto;\n",
       "  }\n",
       "  table, th, td {\n",
       "    border: 1px solid black;\n",
       "    border-collapse: collapse;\n",
       "  }\n",
       "  th, td {\n",
       "    padding: 5px;\n",
       "  }\n",
       "  th {\n",
       "    text-align: left;\n",
       "  }\n",
       "</style><div class='table-result-container'><table class='table-result'><thead style='background-color: white'><tr><th>name</th><th>id</th><th>age</th><th>department</th><th>salary</th></tr></thead><tbody><tr><td>user1</td><td>1</td><td>25</td><td>Jr manager</td><td>98000</td></tr><tr><td>user2</td><td>2</td><td>30</td><td>sr manager</td><td>100000</td></tr><tr><td>user3</td><td>6</td><td>35</td><td>sr manager</td><td>100000</td></tr><tr><td>user4</td><td>4</td><td>32</td><td>head</td><td>70000</td></tr><tr><td>user5</td><td>1</td><td>45</td><td>Jr manager</td><td>60000</td></tr><tr><td>user6</td><td>6</td><td>47</td><td>head2</td><td>45000</td></tr><tr><td>user7</td><td>5</td><td>21</td><td>worker</td><td>25000</td></tr><tr><td>user8</td><td>1</td><td>22</td><td>Jr manager</td><td>50000</td></tr><tr><td>user9</td><td>10</td><td>54</td><td>lead</td><td>45000</td></tr><tr><td>user10</td><td>59</td><td>52</td><td>lead2</td><td>50000</td></tr><tr><td>user11</td><td>6</td><td>25</td><td>head2</td><td>50000</td></tr><tr><td>user12</td><td>2</td><td>27</td><td>sr manager</td><td>70000</td></tr><tr><td>user13</td><td>59</td><td>54</td><td>lead2</td><td>45000</td></tr><tr><td>user14</td><td>2</td><td>25</td><td>sr manager</td><td>70000</td></tr><tr><td>user15</td><td>1</td><td>32</td><td>Jr manager</td><td>50000</td></tr><tr><td>user16</td><td>3</td><td>37</td><td>worker</td><td>25000</td></tr><tr><td>user17</td><td>74</td><td>63</td><td>Manager</td><td>68000</td></tr><tr><td>user18</td><td>7</td><td>25</td><td>head</td><td>45000</td></tr><tr><td>user19</td><td>10</td><td>32</td><td>lvl2 head</td><td>52000</td></tr><tr><td>user20</td><td>10</td><td>32</td><td>lvl2 head</td><td>52000</td></tr></tbody></table></div>"
      ]
     },
     "metadata": {
      "application/vnd.databricks.v1+output": {
       "addedWidgets": {},
       "aggData": [],
       "aggError": "",
       "aggOverflow": false,
       "aggSchema": [],
       "aggSeriesLimitReached": false,
       "aggType": "",
       "arguments": {},
       "columnCustomDisplayInfos": {},
       "data": [
        [
         "user1",
         1,
         25,
         "Jr manager",
         98000
        ],
        [
         "user2",
         2,
         30,
         "sr manager",
         100000
        ],
        [
         "user3",
         6,
         35,
         "sr manager",
         100000
        ],
        [
         "user4",
         4,
         32,
         "head",
         70000
        ],
        [
         "user5",
         1,
         45,
         "Jr manager",
         60000
        ],
        [
         "user6",
         6,
         47,
         "head2",
         45000
        ],
        [
         "user7",
         5,
         21,
         "worker",
         25000
        ],
        [
         "user8",
         1,
         22,
         "Jr manager",
         50000
        ],
        [
         "user9",
         10,
         54,
         "lead",
         45000
        ],
        [
         "user10",
         59,
         52,
         "lead2",
         50000
        ],
        [
         "user11",
         6,
         25,
         "head2",
         50000
        ],
        [
         "user12",
         2,
         27,
         "sr manager",
         70000
        ],
        [
         "user13",
         59,
         54,
         "lead2",
         45000
        ],
        [
         "user14",
         2,
         25,
         "sr manager",
         70000
        ],
        [
         "user15",
         1,
         32,
         "Jr manager",
         50000
        ],
        [
         "user16",
         3,
         37,
         "worker",
         25000
        ],
        [
         "user17",
         74,
         63,
         "Manager",
         68000
        ],
        [
         "user18",
         7,
         25,
         "head",
         45000
        ],
        [
         "user19",
         10,
         32,
         "lvl2 head",
         52000
        ],
        [
         "user20",
         10,
         32,
         "lvl2 head",
         52000
        ]
       ],
       "datasetInfos": [
        {
         "name": "_sqldf",
         "schema": {
          "fields": [
           {
            "metadata": {},
            "name": "name",
            "nullable": true,
            "type": "string"
           },
           {
            "metadata": {},
            "name": "id",
            "nullable": true,
            "type": "integer"
           },
           {
            "metadata": {},
            "name": "age",
            "nullable": true,
            "type": "integer"
           },
           {
            "metadata": {},
            "name": "department",
            "nullable": true,
            "type": "string"
           },
           {
            "metadata": {},
            "name": "salary",
            "nullable": true,
            "type": "integer"
           }
          ],
          "type": "struct"
         },
         "tableIdentifier": null,
         "typeStr": "pyspark.sql.dataframe.DataFrame"
        }
       ],
       "dbfsResultPath": null,
       "isJsonSchema": true,
       "metadata": {
        "createTempViewForImplicitDf": true,
        "dataframeName": "_sqldf",
        "executionCount": 27
       },
       "overflow": false,
       "plotOptions": {
        "customPlotOptions": {},
        "displayType": "table",
        "pivotAggregation": null,
        "pivotColumns": null,
        "xColumns": null,
        "yColumns": null
       },
       "removedWidgets": [],
       "schema": [
        {
         "metadata": "{}",
         "name": "name",
         "type": "\"string\""
        },
        {
         "metadata": "{}",
         "name": "id",
         "type": "\"integer\""
        },
        {
         "metadata": "{}",
         "name": "age",
         "type": "\"integer\""
        },
        {
         "metadata": "{}",
         "name": "department",
         "type": "\"string\""
        },
        {
         "metadata": "{}",
         "name": "salary",
         "type": "\"integer\""
        }
       ],
       "type": "table"
      }
     },
     "output_type": "display_data"
    }
   ],
   "source": [
    "%sql\n",
    "-- Example using timestamp\n",
    "SELECT * FROM delta_training.emp_file TIMESTAMP AS OF '2025-08-11 06:50:00';"
   ]
  },
  {
   "cell_type": "markdown",
   "metadata": {
    "application/vnd.databricks.v1+cell": {
     "cellMetadata": {},
     "inputWidgets": {},
     "nuid": "77e6d7b9-d8eb-42dd-9902-f6bacdb28860",
     "showTitle": false,
     "tableResultSettingsMap": {},
     "title": ""
    }
   },
   "source": [
    "####Optimize:\n",
    "We can compact small files to improve performance.\n",
    "\n",
    "- Combines many small Parquet files into fewer big ones.\n",
    "\n",
    "- Improves query performance.\n",
    "\n",
    "- Does not delete historical versions of the table."
   ]
  },
  {
   "cell_type": "code",
   "execution_count": 0,
   "metadata": {
    "application/vnd.databricks.v1+cell": {
     "cellMetadata": {
      "byteLimit": 2048000,
      "implicitDf": true,
      "rowLimit": 10000
     },
     "inputWidgets": {},
     "nuid": "e72beb24-1fe8-43c3-890a-e084c487b97f",
     "showTitle": false,
     "tableResultSettingsMap": {},
     "title": ""
    }
   },
   "outputs": [
    {
     "output_type": "display_data",
     "data": {
      "text/html": [
       "<style scoped>\n",
       "  .table-result-container {\n",
       "    max-height: 300px;\n",
       "    overflow: auto;\n",
       "  }\n",
       "  table, th, td {\n",
       "    border: 1px solid black;\n",
       "    border-collapse: collapse;\n",
       "  }\n",
       "  th, td {\n",
       "    padding: 5px;\n",
       "  }\n",
       "  th {\n",
       "    text-align: left;\n",
       "  }\n",
       "</style><div class='table-result-container'><table class='table-result'><thead style='background-color: white'><tr><th>path</th><th>metrics</th></tr></thead><tbody><tr><td>dbfs:/FileStore/tables/delta_train</td><td>List(0, 0, List(null, null, 0.0, 0, 0), List(null, null, 0.0, 0, 0), 0, null, null, 0, 0, 1, 1, true, 0, 0, 1754896776967, 1754896777407, 4, 0, null, List(0, 0), null, 5, 5, 0, 0, null)</td></tr></tbody></table></div>"
      ]
     },
     "metadata": {
      "application/vnd.databricks.v1+output": {
       "addedWidgets": {},
       "aggData": [],
       "aggError": "",
       "aggOverflow": false,
       "aggSchema": [],
       "aggSeriesLimitReached": false,
       "aggType": "",
       "arguments": {},
       "columnCustomDisplayInfos": {},
       "data": [
        [
         "dbfs:/FileStore/tables/delta_train",
         [
          0,
          0,
          [
           null,
           null,
           0.0,
           0,
           0
          ],
          [
           null,
           null,
           0.0,
           0,
           0
          ],
          0,
          null,
          null,
          0,
          0,
          1,
          1,
          true,
          0,
          0,
          1754896776967,
          1754896777407,
          4,
          0,
          null,
          [
           0,
           0
          ],
          null,
          5,
          5,
          0,
          0,
          null
         ]
        ]
       ],
       "datasetInfos": [
        {
         "name": "_sqldf",
         "schema": {
          "fields": [
           {
            "metadata": {},
            "name": "path",
            "nullable": true,
            "type": "string"
           },
           {
            "metadata": {},
            "name": "metrics",
            "nullable": true,
            "type": {
             "fields": [
              {
               "metadata": {},
               "name": "numFilesAdded",
               "nullable": false,
               "type": "long"
              },
              {
               "metadata": {},
               "name": "numFilesRemoved",
               "nullable": false,
               "type": "long"
              },
              {
               "metadata": {},
               "name": "filesAdded",
               "nullable": true,
               "type": {
                "fields": [
                 {
                  "metadata": {},
                  "name": "min",
                  "nullable": true,
                  "type": "long"
                 },
                 {
                  "metadata": {},
                  "name": "max",
                  "nullable": true,
                  "type": "long"
                 },
                 {
                  "metadata": {},
                  "name": "avg",
                  "nullable": false,
                  "type": "double"
                 },
                 {
                  "metadata": {},
                  "name": "totalFiles",
                  "nullable": false,
                  "type": "long"
                 },
                 {
                  "metadata": {},
                  "name": "totalSize",
                  "nullable": false,
                  "type": "long"
                 }
                ],
                "type": "struct"
               }
              },
              {
               "metadata": {},
               "name": "filesRemoved",
               "nullable": true,
               "type": {
                "fields": [
                 {
                  "metadata": {},
                  "name": "min",
                  "nullable": true,
                  "type": "long"
                 },
                 {
                  "metadata": {},
                  "name": "max",
                  "nullable": true,
                  "type": "long"
                 },
                 {
                  "metadata": {},
                  "name": "avg",
                  "nullable": false,
                  "type": "double"
                 },
                 {
                  "metadata": {},
                  "name": "totalFiles",
                  "nullable": false,
                  "type": "long"
                 },
                 {
                  "metadata": {},
                  "name": "totalSize",
                  "nullable": false,
                  "type": "long"
                 }
                ],
                "type": "struct"
               }
              },
              {
               "metadata": {},
               "name": "partitionsOptimized",
               "nullable": false,
               "type": "long"
              },
              {
               "metadata": {},
               "name": "zOrderStats",
               "nullable": true,
               "type": {
                "fields": [
                 {
                  "metadata": {},
                  "name": "strategyName",
                  "nullable": true,
                  "type": "string"
                 },
                 {
                  "metadata": {},
                  "name": "inputCubeFiles",
                  "nullable": true,
                  "type": {
                   "fields": [
                    {
                     "metadata": {},
                     "name": "num",
                     "nullable": false,
                     "type": "long"
                    },
                    {
                     "metadata": {},
                     "name": "size",
                     "nullable": false,
                     "type": "long"
                    }
                   ],
                   "type": "struct"
                  }
                 },
                 {
                  "metadata": {},
                  "name": "inputOtherFiles",
                  "nullable": true,
                  "type": {
                   "fields": [
                    {
                     "metadata": {},
                     "name": "num",
                     "nullable": false,
                     "type": "long"
                    },
                    {
                     "metadata": {},
                     "name": "size",
                     "nullable": false,
                     "type": "long"
                    }
                   ],
                   "type": "struct"
                  }
                 },
                 {
                  "metadata": {},
                  "name": "inputNumCubes",
                  "nullable": false,
                  "type": "long"
                 },
                 {
                  "metadata": {},
                  "name": "mergedFiles",
                  "nullable": true,
                  "type": {
                   "fields": [
                    {
                     "metadata": {},
                     "name": "num",
                     "nullable": false,
                     "type": "long"
                    },
                    {
                     "metadata": {},
                     "name": "size",
                     "nullable": false,
                     "type": "long"
                    }
                   ],
                   "type": "struct"
                  }
                 },
                 {
                  "metadata": {},
                  "name": "numOutputCubes",
                  "nullable": false,
                  "type": "long"
                 },
                 {
                  "metadata": {},
                  "name": "mergedNumCubes",
                  "nullable": true,
                  "type": "long"
                 }
                ],
                "type": "struct"
               }
              },
              {
               "metadata": {},
               "name": "clusteringStats",
               "nullable": true,
               "type": {
                "fields": [
                 {
                  "metadata": {},
                  "name": "inputZCubeFiles",
                  "nullable": true,
                  "type": {
                   "fields": [
                    {
                     "metadata": {},
                     "name": "numFiles",
                     "nullable": false,
                     "type": "long"
                    },
                    {
                     "metadata": {},
                     "name": "size",
                     "nullable": false,
                     "type": "long"
                    }
                   ],
                   "type": "struct"
                  }
                 },
                 {
                  "metadata": {},
                  "name": "inputOtherFiles",
                  "nullable": true,
                  "type": {
                   "fields": [
                    {
                     "metadata": {},
                     "name": "numFiles",
                     "nullable": false,
                     "type": "long"
                    },
                    {
                     "metadata": {},
                     "name": "size",
                     "nullable": false,
                     "type": "long"
                    }
                   ],
                   "type": "struct"
                  }
                 },
                 {
                  "metadata": {},
                  "name": "inputNumZCubes",
                  "nullable": false,
                  "type": "long"
                 },
                 {
                  "metadata": {},
                  "name": "mergedFiles",
                  "nullable": true,
                  "type": {
                   "fields": [
                    {
                     "metadata": {},
                     "name": "numFiles",
                     "nullable": false,
                     "type": "long"
                    },
                    {
                     "metadata": {},
                     "name": "size",
                     "nullable": false,
                     "type": "long"
                    }
                   ],
                   "type": "struct"
                  }
                 },
                 {
                  "metadata": {},
                  "name": "numOutputZCubes",
                  "nullable": false,
                  "type": "long"
                 }
                ],
                "type": "struct"
               }
              },
              {
               "metadata": {},
               "name": "numBins",
               "nullable": false,
               "type": "long"
              },
              {
               "metadata": {},
               "name": "numBatches",
               "nullable": false,
               "type": "long"
              },
              {
               "metadata": {},
               "name": "totalConsideredFiles",
               "nullable": false,
               "type": "long"
              },
              {
               "metadata": {},
               "name": "totalFilesSkipped",
               "nullable": false,
               "type": "long"
              },
              {
               "metadata": {},
               "name": "preserveInsertionOrder",
               "nullable": false,
               "type": "boolean"
              },
              {
               "metadata": {},
               "name": "numFilesSkippedToReduceWriteAmplification",
               "nullable": false,
               "type": "long"
              },
              {
               "metadata": {},
               "name": "numBytesSkippedToReduceWriteAmplification",
               "nullable": false,
               "type": "long"
              },
              {
               "metadata": {},
               "name": "startTimeMs",
               "nullable": false,
               "type": "long"
              },
              {
               "metadata": {},
               "name": "endTimeMs",
               "nullable": false,
               "type": "long"
              },
              {
               "metadata": {},
               "name": "totalClusterParallelism",
               "nullable": false,
               "type": "long"
              },
              {
               "metadata": {},
               "name": "totalScheduledTasks",
               "nullable": false,
               "type": "long"
              },
              {
               "metadata": {},
               "name": "autoCompactParallelismStats",
               "nullable": true,
               "type": {
                "fields": [
                 {
                  "metadata": {},
                  "name": "maxClusterActiveParallelism",
                  "nullable": true,
                  "type": "long"
                 },
                 {
                  "metadata": {},
                  "name": "minClusterActiveParallelism",
                  "nullable": true,
                  "type": "long"
                 },
                 {
                  "metadata": {},
                  "name": "maxSessionActiveParallelism",
                  "nullable": true,
                  "type": "long"
                 },
                 {
                  "metadata": {},
                  "name": "minSessionActiveParallelism",
                  "nullable": true,
                  "type": "long"
                 }
                ],
                "type": "struct"
               }
              },
              {
               "metadata": {},
               "name": "deletionVectorStats",
               "nullable": true,
               "type": {
                "fields": [
                 {
                  "metadata": {},
                  "name": "numDeletionVectorsRemoved",
                  "nullable": false,
                  "type": "long"
                 },
                 {
                  "metadata": {},
                  "name": "numDeletionVectorRowsRemoved",
                  "nullable": false,
                  "type": "long"
                 }
                ],
                "type": "struct"
               }
              },
              {
               "metadata": {},
               "name": "recompressionCodec",
               "nullable": true,
               "type": "string"
              },
              {
               "metadata": {},
               "name": "numTableColumns",
               "nullable": false,
               "type": "long"
              },
              {
               "metadata": {},
               "name": "numTableColumnsWithStats",
               "nullable": false,
               "type": "long"
              },
              {
               "metadata": {},
               "name": "totalTaskExecutionTimeMs",
               "nullable": false,
               "type": "long"
              },
              {
               "metadata": {},
               "name": "skippedArchivedFiles",
               "nullable": false,
               "type": "long"
              },
              {
               "metadata": {},
               "name": "clusteringMetrics",
               "nullable": true,
               "type": {
                "fields": [
                 {
                  "metadata": {},
                  "name": "sizeOfTableInBytesBeforeLazyClustering",
                  "nullable": false,
                  "type": "long"
                 },
                 {
                  "metadata": {},
                  "name": "isNewMetadataCreated",
                  "nullable": false,
                  "type": "boolean"
                 },
                 {
                  "metadata": {},
                  "name": "isPOTriggered",
                  "nullable": false,
                  "type": "boolean"
                 },
                 {
                  "metadata": {},
                  "name": "isFull",
                  "nullable": false,
                  "type": "boolean"
                 },
                 {
                  "metadata": {},
                  "name": "approxClusteringQuality",
                  "nullable": true,
                  "type": "double"
                 },
                 {
                  "metadata": {},
                  "name": "approxClusteringQualityPerColumn",
                  "nullable": true,
                  "type": {
                   "containsNull": false,
                   "elementType": "double",
                   "type": "array"
                  }
                 },
                 {
                  "metadata": {},
                  "name": "approxClusteringCoverage",
                  "nullable": true,
                  "type": "double"
                 },
                 {
                  "metadata": {},
                  "name": "numFilesSkippedWithoutStats",
                  "nullable": false,
                  "type": "long"
                 },
                 {
                  "metadata": {},
                  "name": "numFilesClassifiedToIntermediateNodes",
                  "nullable": false,
                  "type": "long"
                 },
                 {
                  "metadata": {},
                  "name": "sizeOfFilesClassifiedToIntermediateNodesInBytes",
                  "nullable": false,
                  "type": "long"
                 },
                 {
                  "metadata": {},
                  "name": "logicalSizeOfFilesClassifiedToIntermediateNodesInBytes",
                  "nullable": false,
                  "type": "long"
                 },
                 {
                  "metadata": {},
                  "name": "numFilesClassifiedToLeafNodes",
                  "nullable": false,
                  "type": "long"
                 },
                 {
                  "metadata": {},
                  "name": "sizeOfFilesClassifiedToLeafNodesInBytes",
                  "nullable": false,
                  "type": "long"
                 },
                 {
                  "metadata": {},
                  "name": "logicalSizeOfFilesClassifiedToLeafNodesInBytes",
                  "nullable": false,
                  "type": "long"
                 },
                 {
                  "metadata": {},
                  "name": "numThreadsForClassifier",
                  "nullable": true,
                  "type": "integer"
                 },
                 {
                  "metadata": {},
                  "name": "clusterThresholdStrategy",
                  "nullable": true,
                  "type": "string"
                 },
                 {
                  "metadata": {},
                  "name": "minFileSize",
                  "nullable": false,
                  "type": "long"
                 },
                 {
                  "metadata": {},
                  "name": "maxFileSize",
                  "nullable": false,
                  "type": "long"
                 },
                 {
                  "metadata": {},
                  "name": "nodeMinNumFilesToCompact",
                  "nullable": false,
                  "type": "long"
                 },
                 {
                  "metadata": {},
                  "name": "numIdealFiles",
                  "nullable": false,
                  "type": "long"
                 },
                 {
                  "metadata": {},
                  "name": "numIdealFilesWithTrimmedStringMaxValue",
                  "nullable": false,
                  "type": "long"
                 },
                 {
                  "metadata": {},
                  "name": "numAddedFilesWithSameMinMaxOnClusteringColumns",
                  "nullable": true,
                  "type": {
                   "containsNull": false,
                   "elementType": "long",
                   "type": "array"
                  }
                 },
                 {
                  "metadata": {},
                  "name": "numClusteringTasksPlanned",
                  "nullable": false,
                  "type": "integer"
                 },
                 {
                  "metadata": {},
                  "name": "numClusteringTasksNotPlannedDueToPO",
                  "nullable": false,
                  "type": "integer"
                 },
                 {
                  "metadata": {},
                  "name": "numCompactionTasksPlanned",
                  "nullable": false,
                  "type": "integer"
                 },
                 {
                  "metadata": {},
                  "name": "numCompactionTasksPlannedUndoneDueToPO",
                  "nullable": false,
                  "type": "integer"
                 },
                 {
                  "metadata": {},
                  "name": "numOptimizeBatchesPlanned",
                  "nullable": false,
                  "type": "integer"
                 },
                 {
                  "metadata": {},
                  "name": "numLeafNodesExpanded",
                  "nullable": false,
                  "type": "long"
                 },
                 {
                  "metadata": {},
                  "name": "numLeafNodesClustered",
                  "nullable": false,
                  "type": "long"
                 },
                 {
                  "metadata": {},
                  "name": "numGetFilesForNodeCalls",
                  "nullable": false,
                  "type": "long"
                 },
                 {
                  "metadata": {},
                  "name": "numSamplingJobs",
                  "nullable": false,
                  "type": "long"
                 },
                 {
                  "metadata": {},
                  "name": "numLeafNodesCompacted",
                  "nullable": false,
                  "type": "long"
                 },
                 {
                  "metadata": {},
                  "name": "numLeafNodesCompactedUndoneDueToPO",
                  "nullable": false,
                  "type": "long"
                 },
                 {
                  "metadata": {},
                  "name": "numIntermediateNodesCompacted",
                  "nullable": false,
                  "type": "long"
                 },
                 {
                  "metadata": {},
                  "name": "numIntermediateNodesCompactedUndoneDueToPO",
                  "nullable": false,
                  "type": "long"
                 },
                 {
                  "metadata": {},
                  "name": "totalSizeOfDataToCompactInBytes",
                  "nullable": false,
                  "type": "long"
                 },
                 {
                  "metadata": {},
                  "name": "totalSizeOfDataToCompactInBytesUndoneDueToPO",
                  "nullable": false,
                  "type": "long"
                 },
                 {
                  "metadata": {},
                  "name": "totalLogicalSizeOfDataToCompactInBytes",
                  "nullable": false,
                  "type": "long"
                 },
                 {
                  "metadata": {},
                  "name": "totalLogicalSizeOfDataToCompactInBytesUndoneDueToPO",
                  "nullable": false,
                  "type": "long"
                 },
                 {
                  "metadata": {},
                  "name": "numIntermediateNodesClustered",
                  "nullable": false,
                  "type": "long"
                 },
                 {
                  "metadata": {},
                  "name": "numFilesSkippedAfterExpansion",
                  "nullable": false,
                  "type": "long"
                 },
                 {
                  "metadata": {},
                  "name": "totalSizeOfFilesSkippedAfterExpansionInBytes",
                  "nullable": false,
                  "type": "long"
                 },
                 {
                  "metadata": {},
                  "name": "totalLogicalSizeOfFilesSkippedAfterExpansionInBytes",
                  "nullable": false,
                  "type": "long"
                 },
                 {
                  "metadata": {},
                  "name": "totalSizeOfDataToRewriteInBytes",
                  "nullable": false,
                  "type": "long"
                 },
                 {
                  "metadata": {},
                  "name": "totalLogicalSizeOfDataToRewriteInBytes",
                  "nullable": false,
                  "type": "long"
                 },
                 {
                  "metadata": {},
                  "name": "timeMetrics",
                  "nullable": true,
                  "type": {
                   "fields": [
                    {
                     "metadata": {},
                     "name": "classifierTimeMs",
                     "nullable": false,
                     "type": "long"
                    },
                    {
                     "metadata": {},
                     "name": "optimizerTimeMs",
                     "nullable": false,
                     "type": "long"
                    },
                    {
                     "metadata": {},
                     "name": "metadataLoadTimeMs",
                     "nullable": false,
                     "type": "long"
                    },
                    {
                     "metadata": {},
                     "name": "totalGetFilesForNodeCallsTimeMs",
                     "nullable": false,
                     "type": "long"
                    },
                    {
                     "metadata": {},
                     "name": "totalSamplingTimeMs",
                     "nullable": false,
                     "type": "long"
                    },
                    {
                     "metadata": {},
                     "name": "metadataCreationTimeMs",
                     "nullable": false,
                     "type": "long"
                    }
                   ],
                   "type": "struct"
                  }
                 },
                 {
                  "metadata": {},
                  "name": "maxOptimizeBatchesInParallel",
                  "nullable": false,
                  "type": "long"
                 },
                 {
                  "metadata": {},
                  "name": "currentIteration",
                  "nullable": false,
                  "type": "integer"
                 },
                 {
                  "metadata": {},
                  "name": "maxIterations",
                  "nullable": false,
                  "type": "integer"
                 },
                 {
                  "metadata": {},
                  "name": "clusteringStrategy",
                  "nullable": true,
                  "type": "string"
                 }
                ],
                "type": "struct"
               }
              }
             ],
             "type": "struct"
            }
           }
          ],
          "type": "struct"
         },
         "tableIdentifier": null,
         "typeStr": "pyspark.sql.dataframe.DataFrame"
        }
       ],
       "dbfsResultPath": null,
       "isJsonSchema": true,
       "metadata": {
        "createTempViewForImplicitDf": true,
        "dataframeName": "_sqldf",
        "executionCount": 28
       },
       "overflow": false,
       "plotOptions": {
        "customPlotOptions": {},
        "displayType": "table",
        "pivotAggregation": null,
        "pivotColumns": null,
        "xColumns": null,
        "yColumns": null
       },
       "removedWidgets": [],
       "schema": [
        {
         "metadata": "{}",
         "name": "path",
         "type": "\"string\""
        },
        {
         "metadata": "{}",
         "name": "metrics",
         "type": "{\"type\":\"struct\",\"fields\":[{\"name\":\"numFilesAdded\",\"type\":\"long\",\"nullable\":false,\"metadata\":{}},{\"name\":\"numFilesRemoved\",\"type\":\"long\",\"nullable\":false,\"metadata\":{}},{\"name\":\"filesAdded\",\"type\":{\"type\":\"struct\",\"fields\":[{\"name\":\"min\",\"type\":\"long\",\"nullable\":true,\"metadata\":{}},{\"name\":\"max\",\"type\":\"long\",\"nullable\":true,\"metadata\":{}},{\"name\":\"avg\",\"type\":\"double\",\"nullable\":false,\"metadata\":{}},{\"name\":\"totalFiles\",\"type\":\"long\",\"nullable\":false,\"metadata\":{}},{\"name\":\"totalSize\",\"type\":\"long\",\"nullable\":false,\"metadata\":{}}]},\"nullable\":true,\"metadata\":{}},{\"name\":\"filesRemoved\",\"type\":{\"type\":\"struct\",\"fields\":[{\"name\":\"min\",\"type\":\"long\",\"nullable\":true,\"metadata\":{}},{\"name\":\"max\",\"type\":\"long\",\"nullable\":true,\"metadata\":{}},{\"name\":\"avg\",\"type\":\"double\",\"nullable\":false,\"metadata\":{}},{\"name\":\"totalFiles\",\"type\":\"long\",\"nullable\":false,\"metadata\":{}},{\"name\":\"totalSize\",\"type\":\"long\",\"nullable\":false,\"metadata\":{}}]},\"nullable\":true,\"metadata\":{}},{\"name\":\"partitionsOptimized\",\"type\":\"long\",\"nullable\":false,\"metadata\":{}},{\"name\":\"zOrderStats\",\"type\":{\"type\":\"struct\",\"fields\":[{\"name\":\"strategyName\",\"type\":\"string\",\"nullable\":true,\"metadata\":{}},{\"name\":\"inputCubeFiles\",\"type\":{\"type\":\"struct\",\"fields\":[{\"name\":\"num\",\"type\":\"long\",\"nullable\":false,\"metadata\":{}},{\"name\":\"size\",\"type\":\"long\",\"nullable\":false,\"metadata\":{}}]},\"nullable\":true,\"metadata\":{}},{\"name\":\"inputOtherFiles\",\"type\":{\"type\":\"struct\",\"fields\":[{\"name\":\"num\",\"type\":\"long\",\"nullable\":false,\"metadata\":{}},{\"name\":\"size\",\"type\":\"long\",\"nullable\":false,\"metadata\":{}}]},\"nullable\":true,\"metadata\":{}},{\"name\":\"inputNumCubes\",\"type\":\"long\",\"nullable\":false,\"metadata\":{}},{\"name\":\"mergedFiles\",\"type\":{\"type\":\"struct\",\"fields\":[{\"name\":\"num\",\"type\":\"long\",\"nullable\":false,\"metadata\":{}},{\"name\":\"size\",\"type\":\"long\",\"nullable\":false,\"metadata\":{}}]},\"nullable\":true,\"metadata\":{}},{\"name\":\"numOutputCubes\",\"type\":\"long\",\"nullable\":false,\"metadata\":{}},{\"name\":\"mergedNumCubes\",\"type\":\"long\",\"nullable\":true,\"metadata\":{}}]},\"nullable\":true,\"metadata\":{}},{\"name\":\"clusteringStats\",\"type\":{\"type\":\"struct\",\"fields\":[{\"name\":\"inputZCubeFiles\",\"type\":{\"type\":\"struct\",\"fields\":[{\"name\":\"numFiles\",\"type\":\"long\",\"nullable\":false,\"metadata\":{}},{\"name\":\"size\",\"type\":\"long\",\"nullable\":false,\"metadata\":{}}]},\"nullable\":true,\"metadata\":{}},{\"name\":\"inputOtherFiles\",\"type\":{\"type\":\"struct\",\"fields\":[{\"name\":\"numFiles\",\"type\":\"long\",\"nullable\":false,\"metadata\":{}},{\"name\":\"size\",\"type\":\"long\",\"nullable\":false,\"metadata\":{}}]},\"nullable\":true,\"metadata\":{}},{\"name\":\"inputNumZCubes\",\"type\":\"long\",\"nullable\":false,\"metadata\":{}},{\"name\":\"mergedFiles\",\"type\":{\"type\":\"struct\",\"fields\":[{\"name\":\"numFiles\",\"type\":\"long\",\"nullable\":false,\"metadata\":{}},{\"name\":\"size\",\"type\":\"long\",\"nullable\":false,\"metadata\":{}}]},\"nullable\":true,\"metadata\":{}},{\"name\":\"numOutputZCubes\",\"type\":\"long\",\"nullable\":false,\"metadata\":{}}]},\"nullable\":true,\"metadata\":{}},{\"name\":\"numBins\",\"type\":\"long\",\"nullable\":false,\"metadata\":{}},{\"name\":\"numBatches\",\"type\":\"long\",\"nullable\":false,\"metadata\":{}},{\"name\":\"totalConsideredFiles\",\"type\":\"long\",\"nullable\":false,\"metadata\":{}},{\"name\":\"totalFilesSkipped\",\"type\":\"long\",\"nullable\":false,\"metadata\":{}},{\"name\":\"preserveInsertionOrder\",\"type\":\"boolean\",\"nullable\":false,\"metadata\":{}},{\"name\":\"numFilesSkippedToReduceWriteAmplification\",\"type\":\"long\",\"nullable\":false,\"metadata\":{}},{\"name\":\"numBytesSkippedToReduceWriteAmplification\",\"type\":\"long\",\"nullable\":false,\"metadata\":{}},{\"name\":\"startTimeMs\",\"type\":\"long\",\"nullable\":false,\"metadata\":{}},{\"name\":\"endTimeMs\",\"type\":\"long\",\"nullable\":false,\"metadata\":{}},{\"name\":\"totalClusterParallelism\",\"type\":\"long\",\"nullable\":false,\"metadata\":{}},{\"name\":\"totalScheduledTasks\",\"type\":\"long\",\"nullable\":false,\"metadata\":{}},{\"name\":\"autoCompactParallelismStats\",\"type\":{\"type\":\"struct\",\"fields\":[{\"name\":\"maxClusterActiveParallelism\",\"type\":\"long\",\"nullable\":true,\"metadata\":{}},{\"name\":\"minClusterActiveParallelism\",\"type\":\"long\",\"nullable\":true,\"metadata\":{}},{\"name\":\"maxSessionActiveParallelism\",\"type\":\"long\",\"nullable\":true,\"metadata\":{}},{\"name\":\"minSessionActiveParallelism\",\"type\":\"long\",\"nullable\":true,\"metadata\":{}}]},\"nullable\":true,\"metadata\":{}},{\"name\":\"deletionVectorStats\",\"type\":{\"type\":\"struct\",\"fields\":[{\"name\":\"numDeletionVectorsRemoved\",\"type\":\"long\",\"nullable\":false,\"metadata\":{}},{\"name\":\"numDeletionVectorRowsRemoved\",\"type\":\"long\",\"nullable\":false,\"metadata\":{}}]},\"nullable\":true,\"metadata\":{}},{\"name\":\"recompressionCodec\",\"type\":\"string\",\"nullable\":true,\"metadata\":{}},{\"name\":\"numTableColumns\",\"type\":\"long\",\"nullable\":false,\"metadata\":{}},{\"name\":\"numTableColumnsWithStats\",\"type\":\"long\",\"nullable\":false,\"metadata\":{}},{\"name\":\"totalTaskExecutionTimeMs\",\"type\":\"long\",\"nullable\":false,\"metadata\":{}},{\"name\":\"skippedArchivedFiles\",\"type\":\"long\",\"nullable\":false,\"metadata\":{}},{\"name\":\"clusteringMetrics\",\"type\":{\"type\":\"struct\",\"fields\":[{\"name\":\"sizeOfTableInBytesBeforeLazyClustering\",\"type\":\"long\",\"nullable\":false,\"metadata\":{}},{\"name\":\"isNewMetadataCreated\",\"type\":\"boolean\",\"nullable\":false,\"metadata\":{}},{\"name\":\"isPOTriggered\",\"type\":\"boolean\",\"nullable\":false,\"metadata\":{}},{\"name\":\"isFull\",\"type\":\"boolean\",\"nullable\":false,\"metadata\":{}},{\"name\":\"approxClusteringQuality\",\"type\":\"double\",\"nullable\":true,\"metadata\":{}},{\"name\":\"approxClusteringQualityPerColumn\",\"type\":{\"type\":\"array\",\"elementType\":\"double\",\"containsNull\":false},\"nullable\":true,\"metadata\":{}},{\"name\":\"approxClusteringCoverage\",\"type\":\"double\",\"nullable\":true,\"metadata\":{}},{\"name\":\"numFilesSkippedWithoutStats\",\"type\":\"long\",\"nullable\":false,\"metadata\":{}},{\"name\":\"numFilesClassifiedToIntermediateNodes\",\"type\":\"long\",\"nullable\":false,\"metadata\":{}},{\"name\":\"sizeOfFilesClassifiedToIntermediateNodesInBytes\",\"type\":\"long\",\"nullable\":false,\"metadata\":{}},{\"name\":\"logicalSizeOfFilesClassifiedToIntermediateNodesInBytes\",\"type\":\"long\",\"nullable\":false,\"metadata\":{}},{\"name\":\"numFilesClassifiedToLeafNodes\",\"type\":\"long\",\"nullable\":false,\"metadata\":{}},{\"name\":\"sizeOfFilesClassifiedToLeafNodesInBytes\",\"type\":\"long\",\"nullable\":false,\"metadata\":{}},{\"name\":\"logicalSizeOfFilesClassifiedToLeafNodesInBytes\",\"type\":\"long\",\"nullable\":false,\"metadata\":{}},{\"name\":\"numThreadsForClassifier\",\"type\":\"integer\",\"nullable\":true,\"metadata\":{}},{\"name\":\"clusterThresholdStrategy\",\"type\":\"string\",\"nullable\":true,\"metadata\":{}},{\"name\":\"minFileSize\",\"type\":\"long\",\"nullable\":false,\"metadata\":{}},{\"name\":\"maxFileSize\",\"type\":\"long\",\"nullable\":false,\"metadata\":{}},{\"name\":\"nodeMinNumFilesToCompact\",\"type\":\"long\",\"nullable\":false,\"metadata\":{}},{\"name\":\"numIdealFiles\",\"type\":\"long\",\"nullable\":false,\"metadata\":{}},{\"name\":\"numIdealFilesWithTrimmedStringMaxValue\",\"type\":\"long\",\"nullable\":false,\"metadata\":{}},{\"name\":\"numAddedFilesWithSameMinMaxOnClusteringColumns\",\"type\":{\"type\":\"array\",\"elementType\":\"long\",\"containsNull\":false},\"nullable\":true,\"metadata\":{}},{\"name\":\"numClusteringTasksPlanned\",\"type\":\"integer\",\"nullable\":false,\"metadata\":{}},{\"name\":\"numClusteringTasksNotPlannedDueToPO\",\"type\":\"integer\",\"nullable\":false,\"metadata\":{}},{\"name\":\"numCompactionTasksPlanned\",\"type\":\"integer\",\"nullable\":false,\"metadata\":{}},{\"name\":\"numCompactionTasksPlannedUndoneDueToPO\",\"type\":\"integer\",\"nullable\":false,\"metadata\":{}},{\"name\":\"numOptimizeBatchesPlanned\",\"type\":\"integer\",\"nullable\":false,\"metadata\":{}},{\"name\":\"numLeafNodesExpanded\",\"type\":\"long\",\"nullable\":false,\"metadata\":{}},{\"name\":\"numLeafNodesClustered\",\"type\":\"long\",\"nullable\":false,\"metadata\":{}},{\"name\":\"numGetFilesForNodeCalls\",\"type\":\"long\",\"nullable\":false,\"metadata\":{}},{\"name\":\"numSamplingJobs\",\"type\":\"long\",\"nullable\":false,\"metadata\":{}},{\"name\":\"numLeafNodesCompacted\",\"type\":\"long\",\"nullable\":false,\"metadata\":{}},{\"name\":\"numLeafNodesCompactedUndoneDueToPO\",\"type\":\"long\",\"nullable\":false,\"metadata\":{}},{\"name\":\"numIntermediateNodesCompacted\",\"type\":\"long\",\"nullable\":false,\"metadata\":{}},{\"name\":\"numIntermediateNodesCompactedUndoneDueToPO\",\"type\":\"long\",\"nullable\":false,\"metadata\":{}},{\"name\":\"totalSizeOfDataToCompactInBytes\",\"type\":\"long\",\"nullable\":false,\"metadata\":{}},{\"name\":\"totalSizeOfDataToCompactInBytesUndoneDueToPO\",\"type\":\"long\",\"nullable\":false,\"metadata\":{}},{\"name\":\"totalLogicalSizeOfDataToCompactInBytes\",\"type\":\"long\",\"nullable\":false,\"metadata\":{}},{\"name\":\"totalLogicalSizeOfDataToCompactInBytesUndoneDueToPO\",\"type\":\"long\",\"nullable\":false,\"metadata\":{}},{\"name\":\"numIntermediateNodesClustered\",\"type\":\"long\",\"nullable\":false,\"metadata\":{}},{\"name\":\"numFilesSkippedAfterExpansion\",\"type\":\"long\",\"nullable\":false,\"metadata\":{}},{\"name\":\"totalSizeOfFilesSkippedAfterExpansionInBytes\",\"type\":\"long\",\"nullable\":false,\"metadata\":{}},{\"name\":\"totalLogicalSizeOfFilesSkippedAfterExpansionInBytes\",\"type\":\"long\",\"nullable\":false,\"metadata\":{}},{\"name\":\"totalSizeOfDataToRewriteInBytes\",\"type\":\"long\",\"nullable\":false,\"metadata\":{}},{\"name\":\"totalLogicalSizeOfDataToRewriteInBytes\",\"type\":\"long\",\"nullable\":false,\"metadata\":{}},{\"name\":\"timeMetrics\",\"type\":{\"type\":\"struct\",\"fields\":[{\"name\":\"classifierTimeMs\",\"type\":\"long\",\"nullable\":false,\"metadata\":{}},{\"name\":\"optimizerTimeMs\",\"type\":\"long\",\"nullable\":false,\"metadata\":{}},{\"name\":\"metadataLoadTimeMs\",\"type\":\"long\",\"nullable\":false,\"metadata\":{}},{\"name\":\"totalGetFilesForNodeCallsTimeMs\",\"type\":\"long\",\"nullable\":false,\"metadata\":{}},{\"name\":\"totalSamplingTimeMs\",\"type\":\"long\",\"nullable\":false,\"metadata\":{}},{\"name\":\"metadataCreationTimeMs\",\"type\":\"long\",\"nullable\":false,\"metadata\":{}}]},\"nullable\":true,\"metadata\":{}},{\"name\":\"maxOptimizeBatchesInParallel\",\"type\":\"long\",\"nullable\":false,\"metadata\":{}},{\"name\":\"currentIteration\",\"type\":\"integer\",\"nullable\":false,\"metadata\":{}},{\"name\":\"maxIterations\",\"type\":\"integer\",\"nullable\":false,\"metadata\":{}},{\"name\":\"clusteringStrategy\",\"type\":\"string\",\"nullable\":true,\"metadata\":{}}]},\"nullable\":true,\"metadata\":{}}]}"
        }
       ],
       "type": "table"
      }
     },
     "output_type": "display_data"
    }
   ],
   "source": [
    "%sql\n",
    "-- Compact small files\n",
    "OPTIMIZE delta_training.emp_file;"
   ]
  }
 ],
 "metadata": {
  "application/vnd.databricks.v1+notebook": {
   "computePreferences": null,
   "dashboards": [],
   "environmentMetadata": {
    "base_environment": "",
    "environment_version": "2"
   },
   "inputWidgetPreferences": null,
   "language": "python",
   "notebookMetadata": {
    "mostRecentlyExecutedCommandWithImplicitDF": {
     "commandId": 8473356604413651,
     "dataframes": [
      "_sqldf"
     ]
    },
    "pythonIndentUnit": 4
   },
   "notebookName": "Delta Table",
   "widgets": {}
  },
  "language_info": {
   "name": "python"
  }
 },
 "nbformat": 4,
 "nbformat_minor": 0
}