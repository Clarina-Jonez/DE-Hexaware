{
 "cells": [
  {
   "cell_type": "code",
   "execution_count": 0,
   "metadata": {
    "application/vnd.databricks.v1+cell": {
     "cellMetadata": {
      "byteLimit": 2048000,
      "rowLimit": 10000
     },
     "inputWidgets": {},
     "nuid": "75398579-f9f6-4f2d-a011-dfaee842b0db",
     "showTitle": false,
     "tableResultSettingsMap": {},
     "title": ""
    }
   },
   "outputs": [],
   "source": [
    "# Create Spark session (already available in Databricks as `spark`)\n",
    "df = spark.read.csv(\"/FileStore/tables/LoanData__1_-1.csv\", header=True, inferSchema=True)"
   ]
  },
  {
   "cell_type": "code",
   "execution_count": 0,
   "metadata": {
    "application/vnd.databricks.v1+cell": {
     "cellMetadata": {
      "byteLimit": 2048000,
      "rowLimit": 10000
     },
     "inputWidgets": {},
     "nuid": "f85873f4-393a-457c-81e7-b8966a4678f7",
     "showTitle": false,
     "tableResultSettingsMap": {},
     "title": ""
    }
   },
   "outputs": [
    {
     "output_type": "display_data",
     "data": {
      "text/html": [
       "<style scoped>\n",
       "  .table-result-container {\n",
       "    max-height: 300px;\n",
       "    overflow: auto;\n",
       "  }\n",
       "  table, th, td {\n",
       "    border: 1px solid black;\n",
       "    border-collapse: collapse;\n",
       "  }\n",
       "  th, td {\n",
       "    padding: 5px;\n",
       "  }\n",
       "  th {\n",
       "    text-align: left;\n",
       "  }\n",
       "</style><div class='table-result-container'><table class='table-result'><thead style='background-color: white'><tr><th>Loan_ID</th><th>Gender</th><th>Married</th><th>Dependents</th><th>Education</th><th>Self_Employed</th><th>ApplicantIncome</th><th>CoapplicantIncome</th><th>LoanAmount</th><th>Loan_Amount_Term</th><th>Credit_History</th><th>Property_Area</th><th>Loan_Status</th></tr></thead><tbody><tr><td>LP001002</td><td>Male</td><td>No</td><td>0</td><td>Graduate</td><td>No</td><td>5849</td><td>0.0</td><td>null</td><td>360</td><td>1</td><td>Urban</td><td>Y</td></tr><tr><td>LP001003</td><td>Male</td><td>Yes</td><td>1</td><td>Graduate</td><td>No</td><td>4583</td><td>1508.0</td><td>128</td><td>360</td><td>1</td><td>Rural</td><td>N</td></tr><tr><td>LP001005</td><td>Male</td><td>Yes</td><td>0</td><td>Graduate</td><td>Yes</td><td>3000</td><td>0.0</td><td>66</td><td>360</td><td>1</td><td>Urban</td><td>Y</td></tr><tr><td>LP001006</td><td>Male</td><td>Yes</td><td>0</td><td>Not Graduate</td><td>No</td><td>2583</td><td>2358.0</td><td>120</td><td>360</td><td>1</td><td>Urban</td><td>Y</td></tr><tr><td>LP001008</td><td>Male</td><td>No</td><td>0</td><td>Graduate</td><td>No</td><td>6000</td><td>0.0</td><td>141</td><td>360</td><td>1</td><td>Urban</td><td>Y</td></tr><tr><td>LP001011</td><td>Male</td><td>Yes</td><td>2</td><td>Graduate</td><td>Yes</td><td>5417</td><td>4196.0</td><td>267</td><td>360</td><td>1</td><td>Urban</td><td>Y</td></tr><tr><td>LP001013</td><td>Male</td><td>Yes</td><td>0</td><td>Not Graduate</td><td>No</td><td>2333</td><td>1516.0</td><td>95</td><td>360</td><td>1</td><td>Urban</td><td>Y</td></tr><tr><td>LP001014</td><td>Male</td><td>Yes</td><td>3+</td><td>Graduate</td><td>No</td><td>3036</td><td>2504.0</td><td>158</td><td>360</td><td>0</td><td>Semiurban</td><td>N</td></tr><tr><td>LP001018</td><td>Male</td><td>Yes</td><td>2</td><td>Graduate</td><td>No</td><td>4006</td><td>1526.0</td><td>168</td><td>360</td><td>1</td><td>Urban</td><td>Y</td></tr><tr><td>LP001020</td><td>Male</td><td>Yes</td><td>1</td><td>Graduate</td><td>No</td><td>12841</td><td>10968.0</td><td>349</td><td>360</td><td>1</td><td>Semiurban</td><td>N</td></tr><tr><td>LP001024</td><td>Male</td><td>Yes</td><td>2</td><td>Graduate</td><td>No</td><td>3200</td><td>700.0</td><td>70</td><td>360</td><td>1</td><td>Urban</td><td>Y</td></tr><tr><td>LP001027</td><td>Male</td><td>Yes</td><td>2</td><td>Graduate</td><td>null</td><td>2500</td><td>1840.0</td><td>109</td><td>360</td><td>1</td><td>Urban</td><td>Y</td></tr><tr><td>LP001028</td><td>Male</td><td>Yes</td><td>2</td><td>Graduate</td><td>No</td><td>3073</td><td>8106.0</td><td>200</td><td>360</td><td>1</td><td>Urban</td><td>Y</td></tr><tr><td>LP001029</td><td>Male</td><td>No</td><td>0</td><td>Graduate</td><td>No</td><td>1853</td><td>2840.0</td><td>114</td><td>360</td><td>1</td><td>Rural</td><td>N</td></tr><tr><td>LP001030</td><td>Male</td><td>Yes</td><td>2</td><td>Graduate</td><td>No</td><td>1299</td><td>1086.0</td><td>17</td><td>120</td><td>1</td><td>Urban</td><td>Y</td></tr><tr><td>LP001032</td><td>Male</td><td>No</td><td>0</td><td>Graduate</td><td>No</td><td>4950</td><td>0.0</td><td>125</td><td>360</td><td>1</td><td>Urban</td><td>Y</td></tr><tr><td>LP001034</td><td>Male</td><td>No</td><td>1</td><td>Not Graduate</td><td>No</td><td>3596</td><td>0.0</td><td>100</td><td>240</td><td>null</td><td>Urban</td><td>Y</td></tr><tr><td>LP001036</td><td>Female</td><td>No</td><td>0</td><td>Graduate</td><td>No</td><td>3510</td><td>0.0</td><td>76</td><td>360</td><td>0</td><td>Urban</td><td>N</td></tr><tr><td>LP001038</td><td>Male</td><td>Yes</td><td>0</td><td>Not Graduate</td><td>No</td><td>4887</td><td>0.0</td><td>133</td><td>360</td><td>1</td><td>Rural</td><td>N</td></tr><tr><td>LP001041</td><td>Male</td><td>Yes</td><td>0</td><td>Graduate</td><td>null</td><td>2600</td><td>3500.0</td><td>115</td><td>null</td><td>1</td><td>Urban</td><td>Y</td></tr><tr><td>LP001043</td><td>Male</td><td>Yes</td><td>0</td><td>Not Graduate</td><td>No</td><td>7660</td><td>0.0</td><td>104</td><td>360</td><td>0</td><td>Urban</td><td>N</td></tr><tr><td>LP001046</td><td>Male</td><td>Yes</td><td>1</td><td>Graduate</td><td>No</td><td>5955</td><td>5625.0</td><td>315</td><td>360</td><td>1</td><td>Urban</td><td>Y</td></tr><tr><td>LP001047</td><td>Male</td><td>Yes</td><td>0</td><td>Not Graduate</td><td>No</td><td>2600</td><td>1911.0</td><td>116</td><td>360</td><td>0</td><td>Semiurban</td><td>N</td></tr><tr><td>LP001050</td><td>null</td><td>Yes</td><td>2</td><td>Not Graduate</td><td>No</td><td>3365</td><td>1917.0</td><td>112</td><td>360</td><td>0</td><td>Rural</td><td>N</td></tr><tr><td>LP001052</td><td>Male</td><td>Yes</td><td>1</td><td>Graduate</td><td>null</td><td>3717</td><td>2925.0</td><td>151</td><td>360</td><td>null</td><td>Semiurban</td><td>N</td></tr><tr><td>LP001066</td><td>Male</td><td>Yes</td><td>0</td><td>Graduate</td><td>Yes</td><td>9560</td><td>0.0</td><td>191</td><td>360</td><td>1</td><td>Semiurban</td><td>Y</td></tr><tr><td>LP001068</td><td>Male</td><td>Yes</td><td>0</td><td>Graduate</td><td>No</td><td>2799</td><td>2253.0</td><td>122</td><td>360</td><td>1</td><td>Semiurban</td><td>Y</td></tr><tr><td>LP001073</td><td>Male</td><td>Yes</td><td>2</td><td>Not Graduate</td><td>No</td><td>4226</td><td>1040.0</td><td>110</td><td>360</td><td>1</td><td>Urban</td><td>Y</td></tr><tr><td>LP001086</td><td>Male</td><td>No</td><td>0</td><td>Not Graduate</td><td>No</td><td>1442</td><td>0.0</td><td>35</td><td>360</td><td>1</td><td>Urban</td><td>N</td></tr><tr><td>LP001087</td><td>Female</td><td>No</td><td>2</td><td>Graduate</td><td>null</td><td>3750</td><td>2083.0</td><td>120</td><td>360</td><td>1</td><td>Semiurban</td><td>Y</td></tr><tr><td>LP001091</td><td>Male</td><td>Yes</td><td>1</td><td>Graduate</td><td>null</td><td>4166</td><td>3369.0</td><td>201</td><td>360</td><td>null</td><td>Urban</td><td>N</td></tr><tr><td>LP001095</td><td>Male</td><td>No</td><td>0</td><td>Graduate</td><td>No</td><td>3167</td><td>0.0</td><td>74</td><td>360</td><td>1</td><td>Urban</td><td>N</td></tr><tr><td>LP001097</td><td>Male</td><td>No</td><td>1</td><td>Graduate</td><td>Yes</td><td>4692</td><td>0.0</td><td>106</td><td>360</td><td>1</td><td>Rural</td><td>N</td></tr><tr><td>LP001098</td><td>Male</td><td>Yes</td><td>0</td><td>Graduate</td><td>No</td><td>3500</td><td>1667.0</td><td>114</td><td>360</td><td>1</td><td>Semiurban</td><td>Y</td></tr><tr><td>LP001100</td><td>Male</td><td>No</td><td>3+</td><td>Graduate</td><td>No</td><td>12500</td><td>3000.0</td><td>320</td><td>360</td><td>1</td><td>Rural</td><td>N</td></tr><tr><td>LP001106</td><td>Male</td><td>Yes</td><td>0</td><td>Graduate</td><td>No</td><td>2275</td><td>2067.0</td><td>null</td><td>360</td><td>1</td><td>Urban</td><td>Y</td></tr><tr><td>LP001109</td><td>Male</td><td>Yes</td><td>0</td><td>Graduate</td><td>No</td><td>1828</td><td>1330.0</td><td>100</td><td>null</td><td>0</td><td>Urban</td><td>N</td></tr><tr><td>LP001112</td><td>Female</td><td>Yes</td><td>0</td><td>Graduate</td><td>No</td><td>3667</td><td>1459.0</td><td>144</td><td>360</td><td>1</td><td>Semiurban</td><td>Y</td></tr><tr><td>LP001114</td><td>Male</td><td>No</td><td>0</td><td>Graduate</td><td>No</td><td>4166</td><td>7210.0</td><td>184</td><td>360</td><td>1</td><td>Urban</td><td>Y</td></tr><tr><td>LP001116</td><td>Male</td><td>No</td><td>0</td><td>Not Graduate</td><td>No</td><td>3748</td><td>1668.0</td><td>110</td><td>360</td><td>1</td><td>Semiurban</td><td>Y</td></tr><tr><td>LP001119</td><td>Male</td><td>No</td><td>0</td><td>Graduate</td><td>No</td><td>3600</td><td>0.0</td><td>80</td><td>360</td><td>1</td><td>Urban</td><td>N</td></tr><tr><td>LP001120</td><td>Male</td><td>No</td><td>0</td><td>Graduate</td><td>No</td><td>1800</td><td>1213.0</td><td>47</td><td>360</td><td>1</td><td>Urban</td><td>Y</td></tr><tr><td>LP001123</td><td>Male</td><td>Yes</td><td>0</td><td>Graduate</td><td>No</td><td>2400</td><td>0.0</td><td>75</td><td>360</td><td>null</td><td>Urban</td><td>Y</td></tr><tr><td>LP001131</td><td>Male</td><td>Yes</td><td>0</td><td>Graduate</td><td>No</td><td>3941</td><td>2336.0</td><td>134</td><td>360</td><td>1</td><td>Semiurban</td><td>Y</td></tr><tr><td>LP001136</td><td>Male</td><td>Yes</td><td>0</td><td>Not Graduate</td><td>Yes</td><td>4695</td><td>0.0</td><td>96</td><td>null</td><td>1</td><td>Urban</td><td>Y</td></tr><tr><td>LP001137</td><td>Female</td><td>No</td><td>0</td><td>Graduate</td><td>No</td><td>3410</td><td>0.0</td><td>88</td><td>null</td><td>1</td><td>Urban</td><td>Y</td></tr><tr><td>LP001138</td><td>Male</td><td>Yes</td><td>1</td><td>Graduate</td><td>No</td><td>5649</td><td>0.0</td><td>44</td><td>360</td><td>1</td><td>Urban</td><td>Y</td></tr><tr><td>LP001144</td><td>Male</td><td>Yes</td><td>0</td><td>Graduate</td><td>No</td><td>5821</td><td>0.0</td><td>144</td><td>360</td><td>1</td><td>Urban</td><td>Y</td></tr><tr><td>LP001146</td><td>Female</td><td>Yes</td><td>0</td><td>Graduate</td><td>No</td><td>2645</td><td>3440.0</td><td>120</td><td>360</td><td>0</td><td>Urban</td><td>N</td></tr><tr><td>LP001151</td><td>Female</td><td>No</td><td>0</td><td>Graduate</td><td>No</td><td>4000</td><td>2275.0</td><td>144</td><td>360</td><td>1</td><td>Semiurban</td><td>Y</td></tr><tr><td>LP001155</td><td>Female</td><td>Yes</td><td>0</td><td>Not Graduate</td><td>No</td><td>1928</td><td>1644.0</td><td>100</td><td>360</td><td>1</td><td>Semiurban</td><td>Y</td></tr><tr><td>LP001157</td><td>Female</td><td>No</td><td>0</td><td>Graduate</td><td>No</td><td>3086</td><td>0.0</td><td>120</td><td>360</td><td>1</td><td>Semiurban</td><td>Y</td></tr><tr><td>LP001164</td><td>Female</td><td>No</td><td>0</td><td>Graduate</td><td>No</td><td>4230</td><td>0.0</td><td>112</td><td>360</td><td>1</td><td>Semiurban</td><td>N</td></tr><tr><td>LP001179</td><td>Male</td><td>Yes</td><td>2</td><td>Graduate</td><td>No</td><td>4616</td><td>0.0</td><td>134</td><td>360</td><td>1</td><td>Urban</td><td>N</td></tr><tr><td>LP001186</td><td>Female</td><td>Yes</td><td>1</td><td>Graduate</td><td>Yes</td><td>11500</td><td>0.0</td><td>286</td><td>360</td><td>0</td><td>Urban</td><td>N</td></tr><tr><td>LP001194</td><td>Male</td><td>Yes</td><td>2</td><td>Graduate</td><td>No</td><td>2708</td><td>1167.0</td><td>97</td><td>360</td><td>1</td><td>Semiurban</td><td>Y</td></tr><tr><td>LP001195</td><td>Male</td><td>Yes</td><td>0</td><td>Graduate</td><td>No</td><td>2132</td><td>1591.0</td><td>96</td><td>360</td><td>1</td><td>Semiurban</td><td>Y</td></tr><tr><td>LP001197</td><td>Male</td><td>Yes</td><td>0</td><td>Graduate</td><td>No</td><td>3366</td><td>2200.0</td><td>135</td><td>360</td><td>1</td><td>Rural</td><td>N</td></tr><tr><td>LP001198</td><td>Male</td><td>Yes</td><td>1</td><td>Graduate</td><td>No</td><td>8080</td><td>2250.0</td><td>180</td><td>360</td><td>1</td><td>Urban</td><td>Y</td></tr><tr><td>LP001199</td><td>Male</td><td>Yes</td><td>2</td><td>Not Graduate</td><td>No</td><td>3357</td><td>2859.0</td><td>144</td><td>360</td><td>1</td><td>Urban</td><td>Y</td></tr><tr><td>LP001205</td><td>Male</td><td>Yes</td><td>0</td><td>Graduate</td><td>No</td><td>2500</td><td>3796.0</td><td>120</td><td>360</td><td>1</td><td>Urban</td><td>Y</td></tr><tr><td>LP001206</td><td>Male</td><td>Yes</td><td>3+</td><td>Graduate</td><td>No</td><td>3029</td><td>0.0</td><td>99</td><td>360</td><td>1</td><td>Urban</td><td>Y</td></tr><tr><td>LP001207</td><td>Male</td><td>Yes</td><td>0</td><td>Not Graduate</td><td>Yes</td><td>2609</td><td>3449.0</td><td>165</td><td>180</td><td>0</td><td>Rural</td><td>N</td></tr><tr><td>LP001213</td><td>Male</td><td>Yes</td><td>1</td><td>Graduate</td><td>No</td><td>4945</td><td>0.0</td><td>null</td><td>360</td><td>0</td><td>Rural</td><td>N</td></tr><tr><td>LP001222</td><td>Female</td><td>No</td><td>0</td><td>Graduate</td><td>No</td><td>4166</td><td>0.0</td><td>116</td><td>360</td><td>0</td><td>Semiurban</td><td>N</td></tr><tr><td>LP001225</td><td>Male</td><td>Yes</td><td>0</td><td>Graduate</td><td>No</td><td>5726</td><td>4595.0</td><td>258</td><td>360</td><td>1</td><td>Semiurban</td><td>N</td></tr><tr><td>LP001228</td><td>Male</td><td>No</td><td>0</td><td>Not Graduate</td><td>No</td><td>3200</td><td>2254.0</td><td>126</td><td>180</td><td>0</td><td>Urban</td><td>N</td></tr><tr><td>LP001233</td><td>Male</td><td>Yes</td><td>1</td><td>Graduate</td><td>No</td><td>10750</td><td>0.0</td><td>312</td><td>360</td><td>1</td><td>Urban</td><td>Y</td></tr><tr><td>LP001238</td><td>Male</td><td>Yes</td><td>3+</td><td>Not Graduate</td><td>Yes</td><td>7100</td><td>0.0</td><td>125</td><td>60</td><td>1</td><td>Urban</td><td>Y</td></tr><tr><td>LP001241</td><td>Female</td><td>No</td><td>0</td><td>Graduate</td><td>No</td><td>4300</td><td>0.0</td><td>136</td><td>360</td><td>0</td><td>Semiurban</td><td>N</td></tr><tr><td>LP001243</td><td>Male</td><td>Yes</td><td>0</td><td>Graduate</td><td>No</td><td>3208</td><td>3066.0</td><td>172</td><td>360</td><td>1</td><td>Urban</td><td>Y</td></tr><tr><td>LP001245</td><td>Male</td><td>Yes</td><td>2</td><td>Not Graduate</td><td>Yes</td><td>1875</td><td>1875.0</td><td>97</td><td>360</td><td>1</td><td>Semiurban</td><td>Y</td></tr><tr><td>LP001248</td><td>Male</td><td>No</td><td>0</td><td>Graduate</td><td>No</td><td>3500</td><td>0.0</td><td>81</td><td>300</td><td>1</td><td>Semiurban</td><td>Y</td></tr><tr><td>LP001250</td><td>Male</td><td>Yes</td><td>3+</td><td>Not Graduate</td><td>No</td><td>4755</td><td>0.0</td><td>95</td><td>null</td><td>0</td><td>Semiurban</td><td>N</td></tr><tr><td>LP001253</td><td>Male</td><td>Yes</td><td>3+</td><td>Graduate</td><td>Yes</td><td>5266</td><td>1774.0</td><td>187</td><td>360</td><td>1</td><td>Semiurban</td><td>Y</td></tr><tr><td>LP001255</td><td>Male</td><td>No</td><td>0</td><td>Graduate</td><td>No</td><td>3750</td><td>0.0</td><td>113</td><td>480</td><td>1</td><td>Urban</td><td>N</td></tr><tr><td>LP001256</td><td>Male</td><td>No</td><td>0</td><td>Graduate</td><td>No</td><td>3750</td><td>4750.0</td><td>176</td><td>360</td><td>1</td><td>Urban</td><td>N</td></tr><tr><td>LP001259</td><td>Male</td><td>Yes</td><td>1</td><td>Graduate</td><td>Yes</td><td>1000</td><td>3022.0</td><td>110</td><td>360</td><td>1</td><td>Urban</td><td>N</td></tr><tr><td>LP001263</td><td>Male</td><td>Yes</td><td>3+</td><td>Graduate</td><td>No</td><td>3167</td><td>4000.0</td><td>180</td><td>300</td><td>0</td><td>Semiurban</td><td>N</td></tr><tr><td>LP001264</td><td>Male</td><td>Yes</td><td>3+</td><td>Not Graduate</td><td>Yes</td><td>3333</td><td>2166.0</td><td>130</td><td>360</td><td>null</td><td>Semiurban</td><td>Y</td></tr><tr><td>LP001265</td><td>Female</td><td>No</td><td>0</td><td>Graduate</td><td>No</td><td>3846</td><td>0.0</td><td>111</td><td>360</td><td>1</td><td>Semiurban</td><td>Y</td></tr><tr><td>LP001266</td><td>Male</td><td>Yes</td><td>1</td><td>Graduate</td><td>Yes</td><td>2395</td><td>0.0</td><td>null</td><td>360</td><td>1</td><td>Semiurban</td><td>Y</td></tr><tr><td>LP001267</td><td>Female</td><td>Yes</td><td>2</td><td>Graduate</td><td>No</td><td>1378</td><td>1881.0</td><td>167</td><td>360</td><td>1</td><td>Urban</td><td>N</td></tr><tr><td>LP001273</td><td>Male</td><td>Yes</td><td>0</td><td>Graduate</td><td>No</td><td>6000</td><td>2250.0</td><td>265</td><td>360</td><td>null</td><td>Semiurban</td><td>N</td></tr><tr><td>LP001275</td><td>Male</td><td>Yes</td><td>1</td><td>Graduate</td><td>No</td><td>3988</td><td>0.0</td><td>50</td><td>240</td><td>1</td><td>Urban</td><td>Y</td></tr><tr><td>LP001279</td><td>Male</td><td>No</td><td>0</td><td>Graduate</td><td>No</td><td>2366</td><td>2531.0</td><td>136</td><td>360</td><td>1</td><td>Semiurban</td><td>Y</td></tr><tr><td>LP001280</td><td>Male</td><td>Yes</td><td>2</td><td>Not Graduate</td><td>No</td><td>3333</td><td>2000.0</td><td>99</td><td>360</td><td>null</td><td>Semiurban</td><td>Y</td></tr><tr><td>LP001282</td><td>Male</td><td>Yes</td><td>0</td><td>Graduate</td><td>No</td><td>2500</td><td>2118.0</td><td>104</td><td>360</td><td>1</td><td>Semiurban</td><td>Y</td></tr><tr><td>LP001289</td><td>Male</td><td>No</td><td>0</td><td>Graduate</td><td>No</td><td>8566</td><td>0.0</td><td>210</td><td>360</td><td>1</td><td>Urban</td><td>Y</td></tr><tr><td>LP001310</td><td>Male</td><td>Yes</td><td>0</td><td>Graduate</td><td>No</td><td>5695</td><td>4167.0</td><td>175</td><td>360</td><td>1</td><td>Semiurban</td><td>Y</td></tr><tr><td>LP001316</td><td>Male</td><td>Yes</td><td>0</td><td>Graduate</td><td>No</td><td>2958</td><td>2900.0</td><td>131</td><td>360</td><td>1</td><td>Semiurban</td><td>Y</td></tr><tr><td>LP001318</td><td>Male</td><td>Yes</td><td>2</td><td>Graduate</td><td>No</td><td>6250</td><td>5654.0</td><td>188</td><td>180</td><td>1</td><td>Semiurban</td><td>Y</td></tr><tr><td>LP001319</td><td>Male</td><td>Yes</td><td>2</td><td>Not Graduate</td><td>No</td><td>3273</td><td>1820.0</td><td>81</td><td>360</td><td>1</td><td>Urban</td><td>Y</td></tr><tr><td>LP001322</td><td>Male</td><td>No</td><td>0</td><td>Graduate</td><td>No</td><td>4133</td><td>0.0</td><td>122</td><td>360</td><td>1</td><td>Semiurban</td><td>Y</td></tr><tr><td>LP001325</td><td>Male</td><td>No</td><td>0</td><td>Not Graduate</td><td>No</td><td>3620</td><td>0.0</td><td>25</td><td>120</td><td>1</td><td>Semiurban</td><td>Y</td></tr><tr><td>LP001326</td><td>Male</td><td>No</td><td>0</td><td>Graduate</td><td>null</td><td>6782</td><td>0.0</td><td>null</td><td>360</td><td>null</td><td>Urban</td><td>N</td></tr><tr><td>LP001327</td><td>Female</td><td>Yes</td><td>0</td><td>Graduate</td><td>No</td><td>2484</td><td>2302.0</td><td>137</td><td>360</td><td>1</td><td>Semiurban</td><td>Y</td></tr><tr><td>LP001333</td><td>Male</td><td>Yes</td><td>0</td><td>Graduate</td><td>No</td><td>1977</td><td>997.0</td><td>50</td><td>360</td><td>1</td><td>Semiurban</td><td>Y</td></tr><tr><td>LP001334</td><td>Male</td><td>Yes</td><td>0</td><td>Not Graduate</td><td>No</td><td>4188</td><td>0.0</td><td>115</td><td>180</td><td>1</td><td>Semiurban</td><td>Y</td></tr><tr><td>LP001343</td><td>Male</td><td>Yes</td><td>0</td><td>Graduate</td><td>No</td><td>1759</td><td>3541.0</td><td>131</td><td>360</td><td>1</td><td>Semiurban</td><td>Y</td></tr><tr><td>LP001345</td><td>Male</td><td>Yes</td><td>2</td><td>Not Graduate</td><td>No</td><td>4288</td><td>3263.0</td><td>133</td><td>180</td><td>1</td><td>Urban</td><td>Y</td></tr><tr><td>LP001349</td><td>Male</td><td>No</td><td>0</td><td>Graduate</td><td>No</td><td>4843</td><td>3806.0</td><td>151</td><td>360</td><td>1</td><td>Semiurban</td><td>Y</td></tr><tr><td>LP001350</td><td>Male</td><td>Yes</td><td>null</td><td>Graduate</td><td>No</td><td>13650</td><td>0.0</td><td>null</td><td>360</td><td>1</td><td>Urban</td><td>Y</td></tr><tr><td>LP001356</td><td>Male</td><td>Yes</td><td>0</td><td>Graduate</td><td>No</td><td>4652</td><td>3583.0</td><td>null</td><td>360</td><td>1</td><td>Semiurban</td><td>Y</td></tr><tr><td>LP001357</td><td>Male</td><td>null</td><td>null</td><td>Graduate</td><td>No</td><td>3816</td><td>754.0</td><td>160</td><td>360</td><td>1</td><td>Urban</td><td>Y</td></tr><tr><td>LP001367</td><td>Male</td><td>Yes</td><td>1</td><td>Graduate</td><td>No</td><td>3052</td><td>1030.0</td><td>100</td><td>360</td><td>1</td><td>Urban</td><td>Y</td></tr><tr><td>LP001369</td><td>Male</td><td>Yes</td><td>2</td><td>Graduate</td><td>No</td><td>11417</td><td>1126.0</td><td>225</td><td>360</td><td>1</td><td>Urban</td><td>Y</td></tr><tr><td>LP001370</td><td>Male</td><td>No</td><td>0</td><td>Not Graduate</td><td>null</td><td>7333</td><td>0.0</td><td>120</td><td>360</td><td>1</td><td>Rural</td><td>N</td></tr><tr><td>LP001379</td><td>Male</td><td>Yes</td><td>2</td><td>Graduate</td><td>No</td><td>3800</td><td>3600.0</td><td>216</td><td>360</td><td>0</td><td>Urban</td><td>N</td></tr><tr><td>LP001384</td><td>Male</td><td>Yes</td><td>3+</td><td>Not Graduate</td><td>No</td><td>2071</td><td>754.0</td><td>94</td><td>480</td><td>1</td><td>Semiurban</td><td>Y</td></tr><tr><td>LP001385</td><td>Male</td><td>No</td><td>0</td><td>Graduate</td><td>No</td><td>5316</td><td>0.0</td><td>136</td><td>360</td><td>1</td><td>Urban</td><td>Y</td></tr><tr><td>LP001387</td><td>Female</td><td>Yes</td><td>0</td><td>Graduate</td><td>null</td><td>2929</td><td>2333.0</td><td>139</td><td>360</td><td>1</td><td>Semiurban</td><td>Y</td></tr><tr><td>LP001391</td><td>Male</td><td>Yes</td><td>0</td><td>Not Graduate</td><td>No</td><td>3572</td><td>4114.0</td><td>152</td><td>null</td><td>0</td><td>Rural</td><td>N</td></tr><tr><td>LP001392</td><td>Female</td><td>No</td><td>1</td><td>Graduate</td><td>Yes</td><td>7451</td><td>0.0</td><td>null</td><td>360</td><td>1</td><td>Semiurban</td><td>Y</td></tr><tr><td>LP001398</td><td>Male</td><td>No</td><td>0</td><td>Graduate</td><td>null</td><td>5050</td><td>0.0</td><td>118</td><td>360</td><td>1</td><td>Semiurban</td><td>Y</td></tr><tr><td>LP001401</td><td>Male</td><td>Yes</td><td>1</td><td>Graduate</td><td>No</td><td>14583</td><td>0.0</td><td>185</td><td>180</td><td>1</td><td>Rural</td><td>Y</td></tr><tr><td>LP001404</td><td>Female</td><td>Yes</td><td>0</td><td>Graduate</td><td>No</td><td>3167</td><td>2283.0</td><td>154</td><td>360</td><td>1</td><td>Semiurban</td><td>Y</td></tr><tr><td>LP001405</td><td>Male</td><td>Yes</td><td>1</td><td>Graduate</td><td>No</td><td>2214</td><td>1398.0</td><td>85</td><td>360</td><td>null</td><td>Urban</td><td>Y</td></tr><tr><td>LP001421</td><td>Male</td><td>Yes</td><td>0</td><td>Graduate</td><td>No</td><td>5568</td><td>2142.0</td><td>175</td><td>360</td><td>1</td><td>Rural</td><td>N</td></tr><tr><td>LP001422</td><td>Female</td><td>No</td><td>0</td><td>Graduate</td><td>No</td><td>10408</td><td>0.0</td><td>259</td><td>360</td><td>1</td><td>Urban</td><td>Y</td></tr><tr><td>LP001426</td><td>Male</td><td>Yes</td><td>null</td><td>Graduate</td><td>No</td><td>5667</td><td>2667.0</td><td>180</td><td>360</td><td>1</td><td>Rural</td><td>Y</td></tr><tr><td>LP001430</td><td>Female</td><td>No</td><td>0</td><td>Graduate</td><td>No</td><td>4166</td><td>0.0</td><td>44</td><td>360</td><td>1</td><td>Semiurban</td><td>Y</td></tr><tr><td>LP001431</td><td>Female</td><td>No</td><td>0</td><td>Graduate</td><td>No</td><td>2137</td><td>8980.0</td><td>137</td><td>360</td><td>0</td><td>Semiurban</td><td>Y</td></tr><tr><td>LP001432</td><td>Male</td><td>Yes</td><td>2</td><td>Graduate</td><td>No</td><td>2957</td><td>0.0</td><td>81</td><td>360</td><td>1</td><td>Semiurban</td><td>Y</td></tr><tr><td>LP001439</td><td>Male</td><td>Yes</td><td>0</td><td>Not Graduate</td><td>No</td><td>4300</td><td>2014.0</td><td>194</td><td>360</td><td>1</td><td>Rural</td><td>Y</td></tr><tr><td>LP001443</td><td>Female</td><td>No</td><td>0</td><td>Graduate</td><td>No</td><td>3692</td><td>0.0</td><td>93</td><td>360</td><td>null</td><td>Rural</td><td>Y</td></tr><tr><td>LP001448</td><td>null</td><td>Yes</td><td>3+</td><td>Graduate</td><td>No</td><td>23803</td><td>0.0</td><td>370</td><td>360</td><td>1</td><td>Rural</td><td>Y</td></tr><tr><td>LP001449</td><td>Male</td><td>No</td><td>0</td><td>Graduate</td><td>No</td><td>3865</td><td>1640.0</td><td>null</td><td>360</td><td>1</td><td>Rural</td><td>Y</td></tr><tr><td>LP001451</td><td>Male</td><td>Yes</td><td>1</td><td>Graduate</td><td>Yes</td><td>10513</td><td>3850.0</td><td>160</td><td>180</td><td>0</td><td>Urban</td><td>N</td></tr><tr><td>LP001465</td><td>Male</td><td>Yes</td><td>0</td><td>Graduate</td><td>No</td><td>6080</td><td>2569.0</td><td>182</td><td>360</td><td>null</td><td>Rural</td><td>N</td></tr><tr><td>LP001469</td><td>Male</td><td>No</td><td>0</td><td>Graduate</td><td>Yes</td><td>20166</td><td>0.0</td><td>650</td><td>480</td><td>null</td><td>Urban</td><td>Y</td></tr><tr><td>LP001473</td><td>Male</td><td>No</td><td>0</td><td>Graduate</td><td>No</td><td>2014</td><td>1929.0</td><td>74</td><td>360</td><td>1</td><td>Urban</td><td>Y</td></tr><tr><td>LP001478</td><td>Male</td><td>No</td><td>0</td><td>Graduate</td><td>No</td><td>2718</td><td>0.0</td><td>70</td><td>360</td><td>1</td><td>Semiurban</td><td>Y</td></tr><tr><td>LP001482</td><td>Male</td><td>Yes</td><td>0</td><td>Graduate</td><td>Yes</td><td>3459</td><td>0.0</td><td>25</td><td>120</td><td>1</td><td>Semiurban</td><td>Y</td></tr><tr><td>LP001487</td><td>Male</td><td>No</td><td>0</td><td>Graduate</td><td>No</td><td>4895</td><td>0.0</td><td>102</td><td>360</td><td>1</td><td>Semiurban</td><td>Y</td></tr><tr><td>LP001488</td><td>Male</td><td>Yes</td><td>3+</td><td>Graduate</td><td>No</td><td>4000</td><td>7750.0</td><td>290</td><td>360</td><td>1</td><td>Semiurban</td><td>N</td></tr><tr><td>LP001489</td><td>Female</td><td>Yes</td><td>0</td><td>Graduate</td><td>No</td><td>4583</td><td>0.0</td><td>84</td><td>360</td><td>1</td><td>Rural</td><td>N</td></tr><tr><td>LP001491</td><td>Male</td><td>Yes</td><td>2</td><td>Graduate</td><td>Yes</td><td>3316</td><td>3500.0</td><td>88</td><td>360</td><td>1</td><td>Urban</td><td>Y</td></tr><tr><td>LP001492</td><td>Male</td><td>No</td><td>0</td><td>Graduate</td><td>No</td><td>14999</td><td>0.0</td><td>242</td><td>360</td><td>0</td><td>Semiurban</td><td>N</td></tr><tr><td>LP001493</td><td>Male</td><td>Yes</td><td>2</td><td>Not Graduate</td><td>No</td><td>4200</td><td>1430.0</td><td>129</td><td>360</td><td>1</td><td>Rural</td><td>N</td></tr><tr><td>LP001497</td><td>Male</td><td>Yes</td><td>2</td><td>Graduate</td><td>No</td><td>5042</td><td>2083.0</td><td>185</td><td>360</td><td>1</td><td>Rural</td><td>N</td></tr><tr><td>LP001498</td><td>Male</td><td>No</td><td>0</td><td>Graduate</td><td>No</td><td>5417</td><td>0.0</td><td>168</td><td>360</td><td>1</td><td>Urban</td><td>Y</td></tr><tr><td>LP001504</td><td>Male</td><td>No</td><td>0</td><td>Graduate</td><td>Yes</td><td>6950</td><td>0.0</td><td>175</td><td>180</td><td>1</td><td>Semiurban</td><td>Y</td></tr><tr><td>LP001507</td><td>Male</td><td>Yes</td><td>0</td><td>Graduate</td><td>No</td><td>2698</td><td>2034.0</td><td>122</td><td>360</td><td>1</td><td>Semiurban</td><td>Y</td></tr><tr><td>LP001508</td><td>Male</td><td>Yes</td><td>2</td><td>Graduate</td><td>No</td><td>11757</td><td>0.0</td><td>187</td><td>180</td><td>1</td><td>Urban</td><td>Y</td></tr><tr><td>LP001514</td><td>Female</td><td>Yes</td><td>0</td><td>Graduate</td><td>No</td><td>2330</td><td>4486.0</td><td>100</td><td>360</td><td>1</td><td>Semiurban</td><td>Y</td></tr><tr><td>LP001516</td><td>Female</td><td>Yes</td><td>2</td><td>Graduate</td><td>No</td><td>14866</td><td>0.0</td><td>70</td><td>360</td><td>1</td><td>Urban</td><td>Y</td></tr><tr><td>LP001518</td><td>Male</td><td>Yes</td><td>1</td><td>Graduate</td><td>No</td><td>1538</td><td>1425.0</td><td>30</td><td>360</td><td>1</td><td>Urban</td><td>Y</td></tr><tr><td>LP001519</td><td>Female</td><td>No</td><td>0</td><td>Graduate</td><td>No</td><td>10000</td><td>1666.0</td><td>225</td><td>360</td><td>1</td><td>Rural</td><td>N</td></tr><tr><td>LP001520</td><td>Male</td><td>Yes</td><td>0</td><td>Graduate</td><td>No</td><td>4860</td><td>830.0</td><td>125</td><td>360</td><td>1</td><td>Semiurban</td><td>Y</td></tr><tr><td>LP001528</td><td>Male</td><td>No</td><td>0</td><td>Graduate</td><td>No</td><td>6277</td><td>0.0</td><td>118</td><td>360</td><td>0</td><td>Rural</td><td>N</td></tr><tr><td>LP001529</td><td>Male</td><td>Yes</td><td>0</td><td>Graduate</td><td>Yes</td><td>2577</td><td>3750.0</td><td>152</td><td>360</td><td>1</td><td>Rural</td><td>Y</td></tr><tr><td>LP001531</td><td>Male</td><td>No</td><td>0</td><td>Graduate</td><td>No</td><td>9166</td><td>0.0</td><td>244</td><td>360</td><td>1</td><td>Urban</td><td>N</td></tr><tr><td>LP001532</td><td>Male</td><td>Yes</td><td>2</td><td>Not Graduate</td><td>No</td><td>2281</td><td>0.0</td><td>113</td><td>360</td><td>1</td><td>Rural</td><td>N</td></tr><tr><td>LP001535</td><td>Male</td><td>No</td><td>0</td><td>Graduate</td><td>No</td><td>3254</td><td>0.0</td><td>50</td><td>360</td><td>1</td><td>Urban</td><td>Y</td></tr><tr><td>LP001536</td><td>Male</td><td>Yes</td><td>3+</td><td>Graduate</td><td>No</td><td>39999</td><td>0.0</td><td>600</td><td>180</td><td>0</td><td>Semiurban</td><td>Y</td></tr><tr><td>LP001541</td><td>Male</td><td>Yes</td><td>1</td><td>Graduate</td><td>No</td><td>6000</td><td>0.0</td><td>160</td><td>360</td><td>null</td><td>Rural</td><td>Y</td></tr><tr><td>LP001543</td><td>Male</td><td>Yes</td><td>1</td><td>Graduate</td><td>No</td><td>9538</td><td>0.0</td><td>187</td><td>360</td><td>1</td><td>Urban</td><td>Y</td></tr><tr><td>LP001546</td><td>Male</td><td>No</td><td>0</td><td>Graduate</td><td>null</td><td>2980</td><td>2083.0</td><td>120</td><td>360</td><td>1</td><td>Rural</td><td>Y</td></tr><tr><td>LP001552</td><td>Male</td><td>Yes</td><td>0</td><td>Graduate</td><td>No</td><td>4583</td><td>5625.0</td><td>255</td><td>360</td><td>1</td><td>Semiurban</td><td>Y</td></tr><tr><td>LP001560</td><td>Male</td><td>Yes</td><td>0</td><td>Not Graduate</td><td>No</td><td>1863</td><td>1041.0</td><td>98</td><td>360</td><td>1</td><td>Semiurban</td><td>Y</td></tr><tr><td>LP001562</td><td>Male</td><td>Yes</td><td>0</td><td>Graduate</td><td>No</td><td>7933</td><td>0.0</td><td>275</td><td>360</td><td>1</td><td>Urban</td><td>N</td></tr><tr><td>LP001565</td><td>Male</td><td>Yes</td><td>1</td><td>Graduate</td><td>No</td><td>3089</td><td>1280.0</td><td>121</td><td>360</td><td>0</td><td>Semiurban</td><td>N</td></tr><tr><td>LP001570</td><td>Male</td><td>Yes</td><td>2</td><td>Graduate</td><td>No</td><td>4167</td><td>1447.0</td><td>158</td><td>360</td><td>1</td><td>Rural</td><td>Y</td></tr><tr><td>LP001572</td><td>Male</td><td>Yes</td><td>0</td><td>Graduate</td><td>No</td><td>9323</td><td>0.0</td><td>75</td><td>180</td><td>1</td><td>Urban</td><td>Y</td></tr><tr><td>LP001574</td><td>Male</td><td>Yes</td><td>0</td><td>Graduate</td><td>No</td><td>3707</td><td>3166.0</td><td>182</td><td>null</td><td>1</td><td>Rural</td><td>Y</td></tr><tr><td>LP001577</td><td>Female</td><td>Yes</td><td>0</td><td>Graduate</td><td>No</td><td>4583</td><td>0.0</td><td>112</td><td>360</td><td>1</td><td>Rural</td><td>N</td></tr><tr><td>LP001578</td><td>Male</td><td>Yes</td><td>0</td><td>Graduate</td><td>No</td><td>2439</td><td>3333.0</td><td>129</td><td>360</td><td>1</td><td>Rural</td><td>Y</td></tr><tr><td>LP001579</td><td>Male</td><td>No</td><td>0</td><td>Graduate</td><td>No</td><td>2237</td><td>0.0</td><td>63</td><td>480</td><td>0</td><td>Semiurban</td><td>N</td></tr><tr><td>LP001580</td><td>Male</td><td>Yes</td><td>2</td><td>Graduate</td><td>No</td><td>8000</td><td>0.0</td><td>200</td><td>360</td><td>1</td><td>Semiurban</td><td>Y</td></tr><tr><td>LP001581</td><td>Male</td><td>Yes</td><td>0</td><td>Not Graduate</td><td>null</td><td>1820</td><td>1769.0</td><td>95</td><td>360</td><td>1</td><td>Rural</td><td>Y</td></tr><tr><td>LP001585</td><td>null</td><td>Yes</td><td>3+</td><td>Graduate</td><td>No</td><td>51763</td><td>0.0</td><td>700</td><td>300</td><td>1</td><td>Urban</td><td>Y</td></tr><tr><td>LP001586</td><td>Male</td><td>Yes</td><td>3+</td><td>Not Graduate</td><td>No</td><td>3522</td><td>0.0</td><td>81</td><td>180</td><td>1</td><td>Rural</td><td>N</td></tr><tr><td>LP001594</td><td>Male</td><td>Yes</td><td>0</td><td>Graduate</td><td>No</td><td>5708</td><td>5625.0</td><td>187</td><td>360</td><td>1</td><td>Semiurban</td><td>Y</td></tr><tr><td>LP001603</td><td>Male</td><td>Yes</td><td>0</td><td>Not Graduate</td><td>Yes</td><td>4344</td><td>736.0</td><td>87</td><td>360</td><td>1</td><td>Semiurban</td><td>N</td></tr><tr><td>LP001606</td><td>Male</td><td>Yes</td><td>0</td><td>Graduate</td><td>No</td><td>3497</td><td>1964.0</td><td>116</td><td>360</td><td>1</td><td>Rural</td><td>Y</td></tr><tr><td>LP001608</td><td>Male</td><td>Yes</td><td>2</td><td>Graduate</td><td>No</td><td>2045</td><td>1619.0</td><td>101</td><td>360</td><td>1</td><td>Rural</td><td>Y</td></tr><tr><td>LP001610</td><td>Male</td><td>Yes</td><td>3+</td><td>Graduate</td><td>No</td><td>5516</td><td>11300.0</td><td>495</td><td>360</td><td>0</td><td>Semiurban</td><td>N</td></tr><tr><td>LP001616</td><td>Male</td><td>Yes</td><td>1</td><td>Graduate</td><td>No</td><td>3750</td><td>0.0</td><td>116</td><td>360</td><td>1</td><td>Semiurban</td><td>Y</td></tr><tr><td>LP001630</td><td>Male</td><td>No</td><td>0</td><td>Not Graduate</td><td>No</td><td>2333</td><td>1451.0</td><td>102</td><td>480</td><td>0</td><td>Urban</td><td>N</td></tr><tr><td>LP001633</td><td>Male</td><td>Yes</td><td>1</td><td>Graduate</td><td>No</td><td>6400</td><td>7250.0</td><td>180</td><td>360</td><td>0</td><td>Urban</td><td>N</td></tr><tr><td>LP001634</td><td>Male</td><td>No</td><td>0</td><td>Graduate</td><td>No</td><td>1916</td><td>5063.0</td><td>67</td><td>360</td><td>null</td><td>Rural</td><td>N</td></tr><tr><td>LP001636</td><td>Male</td><td>Yes</td><td>0</td><td>Graduate</td><td>No</td><td>4600</td><td>0.0</td><td>73</td><td>180</td><td>1</td><td>Semiurban</td><td>Y</td></tr><tr><td>LP001637</td><td>Male</td><td>Yes</td><td>1</td><td>Graduate</td><td>No</td><td>33846</td><td>0.0</td><td>260</td><td>360</td><td>1</td><td>Semiurban</td><td>N</td></tr><tr><td>LP001639</td><td>Female</td><td>Yes</td><td>0</td><td>Graduate</td><td>No</td><td>3625</td><td>0.0</td><td>108</td><td>360</td><td>1</td><td>Semiurban</td><td>Y</td></tr><tr><td>LP001640</td><td>Male</td><td>Yes</td><td>0</td><td>Graduate</td><td>Yes</td><td>39147</td><td>4750.0</td><td>120</td><td>360</td><td>1</td><td>Semiurban</td><td>Y</td></tr><tr><td>LP001641</td><td>Male</td><td>Yes</td><td>1</td><td>Graduate</td><td>Yes</td><td>2178</td><td>0.0</td><td>66</td><td>300</td><td>0</td><td>Rural</td><td>N</td></tr><tr><td>LP001643</td><td>Male</td><td>Yes</td><td>0</td><td>Graduate</td><td>No</td><td>2383</td><td>2138.0</td><td>58</td><td>360</td><td>null</td><td>Rural</td><td>Y</td></tr><tr><td>LP001644</td><td>null</td><td>Yes</td><td>0</td><td>Graduate</td><td>Yes</td><td>674</td><td>5296.0</td><td>168</td><td>360</td><td>1</td><td>Rural</td><td>Y</td></tr><tr><td>LP001647</td><td>Male</td><td>Yes</td><td>0</td><td>Graduate</td><td>No</td><td>9328</td><td>0.0</td><td>188</td><td>180</td><td>1</td><td>Rural</td><td>Y</td></tr><tr><td>LP001653</td><td>Male</td><td>No</td><td>0</td><td>Not Graduate</td><td>No</td><td>4885</td><td>0.0</td><td>48</td><td>360</td><td>1</td><td>Rural</td><td>Y</td></tr><tr><td>LP001656</td><td>Male</td><td>No</td><td>0</td><td>Graduate</td><td>No</td><td>12000</td><td>0.0</td><td>164</td><td>360</td><td>1</td><td>Semiurban</td><td>N</td></tr><tr><td>LP001657</td><td>Male</td><td>Yes</td><td>0</td><td>Not Graduate</td><td>No</td><td>6033</td><td>0.0</td><td>160</td><td>360</td><td>1</td><td>Urban</td><td>N</td></tr><tr><td>LP001658</td><td>Male</td><td>No</td><td>0</td><td>Graduate</td><td>No</td><td>3858</td><td>0.0</td><td>76</td><td>360</td><td>1</td><td>Semiurban</td><td>Y</td></tr><tr><td>LP001664</td><td>Male</td><td>No</td><td>0</td><td>Graduate</td><td>No</td><td>4191</td><td>0.0</td><td>120</td><td>360</td><td>1</td><td>Rural</td><td>Y</td></tr><tr><td>LP001665</td><td>Male</td><td>Yes</td><td>1</td><td>Graduate</td><td>No</td><td>3125</td><td>2583.0</td><td>170</td><td>360</td><td>1</td><td>Semiurban</td><td>N</td></tr><tr><td>LP001666</td><td>Male</td><td>No</td><td>0</td><td>Graduate</td><td>No</td><td>8333</td><td>3750.0</td><td>187</td><td>360</td><td>1</td><td>Rural</td><td>Y</td></tr><tr><td>LP001669</td><td>Female</td><td>No</td><td>0</td><td>Not Graduate</td><td>No</td><td>1907</td><td>2365.0</td><td>120</td><td>null</td><td>1</td><td>Urban</td><td>Y</td></tr><tr><td>LP001671</td><td>Female</td><td>Yes</td><td>0</td><td>Graduate</td><td>No</td><td>3416</td><td>2816.0</td><td>113</td><td>360</td><td>null</td><td>Semiurban</td><td>Y</td></tr><tr><td>LP001673</td><td>Male</td><td>No</td><td>0</td><td>Graduate</td><td>Yes</td><td>11000</td><td>0.0</td><td>83</td><td>360</td><td>1</td><td>Urban</td><td>N</td></tr><tr><td>LP001674</td><td>Male</td><td>Yes</td><td>1</td><td>Not Graduate</td><td>No</td><td>2600</td><td>2500.0</td><td>90</td><td>360</td><td>1</td><td>Semiurban</td><td>Y</td></tr><tr><td>LP001677</td><td>Male</td><td>No</td><td>2</td><td>Graduate</td><td>No</td><td>4923</td><td>0.0</td><td>166</td><td>360</td><td>0</td><td>Semiurban</td><td>Y</td></tr><tr><td>LP001682</td><td>Male</td><td>Yes</td><td>3+</td><td>Not Graduate</td><td>No</td><td>3992</td><td>0.0</td><td>null</td><td>180</td><td>1</td><td>Urban</td><td>N</td></tr><tr><td>LP001688</td><td>Male</td><td>Yes</td><td>1</td><td>Not Graduate</td><td>No</td><td>3500</td><td>1083.0</td><td>135</td><td>360</td><td>1</td><td>Urban</td><td>Y</td></tr><tr><td>LP001691</td><td>Male</td><td>Yes</td><td>2</td><td>Not Graduate</td><td>No</td><td>3917</td><td>0.0</td><td>124</td><td>360</td><td>1</td><td>Semiurban</td><td>Y</td></tr><tr><td>LP001692</td><td>Female</td><td>No</td><td>0</td><td>Not Graduate</td><td>No</td><td>4408</td><td>0.0</td><td>120</td><td>360</td><td>1</td><td>Semiurban</td><td>Y</td></tr><tr><td>LP001693</td><td>Female</td><td>No</td><td>0</td><td>Graduate</td><td>No</td><td>3244</td><td>0.0</td><td>80</td><td>360</td><td>1</td><td>Urban</td><td>Y</td></tr><tr><td>LP001698</td><td>Male</td><td>No</td><td>0</td><td>Not Graduate</td><td>No</td><td>3975</td><td>2531.0</td><td>55</td><td>360</td><td>1</td><td>Rural</td><td>Y</td></tr><tr><td>LP001699</td><td>Male</td><td>No</td><td>0</td><td>Graduate</td><td>No</td><td>2479</td><td>0.0</td><td>59</td><td>360</td><td>1</td><td>Urban</td><td>Y</td></tr><tr><td>LP001702</td><td>Male</td><td>No</td><td>0</td><td>Graduate</td><td>No</td><td>3418</td><td>0.0</td><td>127</td><td>360</td><td>1</td><td>Semiurban</td><td>N</td></tr><tr><td>LP001708</td><td>Female</td><td>No</td><td>0</td><td>Graduate</td><td>No</td><td>10000</td><td>0.0</td><td>214</td><td>360</td><td>1</td><td>Semiurban</td><td>N</td></tr><tr><td>LP001711</td><td>Male</td><td>Yes</td><td>3+</td><td>Graduate</td><td>No</td><td>3430</td><td>1250.0</td><td>128</td><td>360</td><td>0</td><td>Semiurban</td><td>N</td></tr><tr><td>LP001713</td><td>Male</td><td>Yes</td><td>1</td><td>Graduate</td><td>Yes</td><td>7787</td><td>0.0</td><td>240</td><td>360</td><td>1</td><td>Urban</td><td>Y</td></tr><tr><td>LP001715</td><td>Male</td><td>Yes</td><td>3+</td><td>Not Graduate</td><td>Yes</td><td>5703</td><td>0.0</td><td>130</td><td>360</td><td>1</td><td>Rural</td><td>Y</td></tr><tr><td>LP001716</td><td>Male</td><td>Yes</td><td>0</td><td>Graduate</td><td>No</td><td>3173</td><td>3021.0</td><td>137</td><td>360</td><td>1</td><td>Urban</td><td>Y</td></tr><tr><td>LP001720</td><td>Male</td><td>Yes</td><td>3+</td><td>Not Graduate</td><td>No</td><td>3850</td><td>983.0</td><td>100</td><td>360</td><td>1</td><td>Semiurban</td><td>Y</td></tr><tr><td>LP001722</td><td>Male</td><td>Yes</td><td>0</td><td>Graduate</td><td>No</td><td>150</td><td>1800.0</td><td>135</td><td>360</td><td>1</td><td>Rural</td><td>N</td></tr><tr><td>LP001726</td><td>Male</td><td>Yes</td><td>0</td><td>Graduate</td><td>No</td><td>3727</td><td>1775.0</td><td>131</td><td>360</td><td>1</td><td>Semiurban</td><td>Y</td></tr><tr><td>LP001732</td><td>Male</td><td>Yes</td><td>2</td><td>Graduate</td><td>null</td><td>5000</td><td>0.0</td><td>72</td><td>360</td><td>0</td><td>Semiurban</td><td>N</td></tr><tr><td>LP001734</td><td>Female</td><td>Yes</td><td>2</td><td>Graduate</td><td>No</td><td>4283</td><td>2383.0</td><td>127</td><td>360</td><td>null</td><td>Semiurban</td><td>Y</td></tr><tr><td>LP001736</td><td>Male</td><td>Yes</td><td>0</td><td>Graduate</td><td>No</td><td>2221</td><td>0.0</td><td>60</td><td>360</td><td>0</td><td>Urban</td><td>N</td></tr><tr><td>LP001743</td><td>Male</td><td>Yes</td><td>2</td><td>Graduate</td><td>No</td><td>4009</td><td>1717.0</td><td>116</td><td>360</td><td>1</td><td>Semiurban</td><td>Y</td></tr><tr><td>LP001744</td><td>Male</td><td>No</td><td>0</td><td>Graduate</td><td>No</td><td>2971</td><td>2791.0</td><td>144</td><td>360</td><td>1</td><td>Semiurban</td><td>Y</td></tr><tr><td>LP001749</td><td>Male</td><td>Yes</td><td>0</td><td>Graduate</td><td>No</td><td>7578</td><td>1010.0</td><td>175</td><td>null</td><td>1</td><td>Semiurban</td><td>Y</td></tr><tr><td>LP001750</td><td>Male</td><td>Yes</td><td>0</td><td>Graduate</td><td>No</td><td>6250</td><td>0.0</td><td>128</td><td>360</td><td>1</td><td>Semiurban</td><td>Y</td></tr><tr><td>LP001751</td><td>Male</td><td>Yes</td><td>0</td><td>Graduate</td><td>No</td><td>3250</td><td>0.0</td><td>170</td><td>360</td><td>1</td><td>Rural</td><td>N</td></tr><tr><td>LP001754</td><td>Male</td><td>Yes</td><td>null</td><td>Not Graduate</td><td>Yes</td><td>4735</td><td>0.0</td><td>138</td><td>360</td><td>1</td><td>Urban</td><td>N</td></tr><tr><td>LP001758</td><td>Male</td><td>Yes</td><td>2</td><td>Graduate</td><td>No</td><td>6250</td><td>1695.0</td><td>210</td><td>360</td><td>1</td><td>Semiurban</td><td>Y</td></tr><tr><td>LP001760</td><td>Male</td><td>null</td><td>null</td><td>Graduate</td><td>No</td><td>4758</td><td>0.0</td><td>158</td><td>480</td><td>1</td><td>Semiurban</td><td>Y</td></tr><tr><td>LP001761</td><td>Male</td><td>No</td><td>0</td><td>Graduate</td><td>Yes</td><td>6400</td><td>0.0</td><td>200</td><td>360</td><td>1</td><td>Rural</td><td>Y</td></tr><tr><td>LP001765</td><td>Male</td><td>Yes</td><td>1</td><td>Graduate</td><td>No</td><td>2491</td><td>2054.0</td><td>104</td><td>360</td><td>1</td><td>Semiurban</td><td>Y</td></tr><tr><td>LP001768</td><td>Male</td><td>Yes</td><td>0</td><td>Graduate</td><td>null</td><td>3716</td><td>0.0</td><td>42</td><td>180</td><td>1</td><td>Rural</td><td>Y</td></tr><tr><td>LP001770</td><td>Male</td><td>No</td><td>0</td><td>Not Graduate</td><td>No</td><td>3189</td><td>2598.0</td><td>120</td><td>null</td><td>1</td><td>Rural</td><td>Y</td></tr><tr><td>LP001776</td><td>Female</td><td>No</td><td>0</td><td>Graduate</td><td>No</td><td>8333</td><td>0.0</td><td>280</td><td>360</td><td>1</td><td>Semiurban</td><td>Y</td></tr><tr><td>LP001778</td><td>Male</td><td>Yes</td><td>1</td><td>Graduate</td><td>No</td><td>3155</td><td>1779.0</td><td>140</td><td>360</td><td>1</td><td>Semiurban</td><td>Y</td></tr><tr><td>LP001784</td><td>Male</td><td>Yes</td><td>1</td><td>Graduate</td><td>No</td><td>5500</td><td>1260.0</td><td>170</td><td>360</td><td>1</td><td>Rural</td><td>Y</td></tr><tr><td>LP001786</td><td>Male</td><td>Yes</td><td>0</td><td>Graduate</td><td>null</td><td>5746</td><td>0.0</td><td>255</td><td>360</td><td>null</td><td>Urban</td><td>N</td></tr><tr><td>LP001788</td><td>Female</td><td>No</td><td>0</td><td>Graduate</td><td>Yes</td><td>3463</td><td>0.0</td><td>122</td><td>360</td><td>null</td><td>Urban</td><td>Y</td></tr><tr><td>LP001790</td><td>Female</td><td>No</td><td>1</td><td>Graduate</td><td>No</td><td>3812</td><td>0.0</td><td>112</td><td>360</td><td>1</td><td>Rural</td><td>Y</td></tr><tr><td>LP001792</td><td>Male</td><td>Yes</td><td>1</td><td>Graduate</td><td>No</td><td>3315</td><td>0.0</td><td>96</td><td>360</td><td>1</td><td>Semiurban</td><td>Y</td></tr><tr><td>LP001798</td><td>Male</td><td>Yes</td><td>2</td><td>Graduate</td><td>No</td><td>5819</td><td>5000.0</td><td>120</td><td>360</td><td>1</td><td>Rural</td><td>Y</td></tr><tr><td>LP001800</td><td>Male</td><td>Yes</td><td>1</td><td>Not Graduate</td><td>No</td><td>2510</td><td>1983.0</td><td>140</td><td>180</td><td>1</td><td>Urban</td><td>N</td></tr><tr><td>LP001806</td><td>Male</td><td>No</td><td>0</td><td>Graduate</td><td>No</td><td>2965</td><td>5701.0</td><td>155</td><td>60</td><td>1</td><td>Urban</td><td>Y</td></tr><tr><td>LP001807</td><td>Male</td><td>Yes</td><td>2</td><td>Graduate</td><td>Yes</td><td>6250</td><td>1300.0</td><td>108</td><td>360</td><td>1</td><td>Rural</td><td>Y</td></tr><tr><td>LP001811</td><td>Male</td><td>Yes</td><td>0</td><td>Not Graduate</td><td>No</td><td>3406</td><td>4417.0</td><td>123</td><td>360</td><td>1</td><td>Semiurban</td><td>Y</td></tr><tr><td>LP001813</td><td>Male</td><td>No</td><td>0</td><td>Graduate</td><td>Yes</td><td>6050</td><td>4333.0</td><td>120</td><td>180</td><td>1</td><td>Urban</td><td>N</td></tr><tr><td>LP001814</td><td>Male</td><td>Yes</td><td>2</td><td>Graduate</td><td>No</td><td>9703</td><td>0.0</td><td>112</td><td>360</td><td>1</td><td>Urban</td><td>Y</td></tr><tr><td>LP001819</td><td>Male</td><td>Yes</td><td>1</td><td>Not Graduate</td><td>No</td><td>6608</td><td>0.0</td><td>137</td><td>180</td><td>1</td><td>Urban</td><td>Y</td></tr><tr><td>LP001824</td><td>Male</td><td>Yes</td><td>1</td><td>Graduate</td><td>No</td><td>2882</td><td>1843.0</td><td>123</td><td>480</td><td>1</td><td>Semiurban</td><td>Y</td></tr><tr><td>LP001825</td><td>Male</td><td>Yes</td><td>0</td><td>Graduate</td><td>No</td><td>1809</td><td>1868.0</td><td>90</td><td>360</td><td>1</td><td>Urban</td><td>Y</td></tr><tr><td>LP001835</td><td>Male</td><td>Yes</td><td>0</td><td>Not Graduate</td><td>No</td><td>1668</td><td>3890.0</td><td>201</td><td>360</td><td>0</td><td>Semiurban</td><td>N</td></tr><tr><td>LP001836</td><td>Female</td><td>No</td><td>2</td><td>Graduate</td><td>No</td><td>3427</td><td>0.0</td><td>138</td><td>360</td><td>1</td><td>Urban</td><td>N</td></tr><tr><td>LP001841</td><td>Male</td><td>No</td><td>0</td><td>Not Graduate</td><td>Yes</td><td>2583</td><td>2167.0</td><td>104</td><td>360</td><td>1</td><td>Rural</td><td>Y</td></tr><tr><td>LP001843</td><td>Male</td><td>Yes</td><td>1</td><td>Not Graduate</td><td>No</td><td>2661</td><td>7101.0</td><td>279</td><td>180</td><td>1</td><td>Semiurban</td><td>Y</td></tr><tr><td>LP001844</td><td>Male</td><td>No</td><td>0</td><td>Graduate</td><td>Yes</td><td>16250</td><td>0.0</td><td>192</td><td>360</td><td>0</td><td>Urban</td><td>N</td></tr><tr><td>LP001846</td><td>Female</td><td>No</td><td>3+</td><td>Graduate</td><td>No</td><td>3083</td><td>0.0</td><td>255</td><td>360</td><td>1</td><td>Rural</td><td>Y</td></tr><tr><td>LP001849</td><td>Male</td><td>No</td><td>0</td><td>Not Graduate</td><td>No</td><td>6045</td><td>0.0</td><td>115</td><td>360</td><td>0</td><td>Rural</td><td>N</td></tr><tr><td>LP001854</td><td>Male</td><td>Yes</td><td>3+</td><td>Graduate</td><td>No</td><td>5250</td><td>0.0</td><td>94</td><td>360</td><td>1</td><td>Urban</td><td>N</td></tr><tr><td>LP001859</td><td>Male</td><td>Yes</td><td>0</td><td>Graduate</td><td>No</td><td>14683</td><td>2100.0</td><td>304</td><td>360</td><td>1</td><td>Rural</td><td>N</td></tr><tr><td>LP001864</td><td>Male</td><td>Yes</td><td>3+</td><td>Not Graduate</td><td>No</td><td>4931</td><td>0.0</td><td>128</td><td>360</td><td>null</td><td>Semiurban</td><td>N</td></tr><tr><td>LP001865</td><td>Male</td><td>Yes</td><td>1</td><td>Graduate</td><td>No</td><td>6083</td><td>4250.0</td><td>330</td><td>360</td><td>null</td><td>Urban</td><td>Y</td></tr><tr><td>LP001868</td><td>Male</td><td>No</td><td>0</td><td>Graduate</td><td>No</td><td>2060</td><td>2209.0</td><td>134</td><td>360</td><td>1</td><td>Semiurban</td><td>Y</td></tr><tr><td>LP001870</td><td>Female</td><td>No</td><td>1</td><td>Graduate</td><td>No</td><td>3481</td><td>0.0</td><td>155</td><td>36</td><td>1</td><td>Semiurban</td><td>N</td></tr><tr><td>LP001871</td><td>Female</td><td>No</td><td>0</td><td>Graduate</td><td>No</td><td>7200</td><td>0.0</td><td>120</td><td>360</td><td>1</td><td>Rural</td><td>Y</td></tr><tr><td>LP001872</td><td>Male</td><td>No</td><td>0</td><td>Graduate</td><td>Yes</td><td>5166</td><td>0.0</td><td>128</td><td>360</td><td>1</td><td>Semiurban</td><td>Y</td></tr><tr><td>LP001875</td><td>Male</td><td>No</td><td>0</td><td>Graduate</td><td>No</td><td>4095</td><td>3447.0</td><td>151</td><td>360</td><td>1</td><td>Rural</td><td>Y</td></tr><tr><td>LP001877</td><td>Male</td><td>Yes</td><td>2</td><td>Graduate</td><td>No</td><td>4708</td><td>1387.0</td><td>150</td><td>360</td><td>1</td><td>Semiurban</td><td>Y</td></tr><tr><td>LP001882</td><td>Male</td><td>Yes</td><td>3+</td><td>Graduate</td><td>No</td><td>4333</td><td>1811.0</td><td>160</td><td>360</td><td>0</td><td>Urban</td><td>Y</td></tr><tr><td>LP001883</td><td>Female</td><td>No</td><td>0</td><td>Graduate</td><td>null</td><td>3418</td><td>0.0</td><td>135</td><td>360</td><td>1</td><td>Rural</td><td>N</td></tr><tr><td>LP001884</td><td>Female</td><td>No</td><td>1</td><td>Graduate</td><td>No</td><td>2876</td><td>1560.0</td><td>90</td><td>360</td><td>1</td><td>Urban</td><td>Y</td></tr><tr><td>LP001888</td><td>Female</td><td>No</td><td>0</td><td>Graduate</td><td>No</td><td>3237</td><td>0.0</td><td>30</td><td>360</td><td>1</td><td>Urban</td><td>Y</td></tr><tr><td>LP001891</td><td>Male</td><td>Yes</td><td>0</td><td>Graduate</td><td>No</td><td>11146</td><td>0.0</td><td>136</td><td>360</td><td>1</td><td>Urban</td><td>Y</td></tr><tr><td>LP001892</td><td>Male</td><td>No</td><td>0</td><td>Graduate</td><td>No</td><td>2833</td><td>1857.0</td><td>126</td><td>360</td><td>1</td><td>Rural</td><td>Y</td></tr><tr><td>LP001894</td><td>Male</td><td>Yes</td><td>0</td><td>Graduate</td><td>No</td><td>2620</td><td>2223.0</td><td>150</td><td>360</td><td>1</td><td>Semiurban</td><td>Y</td></tr><tr><td>LP001896</td><td>Male</td><td>Yes</td><td>2</td><td>Graduate</td><td>No</td><td>3900</td><td>0.0</td><td>90</td><td>360</td><td>1</td><td>Semiurban</td><td>Y</td></tr><tr><td>LP001900</td><td>Male</td><td>Yes</td><td>1</td><td>Graduate</td><td>No</td><td>2750</td><td>1842.0</td><td>115</td><td>360</td><td>1</td><td>Semiurban</td><td>Y</td></tr><tr><td>LP001903</td><td>Male</td><td>Yes</td><td>0</td><td>Graduate</td><td>No</td><td>3993</td><td>3274.0</td><td>207</td><td>360</td><td>1</td><td>Semiurban</td><td>Y</td></tr><tr><td>LP001904</td><td>Male</td><td>Yes</td><td>0</td><td>Graduate</td><td>No</td><td>3103</td><td>1300.0</td><td>80</td><td>360</td><td>1</td><td>Urban</td><td>Y</td></tr><tr><td>LP001907</td><td>Male</td><td>Yes</td><td>0</td><td>Graduate</td><td>No</td><td>14583</td><td>0.0</td><td>436</td><td>360</td><td>1</td><td>Semiurban</td><td>Y</td></tr><tr><td>LP001908</td><td>Female</td><td>Yes</td><td>0</td><td>Not Graduate</td><td>No</td><td>4100</td><td>0.0</td><td>124</td><td>360</td><td>null</td><td>Rural</td><td>Y</td></tr><tr><td>LP001910</td><td>Male</td><td>No</td><td>1</td><td>Not Graduate</td><td>Yes</td><td>4053</td><td>2426.0</td><td>158</td><td>360</td><td>0</td><td>Urban</td><td>N</td></tr><tr><td>LP001914</td><td>Male</td><td>Yes</td><td>0</td><td>Graduate</td><td>No</td><td>3927</td><td>800.0</td><td>112</td><td>360</td><td>1</td><td>Semiurban</td><td>Y</td></tr><tr><td>LP001915</td><td>Male</td><td>Yes</td><td>2</td><td>Graduate</td><td>No</td><td>2301</td><td>985.7999878</td><td>78</td><td>180</td><td>1</td><td>Urban</td><td>Y</td></tr><tr><td>LP001917</td><td>Female</td><td>No</td><td>0</td><td>Graduate</td><td>No</td><td>1811</td><td>1666.0</td><td>54</td><td>360</td><td>1</td><td>Urban</td><td>Y</td></tr><tr><td>LP001922</td><td>Male</td><td>Yes</td><td>0</td><td>Graduate</td><td>No</td><td>20667</td><td>0.0</td><td>null</td><td>360</td><td>1</td><td>Rural</td><td>N</td></tr><tr><td>LP001924</td><td>Male</td><td>No</td><td>0</td><td>Graduate</td><td>No</td><td>3158</td><td>3053.0</td><td>89</td><td>360</td><td>1</td><td>Rural</td><td>Y</td></tr><tr><td>LP001925</td><td>Female</td><td>No</td><td>0</td><td>Graduate</td><td>Yes</td><td>2600</td><td>1717.0</td><td>99</td><td>300</td><td>1</td><td>Semiurban</td><td>N</td></tr><tr><td>LP001926</td><td>Male</td><td>Yes</td><td>0</td><td>Graduate</td><td>No</td><td>3704</td><td>2000.0</td><td>120</td><td>360</td><td>1</td><td>Rural</td><td>Y</td></tr><tr><td>LP001931</td><td>Female</td><td>No</td><td>0</td><td>Graduate</td><td>No</td><td>4124</td><td>0.0</td><td>115</td><td>360</td><td>1</td><td>Semiurban</td><td>Y</td></tr><tr><td>LP001935</td><td>Male</td><td>No</td><td>0</td><td>Graduate</td><td>No</td><td>9508</td><td>0.0</td><td>187</td><td>360</td><td>1</td><td>Rural</td><td>Y</td></tr><tr><td>LP001936</td><td>Male</td><td>Yes</td><td>0</td><td>Graduate</td><td>No</td><td>3075</td><td>2416.0</td><td>139</td><td>360</td><td>1</td><td>Rural</td><td>Y</td></tr><tr><td>LP001938</td><td>Male</td><td>Yes</td><td>2</td><td>Graduate</td><td>No</td><td>4400</td><td>0.0</td><td>127</td><td>360</td><td>0</td><td>Semiurban</td><td>N</td></tr><tr><td>LP001940</td><td>Male</td><td>Yes</td><td>2</td><td>Graduate</td><td>No</td><td>3153</td><td>1560.0</td><td>134</td><td>360</td><td>1</td><td>Urban</td><td>Y</td></tr><tr><td>LP001945</td><td>Female</td><td>No</td><td>null</td><td>Graduate</td><td>No</td><td>5417</td><td>0.0</td><td>143</td><td>480</td><td>0</td><td>Urban</td><td>N</td></tr><tr><td>LP001947</td><td>Male</td><td>Yes</td><td>0</td><td>Graduate</td><td>No</td><td>2383</td><td>3334.0</td><td>172</td><td>360</td><td>1</td><td>Semiurban</td><td>Y</td></tr><tr><td>LP001949</td><td>Male</td><td>Yes</td><td>3+</td><td>Graduate</td><td>null</td><td>4416</td><td>1250.0</td><td>110</td><td>360</td><td>1</td><td>Urban</td><td>Y</td></tr><tr><td>LP001953</td><td>Male</td><td>Yes</td><td>1</td><td>Graduate</td><td>No</td><td>6875</td><td>0.0</td><td>200</td><td>360</td><td>1</td><td>Semiurban</td><td>Y</td></tr><tr><td>LP001954</td><td>Female</td><td>Yes</td><td>1</td><td>Graduate</td><td>No</td><td>4666</td><td>0.0</td><td>135</td><td>360</td><td>1</td><td>Urban</td><td>Y</td></tr><tr><td>LP001955</td><td>Female</td><td>No</td><td>0</td><td>Graduate</td><td>No</td><td>5000</td><td>2541.0</td><td>151</td><td>480</td><td>1</td><td>Rural</td><td>N</td></tr><tr><td>LP001963</td><td>Male</td><td>Yes</td><td>1</td><td>Graduate</td><td>No</td><td>2014</td><td>2925.0</td><td>113</td><td>360</td><td>1</td><td>Urban</td><td>N</td></tr><tr><td>LP001964</td><td>Male</td><td>Yes</td><td>0</td><td>Not Graduate</td><td>No</td><td>1800</td><td>2934.0</td><td>93</td><td>360</td><td>0</td><td>Urban</td><td>N</td></tr><tr><td>LP001972</td><td>Male</td><td>Yes</td><td>null</td><td>Not Graduate</td><td>No</td><td>2875</td><td>1750.0</td><td>105</td><td>360</td><td>1</td><td>Semiurban</td><td>Y</td></tr><tr><td>LP001974</td><td>Female</td><td>No</td><td>0</td><td>Graduate</td><td>No</td><td>5000</td><td>0.0</td><td>132</td><td>360</td><td>1</td><td>Rural</td><td>Y</td></tr><tr><td>LP001977</td><td>Male</td><td>Yes</td><td>1</td><td>Graduate</td><td>No</td><td>1625</td><td>1803.0</td><td>96</td><td>360</td><td>1</td><td>Urban</td><td>Y</td></tr><tr><td>LP001978</td><td>Male</td><td>No</td><td>0</td><td>Graduate</td><td>No</td><td>4000</td><td>2500.0</td><td>140</td><td>360</td><td>1</td><td>Rural</td><td>Y</td></tr><tr><td>LP001990</td><td>Male</td><td>No</td><td>0</td><td>Not Graduate</td><td>No</td><td>2000</td><td>0.0</td><td>null</td><td>360</td><td>1</td><td>Urban</td><td>N</td></tr><tr><td>LP001993</td><td>Female</td><td>No</td><td>0</td><td>Graduate</td><td>No</td><td>3762</td><td>1666.0</td><td>135</td><td>360</td><td>1</td><td>Rural</td><td>Y</td></tr><tr><td>LP001994</td><td>Female</td><td>No</td><td>0</td><td>Graduate</td><td>No</td><td>2400</td><td>1863.0</td><td>104</td><td>360</td><td>0</td><td>Urban</td><td>N</td></tr><tr><td>LP001996</td><td>Male</td><td>No</td><td>0</td><td>Graduate</td><td>No</td><td>20233</td><td>0.0</td><td>480</td><td>360</td><td>1</td><td>Rural</td><td>N</td></tr><tr><td>LP001998</td><td>Male</td><td>Yes</td><td>2</td><td>Not Graduate</td><td>No</td><td>7667</td><td>0.0</td><td>185</td><td>360</td><td>null</td><td>Rural</td><td>Y</td></tr><tr><td>LP002002</td><td>Female</td><td>No</td><td>0</td><td>Graduate</td><td>No</td><td>2917</td><td>0.0</td><td>84</td><td>360</td><td>1</td><td>Semiurban</td><td>Y</td></tr><tr><td>LP002004</td><td>Male</td><td>No</td><td>0</td><td>Not Graduate</td><td>No</td><td>2927</td><td>2405.0</td><td>111</td><td>360</td><td>1</td><td>Semiurban</td><td>Y</td></tr><tr><td>LP002006</td><td>Female</td><td>No</td><td>0</td><td>Graduate</td><td>No</td><td>2507</td><td>0.0</td><td>56</td><td>360</td><td>1</td><td>Rural</td><td>Y</td></tr><tr><td>LP002008</td><td>Male</td><td>Yes</td><td>2</td><td>Graduate</td><td>Yes</td><td>5746</td><td>0.0</td><td>144</td><td>84</td><td>null</td><td>Rural</td><td>Y</td></tr><tr><td>LP002024</td><td>null</td><td>Yes</td><td>0</td><td>Graduate</td><td>No</td><td>2473</td><td>1843.0</td><td>159</td><td>360</td><td>1</td><td>Rural</td><td>N</td></tr><tr><td>LP002031</td><td>Male</td><td>Yes</td><td>1</td><td>Not Graduate</td><td>No</td><td>3399</td><td>1640.0</td><td>111</td><td>180</td><td>1</td><td>Urban</td><td>Y</td></tr><tr><td>LP002035</td><td>Male</td><td>Yes</td><td>2</td><td>Graduate</td><td>No</td><td>3717</td><td>0.0</td><td>120</td><td>360</td><td>1</td><td>Semiurban</td><td>Y</td></tr><tr><td>LP002036</td><td>Male</td><td>Yes</td><td>0</td><td>Graduate</td><td>No</td><td>2058</td><td>2134.0</td><td>88</td><td>360</td><td>null</td><td>Urban</td><td>Y</td></tr><tr><td>LP002043</td><td>Female</td><td>No</td><td>1</td><td>Graduate</td><td>No</td><td>3541</td><td>0.0</td><td>112</td><td>360</td><td>null</td><td>Semiurban</td><td>Y</td></tr><tr><td>LP002050</td><td>Male</td><td>Yes</td><td>1</td><td>Graduate</td><td>Yes</td><td>10000</td><td>0.0</td><td>155</td><td>360</td><td>1</td><td>Rural</td><td>N</td></tr><tr><td>LP002051</td><td>Male</td><td>Yes</td><td>0</td><td>Graduate</td><td>No</td><td>2400</td><td>2167.0</td><td>115</td><td>360</td><td>1</td><td>Semiurban</td><td>Y</td></tr><tr><td>LP002053</td><td>Male</td><td>Yes</td><td>3+</td><td>Graduate</td><td>No</td><td>4342</td><td>189.0</td><td>124</td><td>360</td><td>1</td><td>Semiurban</td><td>Y</td></tr><tr><td>LP002054</td><td>Male</td><td>Yes</td><td>2</td><td>Not Graduate</td><td>No</td><td>3601</td><td>1590.0</td><td>null</td><td>360</td><td>1</td><td>Rural</td><td>Y</td></tr><tr><td>LP002055</td><td>Female</td><td>No</td><td>0</td><td>Graduate</td><td>No</td><td>3166</td><td>2985.0</td><td>132</td><td>360</td><td>null</td><td>Rural</td><td>Y</td></tr><tr><td>LP002065</td><td>Male</td><td>Yes</td><td>3+</td><td>Graduate</td><td>No</td><td>15000</td><td>0.0</td><td>300</td><td>360</td><td>1</td><td>Rural</td><td>Y</td></tr><tr><td>LP002067</td><td>Male</td><td>Yes</td><td>1</td><td>Graduate</td><td>Yes</td><td>8666</td><td>4983.0</td><td>376</td><td>360</td><td>0</td><td>Rural</td><td>N</td></tr><tr><td>LP002068</td><td>Male</td><td>No</td><td>0</td><td>Graduate</td><td>No</td><td>4917</td><td>0.0</td><td>130</td><td>360</td><td>0</td><td>Rural</td><td>Y</td></tr><tr><td>LP002082</td><td>Male</td><td>Yes</td><td>0</td><td>Graduate</td><td>Yes</td><td>5818</td><td>2160.0</td><td>184</td><td>360</td><td>1</td><td>Semiurban</td><td>Y</td></tr><tr><td>LP002086</td><td>Female</td><td>Yes</td><td>0</td><td>Graduate</td><td>No</td><td>4333</td><td>2451.0</td><td>110</td><td>360</td><td>1</td><td>Urban</td><td>N</td></tr><tr><td>LP002087</td><td>Female</td><td>No</td><td>0</td><td>Graduate</td><td>No</td><td>2500</td><td>0.0</td><td>67</td><td>360</td><td>1</td><td>Urban</td><td>Y</td></tr><tr><td>LP002097</td><td>Male</td><td>No</td><td>1</td><td>Graduate</td><td>No</td><td>4384</td><td>1793.0</td><td>117</td><td>360</td><td>1</td><td>Urban</td><td>Y</td></tr><tr><td>LP002098</td><td>Male</td><td>No</td><td>0</td><td>Graduate</td><td>No</td><td>2935</td><td>0.0</td><td>98</td><td>360</td><td>1</td><td>Semiurban</td><td>Y</td></tr><tr><td>LP002100</td><td>Male</td><td>No</td><td>null</td><td>Graduate</td><td>No</td><td>2833</td><td>0.0</td><td>71</td><td>360</td><td>1</td><td>Urban</td><td>Y</td></tr><tr><td>LP002101</td><td>Male</td><td>Yes</td><td>0</td><td>Graduate</td><td>null</td><td>63337</td><td>0.0</td><td>490</td><td>180</td><td>1</td><td>Urban</td><td>Y</td></tr><tr><td>LP002103</td><td>null</td><td>Yes</td><td>1</td><td>Graduate</td><td>Yes</td><td>9833</td><td>1833.0</td><td>182</td><td>180</td><td>1</td><td>Urban</td><td>Y</td></tr><tr><td>LP002106</td><td>Male</td><td>Yes</td><td>null</td><td>Graduate</td><td>Yes</td><td>5503</td><td>4490.0</td><td>70</td><td>null</td><td>1</td><td>Semiurban</td><td>Y</td></tr><tr><td>LP002110</td><td>Male</td><td>Yes</td><td>1</td><td>Graduate</td><td>null</td><td>5250</td><td>688.0</td><td>160</td><td>360</td><td>1</td><td>Rural</td><td>Y</td></tr><tr><td>LP002112</td><td>Male</td><td>Yes</td><td>2</td><td>Graduate</td><td>Yes</td><td>2500</td><td>4600.0</td><td>176</td><td>360</td><td>1</td><td>Rural</td><td>Y</td></tr><tr><td>LP002113</td><td>Female</td><td>No</td><td>3+</td><td>Not Graduate</td><td>No</td><td>1830</td><td>0.0</td><td>null</td><td>360</td><td>0</td><td>Urban</td><td>N</td></tr><tr><td>LP002114</td><td>Female</td><td>No</td><td>0</td><td>Graduate</td><td>No</td><td>4160</td><td>0.0</td><td>71</td><td>360</td><td>1</td><td>Semiurban</td><td>Y</td></tr><tr><td>LP002115</td><td>Male</td><td>Yes</td><td>3+</td><td>Not Graduate</td><td>No</td><td>2647</td><td>1587.0</td><td>173</td><td>360</td><td>1</td><td>Rural</td><td>N</td></tr><tr><td>LP002116</td><td>Female</td><td>No</td><td>0</td><td>Graduate</td><td>No</td><td>2378</td><td>0.0</td><td>46</td><td>360</td><td>1</td><td>Rural</td><td>N</td></tr><tr><td>LP002119</td><td>Male</td><td>Yes</td><td>1</td><td>Not Graduate</td><td>No</td><td>4554</td><td>1229.0</td><td>158</td><td>360</td><td>1</td><td>Urban</td><td>Y</td></tr><tr><td>LP002126</td><td>Male</td><td>Yes</td><td>3+</td><td>Not Graduate</td><td>No</td><td>3173</td><td>0.0</td><td>74</td><td>360</td><td>1</td><td>Semiurban</td><td>Y</td></tr><tr><td>LP002128</td><td>Male</td><td>Yes</td><td>2</td><td>Graduate</td><td>null</td><td>2583</td><td>2330.0</td><td>125</td><td>360</td><td>1</td><td>Rural</td><td>Y</td></tr><tr><td>LP002129</td><td>Male</td><td>Yes</td><td>0</td><td>Graduate</td><td>No</td><td>2499</td><td>2458.0</td><td>160</td><td>360</td><td>1</td><td>Semiurban</td><td>Y</td></tr><tr><td>LP002130</td><td>Male</td><td>Yes</td><td>null</td><td>Not Graduate</td><td>No</td><td>3523</td><td>3230.0</td><td>152</td><td>360</td><td>0</td><td>Rural</td><td>N</td></tr><tr><td>LP002131</td><td>Male</td><td>Yes</td><td>2</td><td>Not Graduate</td><td>No</td><td>3083</td><td>2168.0</td><td>126</td><td>360</td><td>1</td><td>Urban</td><td>Y</td></tr><tr><td>LP002137</td><td>Male</td><td>Yes</td><td>0</td><td>Graduate</td><td>No</td><td>6333</td><td>4583.0</td><td>259</td><td>360</td><td>null</td><td>Semiurban</td><td>Y</td></tr><tr><td>LP002138</td><td>Male</td><td>Yes</td><td>0</td><td>Graduate</td><td>No</td><td>2625</td><td>6250.0</td><td>187</td><td>360</td><td>1</td><td>Rural</td><td>Y</td></tr><tr><td>LP002139</td><td>Male</td><td>Yes</td><td>0</td><td>Graduate</td><td>No</td><td>9083</td><td>0.0</td><td>228</td><td>360</td><td>1</td><td>Semiurban</td><td>Y</td></tr><tr><td>LP002140</td><td>Male</td><td>No</td><td>0</td><td>Graduate</td><td>No</td><td>8750</td><td>4167.0</td><td>308</td><td>360</td><td>1</td><td>Rural</td><td>N</td></tr><tr><td>LP002141</td><td>Male</td><td>Yes</td><td>3+</td><td>Graduate</td><td>No</td><td>2666</td><td>2083.0</td><td>95</td><td>360</td><td>1</td><td>Rural</td><td>Y</td></tr><tr><td>LP002142</td><td>Female</td><td>Yes</td><td>0</td><td>Graduate</td><td>Yes</td><td>5500</td><td>0.0</td><td>105</td><td>360</td><td>0</td><td>Rural</td><td>N</td></tr><tr><td>LP002143</td><td>Female</td><td>Yes</td><td>0</td><td>Graduate</td><td>No</td><td>2423</td><td>505.0</td><td>130</td><td>360</td><td>1</td><td>Semiurban</td><td>Y</td></tr><tr><td>LP002144</td><td>Female</td><td>No</td><td>null</td><td>Graduate</td><td>No</td><td>3813</td><td>0.0</td><td>116</td><td>180</td><td>1</td><td>Urban</td><td>Y</td></tr><tr><td>LP002149</td><td>Male</td><td>Yes</td><td>2</td><td>Graduate</td><td>No</td><td>8333</td><td>3167.0</td><td>165</td><td>360</td><td>1</td><td>Rural</td><td>Y</td></tr><tr><td>LP002151</td><td>Male</td><td>Yes</td><td>1</td><td>Graduate</td><td>No</td><td>3875</td><td>0.0</td><td>67</td><td>360</td><td>1</td><td>Urban</td><td>N</td></tr><tr><td>LP002158</td><td>Male</td><td>Yes</td><td>0</td><td>Not Graduate</td><td>No</td><td>3000</td><td>1666.0</td><td>100</td><td>480</td><td>0</td><td>Urban</td><td>N</td></tr><tr><td>LP002160</td><td>Male</td><td>Yes</td><td>3+</td><td>Graduate</td><td>No</td><td>5167</td><td>3167.0</td><td>200</td><td>360</td><td>1</td><td>Semiurban</td><td>Y</td></tr><tr><td>LP002161</td><td>Female</td><td>No</td><td>1</td><td>Graduate</td><td>No</td><td>4723</td><td>0.0</td><td>81</td><td>360</td><td>1</td><td>Semiurban</td><td>N</td></tr><tr><td>LP002170</td><td>Male</td><td>Yes</td><td>2</td><td>Graduate</td><td>No</td><td>5000</td><td>3667.0</td><td>236</td><td>360</td><td>1</td><td>Semiurban</td><td>Y</td></tr><tr><td>LP002175</td><td>Male</td><td>Yes</td><td>0</td><td>Graduate</td><td>No</td><td>4750</td><td>2333.0</td><td>130</td><td>360</td><td>1</td><td>Urban</td><td>Y</td></tr><tr><td>LP002178</td><td>Male</td><td>Yes</td><td>0</td><td>Graduate</td><td>No</td><td>3013</td><td>3033.0</td><td>95</td><td>300</td><td>null</td><td>Urban</td><td>Y</td></tr><tr><td>LP002180</td><td>Male</td><td>No</td><td>0</td><td>Graduate</td><td>Yes</td><td>6822</td><td>0.0</td><td>141</td><td>360</td><td>1</td><td>Rural</td><td>Y</td></tr><tr><td>LP002181</td><td>Male</td><td>No</td><td>0</td><td>Not Graduate</td><td>No</td><td>6216</td><td>0.0</td><td>133</td><td>360</td><td>1</td><td>Rural</td><td>N</td></tr><tr><td>LP002187</td><td>Male</td><td>No</td><td>0</td><td>Graduate</td><td>No</td><td>2500</td><td>0.0</td><td>96</td><td>480</td><td>1</td><td>Semiurban</td><td>N</td></tr><tr><td>LP002188</td><td>Male</td><td>No</td><td>0</td><td>Graduate</td><td>No</td><td>5124</td><td>0.0</td><td>124</td><td>null</td><td>0</td><td>Rural</td><td>N</td></tr><tr><td>LP002190</td><td>Male</td><td>Yes</td><td>1</td><td>Graduate</td><td>No</td><td>6325</td><td>0.0</td><td>175</td><td>360</td><td>1</td><td>Semiurban</td><td>Y</td></tr><tr><td>LP002191</td><td>Male</td><td>Yes</td><td>0</td><td>Graduate</td><td>No</td><td>19730</td><td>5266.0</td><td>570</td><td>360</td><td>1</td><td>Rural</td><td>N</td></tr><tr><td>LP002194</td><td>Female</td><td>No</td><td>0</td><td>Graduate</td><td>Yes</td><td>15759</td><td>0.0</td><td>55</td><td>360</td><td>1</td><td>Semiurban</td><td>Y</td></tr><tr><td>LP002197</td><td>Male</td><td>Yes</td><td>2</td><td>Graduate</td><td>No</td><td>5185</td><td>0.0</td><td>155</td><td>360</td><td>1</td><td>Semiurban</td><td>Y</td></tr><tr><td>LP002201</td><td>Male</td><td>Yes</td><td>2</td><td>Graduate</td><td>Yes</td><td>9323</td><td>7873.0</td><td>380</td><td>300</td><td>1</td><td>Rural</td><td>Y</td></tr><tr><td>LP002205</td><td>Male</td><td>No</td><td>1</td><td>Graduate</td><td>No</td><td>3062</td><td>1987.0</td><td>111</td><td>180</td><td>0</td><td>Urban</td><td>N</td></tr><tr><td>LP002209</td><td>Female</td><td>No</td><td>0</td><td>Graduate</td><td>null</td><td>2764</td><td>1459.0</td><td>110</td><td>360</td><td>1</td><td>Urban</td><td>Y</td></tr><tr><td>LP002211</td><td>Male</td><td>Yes</td><td>0</td><td>Graduate</td><td>No</td><td>4817</td><td>923.0</td><td>120</td><td>180</td><td>1</td><td>Urban</td><td>Y</td></tr><tr><td>LP002219</td><td>Male</td><td>Yes</td><td>3+</td><td>Graduate</td><td>No</td><td>8750</td><td>4996.0</td><td>130</td><td>360</td><td>1</td><td>Rural</td><td>Y</td></tr><tr><td>LP002223</td><td>Male</td><td>Yes</td><td>0</td><td>Graduate</td><td>No</td><td>4310</td><td>0.0</td><td>130</td><td>360</td><td>null</td><td>Semiurban</td><td>Y</td></tr><tr><td>LP002224</td><td>Male</td><td>No</td><td>0</td><td>Graduate</td><td>No</td><td>3069</td><td>0.0</td><td>71</td><td>480</td><td>1</td><td>Urban</td><td>N</td></tr><tr><td>LP002225</td><td>Male</td><td>Yes</td><td>2</td><td>Graduate</td><td>No</td><td>5391</td><td>0.0</td><td>130</td><td>360</td><td>1</td><td>Urban</td><td>Y</td></tr><tr><td>LP002226</td><td>Male</td><td>Yes</td><td>0</td><td>Graduate</td><td>null</td><td>3333</td><td>2500.0</td><td>128</td><td>360</td><td>1</td><td>Semiurban</td><td>Y</td></tr><tr><td>LP002229</td><td>Male</td><td>No</td><td>0</td><td>Graduate</td><td>No</td><td>5941</td><td>4232.0</td><td>296</td><td>360</td><td>1</td><td>Semiurban</td><td>Y</td></tr><tr><td>LP002231</td><td>Female</td><td>No</td><td>0</td><td>Graduate</td><td>No</td><td>6000</td><td>0.0</td><td>156</td><td>360</td><td>1</td><td>Urban</td><td>Y</td></tr><tr><td>LP002234</td><td>Male</td><td>No</td><td>0</td><td>Graduate</td><td>Yes</td><td>7167</td><td>0.0</td><td>128</td><td>360</td><td>1</td><td>Urban</td><td>Y</td></tr><tr><td>LP002236</td><td>Male</td><td>Yes</td><td>2</td><td>Graduate</td><td>No</td><td>4566</td><td>0.0</td><td>100</td><td>360</td><td>1</td><td>Urban</td><td>N</td></tr><tr><td>LP002237</td><td>Male</td><td>No</td><td>1</td><td>Graduate</td><td>null</td><td>3667</td><td>0.0</td><td>113</td><td>180</td><td>1</td><td>Urban</td><td>Y</td></tr><tr><td>LP002239</td><td>Male</td><td>No</td><td>0</td><td>Not Graduate</td><td>No</td><td>2346</td><td>1600.0</td><td>132</td><td>360</td><td>1</td><td>Semiurban</td><td>Y</td></tr><tr><td>LP002243</td><td>Male</td><td>Yes</td><td>0</td><td>Not Graduate</td><td>No</td><td>3010</td><td>3136.0</td><td>null</td><td>360</td><td>0</td><td>Urban</td><td>N</td></tr><tr><td>LP002244</td><td>Male</td><td>Yes</td><td>0</td><td>Graduate</td><td>No</td><td>2333</td><td>2417.0</td><td>136</td><td>360</td><td>1</td><td>Urban</td><td>Y</td></tr><tr><td>LP002250</td><td>Male</td><td>Yes</td><td>0</td><td>Graduate</td><td>No</td><td>5488</td><td>0.0</td><td>125</td><td>360</td><td>1</td><td>Rural</td><td>Y</td></tr><tr><td>LP002255</td><td>Male</td><td>No</td><td>3+</td><td>Graduate</td><td>No</td><td>9167</td><td>0.0</td><td>185</td><td>360</td><td>1</td><td>Rural</td><td>Y</td></tr><tr><td>LP002262</td><td>Male</td><td>Yes</td><td>3+</td><td>Graduate</td><td>No</td><td>9504</td><td>0.0</td><td>275</td><td>360</td><td>1</td><td>Rural</td><td>Y</td></tr><tr><td>LP002263</td><td>Male</td><td>Yes</td><td>0</td><td>Graduate</td><td>No</td><td>2583</td><td>2115.0</td><td>120</td><td>360</td><td>null</td><td>Urban</td><td>Y</td></tr><tr><td>LP002265</td><td>Male</td><td>Yes</td><td>2</td><td>Not Graduate</td><td>No</td><td>1993</td><td>1625.0</td><td>113</td><td>180</td><td>1</td><td>Semiurban</td><td>Y</td></tr><tr><td>LP002266</td><td>Male</td><td>Yes</td><td>2</td><td>Graduate</td><td>No</td><td>3100</td><td>1400.0</td><td>113</td><td>360</td><td>1</td><td>Urban</td><td>Y</td></tr><tr><td>LP002272</td><td>Male</td><td>Yes</td><td>2</td><td>Graduate</td><td>No</td><td>3276</td><td>484.0</td><td>135</td><td>360</td><td>null</td><td>Semiurban</td><td>Y</td></tr><tr><td>LP002277</td><td>Female</td><td>No</td><td>0</td><td>Graduate</td><td>No</td><td>3180</td><td>0.0</td><td>71</td><td>360</td><td>0</td><td>Urban</td><td>N</td></tr><tr><td>LP002281</td><td>Male</td><td>Yes</td><td>0</td><td>Graduate</td><td>No</td><td>3033</td><td>1459.0</td><td>95</td><td>360</td><td>1</td><td>Urban</td><td>Y</td></tr><tr><td>LP002284</td><td>Male</td><td>No</td><td>0</td><td>Not Graduate</td><td>No</td><td>3902</td><td>1666.0</td><td>109</td><td>360</td><td>1</td><td>Rural</td><td>Y</td></tr><tr><td>LP002287</td><td>Female</td><td>No</td><td>0</td><td>Graduate</td><td>No</td><td>1500</td><td>1800.0</td><td>103</td><td>360</td><td>0</td><td>Semiurban</td><td>N</td></tr><tr><td>LP002288</td><td>Male</td><td>Yes</td><td>2</td><td>Not Graduate</td><td>No</td><td>2889</td><td>0.0</td><td>45</td><td>180</td><td>0</td><td>Urban</td><td>N</td></tr><tr><td>LP002296</td><td>Male</td><td>No</td><td>0</td><td>Not Graduate</td><td>No</td><td>2755</td><td>0.0</td><td>65</td><td>300</td><td>1</td><td>Rural</td><td>N</td></tr><tr><td>LP002297</td><td>Male</td><td>No</td><td>0</td><td>Graduate</td><td>No</td><td>2500</td><td>20000.0</td><td>103</td><td>360</td><td>1</td><td>Semiurban</td><td>Y</td></tr><tr><td>LP002300</td><td>Female</td><td>No</td><td>0</td><td>Not Graduate</td><td>No</td><td>1963</td><td>0.0</td><td>53</td><td>360</td><td>1</td><td>Semiurban</td><td>Y</td></tr><tr><td>LP002301</td><td>Female</td><td>No</td><td>0</td><td>Graduate</td><td>Yes</td><td>7441</td><td>0.0</td><td>194</td><td>360</td><td>1</td><td>Rural</td><td>N</td></tr><tr><td>LP002305</td><td>Female</td><td>No</td><td>0</td><td>Graduate</td><td>No</td><td>4547</td><td>0.0</td><td>115</td><td>360</td><td>1</td><td>Semiurban</td><td>Y</td></tr><tr><td>LP002308</td><td>Male</td><td>Yes</td><td>0</td><td>Not Graduate</td><td>No</td><td>2167</td><td>2400.0</td><td>115</td><td>360</td><td>1</td><td>Urban</td><td>Y</td></tr><tr><td>LP002314</td><td>Female</td><td>No</td><td>0</td><td>Not Graduate</td><td>No</td><td>2213</td><td>0.0</td><td>66</td><td>360</td><td>1</td><td>Rural</td><td>Y</td></tr><tr><td>LP002315</td><td>Male</td><td>Yes</td><td>1</td><td>Graduate</td><td>No</td><td>8300</td><td>0.0</td><td>152</td><td>300</td><td>0</td><td>Semiurban</td><td>N</td></tr><tr><td>LP002317</td><td>Male</td><td>Yes</td><td>3+</td><td>Graduate</td><td>No</td><td>81000</td><td>0.0</td><td>360</td><td>360</td><td>0</td><td>Rural</td><td>N</td></tr><tr><td>LP002318</td><td>Female</td><td>No</td><td>1</td><td>Not Graduate</td><td>Yes</td><td>3867</td><td>0.0</td><td>62</td><td>360</td><td>1</td><td>Semiurban</td><td>N</td></tr><tr><td>LP002319</td><td>Male</td><td>Yes</td><td>0</td><td>Graduate</td><td>null</td><td>6256</td><td>0.0</td><td>160</td><td>360</td><td>null</td><td>Urban</td><td>Y</td></tr><tr><td>LP002328</td><td>Male</td><td>Yes</td><td>0</td><td>Not Graduate</td><td>No</td><td>6096</td><td>0.0</td><td>218</td><td>360</td><td>0</td><td>Rural</td><td>N</td></tr><tr><td>LP002332</td><td>Male</td><td>Yes</td><td>0</td><td>Not Graduate</td><td>No</td><td>2253</td><td>2033.0</td><td>110</td><td>360</td><td>1</td><td>Rural</td><td>Y</td></tr><tr><td>LP002335</td><td>Female</td><td>Yes</td><td>0</td><td>Not Graduate</td><td>No</td><td>2149</td><td>3237.0</td><td>178</td><td>360</td><td>0</td><td>Semiurban</td><td>N</td></tr><tr><td>LP002337</td><td>Female</td><td>No</td><td>0</td><td>Graduate</td><td>No</td><td>2995</td><td>0.0</td><td>60</td><td>360</td><td>1</td><td>Urban</td><td>Y</td></tr><tr><td>LP002341</td><td>Female</td><td>No</td><td>1</td><td>Graduate</td><td>No</td><td>2600</td><td>0.0</td><td>160</td><td>360</td><td>1</td><td>Urban</td><td>N</td></tr><tr><td>LP002342</td><td>Male</td><td>Yes</td><td>2</td><td>Graduate</td><td>Yes</td><td>1600</td><td>20000.0</td><td>239</td><td>360</td><td>1</td><td>Urban</td><td>N</td></tr><tr><td>LP002345</td><td>Male</td><td>Yes</td><td>0</td><td>Graduate</td><td>No</td><td>1025</td><td>2773.0</td><td>112</td><td>360</td><td>1</td><td>Rural</td><td>Y</td></tr><tr><td>LP002347</td><td>Male</td><td>Yes</td><td>0</td><td>Graduate</td><td>No</td><td>3246</td><td>1417.0</td><td>138</td><td>360</td><td>1</td><td>Semiurban</td><td>Y</td></tr><tr><td>LP002348</td><td>Male</td><td>Yes</td><td>0</td><td>Graduate</td><td>No</td><td>5829</td><td>0.0</td><td>138</td><td>360</td><td>1</td><td>Rural</td><td>Y</td></tr><tr><td>LP002357</td><td>Female</td><td>No</td><td>0</td><td>Not Graduate</td><td>No</td><td>2720</td><td>0.0</td><td>80</td><td>null</td><td>0</td><td>Urban</td><td>N</td></tr><tr><td>LP002361</td><td>Male</td><td>Yes</td><td>0</td><td>Graduate</td><td>No</td><td>1820</td><td>1719.0</td><td>100</td><td>360</td><td>1</td><td>Urban</td><td>Y</td></tr><tr><td>LP002362</td><td>Male</td><td>Yes</td><td>1</td><td>Graduate</td><td>No</td><td>7250</td><td>1667.0</td><td>110</td><td>null</td><td>0</td><td>Urban</td><td>N</td></tr><tr><td>LP002364</td><td>Male</td><td>Yes</td><td>0</td><td>Graduate</td><td>No</td><td>14880</td><td>0.0</td><td>96</td><td>360</td><td>1</td><td>Semiurban</td><td>Y</td></tr><tr><td>LP002366</td><td>Male</td><td>Yes</td><td>0</td><td>Graduate</td><td>No</td><td>2666</td><td>4300.0</td><td>121</td><td>360</td><td>1</td><td>Rural</td><td>Y</td></tr><tr><td>LP002367</td><td>Female</td><td>No</td><td>1</td><td>Not Graduate</td><td>No</td><td>4606</td><td>0.0</td><td>81</td><td>360</td><td>1</td><td>Rural</td><td>N</td></tr><tr><td>LP002368</td><td>Male</td><td>Yes</td><td>2</td><td>Graduate</td><td>No</td><td>5935</td><td>0.0</td><td>133</td><td>360</td><td>1</td><td>Semiurban</td><td>Y</td></tr><tr><td>LP002369</td><td>Male</td><td>Yes</td><td>0</td><td>Graduate</td><td>No</td><td>2920</td><td>16.12000084</td><td>87</td><td>360</td><td>1</td><td>Rural</td><td>Y</td></tr><tr><td>LP002370</td><td>Male</td><td>No</td><td>0</td><td>Not Graduate</td><td>No</td><td>2717</td><td>0.0</td><td>60</td><td>180</td><td>1</td><td>Urban</td><td>Y</td></tr><tr><td>LP002377</td><td>Female</td><td>No</td><td>1</td><td>Graduate</td><td>Yes</td><td>8624</td><td>0.0</td><td>150</td><td>360</td><td>1</td><td>Semiurban</td><td>Y</td></tr><tr><td>LP002379</td><td>Male</td><td>No</td><td>0</td><td>Graduate</td><td>No</td><td>6500</td><td>0.0</td><td>105</td><td>360</td><td>0</td><td>Rural</td><td>N</td></tr><tr><td>LP002386</td><td>Male</td><td>No</td><td>0</td><td>Graduate</td><td>null</td><td>12876</td><td>0.0</td><td>405</td><td>360</td><td>1</td><td>Semiurban</td><td>Y</td></tr><tr><td>LP002387</td><td>Male</td><td>Yes</td><td>0</td><td>Graduate</td><td>No</td><td>2425</td><td>2340.0</td><td>143</td><td>360</td><td>1</td><td>Semiurban</td><td>Y</td></tr><tr><td>LP002390</td><td>Male</td><td>No</td><td>0</td><td>Graduate</td><td>No</td><td>3750</td><td>0.0</td><td>100</td><td>360</td><td>1</td><td>Urban</td><td>Y</td></tr><tr><td>LP002393</td><td>Female</td><td>null</td><td>null</td><td>Graduate</td><td>No</td><td>10047</td><td>0.0</td><td>null</td><td>240</td><td>1</td><td>Semiurban</td><td>Y</td></tr><tr><td>LP002398</td><td>Male</td><td>No</td><td>0</td><td>Graduate</td><td>No</td><td>1926</td><td>1851.0</td><td>50</td><td>360</td><td>1</td><td>Semiurban</td><td>Y</td></tr><tr><td>LP002401</td><td>Male</td><td>Yes</td><td>0</td><td>Graduate</td><td>No</td><td>2213</td><td>1125.0</td><td>null</td><td>360</td><td>1</td><td>Urban</td><td>Y</td></tr><tr><td>LP002403</td><td>Male</td><td>No</td><td>0</td><td>Graduate</td><td>Yes</td><td>10416</td><td>0.0</td><td>187</td><td>360</td><td>0</td><td>Urban</td><td>N</td></tr><tr><td>LP002407</td><td>Female</td><td>Yes</td><td>0</td><td>Not Graduate</td><td>Yes</td><td>7142</td><td>0.0</td><td>138</td><td>360</td><td>1</td><td>Rural</td><td>Y</td></tr><tr><td>LP002408</td><td>Male</td><td>No</td><td>0</td><td>Graduate</td><td>No</td><td>3660</td><td>5064.0</td><td>187</td><td>360</td><td>1</td><td>Semiurban</td><td>Y</td></tr><tr><td>LP002409</td><td>Male</td><td>Yes</td><td>0</td><td>Graduate</td><td>No</td><td>7901</td><td>1833.0</td><td>180</td><td>360</td><td>1</td><td>Rural</td><td>Y</td></tr><tr><td>LP002418</td><td>Male</td><td>No</td><td>3+</td><td>Not Graduate</td><td>No</td><td>4707</td><td>1993.0</td><td>148</td><td>360</td><td>1</td><td>Semiurban</td><td>Y</td></tr><tr><td>LP002422</td><td>Male</td><td>No</td><td>1</td><td>Graduate</td><td>No</td><td>37719</td><td>0.0</td><td>152</td><td>360</td><td>1</td><td>Semiurban</td><td>Y</td></tr><tr><td>LP002424</td><td>Male</td><td>Yes</td><td>0</td><td>Graduate</td><td>No</td><td>7333</td><td>8333.0</td><td>175</td><td>300</td><td>null</td><td>Rural</td><td>Y</td></tr><tr><td>LP002429</td><td>Male</td><td>Yes</td><td>1</td><td>Graduate</td><td>Yes</td><td>3466</td><td>1210.0</td><td>130</td><td>360</td><td>1</td><td>Rural</td><td>Y</td></tr><tr><td>LP002434</td><td>Male</td><td>Yes</td><td>2</td><td>Not Graduate</td><td>No</td><td>4652</td><td>0.0</td><td>110</td><td>360</td><td>1</td><td>Rural</td><td>Y</td></tr><tr><td>LP002435</td><td>Male</td><td>Yes</td><td>0</td><td>Graduate</td><td>null</td><td>3539</td><td>1376.0</td><td>55</td><td>360</td><td>1</td><td>Rural</td><td>N</td></tr><tr><td>LP002443</td><td>Male</td><td>Yes</td><td>2</td><td>Graduate</td><td>No</td><td>3340</td><td>1710.0</td><td>150</td><td>360</td><td>0</td><td>Rural</td><td>N</td></tr><tr><td>LP002444</td><td>Male</td><td>No</td><td>1</td><td>Not Graduate</td><td>Yes</td><td>2769</td><td>1542.0</td><td>190</td><td>360</td><td>null</td><td>Semiurban</td><td>N</td></tr><tr><td>LP002446</td><td>Male</td><td>Yes</td><td>2</td><td>Not Graduate</td><td>No</td><td>2309</td><td>1255.0</td><td>125</td><td>360</td><td>0</td><td>Rural</td><td>N</td></tr><tr><td>LP002447</td><td>Male</td><td>Yes</td><td>2</td><td>Not Graduate</td><td>No</td><td>1958</td><td>1456.0</td><td>60</td><td>300</td><td>null</td><td>Urban</td><td>Y</td></tr><tr><td>LP002448</td><td>Male</td><td>Yes</td><td>0</td><td>Graduate</td><td>No</td><td>3948</td><td>1733.0</td><td>149</td><td>360</td><td>0</td><td>Rural</td><td>N</td></tr><tr><td>LP002449</td><td>Male</td><td>Yes</td><td>0</td><td>Graduate</td><td>No</td><td>2483</td><td>2466.0</td><td>90</td><td>180</td><td>0</td><td>Rural</td><td>Y</td></tr><tr><td>LP002453</td><td>Male</td><td>No</td><td>0</td><td>Graduate</td><td>Yes</td><td>7085</td><td>0.0</td><td>84</td><td>360</td><td>1</td><td>Semiurban</td><td>Y</td></tr><tr><td>LP002455</td><td>Male</td><td>Yes</td><td>2</td><td>Graduate</td><td>No</td><td>3859</td><td>0.0</td><td>96</td><td>360</td><td>1</td><td>Semiurban</td><td>Y</td></tr><tr><td>LP002459</td><td>Male</td><td>Yes</td><td>0</td><td>Graduate</td><td>No</td><td>4301</td><td>0.0</td><td>118</td><td>360</td><td>1</td><td>Urban</td><td>Y</td></tr><tr><td>LP002467</td><td>Male</td><td>Yes</td><td>0</td><td>Graduate</td><td>No</td><td>3708</td><td>2569.0</td><td>173</td><td>360</td><td>1</td><td>Urban</td><td>N</td></tr><tr><td>LP002472</td><td>Male</td><td>No</td><td>2</td><td>Graduate</td><td>No</td><td>4354</td><td>0.0</td><td>136</td><td>360</td><td>1</td><td>Rural</td><td>Y</td></tr><tr><td>LP002473</td><td>Male</td><td>Yes</td><td>0</td><td>Graduate</td><td>No</td><td>8334</td><td>0.0</td><td>160</td><td>360</td><td>1</td><td>Semiurban</td><td>N</td></tr><tr><td>LP002478</td><td>null</td><td>Yes</td><td>0</td><td>Graduate</td><td>Yes</td><td>2083</td><td>4083.0</td><td>160</td><td>360</td><td>null</td><td>Semiurban</td><td>Y</td></tr><tr><td>LP002484</td><td>Male</td><td>Yes</td><td>3+</td><td>Graduate</td><td>No</td><td>7740</td><td>0.0</td><td>128</td><td>180</td><td>1</td><td>Urban</td><td>Y</td></tr><tr><td>LP002487</td><td>Male</td><td>Yes</td><td>0</td><td>Graduate</td><td>No</td><td>3015</td><td>2188.0</td><td>153</td><td>360</td><td>1</td><td>Rural</td><td>Y</td></tr><tr><td>LP002489</td><td>Female</td><td>No</td><td>1</td><td>Not Graduate</td><td>null</td><td>5191</td><td>0.0</td><td>132</td><td>360</td><td>1</td><td>Semiurban</td><td>Y</td></tr><tr><td>LP002493</td><td>Male</td><td>No</td><td>0</td><td>Graduate</td><td>No</td><td>4166</td><td>0.0</td><td>98</td><td>360</td><td>0</td><td>Semiurban</td><td>N</td></tr><tr><td>LP002494</td><td>Male</td><td>No</td><td>0</td><td>Graduate</td><td>No</td><td>6000</td><td>0.0</td><td>140</td><td>360</td><td>1</td><td>Rural</td><td>Y</td></tr><tr><td>LP002500</td><td>Male</td><td>Yes</td><td>3+</td><td>Not Graduate</td><td>No</td><td>2947</td><td>1664.0</td><td>70</td><td>180</td><td>0</td><td>Urban</td><td>N</td></tr><tr><td>LP002501</td><td>null</td><td>Yes</td><td>0</td><td>Graduate</td><td>No</td><td>16692</td><td>0.0</td><td>110</td><td>360</td><td>1</td><td>Semiurban</td><td>Y</td></tr><tr><td>LP002502</td><td>Female</td><td>Yes</td><td>2</td><td>Not Graduate</td><td>null</td><td>210</td><td>2917.0</td><td>98</td><td>360</td><td>1</td><td>Semiurban</td><td>Y</td></tr><tr><td>LP002505</td><td>Male</td><td>Yes</td><td>0</td><td>Graduate</td><td>No</td><td>4333</td><td>2451.0</td><td>110</td><td>360</td><td>1</td><td>Urban</td><td>N</td></tr><tr><td>LP002515</td><td>Male</td><td>Yes</td><td>1</td><td>Graduate</td><td>Yes</td><td>3450</td><td>2079.0</td><td>162</td><td>360</td><td>1</td><td>Semiurban</td><td>Y</td></tr><tr><td>LP002517</td><td>Male</td><td>Yes</td><td>1</td><td>Not Graduate</td><td>No</td><td>2653</td><td>1500.0</td><td>113</td><td>180</td><td>0</td><td>Rural</td><td>N</td></tr><tr><td>LP002519</td><td>Male</td><td>Yes</td><td>3+</td><td>Graduate</td><td>No</td><td>4691</td><td>0.0</td><td>100</td><td>360</td><td>1</td><td>Semiurban</td><td>Y</td></tr><tr><td>LP002522</td><td>Female</td><td>No</td><td>0</td><td>Graduate</td><td>Yes</td><td>2500</td><td>0.0</td><td>93</td><td>360</td><td>null</td><td>Urban</td><td>Y</td></tr><tr><td>LP002524</td><td>Male</td><td>No</td><td>2</td><td>Graduate</td><td>No</td><td>5532</td><td>4648.0</td><td>162</td><td>360</td><td>1</td><td>Rural</td><td>Y</td></tr><tr><td>LP002527</td><td>Male</td><td>Yes</td><td>2</td><td>Graduate</td><td>Yes</td><td>16525</td><td>1014.0</td><td>150</td><td>360</td><td>1</td><td>Rural</td><td>Y</td></tr><tr><td>LP002529</td><td>Male</td><td>Yes</td><td>2</td><td>Graduate</td><td>No</td><td>6700</td><td>1750.0</td><td>230</td><td>300</td><td>1</td><td>Semiurban</td><td>Y</td></tr><tr><td>LP002530</td><td>null</td><td>Yes</td><td>2</td><td>Graduate</td><td>No</td><td>2873</td><td>1872.0</td><td>132</td><td>360</td><td>0</td><td>Semiurban</td><td>N</td></tr><tr><td>LP002531</td><td>Male</td><td>Yes</td><td>1</td><td>Graduate</td><td>Yes</td><td>16667</td><td>2250.0</td><td>86</td><td>360</td><td>1</td><td>Semiurban</td><td>Y</td></tr><tr><td>LP002533</td><td>Male</td><td>Yes</td><td>2</td><td>Graduate</td><td>No</td><td>2947</td><td>1603.0</td><td>null</td><td>360</td><td>1</td><td>Urban</td><td>N</td></tr><tr><td>LP002534</td><td>Female</td><td>No</td><td>0</td><td>Not Graduate</td><td>No</td><td>4350</td><td>0.0</td><td>154</td><td>360</td><td>1</td><td>Rural</td><td>Y</td></tr><tr><td>LP002536</td><td>Male</td><td>Yes</td><td>3+</td><td>Not Graduate</td><td>No</td><td>3095</td><td>0.0</td><td>113</td><td>360</td><td>1</td><td>Rural</td><td>Y</td></tr><tr><td>LP002537</td><td>Male</td><td>Yes</td><td>0</td><td>Graduate</td><td>No</td><td>2083</td><td>3150.0</td><td>128</td><td>360</td><td>1</td><td>Semiurban</td><td>Y</td></tr><tr><td>LP002541</td><td>Male</td><td>Yes</td><td>0</td><td>Graduate</td><td>No</td><td>10833</td><td>0.0</td><td>234</td><td>360</td><td>1</td><td>Semiurban</td><td>Y</td></tr><tr><td>LP002543</td><td>Male</td><td>Yes</td><td>2</td><td>Graduate</td><td>No</td><td>8333</td><td>0.0</td><td>246</td><td>360</td><td>1</td><td>Semiurban</td><td>Y</td></tr><tr><td>LP002544</td><td>Male</td><td>Yes</td><td>1</td><td>Not Graduate</td><td>No</td><td>1958</td><td>2436.0</td><td>131</td><td>360</td><td>1</td><td>Rural</td><td>Y</td></tr><tr><td>LP002545</td><td>Male</td><td>No</td><td>2</td><td>Graduate</td><td>No</td><td>3547</td><td>0.0</td><td>80</td><td>360</td><td>0</td><td>Rural</td><td>N</td></tr><tr><td>LP002547</td><td>Male</td><td>Yes</td><td>1</td><td>Graduate</td><td>No</td><td>18333</td><td>0.0</td><td>500</td><td>360</td><td>1</td><td>Urban</td><td>N</td></tr><tr><td>LP002555</td><td>Male</td><td>Yes</td><td>2</td><td>Graduate</td><td>Yes</td><td>4583</td><td>2083.0</td><td>160</td><td>360</td><td>1</td><td>Semiurban</td><td>Y</td></tr><tr><td>LP002556</td><td>Male</td><td>No</td><td>0</td><td>Graduate</td><td>No</td><td>2435</td><td>0.0</td><td>75</td><td>360</td><td>1</td><td>Urban</td><td>N</td></tr><tr><td>LP002560</td><td>Male</td><td>No</td><td>0</td><td>Not Graduate</td><td>No</td><td>2699</td><td>2785.0</td><td>96</td><td>360</td><td>null</td><td>Semiurban</td><td>Y</td></tr><tr><td>LP002562</td><td>Male</td><td>Yes</td><td>1</td><td>Not Graduate</td><td>No</td><td>5333</td><td>1131.0</td><td>186</td><td>360</td><td>null</td><td>Urban</td><td>Y</td></tr><tr><td>LP002571</td><td>Male</td><td>No</td><td>0</td><td>Not Graduate</td><td>No</td><td>3691</td><td>0.0</td><td>110</td><td>360</td><td>1</td><td>Rural</td><td>Y</td></tr><tr><td>LP002582</td><td>Female</td><td>No</td><td>0</td><td>Not Graduate</td><td>Yes</td><td>17263</td><td>0.0</td><td>225</td><td>360</td><td>1</td><td>Semiurban</td><td>Y</td></tr><tr><td>LP002585</td><td>Male</td><td>Yes</td><td>0</td><td>Graduate</td><td>No</td><td>3597</td><td>2157.0</td><td>119</td><td>360</td><td>0</td><td>Rural</td><td>N</td></tr><tr><td>LP002586</td><td>Female</td><td>Yes</td><td>1</td><td>Graduate</td><td>No</td><td>3326</td><td>913.0</td><td>105</td><td>84</td><td>1</td><td>Semiurban</td><td>Y</td></tr><tr><td>LP002587</td><td>Male</td><td>Yes</td><td>0</td><td>Not Graduate</td><td>No</td><td>2600</td><td>1700.0</td><td>107</td><td>360</td><td>1</td><td>Rural</td><td>Y</td></tr><tr><td>LP002588</td><td>Male</td><td>Yes</td><td>0</td><td>Graduate</td><td>No</td><td>4625</td><td>2857.0</td><td>111</td><td>12</td><td>null</td><td>Urban</td><td>Y</td></tr><tr><td>LP002600</td><td>Male</td><td>Yes</td><td>1</td><td>Graduate</td><td>Yes</td><td>2895</td><td>0.0</td><td>95</td><td>360</td><td>1</td><td>Semiurban</td><td>Y</td></tr><tr><td>LP002602</td><td>Male</td><td>No</td><td>0</td><td>Graduate</td><td>No</td><td>6283</td><td>4416.0</td><td>209</td><td>360</td><td>0</td><td>Rural</td><td>N</td></tr><tr><td>LP002603</td><td>Female</td><td>No</td><td>0</td><td>Graduate</td><td>No</td><td>645</td><td>3683.0</td><td>113</td><td>480</td><td>1</td><td>Rural</td><td>Y</td></tr><tr><td>LP002606</td><td>Female</td><td>No</td><td>0</td><td>Graduate</td><td>No</td><td>3159</td><td>0.0</td><td>100</td><td>360</td><td>1</td><td>Semiurban</td><td>Y</td></tr><tr><td>LP002615</td><td>Male</td><td>Yes</td><td>2</td><td>Graduate</td><td>No</td><td>4865</td><td>5624.0</td><td>208</td><td>360</td><td>1</td><td>Semiurban</td><td>Y</td></tr><tr><td>LP002618</td><td>Male</td><td>Yes</td><td>1</td><td>Not Graduate</td><td>No</td><td>4050</td><td>5302.0</td><td>138</td><td>360</td><td>null</td><td>Rural</td><td>N</td></tr><tr><td>LP002619</td><td>Male</td><td>Yes</td><td>0</td><td>Not Graduate</td><td>No</td><td>3814</td><td>1483.0</td><td>124</td><td>300</td><td>1</td><td>Semiurban</td><td>Y</td></tr><tr><td>LP002622</td><td>Male</td><td>Yes</td><td>2</td><td>Graduate</td><td>No</td><td>3510</td><td>4416.0</td><td>243</td><td>360</td><td>1</td><td>Rural</td><td>Y</td></tr><tr><td>LP002624</td><td>Male</td><td>Yes</td><td>0</td><td>Graduate</td><td>No</td><td>20833</td><td>6667.0</td><td>480</td><td>360</td><td>null</td><td>Urban</td><td>Y</td></tr><tr><td>LP002625</td><td>null</td><td>No</td><td>0</td><td>Graduate</td><td>No</td><td>3583</td><td>0.0</td><td>96</td><td>360</td><td>1</td><td>Urban</td><td>N</td></tr><tr><td>LP002626</td><td>Male</td><td>Yes</td><td>0</td><td>Graduate</td><td>Yes</td><td>2479</td><td>3013.0</td><td>188</td><td>360</td><td>1</td><td>Urban</td><td>Y</td></tr><tr><td>LP002634</td><td>Female</td><td>No</td><td>1</td><td>Graduate</td><td>No</td><td>13262</td><td>0.0</td><td>40</td><td>360</td><td>1</td><td>Urban</td><td>Y</td></tr><tr><td>LP002637</td><td>Male</td><td>No</td><td>0</td><td>Not Graduate</td><td>No</td><td>3598</td><td>1287.0</td><td>100</td><td>360</td><td>1</td><td>Rural</td><td>N</td></tr><tr><td>LP002640</td><td>Male</td><td>Yes</td><td>1</td><td>Graduate</td><td>No</td><td>6065</td><td>2004.0</td><td>250</td><td>360</td><td>1</td><td>Semiurban</td><td>Y</td></tr><tr><td>LP002643</td><td>Male</td><td>Yes</td><td>2</td><td>Graduate</td><td>No</td><td>3283</td><td>2035.0</td><td>148</td><td>360</td><td>1</td><td>Urban</td><td>Y</td></tr><tr><td>LP002648</td><td>Male</td><td>Yes</td><td>0</td><td>Graduate</td><td>No</td><td>2130</td><td>6666.0</td><td>70</td><td>180</td><td>1</td><td>Semiurban</td><td>N</td></tr><tr><td>LP002652</td><td>Male</td><td>No</td><td>0</td><td>Graduate</td><td>No</td><td>5815</td><td>3666.0</td><td>311</td><td>360</td><td>1</td><td>Rural</td><td>N</td></tr><tr><td>LP002659</td><td>Male</td><td>Yes</td><td>3+</td><td>Graduate</td><td>No</td><td>3466</td><td>3428.0</td><td>150</td><td>360</td><td>1</td><td>Rural</td><td>Y</td></tr><tr><td>LP002670</td><td>Female</td><td>Yes</td><td>2</td><td>Graduate</td><td>No</td><td>2031</td><td>1632.0</td><td>113</td><td>480</td><td>1</td><td>Semiurban</td><td>Y</td></tr><tr><td>LP002682</td><td>Male</td><td>Yes</td><td>null</td><td>Not Graduate</td><td>No</td><td>3074</td><td>1800.0</td><td>123</td><td>360</td><td>0</td><td>Semiurban</td><td>N</td></tr><tr><td>LP002683</td><td>Male</td><td>No</td><td>0</td><td>Graduate</td><td>No</td><td>4683</td><td>1915.0</td><td>185</td><td>360</td><td>1</td><td>Semiurban</td><td>N</td></tr><tr><td>LP002684</td><td>Female</td><td>No</td><td>0</td><td>Not Graduate</td><td>No</td><td>3400</td><td>0.0</td><td>95</td><td>360</td><td>1</td><td>Rural</td><td>N</td></tr><tr><td>LP002689</td><td>Male</td><td>Yes</td><td>2</td><td>Not Graduate</td><td>No</td><td>2192</td><td>1742.0</td><td>45</td><td>360</td><td>1</td><td>Semiurban</td><td>Y</td></tr><tr><td>LP002690</td><td>Male</td><td>No</td><td>0</td><td>Graduate</td><td>No</td><td>2500</td><td>0.0</td><td>55</td><td>360</td><td>1</td><td>Semiurban</td><td>Y</td></tr><tr><td>LP002692</td><td>Male</td><td>Yes</td><td>3+</td><td>Graduate</td><td>Yes</td><td>5677</td><td>1424.0</td><td>100</td><td>360</td><td>1</td><td>Rural</td><td>Y</td></tr><tr><td>LP002693</td><td>Male</td><td>Yes</td><td>2</td><td>Graduate</td><td>Yes</td><td>7948</td><td>7166.0</td><td>480</td><td>360</td><td>1</td><td>Rural</td><td>Y</td></tr><tr><td>LP002697</td><td>Male</td><td>No</td><td>0</td><td>Graduate</td><td>No</td><td>4680</td><td>2087.0</td><td>null</td><td>360</td><td>1</td><td>Semiurban</td><td>N</td></tr><tr><td>LP002699</td><td>Male</td><td>Yes</td><td>2</td><td>Graduate</td><td>Yes</td><td>17500</td><td>0.0</td><td>400</td><td>360</td><td>1</td><td>Rural</td><td>Y</td></tr><tr><td>LP002705</td><td>Male</td><td>Yes</td><td>0</td><td>Graduate</td><td>No</td><td>3775</td><td>0.0</td><td>110</td><td>360</td><td>1</td><td>Semiurban</td><td>Y</td></tr><tr><td>LP002706</td><td>Male</td><td>Yes</td><td>1</td><td>Not Graduate</td><td>No</td><td>5285</td><td>1430.0</td><td>161</td><td>360</td><td>0</td><td>Semiurban</td><td>Y</td></tr><tr><td>LP002714</td><td>Male</td><td>No</td><td>1</td><td>Not Graduate</td><td>No</td><td>2679</td><td>1302.0</td><td>94</td><td>360</td><td>1</td><td>Semiurban</td><td>Y</td></tr><tr><td>LP002716</td><td>Male</td><td>No</td><td>0</td><td>Not Graduate</td><td>No</td><td>6783</td><td>0.0</td><td>130</td><td>360</td><td>1</td><td>Semiurban</td><td>Y</td></tr><tr><td>LP002717</td><td>Male</td><td>Yes</td><td>0</td><td>Graduate</td><td>No</td><td>1025</td><td>5500.0</td><td>216</td><td>360</td><td>null</td><td>Rural</td><td>Y</td></tr><tr><td>LP002720</td><td>Male</td><td>Yes</td><td>3+</td><td>Graduate</td><td>No</td><td>4281</td><td>0.0</td><td>100</td><td>360</td><td>1</td><td>Urban</td><td>Y</td></tr><tr><td>LP002723</td><td>Male</td><td>No</td><td>2</td><td>Graduate</td><td>No</td><td>3588</td><td>0.0</td><td>110</td><td>360</td><td>0</td><td>Rural</td><td>N</td></tr><tr><td>LP002729</td><td>Male</td><td>No</td><td>1</td><td>Graduate</td><td>No</td><td>11250</td><td>0.0</td><td>196</td><td>360</td><td>null</td><td>Semiurban</td><td>N</td></tr><tr><td>LP002731</td><td>Female</td><td>No</td><td>0</td><td>Not Graduate</td><td>Yes</td><td>18165</td><td>0.0</td><td>125</td><td>360</td><td>1</td><td>Urban</td><td>Y</td></tr><tr><td>LP002732</td><td>Male</td><td>No</td><td>0</td><td>Not Graduate</td><td>null</td><td>2550</td><td>2042.0</td><td>126</td><td>360</td><td>1</td><td>Rural</td><td>Y</td></tr><tr><td>LP002734</td><td>Male</td><td>Yes</td><td>0</td><td>Graduate</td><td>No</td><td>6133</td><td>3906.0</td><td>324</td><td>360</td><td>1</td><td>Urban</td><td>Y</td></tr><tr><td>LP002738</td><td>Male</td><td>No</td><td>2</td><td>Graduate</td><td>No</td><td>3617</td><td>0.0</td><td>107</td><td>360</td><td>1</td><td>Semiurban</td><td>Y</td></tr><tr><td>LP002739</td><td>Male</td><td>Yes</td><td>0</td><td>Not Graduate</td><td>No</td><td>2917</td><td>536.0</td><td>66</td><td>360</td><td>1</td><td>Rural</td><td>N</td></tr><tr><td>LP002740</td><td>Male</td><td>Yes</td><td>3+</td><td>Graduate</td><td>No</td><td>6417</td><td>0.0</td><td>157</td><td>180</td><td>1</td><td>Rural</td><td>Y</td></tr><tr><td>LP002741</td><td>Female</td><td>Yes</td><td>1</td><td>Graduate</td><td>No</td><td>4608</td><td>2845.0</td><td>140</td><td>180</td><td>1</td><td>Semiurban</td><td>Y</td></tr><tr><td>LP002743</td><td>Female</td><td>No</td><td>0</td><td>Graduate</td><td>No</td><td>2138</td><td>0.0</td><td>99</td><td>360</td><td>0</td><td>Semiurban</td><td>N</td></tr><tr><td>LP002753</td><td>Female</td><td>No</td><td>1</td><td>Graduate</td><td>null</td><td>3652</td><td>0.0</td><td>95</td><td>360</td><td>1</td><td>Semiurban</td><td>Y</td></tr><tr><td>LP002755</td><td>Male</td><td>Yes</td><td>1</td><td>Not Graduate</td><td>No</td><td>2239</td><td>2524.0</td><td>128</td><td>360</td><td>1</td><td>Urban</td><td>Y</td></tr><tr><td>LP002757</td><td>Female</td><td>Yes</td><td>0</td><td>Not Graduate</td><td>No</td><td>3017</td><td>663.0</td><td>102</td><td>360</td><td>null</td><td>Semiurban</td><td>Y</td></tr><tr><td>LP002767</td><td>Male</td><td>Yes</td><td>0</td><td>Graduate</td><td>No</td><td>2768</td><td>1950.0</td><td>155</td><td>360</td><td>1</td><td>Rural</td><td>Y</td></tr><tr><td>LP002768</td><td>Male</td><td>No</td><td>0</td><td>Not Graduate</td><td>No</td><td>3358</td><td>0.0</td><td>80</td><td>36</td><td>1</td><td>Semiurban</td><td>N</td></tr><tr><td>LP002772</td><td>Male</td><td>No</td><td>0</td><td>Graduate</td><td>No</td><td>2526</td><td>1783.0</td><td>145</td><td>360</td><td>1</td><td>Rural</td><td>Y</td></tr><tr><td>LP002776</td><td>Female</td><td>No</td><td>0</td><td>Graduate</td><td>No</td><td>5000</td><td>0.0</td><td>103</td><td>360</td><td>0</td><td>Semiurban</td><td>N</td></tr><tr><td>LP002777</td><td>Male</td><td>Yes</td><td>0</td><td>Graduate</td><td>No</td><td>2785</td><td>2016.0</td><td>110</td><td>360</td><td>1</td><td>Rural</td><td>Y</td></tr><tr><td>LP002778</td><td>Male</td><td>Yes</td><td>2</td><td>Graduate</td><td>Yes</td><td>6633</td><td>0.0</td><td>null</td><td>360</td><td>0</td><td>Rural</td><td>N</td></tr><tr><td>LP002784</td><td>Male</td><td>Yes</td><td>1</td><td>Not Graduate</td><td>No</td><td>2492</td><td>2375.0</td><td>null</td><td>360</td><td>1</td><td>Rural</td><td>Y</td></tr><tr><td>LP002785</td><td>Male</td><td>Yes</td><td>1</td><td>Graduate</td><td>No</td><td>3333</td><td>3250.0</td><td>158</td><td>360</td><td>1</td><td>Urban</td><td>Y</td></tr><tr><td>LP002788</td><td>Male</td><td>Yes</td><td>0</td><td>Not Graduate</td><td>No</td><td>2454</td><td>2333.0</td><td>181</td><td>360</td><td>0</td><td>Urban</td><td>N</td></tr><tr><td>LP002789</td><td>Male</td><td>Yes</td><td>0</td><td>Graduate</td><td>No</td><td>3593</td><td>4266.0</td><td>132</td><td>180</td><td>0</td><td>Rural</td><td>N</td></tr><tr><td>LP002792</td><td>Male</td><td>Yes</td><td>1</td><td>Graduate</td><td>No</td><td>5468</td><td>1032.0</td><td>26</td><td>360</td><td>1</td><td>Semiurban</td><td>Y</td></tr><tr><td>LP002794</td><td>Female</td><td>No</td><td>0</td><td>Graduate</td><td>No</td><td>2667</td><td>1625.0</td><td>84</td><td>360</td><td>null</td><td>Urban</td><td>Y</td></tr><tr><td>LP002795</td><td>Male</td><td>Yes</td><td>3+</td><td>Graduate</td><td>Yes</td><td>10139</td><td>0.0</td><td>260</td><td>360</td><td>1</td><td>Semiurban</td><td>Y</td></tr><tr><td>LP002798</td><td>Male</td><td>Yes</td><td>0</td><td>Graduate</td><td>No</td><td>3887</td><td>2669.0</td><td>162</td><td>360</td><td>1</td><td>Semiurban</td><td>Y</td></tr><tr><td>LP002804</td><td>Female</td><td>Yes</td><td>0</td><td>Graduate</td><td>No</td><td>4180</td><td>2306.0</td><td>182</td><td>360</td><td>1</td><td>Semiurban</td><td>Y</td></tr><tr><td>LP002807</td><td>Male</td><td>Yes</td><td>2</td><td>Not Graduate</td><td>No</td><td>3675</td><td>242.0</td><td>108</td><td>360</td><td>1</td><td>Semiurban</td><td>Y</td></tr><tr><td>LP002813</td><td>Female</td><td>Yes</td><td>1</td><td>Graduate</td><td>Yes</td><td>19484</td><td>0.0</td><td>600</td><td>360</td><td>1</td><td>Semiurban</td><td>Y</td></tr><tr><td>LP002820</td><td>Male</td><td>Yes</td><td>0</td><td>Graduate</td><td>No</td><td>5923</td><td>2054.0</td><td>211</td><td>360</td><td>1</td><td>Rural</td><td>Y</td></tr><tr><td>LP002821</td><td>Male</td><td>No</td><td>0</td><td>Not Graduate</td><td>Yes</td><td>5800</td><td>0.0</td><td>132</td><td>360</td><td>1</td><td>Semiurban</td><td>Y</td></tr><tr><td>LP002832</td><td>Male</td><td>Yes</td><td>2</td><td>Graduate</td><td>No</td><td>8799</td><td>0.0</td><td>258</td><td>360</td><td>0</td><td>Urban</td><td>N</td></tr><tr><td>LP002833</td><td>Male</td><td>Yes</td><td>0</td><td>Not Graduate</td><td>No</td><td>4467</td><td>0.0</td><td>120</td><td>360</td><td>null</td><td>Rural</td><td>Y</td></tr><tr><td>LP002836</td><td>Male</td><td>No</td><td>0</td><td>Graduate</td><td>No</td><td>3333</td><td>0.0</td><td>70</td><td>360</td><td>1</td><td>Urban</td><td>Y</td></tr><tr><td>LP002837</td><td>Male</td><td>Yes</td><td>3+</td><td>Graduate</td><td>No</td><td>3400</td><td>2500.0</td><td>123</td><td>360</td><td>0</td><td>Rural</td><td>N</td></tr><tr><td>LP002840</td><td>Female</td><td>No</td><td>0</td><td>Graduate</td><td>No</td><td>2378</td><td>0.0</td><td>9</td><td>360</td><td>1</td><td>Urban</td><td>N</td></tr><tr><td>LP002841</td><td>Male</td><td>Yes</td><td>0</td><td>Graduate</td><td>No</td><td>3166</td><td>2064.0</td><td>104</td><td>360</td><td>0</td><td>Urban</td><td>N</td></tr><tr><td>LP002842</td><td>Male</td><td>Yes</td><td>1</td><td>Graduate</td><td>No</td><td>3417</td><td>1750.0</td><td>186</td><td>360</td><td>1</td><td>Urban</td><td>Y</td></tr><tr><td>LP002847</td><td>Male</td><td>Yes</td><td>null</td><td>Graduate</td><td>No</td><td>5116</td><td>1451.0</td><td>165</td><td>360</td><td>0</td><td>Urban</td><td>N</td></tr><tr><td>LP002855</td><td>Male</td><td>Yes</td><td>2</td><td>Graduate</td><td>No</td><td>16666</td><td>0.0</td><td>275</td><td>360</td><td>1</td><td>Urban</td><td>Y</td></tr><tr><td>LP002862</td><td>Male</td><td>Yes</td><td>2</td><td>Not Graduate</td><td>No</td><td>6125</td><td>1625.0</td><td>187</td><td>480</td><td>1</td><td>Semiurban</td><td>N</td></tr><tr><td>LP002863</td><td>Male</td><td>Yes</td><td>3+</td><td>Graduate</td><td>No</td><td>6406</td><td>0.0</td><td>150</td><td>360</td><td>1</td><td>Semiurban</td><td>N</td></tr><tr><td>LP002868</td><td>Male</td><td>Yes</td><td>2</td><td>Graduate</td><td>No</td><td>3159</td><td>461.0</td><td>108</td><td>84</td><td>1</td><td>Urban</td><td>Y</td></tr><tr><td>LP002872</td><td>null</td><td>Yes</td><td>0</td><td>Graduate</td><td>No</td><td>3087</td><td>2210.0</td><td>136</td><td>360</td><td>0</td><td>Semiurban</td><td>N</td></tr><tr><td>LP002874</td><td>Male</td><td>No</td><td>0</td><td>Graduate</td><td>No</td><td>3229</td><td>2739.0</td><td>110</td><td>360</td><td>1</td><td>Urban</td><td>Y</td></tr><tr><td>LP002877</td><td>Male</td><td>Yes</td><td>1</td><td>Graduate</td><td>No</td><td>1782</td><td>2232.0</td><td>107</td><td>360</td><td>1</td><td>Rural</td><td>Y</td></tr><tr><td>LP002888</td><td>Male</td><td>No</td><td>0</td><td>Graduate</td><td>null</td><td>3182</td><td>2917.0</td><td>161</td><td>360</td><td>1</td><td>Urban</td><td>Y</td></tr><tr><td>LP002892</td><td>Male</td><td>Yes</td><td>2</td><td>Graduate</td><td>No</td><td>6540</td><td>0.0</td><td>205</td><td>360</td><td>1</td><td>Semiurban</td><td>Y</td></tr><tr><td>LP002893</td><td>Male</td><td>No</td><td>0</td><td>Graduate</td><td>No</td><td>1836</td><td>33837.0</td><td>90</td><td>360</td><td>1</td><td>Urban</td><td>N</td></tr><tr><td>LP002894</td><td>Female</td><td>Yes</td><td>0</td><td>Graduate</td><td>No</td><td>3166</td><td>0.0</td><td>36</td><td>360</td><td>1</td><td>Semiurban</td><td>Y</td></tr><tr><td>LP002898</td><td>Male</td><td>Yes</td><td>1</td><td>Graduate</td><td>No</td><td>1880</td><td>0.0</td><td>61</td><td>360</td><td>null</td><td>Rural</td><td>N</td></tr><tr><td>LP002911</td><td>Male</td><td>Yes</td><td>1</td><td>Graduate</td><td>No</td><td>2787</td><td>1917.0</td><td>146</td><td>360</td><td>0</td><td>Rural</td><td>N</td></tr><tr><td>LP002912</td><td>Male</td><td>Yes</td><td>1</td><td>Graduate</td><td>No</td><td>4283</td><td>3000.0</td><td>172</td><td>84</td><td>1</td><td>Rural</td><td>N</td></tr><tr><td>LP002916</td><td>Male</td><td>Yes</td><td>0</td><td>Graduate</td><td>No</td><td>2297</td><td>1522.0</td><td>104</td><td>360</td><td>1</td><td>Urban</td><td>Y</td></tr><tr><td>LP002917</td><td>Female</td><td>No</td><td>0</td><td>Not Graduate</td><td>No</td><td>2165</td><td>0.0</td><td>70</td><td>360</td><td>1</td><td>Semiurban</td><td>Y</td></tr><tr><td>LP002925</td><td>null</td><td>No</td><td>0</td><td>Graduate</td><td>No</td><td>4750</td><td>0.0</td><td>94</td><td>360</td><td>1</td><td>Semiurban</td><td>Y</td></tr><tr><td>LP002926</td><td>Male</td><td>Yes</td><td>2</td><td>Graduate</td><td>Yes</td><td>2726</td><td>0.0</td><td>106</td><td>360</td><td>0</td><td>Semiurban</td><td>N</td></tr><tr><td>LP002928</td><td>Male</td><td>Yes</td><td>0</td><td>Graduate</td><td>No</td><td>3000</td><td>3416.0</td><td>56</td><td>180</td><td>1</td><td>Semiurban</td><td>Y</td></tr><tr><td>LP002931</td><td>Male</td><td>Yes</td><td>2</td><td>Graduate</td><td>Yes</td><td>6000</td><td>0.0</td><td>205</td><td>240</td><td>1</td><td>Semiurban</td><td>N</td></tr><tr><td>LP002933</td><td>null</td><td>No</td><td>3+</td><td>Graduate</td><td>Yes</td><td>9357</td><td>0.0</td><td>292</td><td>360</td><td>1</td><td>Semiurban</td><td>Y</td></tr><tr><td>LP002936</td><td>Male</td><td>Yes</td><td>0</td><td>Graduate</td><td>No</td><td>3859</td><td>3300.0</td><td>142</td><td>180</td><td>1</td><td>Rural</td><td>Y</td></tr><tr><td>LP002938</td><td>Male</td><td>Yes</td><td>0</td><td>Graduate</td><td>Yes</td><td>16120</td><td>0.0</td><td>260</td><td>360</td><td>1</td><td>Urban</td><td>Y</td></tr><tr><td>LP002940</td><td>Male</td><td>No</td><td>0</td><td>Not Graduate</td><td>No</td><td>3833</td><td>0.0</td><td>110</td><td>360</td><td>1</td><td>Rural</td><td>Y</td></tr><tr><td>LP002941</td><td>Male</td><td>Yes</td><td>2</td><td>Not Graduate</td><td>Yes</td><td>6383</td><td>1000.0</td><td>187</td><td>360</td><td>1</td><td>Rural</td><td>N</td></tr><tr><td>LP002943</td><td>Male</td><td>No</td><td>null</td><td>Graduate</td><td>No</td><td>2987</td><td>0.0</td><td>88</td><td>360</td><td>0</td><td>Semiurban</td><td>N</td></tr><tr><td>LP002945</td><td>Male</td><td>Yes</td><td>0</td><td>Graduate</td><td>Yes</td><td>9963</td><td>0.0</td><td>180</td><td>360</td><td>1</td><td>Rural</td><td>Y</td></tr><tr><td>LP002948</td><td>Male</td><td>Yes</td><td>2</td><td>Graduate</td><td>No</td><td>5780</td><td>0.0</td><td>192</td><td>360</td><td>1</td><td>Urban</td><td>Y</td></tr><tr><td>LP002949</td><td>Female</td><td>No</td><td>3+</td><td>Graduate</td><td>null</td><td>416</td><td>41667.0</td><td>350</td><td>180</td><td>null</td><td>Urban</td><td>N</td></tr><tr><td>LP002950</td><td>Male</td><td>Yes</td><td>0</td><td>Not Graduate</td><td>null</td><td>2894</td><td>2792.0</td><td>155</td><td>360</td><td>1</td><td>Rural</td><td>Y</td></tr><tr><td>LP002953</td><td>Male</td><td>Yes</td><td>3+</td><td>Graduate</td><td>No</td><td>5703</td><td>0.0</td><td>128</td><td>360</td><td>1</td><td>Urban</td><td>Y</td></tr><tr><td>LP002958</td><td>Male</td><td>No</td><td>0</td><td>Graduate</td><td>No</td><td>3676</td><td>4301.0</td><td>172</td><td>360</td><td>1</td><td>Rural</td><td>Y</td></tr><tr><td>LP002959</td><td>Female</td><td>Yes</td><td>1</td><td>Graduate</td><td>No</td><td>12000</td><td>0.0</td><td>496</td><td>360</td><td>1</td><td>Semiurban</td><td>Y</td></tr><tr><td>LP002960</td><td>Male</td><td>Yes</td><td>0</td><td>Not Graduate</td><td>No</td><td>2400</td><td>3800.0</td><td>null</td><td>180</td><td>1</td><td>Urban</td><td>N</td></tr><tr><td>LP002961</td><td>Male</td><td>Yes</td><td>1</td><td>Graduate</td><td>No</td><td>3400</td><td>2500.0</td><td>173</td><td>360</td><td>1</td><td>Semiurban</td><td>Y</td></tr><tr><td>LP002964</td><td>Male</td><td>Yes</td><td>2</td><td>Not Graduate</td><td>No</td><td>3987</td><td>1411.0</td><td>157</td><td>360</td><td>1</td><td>Rural</td><td>Y</td></tr><tr><td>LP002974</td><td>Male</td><td>Yes</td><td>0</td><td>Graduate</td><td>No</td><td>3232</td><td>1950.0</td><td>108</td><td>360</td><td>1</td><td>Rural</td><td>Y</td></tr><tr><td>LP002978</td><td>Female</td><td>No</td><td>0</td><td>Graduate</td><td>No</td><td>2900</td><td>0.0</td><td>71</td><td>360</td><td>1</td><td>Rural</td><td>Y</td></tr><tr><td>LP002979</td><td>Male</td><td>Yes</td><td>3+</td><td>Graduate</td><td>No</td><td>4106</td><td>0.0</td><td>40</td><td>180</td><td>1</td><td>Rural</td><td>Y</td></tr><tr><td>LP002983</td><td>Male</td><td>Yes</td><td>1</td><td>Graduate</td><td>No</td><td>8072</td><td>240.0</td><td>253</td><td>360</td><td>1</td><td>Urban</td><td>Y</td></tr><tr><td>LP002984</td><td>Male</td><td>Yes</td><td>2</td><td>Graduate</td><td>No</td><td>7583</td><td>0.0</td><td>187</td><td>360</td><td>1</td><td>Urban</td><td>Y</td></tr><tr><td>LP002990</td><td>Female</td><td>No</td><td>0</td><td>Graduate</td><td>Yes</td><td>4583</td><td>0.0</td><td>133</td><td>360</td><td>0</td><td>Semiurban</td><td>N</td></tr></tbody></table></div>"
      ]
     },
     "metadata": {
      "application/vnd.databricks.v1+output": {
       "addedWidgets": {},
       "aggData": [],
       "aggError": "",
       "aggOverflow": false,
       "aggSchema": [],
       "aggSeriesLimitReached": false,
       "aggType": "",
       "arguments": {},
       "columnCustomDisplayInfos": {},
       "data": [
        [
         "LP001002",
         "Male",
         "No",
         "0",
         "Graduate",
         "No",
         5849,
         0.0,
         null,
         360,
         1,
         "Urban",
         "Y"
        ],
        [
         "LP001003",
         "Male",
         "Yes",
         "1",
         "Graduate",
         "No",
         4583,
         1508.0,
         128,
         360,
         1,
         "Rural",
         "N"
        ],
        [
         "LP001005",
         "Male",
         "Yes",
         "0",
         "Graduate",
         "Yes",
         3000,
         0.0,
         66,
         360,
         1,
         "Urban",
         "Y"
        ],
        [
         "LP001006",
         "Male",
         "Yes",
         "0",
         "Not Graduate",
         "No",
         2583,
         2358.0,
         120,
         360,
         1,
         "Urban",
         "Y"
        ],
        [
         "LP001008",
         "Male",
         "No",
         "0",
         "Graduate",
         "No",
         6000,
         0.0,
         141,
         360,
         1,
         "Urban",
         "Y"
        ],
        [
         "LP001011",
         "Male",
         "Yes",
         "2",
         "Graduate",
         "Yes",
         5417,
         4196.0,
         267,
         360,
         1,
         "Urban",
         "Y"
        ],
        [
         "LP001013",
         "Male",
         "Yes",
         "0",
         "Not Graduate",
         "No",
         2333,
         1516.0,
         95,
         360,
         1,
         "Urban",
         "Y"
        ],
        [
         "LP001014",
         "Male",
         "Yes",
         "3+",
         "Graduate",
         "No",
         3036,
         2504.0,
         158,
         360,
         0,
         "Semiurban",
         "N"
        ],
        [
         "LP001018",
         "Male",
         "Yes",
         "2",
         "Graduate",
         "No",
         4006,
         1526.0,
         168,
         360,
         1,
         "Urban",
         "Y"
        ],
        [
         "LP001020",
         "Male",
         "Yes",
         "1",
         "Graduate",
         "No",
         12841,
         10968.0,
         349,
         360,
         1,
         "Semiurban",
         "N"
        ],
        [
         "LP001024",
         "Male",
         "Yes",
         "2",
         "Graduate",
         "No",
         3200,
         700.0,
         70,
         360,
         1,
         "Urban",
         "Y"
        ],
        [
         "LP001027",
         "Male",
         "Yes",
         "2",
         "Graduate",
         null,
         2500,
         1840.0,
         109,
         360,
         1,
         "Urban",
         "Y"
        ],
        [
         "LP001028",
         "Male",
         "Yes",
         "2",
         "Graduate",
         "No",
         3073,
         8106.0,
         200,
         360,
         1,
         "Urban",
         "Y"
        ],
        [
         "LP001029",
         "Male",
         "No",
         "0",
         "Graduate",
         "No",
         1853,
         2840.0,
         114,
         360,
         1,
         "Rural",
         "N"
        ],
        [
         "LP001030",
         "Male",
         "Yes",
         "2",
         "Graduate",
         "No",
         1299,
         1086.0,
         17,
         120,
         1,
         "Urban",
         "Y"
        ],
        [
         "LP001032",
         "Male",
         "No",
         "0",
         "Graduate",
         "No",
         4950,
         0.0,
         125,
         360,
         1,
         "Urban",
         "Y"
        ],
        [
         "LP001034",
         "Male",
         "No",
         "1",
         "Not Graduate",
         "No",
         3596,
         0.0,
         100,
         240,
         null,
         "Urban",
         "Y"
        ],
        [
         "LP001036",
         "Female",
         "No",
         "0",
         "Graduate",
         "No",
         3510,
         0.0,
         76,
         360,
         0,
         "Urban",
         "N"
        ],
        [
         "LP001038",
         "Male",
         "Yes",
         "0",
         "Not Graduate",
         "No",
         4887,
         0.0,
         133,
         360,
         1,
         "Rural",
         "N"
        ],
        [
         "LP001041",
         "Male",
         "Yes",
         "0",
         "Graduate",
         null,
         2600,
         3500.0,
         115,
         null,
         1,
         "Urban",
         "Y"
        ],
        [
         "LP001043",
         "Male",
         "Yes",
         "0",
         "Not Graduate",
         "No",
         7660,
         0.0,
         104,
         360,
         0,
         "Urban",
         "N"
        ],
        [
         "LP001046",
         "Male",
         "Yes",
         "1",
         "Graduate",
         "No",
         5955,
         5625.0,
         315,
         360,
         1,
         "Urban",
         "Y"
        ],
        [
         "LP001047",
         "Male",
         "Yes",
         "0",
         "Not Graduate",
         "No",
         2600,
         1911.0,
         116,
         360,
         0,
         "Semiurban",
         "N"
        ],
        [
         "LP001050",
         null,
         "Yes",
         "2",
         "Not Graduate",
         "No",
         3365,
         1917.0,
         112,
         360,
         0,
         "Rural",
         "N"
        ],
        [
         "LP001052",
         "Male",
         "Yes",
         "1",
         "Graduate",
         null,
         3717,
         2925.0,
         151,
         360,
         null,
         "Semiurban",
         "N"
        ],
        [
         "LP001066",
         "Male",
         "Yes",
         "0",
         "Graduate",
         "Yes",
         9560,
         0.0,
         191,
         360,
         1,
         "Semiurban",
         "Y"
        ],
        [
         "LP001068",
         "Male",
         "Yes",
         "0",
         "Graduate",
         "No",
         2799,
         2253.0,
         122,
         360,
         1,
         "Semiurban",
         "Y"
        ],
        [
         "LP001073",
         "Male",
         "Yes",
         "2",
         "Not Graduate",
         "No",
         4226,
         1040.0,
         110,
         360,
         1,
         "Urban",
         "Y"
        ],
        [
         "LP001086",
         "Male",
         "No",
         "0",
         "Not Graduate",
         "No",
         1442,
         0.0,
         35,
         360,
         1,
         "Urban",
         "N"
        ],
        [
         "LP001087",
         "Female",
         "No",
         "2",
         "Graduate",
         null,
         3750,
         2083.0,
         120,
         360,
         1,
         "Semiurban",
         "Y"
        ],
        [
         "LP001091",
         "Male",
         "Yes",
         "1",
         "Graduate",
         null,
         4166,
         3369.0,
         201,
         360,
         null,
         "Urban",
         "N"
        ],
        [
         "LP001095",
         "Male",
         "No",
         "0",
         "Graduate",
         "No",
         3167,
         0.0,
         74,
         360,
         1,
         "Urban",
         "N"
        ],
        [
         "LP001097",
         "Male",
         "No",
         "1",
         "Graduate",
         "Yes",
         4692,
         0.0,
         106,
         360,
         1,
         "Rural",
         "N"
        ],
        [
         "LP001098",
         "Male",
         "Yes",
         "0",
         "Graduate",
         "No",
         3500,
         1667.0,
         114,
         360,
         1,
         "Semiurban",
         "Y"
        ],
        [
         "LP001100",
         "Male",
         "No",
         "3+",
         "Graduate",
         "No",
         12500,
         3000.0,
         320,
         360,
         1,
         "Rural",
         "N"
        ],
        [
         "LP001106",
         "Male",
         "Yes",
         "0",
         "Graduate",
         "No",
         2275,
         2067.0,
         null,
         360,
         1,
         "Urban",
         "Y"
        ],
        [
         "LP001109",
         "Male",
         "Yes",
         "0",
         "Graduate",
         "No",
         1828,
         1330.0,
         100,
         null,
         0,
         "Urban",
         "N"
        ],
        [
         "LP001112",
         "Female",
         "Yes",
         "0",
         "Graduate",
         "No",
         3667,
         1459.0,
         144,
         360,
         1,
         "Semiurban",
         "Y"
        ],
        [
         "LP001114",
         "Male",
         "No",
         "0",
         "Graduate",
         "No",
         4166,
         7210.0,
         184,
         360,
         1,
         "Urban",
         "Y"
        ],
        [
         "LP001116",
         "Male",
         "No",
         "0",
         "Not Graduate",
         "No",
         3748,
         1668.0,
         110,
         360,
         1,
         "Semiurban",
         "Y"
        ],
        [
         "LP001119",
         "Male",
         "No",
         "0",
         "Graduate",
         "No",
         3600,
         0.0,
         80,
         360,
         1,
         "Urban",
         "N"
        ],
        [
         "LP001120",
         "Male",
         "No",
         "0",
         "Graduate",
         "No",
         1800,
         1213.0,
         47,
         360,
         1,
         "Urban",
         "Y"
        ],
        [
         "LP001123",
         "Male",
         "Yes",
         "0",
         "Graduate",
         "No",
         2400,
         0.0,
         75,
         360,
         null,
         "Urban",
         "Y"
        ],
        [
         "LP001131",
         "Male",
         "Yes",
         "0",
         "Graduate",
         "No",
         3941,
         2336.0,
         134,
         360,
         1,
         "Semiurban",
         "Y"
        ],
        [
         "LP001136",
         "Male",
         "Yes",
         "0",
         "Not Graduate",
         "Yes",
         4695,
         0.0,
         96,
         null,
         1,
         "Urban",
         "Y"
        ],
        [
         "LP001137",
         "Female",
         "No",
         "0",
         "Graduate",
         "No",
         3410,
         0.0,
         88,
         null,
         1,
         "Urban",
         "Y"
        ],
        [
         "LP001138",
         "Male",
         "Yes",
         "1",
         "Graduate",
         "No",
         5649,
         0.0,
         44,
         360,
         1,
         "Urban",
         "Y"
        ],
        [
         "LP001144",
         "Male",
         "Yes",
         "0",
         "Graduate",
         "No",
         5821,
         0.0,
         144,
         360,
         1,
         "Urban",
         "Y"
        ],
        [
         "LP001146",
         "Female",
         "Yes",
         "0",
         "Graduate",
         "No",
         2645,
         3440.0,
         120,
         360,
         0,
         "Urban",
         "N"
        ],
        [
         "LP001151",
         "Female",
         "No",
         "0",
         "Graduate",
         "No",
         4000,
         2275.0,
         144,
         360,
         1,
         "Semiurban",
         "Y"
        ],
        [
         "LP001155",
         "Female",
         "Yes",
         "0",
         "Not Graduate",
         "No",
         1928,
         1644.0,
         100,
         360,
         1,
         "Semiurban",
         "Y"
        ],
        [
         "LP001157",
         "Female",
         "No",
         "0",
         "Graduate",
         "No",
         3086,
         0.0,
         120,
         360,
         1,
         "Semiurban",
         "Y"
        ],
        [
         "LP001164",
         "Female",
         "No",
         "0",
         "Graduate",
         "No",
         4230,
         0.0,
         112,
         360,
         1,
         "Semiurban",
         "N"
        ],
        [
         "LP001179",
         "Male",
         "Yes",
         "2",
         "Graduate",
         "No",
         4616,
         0.0,
         134,
         360,
         1,
         "Urban",
         "N"
        ],
        [
         "LP001186",
         "Female",
         "Yes",
         "1",
         "Graduate",
         "Yes",
         11500,
         0.0,
         286,
         360,
         0,
         "Urban",
         "N"
        ],
        [
         "LP001194",
         "Male",
         "Yes",
         "2",
         "Graduate",
         "No",
         2708,
         1167.0,
         97,
         360,
         1,
         "Semiurban",
         "Y"
        ],
        [
         "LP001195",
         "Male",
         "Yes",
         "0",
         "Graduate",
         "No",
         2132,
         1591.0,
         96,
         360,
         1,
         "Semiurban",
         "Y"
        ],
        [
         "LP001197",
         "Male",
         "Yes",
         "0",
         "Graduate",
         "No",
         3366,
         2200.0,
         135,
         360,
         1,
         "Rural",
         "N"
        ],
        [
         "LP001198",
         "Male",
         "Yes",
         "1",
         "Graduate",
         "No",
         8080,
         2250.0,
         180,
         360,
         1,
         "Urban",
         "Y"
        ],
        [
         "LP001199",
         "Male",
         "Yes",
         "2",
         "Not Graduate",
         "No",
         3357,
         2859.0,
         144,
         360,
         1,
         "Urban",
         "Y"
        ],
        [
         "LP001205",
         "Male",
         "Yes",
         "0",
         "Graduate",
         "No",
         2500,
         3796.0,
         120,
         360,
         1,
         "Urban",
         "Y"
        ],
        [
         "LP001206",
         "Male",
         "Yes",
         "3+",
         "Graduate",
         "No",
         3029,
         0.0,
         99,
         360,
         1,
         "Urban",
         "Y"
        ],
        [
         "LP001207",
         "Male",
         "Yes",
         "0",
         "Not Graduate",
         "Yes",
         2609,
         3449.0,
         165,
         180,
         0,
         "Rural",
         "N"
        ],
        [
         "LP001213",
         "Male",
         "Yes",
         "1",
         "Graduate",
         "No",
         4945,
         0.0,
         null,
         360,
         0,
         "Rural",
         "N"
        ],
        [
         "LP001222",
         "Female",
         "No",
         "0",
         "Graduate",
         "No",
         4166,
         0.0,
         116,
         360,
         0,
         "Semiurban",
         "N"
        ],
        [
         "LP001225",
         "Male",
         "Yes",
         "0",
         "Graduate",
         "No",
         5726,
         4595.0,
         258,
         360,
         1,
         "Semiurban",
         "N"
        ],
        [
         "LP001228",
         "Male",
         "No",
         "0",
         "Not Graduate",
         "No",
         3200,
         2254.0,
         126,
         180,
         0,
         "Urban",
         "N"
        ],
        [
         "LP001233",
         "Male",
         "Yes",
         "1",
         "Graduate",
         "No",
         10750,
         0.0,
         312,
         360,
         1,
         "Urban",
         "Y"
        ],
        [
         "LP001238",
         "Male",
         "Yes",
         "3+",
         "Not Graduate",
         "Yes",
         7100,
         0.0,
         125,
         60,
         1,
         "Urban",
         "Y"
        ],
        [
         "LP001241",
         "Female",
         "No",
         "0",
         "Graduate",
         "No",
         4300,
         0.0,
         136,
         360,
         0,
         "Semiurban",
         "N"
        ],
        [
         "LP001243",
         "Male",
         "Yes",
         "0",
         "Graduate",
         "No",
         3208,
         3066.0,
         172,
         360,
         1,
         "Urban",
         "Y"
        ],
        [
         "LP001245",
         "Male",
         "Yes",
         "2",
         "Not Graduate",
         "Yes",
         1875,
         1875.0,
         97,
         360,
         1,
         "Semiurban",
         "Y"
        ],
        [
         "LP001248",
         "Male",
         "No",
         "0",
         "Graduate",
         "No",
         3500,
         0.0,
         81,
         300,
         1,
         "Semiurban",
         "Y"
        ],
        [
         "LP001250",
         "Male",
         "Yes",
         "3+",
         "Not Graduate",
         "No",
         4755,
         0.0,
         95,
         null,
         0,
         "Semiurban",
         "N"
        ],
        [
         "LP001253",
         "Male",
         "Yes",
         "3+",
         "Graduate",
         "Yes",
         5266,
         1774.0,
         187,
         360,
         1,
         "Semiurban",
         "Y"
        ],
        [
         "LP001255",
         "Male",
         "No",
         "0",
         "Graduate",
         "No",
         3750,
         0.0,
         113,
         480,
         1,
         "Urban",
         "N"
        ],
        [
         "LP001256",
         "Male",
         "No",
         "0",
         "Graduate",
         "No",
         3750,
         4750.0,
         176,
         360,
         1,
         "Urban",
         "N"
        ],
        [
         "LP001259",
         "Male",
         "Yes",
         "1",
         "Graduate",
         "Yes",
         1000,
         3022.0,
         110,
         360,
         1,
         "Urban",
         "N"
        ],
        [
         "LP001263",
         "Male",
         "Yes",
         "3+",
         "Graduate",
         "No",
         3167,
         4000.0,
         180,
         300,
         0,
         "Semiurban",
         "N"
        ],
        [
         "LP001264",
         "Male",
         "Yes",
         "3+",
         "Not Graduate",
         "Yes",
         3333,
         2166.0,
         130,
         360,
         null,
         "Semiurban",
         "Y"
        ],
        [
         "LP001265",
         "Female",
         "No",
         "0",
         "Graduate",
         "No",
         3846,
         0.0,
         111,
         360,
         1,
         "Semiurban",
         "Y"
        ],
        [
         "LP001266",
         "Male",
         "Yes",
         "1",
         "Graduate",
         "Yes",
         2395,
         0.0,
         null,
         360,
         1,
         "Semiurban",
         "Y"
        ],
        [
         "LP001267",
         "Female",
         "Yes",
         "2",
         "Graduate",
         "No",
         1378,
         1881.0,
         167,
         360,
         1,
         "Urban",
         "N"
        ],
        [
         "LP001273",
         "Male",
         "Yes",
         "0",
         "Graduate",
         "No",
         6000,
         2250.0,
         265,
         360,
         null,
         "Semiurban",
         "N"
        ],
        [
         "LP001275",
         "Male",
         "Yes",
         "1",
         "Graduate",
         "No",
         3988,
         0.0,
         50,
         240,
         1,
         "Urban",
         "Y"
        ],
        [
         "LP001279",
         "Male",
         "No",
         "0",
         "Graduate",
         "No",
         2366,
         2531.0,
         136,
         360,
         1,
         "Semiurban",
         "Y"
        ],
        [
         "LP001280",
         "Male",
         "Yes",
         "2",
         "Not Graduate",
         "No",
         3333,
         2000.0,
         99,
         360,
         null,
         "Semiurban",
         "Y"
        ],
        [
         "LP001282",
         "Male",
         "Yes",
         "0",
         "Graduate",
         "No",
         2500,
         2118.0,
         104,
         360,
         1,
         "Semiurban",
         "Y"
        ],
        [
         "LP001289",
         "Male",
         "No",
         "0",
         "Graduate",
         "No",
         8566,
         0.0,
         210,
         360,
         1,
         "Urban",
         "Y"
        ],
        [
         "LP001310",
         "Male",
         "Yes",
         "0",
         "Graduate",
         "No",
         5695,
         4167.0,
         175,
         360,
         1,
         "Semiurban",
         "Y"
        ],
        [
         "LP001316",
         "Male",
         "Yes",
         "0",
         "Graduate",
         "No",
         2958,
         2900.0,
         131,
         360,
         1,
         "Semiurban",
         "Y"
        ],
        [
         "LP001318",
         "Male",
         "Yes",
         "2",
         "Graduate",
         "No",
         6250,
         5654.0,
         188,
         180,
         1,
         "Semiurban",
         "Y"
        ],
        [
         "LP001319",
         "Male",
         "Yes",
         "2",
         "Not Graduate",
         "No",
         3273,
         1820.0,
         81,
         360,
         1,
         "Urban",
         "Y"
        ],
        [
         "LP001322",
         "Male",
         "No",
         "0",
         "Graduate",
         "No",
         4133,
         0.0,
         122,
         360,
         1,
         "Semiurban",
         "Y"
        ],
        [
         "LP001325",
         "Male",
         "No",
         "0",
         "Not Graduate",
         "No",
         3620,
         0.0,
         25,
         120,
         1,
         "Semiurban",
         "Y"
        ],
        [
         "LP001326",
         "Male",
         "No",
         "0",
         "Graduate",
         null,
         6782,
         0.0,
         null,
         360,
         null,
         "Urban",
         "N"
        ],
        [
         "LP001327",
         "Female",
         "Yes",
         "0",
         "Graduate",
         "No",
         2484,
         2302.0,
         137,
         360,
         1,
         "Semiurban",
         "Y"
        ],
        [
         "LP001333",
         "Male",
         "Yes",
         "0",
         "Graduate",
         "No",
         1977,
         997.0,
         50,
         360,
         1,
         "Semiurban",
         "Y"
        ],
        [
         "LP001334",
         "Male",
         "Yes",
         "0",
         "Not Graduate",
         "No",
         4188,
         0.0,
         115,
         180,
         1,
         "Semiurban",
         "Y"
        ],
        [
         "LP001343",
         "Male",
         "Yes",
         "0",
         "Graduate",
         "No",
         1759,
         3541.0,
         131,
         360,
         1,
         "Semiurban",
         "Y"
        ],
        [
         "LP001345",
         "Male",
         "Yes",
         "2",
         "Not Graduate",
         "No",
         4288,
         3263.0,
         133,
         180,
         1,
         "Urban",
         "Y"
        ],
        [
         "LP001349",
         "Male",
         "No",
         "0",
         "Graduate",
         "No",
         4843,
         3806.0,
         151,
         360,
         1,
         "Semiurban",
         "Y"
        ],
        [
         "LP001350",
         "Male",
         "Yes",
         null,
         "Graduate",
         "No",
         13650,
         0.0,
         null,
         360,
         1,
         "Urban",
         "Y"
        ],
        [
         "LP001356",
         "Male",
         "Yes",
         "0",
         "Graduate",
         "No",
         4652,
         3583.0,
         null,
         360,
         1,
         "Semiurban",
         "Y"
        ],
        [
         "LP001357",
         "Male",
         null,
         null,
         "Graduate",
         "No",
         3816,
         754.0,
         160,
         360,
         1,
         "Urban",
         "Y"
        ],
        [
         "LP001367",
         "Male",
         "Yes",
         "1",
         "Graduate",
         "No",
         3052,
         1030.0,
         100,
         360,
         1,
         "Urban",
         "Y"
        ],
        [
         "LP001369",
         "Male",
         "Yes",
         "2",
         "Graduate",
         "No",
         11417,
         1126.0,
         225,
         360,
         1,
         "Urban",
         "Y"
        ],
        [
         "LP001370",
         "Male",
         "No",
         "0",
         "Not Graduate",
         null,
         7333,
         0.0,
         120,
         360,
         1,
         "Rural",
         "N"
        ],
        [
         "LP001379",
         "Male",
         "Yes",
         "2",
         "Graduate",
         "No",
         3800,
         3600.0,
         216,
         360,
         0,
         "Urban",
         "N"
        ],
        [
         "LP001384",
         "Male",
         "Yes",
         "3+",
         "Not Graduate",
         "No",
         2071,
         754.0,
         94,
         480,
         1,
         "Semiurban",
         "Y"
        ],
        [
         "LP001385",
         "Male",
         "No",
         "0",
         "Graduate",
         "No",
         5316,
         0.0,
         136,
         360,
         1,
         "Urban",
         "Y"
        ],
        [
         "LP001387",
         "Female",
         "Yes",
         "0",
         "Graduate",
         null,
         2929,
         2333.0,
         139,
         360,
         1,
         "Semiurban",
         "Y"
        ],
        [
         "LP001391",
         "Male",
         "Yes",
         "0",
         "Not Graduate",
         "No",
         3572,
         4114.0,
         152,
         null,
         0,
         "Rural",
         "N"
        ],
        [
         "LP001392",
         "Female",
         "No",
         "1",
         "Graduate",
         "Yes",
         7451,
         0.0,
         null,
         360,
         1,
         "Semiurban",
         "Y"
        ],
        [
         "LP001398",
         "Male",
         "No",
         "0",
         "Graduate",
         null,
         5050,
         0.0,
         118,
         360,
         1,
         "Semiurban",
         "Y"
        ],
        [
         "LP001401",
         "Male",
         "Yes",
         "1",
         "Graduate",
         "No",
         14583,
         0.0,
         185,
         180,
         1,
         "Rural",
         "Y"
        ],
        [
         "LP001404",
         "Female",
         "Yes",
         "0",
         "Graduate",
         "No",
         3167,
         2283.0,
         154,
         360,
         1,
         "Semiurban",
         "Y"
        ],
        [
         "LP001405",
         "Male",
         "Yes",
         "1",
         "Graduate",
         "No",
         2214,
         1398.0,
         85,
         360,
         null,
         "Urban",
         "Y"
        ],
        [
         "LP001421",
         "Male",
         "Yes",
         "0",
         "Graduate",
         "No",
         5568,
         2142.0,
         175,
         360,
         1,
         "Rural",
         "N"
        ],
        [
         "LP001422",
         "Female",
         "No",
         "0",
         "Graduate",
         "No",
         10408,
         0.0,
         259,
         360,
         1,
         "Urban",
         "Y"
        ],
        [
         "LP001426",
         "Male",
         "Yes",
         null,
         "Graduate",
         "No",
         5667,
         2667.0,
         180,
         360,
         1,
         "Rural",
         "Y"
        ],
        [
         "LP001430",
         "Female",
         "No",
         "0",
         "Graduate",
         "No",
         4166,
         0.0,
         44,
         360,
         1,
         "Semiurban",
         "Y"
        ],
        [
         "LP001431",
         "Female",
         "No",
         "0",
         "Graduate",
         "No",
         2137,
         8980.0,
         137,
         360,
         0,
         "Semiurban",
         "Y"
        ],
        [
         "LP001432",
         "Male",
         "Yes",
         "2",
         "Graduate",
         "No",
         2957,
         0.0,
         81,
         360,
         1,
         "Semiurban",
         "Y"
        ],
        [
         "LP001439",
         "Male",
         "Yes",
         "0",
         "Not Graduate",
         "No",
         4300,
         2014.0,
         194,
         360,
         1,
         "Rural",
         "Y"
        ],
        [
         "LP001443",
         "Female",
         "No",
         "0",
         "Graduate",
         "No",
         3692,
         0.0,
         93,
         360,
         null,
         "Rural",
         "Y"
        ],
        [
         "LP001448",
         null,
         "Yes",
         "3+",
         "Graduate",
         "No",
         23803,
         0.0,
         370,
         360,
         1,
         "Rural",
         "Y"
        ],
        [
         "LP001449",
         "Male",
         "No",
         "0",
         "Graduate",
         "No",
         3865,
         1640.0,
         null,
         360,
         1,
         "Rural",
         "Y"
        ],
        [
         "LP001451",
         "Male",
         "Yes",
         "1",
         "Graduate",
         "Yes",
         10513,
         3850.0,
         160,
         180,
         0,
         "Urban",
         "N"
        ],
        [
         "LP001465",
         "Male",
         "Yes",
         "0",
         "Graduate",
         "No",
         6080,
         2569.0,
         182,
         360,
         null,
         "Rural",
         "N"
        ],
        [
         "LP001469",
         "Male",
         "No",
         "0",
         "Graduate",
         "Yes",
         20166,
         0.0,
         650,
         480,
         null,
         "Urban",
         "Y"
        ],
        [
         "LP001473",
         "Male",
         "No",
         "0",
         "Graduate",
         "No",
         2014,
         1929.0,
         74,
         360,
         1,
         "Urban",
         "Y"
        ],
        [
         "LP001478",
         "Male",
         "No",
         "0",
         "Graduate",
         "No",
         2718,
         0.0,
         70,
         360,
         1,
         "Semiurban",
         "Y"
        ],
        [
         "LP001482",
         "Male",
         "Yes",
         "0",
         "Graduate",
         "Yes",
         3459,
         0.0,
         25,
         120,
         1,
         "Semiurban",
         "Y"
        ],
        [
         "LP001487",
         "Male",
         "No",
         "0",
         "Graduate",
         "No",
         4895,
         0.0,
         102,
         360,
         1,
         "Semiurban",
         "Y"
        ],
        [
         "LP001488",
         "Male",
         "Yes",
         "3+",
         "Graduate",
         "No",
         4000,
         7750.0,
         290,
         360,
         1,
         "Semiurban",
         "N"
        ],
        [
         "LP001489",
         "Female",
         "Yes",
         "0",
         "Graduate",
         "No",
         4583,
         0.0,
         84,
         360,
         1,
         "Rural",
         "N"
        ],
        [
         "LP001491",
         "Male",
         "Yes",
         "2",
         "Graduate",
         "Yes",
         3316,
         3500.0,
         88,
         360,
         1,
         "Urban",
         "Y"
        ],
        [
         "LP001492",
         "Male",
         "No",
         "0",
         "Graduate",
         "No",
         14999,
         0.0,
         242,
         360,
         0,
         "Semiurban",
         "N"
        ],
        [
         "LP001493",
         "Male",
         "Yes",
         "2",
         "Not Graduate",
         "No",
         4200,
         1430.0,
         129,
         360,
         1,
         "Rural",
         "N"
        ],
        [
         "LP001497",
         "Male",
         "Yes",
         "2",
         "Graduate",
         "No",
         5042,
         2083.0,
         185,
         360,
         1,
         "Rural",
         "N"
        ],
        [
         "LP001498",
         "Male",
         "No",
         "0",
         "Graduate",
         "No",
         5417,
         0.0,
         168,
         360,
         1,
         "Urban",
         "Y"
        ],
        [
         "LP001504",
         "Male",
         "No",
         "0",
         "Graduate",
         "Yes",
         6950,
         0.0,
         175,
         180,
         1,
         "Semiurban",
         "Y"
        ],
        [
         "LP001507",
         "Male",
         "Yes",
         "0",
         "Graduate",
         "No",
         2698,
         2034.0,
         122,
         360,
         1,
         "Semiurban",
         "Y"
        ],
        [
         "LP001508",
         "Male",
         "Yes",
         "2",
         "Graduate",
         "No",
         11757,
         0.0,
         187,
         180,
         1,
         "Urban",
         "Y"
        ],
        [
         "LP001514",
         "Female",
         "Yes",
         "0",
         "Graduate",
         "No",
         2330,
         4486.0,
         100,
         360,
         1,
         "Semiurban",
         "Y"
        ],
        [
         "LP001516",
         "Female",
         "Yes",
         "2",
         "Graduate",
         "No",
         14866,
         0.0,
         70,
         360,
         1,
         "Urban",
         "Y"
        ],
        [
         "LP001518",
         "Male",
         "Yes",
         "1",
         "Graduate",
         "No",
         1538,
         1425.0,
         30,
         360,
         1,
         "Urban",
         "Y"
        ],
        [
         "LP001519",
         "Female",
         "No",
         "0",
         "Graduate",
         "No",
         10000,
         1666.0,
         225,
         360,
         1,
         "Rural",
         "N"
        ],
        [
         "LP001520",
         "Male",
         "Yes",
         "0",
         "Graduate",
         "No",
         4860,
         830.0,
         125,
         360,
         1,
         "Semiurban",
         "Y"
        ],
        [
         "LP001528",
         "Male",
         "No",
         "0",
         "Graduate",
         "No",
         6277,
         0.0,
         118,
         360,
         0,
         "Rural",
         "N"
        ],
        [
         "LP001529",
         "Male",
         "Yes",
         "0",
         "Graduate",
         "Yes",
         2577,
         3750.0,
         152,
         360,
         1,
         "Rural",
         "Y"
        ],
        [
         "LP001531",
         "Male",
         "No",
         "0",
         "Graduate",
         "No",
         9166,
         0.0,
         244,
         360,
         1,
         "Urban",
         "N"
        ],
        [
         "LP001532",
         "Male",
         "Yes",
         "2",
         "Not Graduate",
         "No",
         2281,
         0.0,
         113,
         360,
         1,
         "Rural",
         "N"
        ],
        [
         "LP001535",
         "Male",
         "No",
         "0",
         "Graduate",
         "No",
         3254,
         0.0,
         50,
         360,
         1,
         "Urban",
         "Y"
        ],
        [
         "LP001536",
         "Male",
         "Yes",
         "3+",
         "Graduate",
         "No",
         39999,
         0.0,
         600,
         180,
         0,
         "Semiurban",
         "Y"
        ],
        [
         "LP001541",
         "Male",
         "Yes",
         "1",
         "Graduate",
         "No",
         6000,
         0.0,
         160,
         360,
         null,
         "Rural",
         "Y"
        ],
        [
         "LP001543",
         "Male",
         "Yes",
         "1",
         "Graduate",
         "No",
         9538,
         0.0,
         187,
         360,
         1,
         "Urban",
         "Y"
        ],
        [
         "LP001546",
         "Male",
         "No",
         "0",
         "Graduate",
         null,
         2980,
         2083.0,
         120,
         360,
         1,
         "Rural",
         "Y"
        ],
        [
         "LP001552",
         "Male",
         "Yes",
         "0",
         "Graduate",
         "No",
         4583,
         5625.0,
         255,
         360,
         1,
         "Semiurban",
         "Y"
        ],
        [
         "LP001560",
         "Male",
         "Yes",
         "0",
         "Not Graduate",
         "No",
         1863,
         1041.0,
         98,
         360,
         1,
         "Semiurban",
         "Y"
        ],
        [
         "LP001562",
         "Male",
         "Yes",
         "0",
         "Graduate",
         "No",
         7933,
         0.0,
         275,
         360,
         1,
         "Urban",
         "N"
        ],
        [
         "LP001565",
         "Male",
         "Yes",
         "1",
         "Graduate",
         "No",
         3089,
         1280.0,
         121,
         360,
         0,
         "Semiurban",
         "N"
        ],
        [
         "LP001570",
         "Male",
         "Yes",
         "2",
         "Graduate",
         "No",
         4167,
         1447.0,
         158,
         360,
         1,
         "Rural",
         "Y"
        ],
        [
         "LP001572",
         "Male",
         "Yes",
         "0",
         "Graduate",
         "No",
         9323,
         0.0,
         75,
         180,
         1,
         "Urban",
         "Y"
        ],
        [
         "LP001574",
         "Male",
         "Yes",
         "0",
         "Graduate",
         "No",
         3707,
         3166.0,
         182,
         null,
         1,
         "Rural",
         "Y"
        ],
        [
         "LP001577",
         "Female",
         "Yes",
         "0",
         "Graduate",
         "No",
         4583,
         0.0,
         112,
         360,
         1,
         "Rural",
         "N"
        ],
        [
         "LP001578",
         "Male",
         "Yes",
         "0",
         "Graduate",
         "No",
         2439,
         3333.0,
         129,
         360,
         1,
         "Rural",
         "Y"
        ],
        [
         "LP001579",
         "Male",
         "No",
         "0",
         "Graduate",
         "No",
         2237,
         0.0,
         63,
         480,
         0,
         "Semiurban",
         "N"
        ],
        [
         "LP001580",
         "Male",
         "Yes",
         "2",
         "Graduate",
         "No",
         8000,
         0.0,
         200,
         360,
         1,
         "Semiurban",
         "Y"
        ],
        [
         "LP001581",
         "Male",
         "Yes",
         "0",
         "Not Graduate",
         null,
         1820,
         1769.0,
         95,
         360,
         1,
         "Rural",
         "Y"
        ],
        [
         "LP001585",
         null,
         "Yes",
         "3+",
         "Graduate",
         "No",
         51763,
         0.0,
         700,
         300,
         1,
         "Urban",
         "Y"
        ],
        [
         "LP001586",
         "Male",
         "Yes",
         "3+",
         "Not Graduate",
         "No",
         3522,
         0.0,
         81,
         180,
         1,
         "Rural",
         "N"
        ],
        [
         "LP001594",
         "Male",
         "Yes",
         "0",
         "Graduate",
         "No",
         5708,
         5625.0,
         187,
         360,
         1,
         "Semiurban",
         "Y"
        ],
        [
         "LP001603",
         "Male",
         "Yes",
         "0",
         "Not Graduate",
         "Yes",
         4344,
         736.0,
         87,
         360,
         1,
         "Semiurban",
         "N"
        ],
        [
         "LP001606",
         "Male",
         "Yes",
         "0",
         "Graduate",
         "No",
         3497,
         1964.0,
         116,
         360,
         1,
         "Rural",
         "Y"
        ],
        [
         "LP001608",
         "Male",
         "Yes",
         "2",
         "Graduate",
         "No",
         2045,
         1619.0,
         101,
         360,
         1,
         "Rural",
         "Y"
        ],
        [
         "LP001610",
         "Male",
         "Yes",
         "3+",
         "Graduate",
         "No",
         5516,
         11300.0,
         495,
         360,
         0,
         "Semiurban",
         "N"
        ],
        [
         "LP001616",
         "Male",
         "Yes",
         "1",
         "Graduate",
         "No",
         3750,
         0.0,
         116,
         360,
         1,
         "Semiurban",
         "Y"
        ],
        [
         "LP001630",
         "Male",
         "No",
         "0",
         "Not Graduate",
         "No",
         2333,
         1451.0,
         102,
         480,
         0,
         "Urban",
         "N"
        ],
        [
         "LP001633",
         "Male",
         "Yes",
         "1",
         "Graduate",
         "No",
         6400,
         7250.0,
         180,
         360,
         0,
         "Urban",
         "N"
        ],
        [
         "LP001634",
         "Male",
         "No",
         "0",
         "Graduate",
         "No",
         1916,
         5063.0,
         67,
         360,
         null,
         "Rural",
         "N"
        ],
        [
         "LP001636",
         "Male",
         "Yes",
         "0",
         "Graduate",
         "No",
         4600,
         0.0,
         73,
         180,
         1,
         "Semiurban",
         "Y"
        ],
        [
         "LP001637",
         "Male",
         "Yes",
         "1",
         "Graduate",
         "No",
         33846,
         0.0,
         260,
         360,
         1,
         "Semiurban",
         "N"
        ],
        [
         "LP001639",
         "Female",
         "Yes",
         "0",
         "Graduate",
         "No",
         3625,
         0.0,
         108,
         360,
         1,
         "Semiurban",
         "Y"
        ],
        [
         "LP001640",
         "Male",
         "Yes",
         "0",
         "Graduate",
         "Yes",
         39147,
         4750.0,
         120,
         360,
         1,
         "Semiurban",
         "Y"
        ],
        [
         "LP001641",
         "Male",
         "Yes",
         "1",
         "Graduate",
         "Yes",
         2178,
         0.0,
         66,
         300,
         0,
         "Rural",
         "N"
        ],
        [
         "LP001643",
         "Male",
         "Yes",
         "0",
         "Graduate",
         "No",
         2383,
         2138.0,
         58,
         360,
         null,
         "Rural",
         "Y"
        ],
        [
         "LP001644",
         null,
         "Yes",
         "0",
         "Graduate",
         "Yes",
         674,
         5296.0,
         168,
         360,
         1,
         "Rural",
         "Y"
        ],
        [
         "LP001647",
         "Male",
         "Yes",
         "0",
         "Graduate",
         "No",
         9328,
         0.0,
         188,
         180,
         1,
         "Rural",
         "Y"
        ],
        [
         "LP001653",
         "Male",
         "No",
         "0",
         "Not Graduate",
         "No",
         4885,
         0.0,
         48,
         360,
         1,
         "Rural",
         "Y"
        ],
        [
         "LP001656",
         "Male",
         "No",
         "0",
         "Graduate",
         "No",
         12000,
         0.0,
         164,
         360,
         1,
         "Semiurban",
         "N"
        ],
        [
         "LP001657",
         "Male",
         "Yes",
         "0",
         "Not Graduate",
         "No",
         6033,
         0.0,
         160,
         360,
         1,
         "Urban",
         "N"
        ],
        [
         "LP001658",
         "Male",
         "No",
         "0",
         "Graduate",
         "No",
         3858,
         0.0,
         76,
         360,
         1,
         "Semiurban",
         "Y"
        ],
        [
         "LP001664",
         "Male",
         "No",
         "0",
         "Graduate",
         "No",
         4191,
         0.0,
         120,
         360,
         1,
         "Rural",
         "Y"
        ],
        [
         "LP001665",
         "Male",
         "Yes",
         "1",
         "Graduate",
         "No",
         3125,
         2583.0,
         170,
         360,
         1,
         "Semiurban",
         "N"
        ],
        [
         "LP001666",
         "Male",
         "No",
         "0",
         "Graduate",
         "No",
         8333,
         3750.0,
         187,
         360,
         1,
         "Rural",
         "Y"
        ],
        [
         "LP001669",
         "Female",
         "No",
         "0",
         "Not Graduate",
         "No",
         1907,
         2365.0,
         120,
         null,
         1,
         "Urban",
         "Y"
        ],
        [
         "LP001671",
         "Female",
         "Yes",
         "0",
         "Graduate",
         "No",
         3416,
         2816.0,
         113,
         360,
         null,
         "Semiurban",
         "Y"
        ],
        [
         "LP001673",
         "Male",
         "No",
         "0",
         "Graduate",
         "Yes",
         11000,
         0.0,
         83,
         360,
         1,
         "Urban",
         "N"
        ],
        [
         "LP001674",
         "Male",
         "Yes",
         "1",
         "Not Graduate",
         "No",
         2600,
         2500.0,
         90,
         360,
         1,
         "Semiurban",
         "Y"
        ],
        [
         "LP001677",
         "Male",
         "No",
         "2",
         "Graduate",
         "No",
         4923,
         0.0,
         166,
         360,
         0,
         "Semiurban",
         "Y"
        ],
        [
         "LP001682",
         "Male",
         "Yes",
         "3+",
         "Not Graduate",
         "No",
         3992,
         0.0,
         null,
         180,
         1,
         "Urban",
         "N"
        ],
        [
         "LP001688",
         "Male",
         "Yes",
         "1",
         "Not Graduate",
         "No",
         3500,
         1083.0,
         135,
         360,
         1,
         "Urban",
         "Y"
        ],
        [
         "LP001691",
         "Male",
         "Yes",
         "2",
         "Not Graduate",
         "No",
         3917,
         0.0,
         124,
         360,
         1,
         "Semiurban",
         "Y"
        ],
        [
         "LP001692",
         "Female",
         "No",
         "0",
         "Not Graduate",
         "No",
         4408,
         0.0,
         120,
         360,
         1,
         "Semiurban",
         "Y"
        ],
        [
         "LP001693",
         "Female",
         "No",
         "0",
         "Graduate",
         "No",
         3244,
         0.0,
         80,
         360,
         1,
         "Urban",
         "Y"
        ],
        [
         "LP001698",
         "Male",
         "No",
         "0",
         "Not Graduate",
         "No",
         3975,
         2531.0,
         55,
         360,
         1,
         "Rural",
         "Y"
        ],
        [
         "LP001699",
         "Male",
         "No",
         "0",
         "Graduate",
         "No",
         2479,
         0.0,
         59,
         360,
         1,
         "Urban",
         "Y"
        ],
        [
         "LP001702",
         "Male",
         "No",
         "0",
         "Graduate",
         "No",
         3418,
         0.0,
         127,
         360,
         1,
         "Semiurban",
         "N"
        ],
        [
         "LP001708",
         "Female",
         "No",
         "0",
         "Graduate",
         "No",
         10000,
         0.0,
         214,
         360,
         1,
         "Semiurban",
         "N"
        ],
        [
         "LP001711",
         "Male",
         "Yes",
         "3+",
         "Graduate",
         "No",
         3430,
         1250.0,
         128,
         360,
         0,
         "Semiurban",
         "N"
        ],
        [
         "LP001713",
         "Male",
         "Yes",
         "1",
         "Graduate",
         "Yes",
         7787,
         0.0,
         240,
         360,
         1,
         "Urban",
         "Y"
        ],
        [
         "LP001715",
         "Male",
         "Yes",
         "3+",
         "Not Graduate",
         "Yes",
         5703,
         0.0,
         130,
         360,
         1,
         "Rural",
         "Y"
        ],
        [
         "LP001716",
         "Male",
         "Yes",
         "0",
         "Graduate",
         "No",
         3173,
         3021.0,
         137,
         360,
         1,
         "Urban",
         "Y"
        ],
        [
         "LP001720",
         "Male",
         "Yes",
         "3+",
         "Not Graduate",
         "No",
         3850,
         983.0,
         100,
         360,
         1,
         "Semiurban",
         "Y"
        ],
        [
         "LP001722",
         "Male",
         "Yes",
         "0",
         "Graduate",
         "No",
         150,
         1800.0,
         135,
         360,
         1,
         "Rural",
         "N"
        ],
        [
         "LP001726",
         "Male",
         "Yes",
         "0",
         "Graduate",
         "No",
         3727,
         1775.0,
         131,
         360,
         1,
         "Semiurban",
         "Y"
        ],
        [
         "LP001732",
         "Male",
         "Yes",
         "2",
         "Graduate",
         null,
         5000,
         0.0,
         72,
         360,
         0,
         "Semiurban",
         "N"
        ],
        [
         "LP001734",
         "Female",
         "Yes",
         "2",
         "Graduate",
         "No",
         4283,
         2383.0,
         127,
         360,
         null,
         "Semiurban",
         "Y"
        ],
        [
         "LP001736",
         "Male",
         "Yes",
         "0",
         "Graduate",
         "No",
         2221,
         0.0,
         60,
         360,
         0,
         "Urban",
         "N"
        ],
        [
         "LP001743",
         "Male",
         "Yes",
         "2",
         "Graduate",
         "No",
         4009,
         1717.0,
         116,
         360,
         1,
         "Semiurban",
         "Y"
        ],
        [
         "LP001744",
         "Male",
         "No",
         "0",
         "Graduate",
         "No",
         2971,
         2791.0,
         144,
         360,
         1,
         "Semiurban",
         "Y"
        ],
        [
         "LP001749",
         "Male",
         "Yes",
         "0",
         "Graduate",
         "No",
         7578,
         1010.0,
         175,
         null,
         1,
         "Semiurban",
         "Y"
        ],
        [
         "LP001750",
         "Male",
         "Yes",
         "0",
         "Graduate",
         "No",
         6250,
         0.0,
         128,
         360,
         1,
         "Semiurban",
         "Y"
        ],
        [
         "LP001751",
         "Male",
         "Yes",
         "0",
         "Graduate",
         "No",
         3250,
         0.0,
         170,
         360,
         1,
         "Rural",
         "N"
        ],
        [
         "LP001754",
         "Male",
         "Yes",
         null,
         "Not Graduate",
         "Yes",
         4735,
         0.0,
         138,
         360,
         1,
         "Urban",
         "N"
        ],
        [
         "LP001758",
         "Male",
         "Yes",
         "2",
         "Graduate",
         "No",
         6250,
         1695.0,
         210,
         360,
         1,
         "Semiurban",
         "Y"
        ],
        [
         "LP001760",
         "Male",
         null,
         null,
         "Graduate",
         "No",
         4758,
         0.0,
         158,
         480,
         1,
         "Semiurban",
         "Y"
        ],
        [
         "LP001761",
         "Male",
         "No",
         "0",
         "Graduate",
         "Yes",
         6400,
         0.0,
         200,
         360,
         1,
         "Rural",
         "Y"
        ],
        [
         "LP001765",
         "Male",
         "Yes",
         "1",
         "Graduate",
         "No",
         2491,
         2054.0,
         104,
         360,
         1,
         "Semiurban",
         "Y"
        ],
        [
         "LP001768",
         "Male",
         "Yes",
         "0",
         "Graduate",
         null,
         3716,
         0.0,
         42,
         180,
         1,
         "Rural",
         "Y"
        ],
        [
         "LP001770",
         "Male",
         "No",
         "0",
         "Not Graduate",
         "No",
         3189,
         2598.0,
         120,
         null,
         1,
         "Rural",
         "Y"
        ],
        [
         "LP001776",
         "Female",
         "No",
         "0",
         "Graduate",
         "No",
         8333,
         0.0,
         280,
         360,
         1,
         "Semiurban",
         "Y"
        ],
        [
         "LP001778",
         "Male",
         "Yes",
         "1",
         "Graduate",
         "No",
         3155,
         1779.0,
         140,
         360,
         1,
         "Semiurban",
         "Y"
        ],
        [
         "LP001784",
         "Male",
         "Yes",
         "1",
         "Graduate",
         "No",
         5500,
         1260.0,
         170,
         360,
         1,
         "Rural",
         "Y"
        ],
        [
         "LP001786",
         "Male",
         "Yes",
         "0",
         "Graduate",
         null,
         5746,
         0.0,
         255,
         360,
         null,
         "Urban",
         "N"
        ],
        [
         "LP001788",
         "Female",
         "No",
         "0",
         "Graduate",
         "Yes",
         3463,
         0.0,
         122,
         360,
         null,
         "Urban",
         "Y"
        ],
        [
         "LP001790",
         "Female",
         "No",
         "1",
         "Graduate",
         "No",
         3812,
         0.0,
         112,
         360,
         1,
         "Rural",
         "Y"
        ],
        [
         "LP001792",
         "Male",
         "Yes",
         "1",
         "Graduate",
         "No",
         3315,
         0.0,
         96,
         360,
         1,
         "Semiurban",
         "Y"
        ],
        [
         "LP001798",
         "Male",
         "Yes",
         "2",
         "Graduate",
         "No",
         5819,
         5000.0,
         120,
         360,
         1,
         "Rural",
         "Y"
        ],
        [
         "LP001800",
         "Male",
         "Yes",
         "1",
         "Not Graduate",
         "No",
         2510,
         1983.0,
         140,
         180,
         1,
         "Urban",
         "N"
        ],
        [
         "LP001806",
         "Male",
         "No",
         "0",
         "Graduate",
         "No",
         2965,
         5701.0,
         155,
         60,
         1,
         "Urban",
         "Y"
        ],
        [
         "LP001807",
         "Male",
         "Yes",
         "2",
         "Graduate",
         "Yes",
         6250,
         1300.0,
         108,
         360,
         1,
         "Rural",
         "Y"
        ],
        [
         "LP001811",
         "Male",
         "Yes",
         "0",
         "Not Graduate",
         "No",
         3406,
         4417.0,
         123,
         360,
         1,
         "Semiurban",
         "Y"
        ],
        [
         "LP001813",
         "Male",
         "No",
         "0",
         "Graduate",
         "Yes",
         6050,
         4333.0,
         120,
         180,
         1,
         "Urban",
         "N"
        ],
        [
         "LP001814",
         "Male",
         "Yes",
         "2",
         "Graduate",
         "No",
         9703,
         0.0,
         112,
         360,
         1,
         "Urban",
         "Y"
        ],
        [
         "LP001819",
         "Male",
         "Yes",
         "1",
         "Not Graduate",
         "No",
         6608,
         0.0,
         137,
         180,
         1,
         "Urban",
         "Y"
        ],
        [
         "LP001824",
         "Male",
         "Yes",
         "1",
         "Graduate",
         "No",
         2882,
         1843.0,
         123,
         480,
         1,
         "Semiurban",
         "Y"
        ],
        [
         "LP001825",
         "Male",
         "Yes",
         "0",
         "Graduate",
         "No",
         1809,
         1868.0,
         90,
         360,
         1,
         "Urban",
         "Y"
        ],
        [
         "LP001835",
         "Male",
         "Yes",
         "0",
         "Not Graduate",
         "No",
         1668,
         3890.0,
         201,
         360,
         0,
         "Semiurban",
         "N"
        ],
        [
         "LP001836",
         "Female",
         "No",
         "2",
         "Graduate",
         "No",
         3427,
         0.0,
         138,
         360,
         1,
         "Urban",
         "N"
        ],
        [
         "LP001841",
         "Male",
         "No",
         "0",
         "Not Graduate",
         "Yes",
         2583,
         2167.0,
         104,
         360,
         1,
         "Rural",
         "Y"
        ],
        [
         "LP001843",
         "Male",
         "Yes",
         "1",
         "Not Graduate",
         "No",
         2661,
         7101.0,
         279,
         180,
         1,
         "Semiurban",
         "Y"
        ],
        [
         "LP001844",
         "Male",
         "No",
         "0",
         "Graduate",
         "Yes",
         16250,
         0.0,
         192,
         360,
         0,
         "Urban",
         "N"
        ],
        [
         "LP001846",
         "Female",
         "No",
         "3+",
         "Graduate",
         "No",
         3083,
         0.0,
         255,
         360,
         1,
         "Rural",
         "Y"
        ],
        [
         "LP001849",
         "Male",
         "No",
         "0",
         "Not Graduate",
         "No",
         6045,
         0.0,
         115,
         360,
         0,
         "Rural",
         "N"
        ],
        [
         "LP001854",
         "Male",
         "Yes",
         "3+",
         "Graduate",
         "No",
         5250,
         0.0,
         94,
         360,
         1,
         "Urban",
         "N"
        ],
        [
         "LP001859",
         "Male",
         "Yes",
         "0",
         "Graduate",
         "No",
         14683,
         2100.0,
         304,
         360,
         1,
         "Rural",
         "N"
        ],
        [
         "LP001864",
         "Male",
         "Yes",
         "3+",
         "Not Graduate",
         "No",
         4931,
         0.0,
         128,
         360,
         null,
         "Semiurban",
         "N"
        ],
        [
         "LP001865",
         "Male",
         "Yes",
         "1",
         "Graduate",
         "No",
         6083,
         4250.0,
         330,
         360,
         null,
         "Urban",
         "Y"
        ],
        [
         "LP001868",
         "Male",
         "No",
         "0",
         "Graduate",
         "No",
         2060,
         2209.0,
         134,
         360,
         1,
         "Semiurban",
         "Y"
        ],
        [
         "LP001870",
         "Female",
         "No",
         "1",
         "Graduate",
         "No",
         3481,
         0.0,
         155,
         36,
         1,
         "Semiurban",
         "N"
        ],
        [
         "LP001871",
         "Female",
         "No",
         "0",
         "Graduate",
         "No",
         7200,
         0.0,
         120,
         360,
         1,
         "Rural",
         "Y"
        ],
        [
         "LP001872",
         "Male",
         "No",
         "0",
         "Graduate",
         "Yes",
         5166,
         0.0,
         128,
         360,
         1,
         "Semiurban",
         "Y"
        ],
        [
         "LP001875",
         "Male",
         "No",
         "0",
         "Graduate",
         "No",
         4095,
         3447.0,
         151,
         360,
         1,
         "Rural",
         "Y"
        ],
        [
         "LP001877",
         "Male",
         "Yes",
         "2",
         "Graduate",
         "No",
         4708,
         1387.0,
         150,
         360,
         1,
         "Semiurban",
         "Y"
        ],
        [
         "LP001882",
         "Male",
         "Yes",
         "3+",
         "Graduate",
         "No",
         4333,
         1811.0,
         160,
         360,
         0,
         "Urban",
         "Y"
        ],
        [
         "LP001883",
         "Female",
         "No",
         "0",
         "Graduate",
         null,
         3418,
         0.0,
         135,
         360,
         1,
         "Rural",
         "N"
        ],
        [
         "LP001884",
         "Female",
         "No",
         "1",
         "Graduate",
         "No",
         2876,
         1560.0,
         90,
         360,
         1,
         "Urban",
         "Y"
        ],
        [
         "LP001888",
         "Female",
         "No",
         "0",
         "Graduate",
         "No",
         3237,
         0.0,
         30,
         360,
         1,
         "Urban",
         "Y"
        ],
        [
         "LP001891",
         "Male",
         "Yes",
         "0",
         "Graduate",
         "No",
         11146,
         0.0,
         136,
         360,
         1,
         "Urban",
         "Y"
        ],
        [
         "LP001892",
         "Male",
         "No",
         "0",
         "Graduate",
         "No",
         2833,
         1857.0,
         126,
         360,
         1,
         "Rural",
         "Y"
        ],
        [
         "LP001894",
         "Male",
         "Yes",
         "0",
         "Graduate",
         "No",
         2620,
         2223.0,
         150,
         360,
         1,
         "Semiurban",
         "Y"
        ],
        [
         "LP001896",
         "Male",
         "Yes",
         "2",
         "Graduate",
         "No",
         3900,
         0.0,
         90,
         360,
         1,
         "Semiurban",
         "Y"
        ],
        [
         "LP001900",
         "Male",
         "Yes",
         "1",
         "Graduate",
         "No",
         2750,
         1842.0,
         115,
         360,
         1,
         "Semiurban",
         "Y"
        ],
        [
         "LP001903",
         "Male",
         "Yes",
         "0",
         "Graduate",
         "No",
         3993,
         3274.0,
         207,
         360,
         1,
         "Semiurban",
         "Y"
        ],
        [
         "LP001904",
         "Male",
         "Yes",
         "0",
         "Graduate",
         "No",
         3103,
         1300.0,
         80,
         360,
         1,
         "Urban",
         "Y"
        ],
        [
         "LP001907",
         "Male",
         "Yes",
         "0",
         "Graduate",
         "No",
         14583,
         0.0,
         436,
         360,
         1,
         "Semiurban",
         "Y"
        ],
        [
         "LP001908",
         "Female",
         "Yes",
         "0",
         "Not Graduate",
         "No",
         4100,
         0.0,
         124,
         360,
         null,
         "Rural",
         "Y"
        ],
        [
         "LP001910",
         "Male",
         "No",
         "1",
         "Not Graduate",
         "Yes",
         4053,
         2426.0,
         158,
         360,
         0,
         "Urban",
         "N"
        ],
        [
         "LP001914",
         "Male",
         "Yes",
         "0",
         "Graduate",
         "No",
         3927,
         800.0,
         112,
         360,
         1,
         "Semiurban",
         "Y"
        ],
        [
         "LP001915",
         "Male",
         "Yes",
         "2",
         "Graduate",
         "No",
         2301,
         985.7999878,
         78,
         180,
         1,
         "Urban",
         "Y"
        ],
        [
         "LP001917",
         "Female",
         "No",
         "0",
         "Graduate",
         "No",
         1811,
         1666.0,
         54,
         360,
         1,
         "Urban",
         "Y"
        ],
        [
         "LP001922",
         "Male",
         "Yes",
         "0",
         "Graduate",
         "No",
         20667,
         0.0,
         null,
         360,
         1,
         "Rural",
         "N"
        ],
        [
         "LP001924",
         "Male",
         "No",
         "0",
         "Graduate",
         "No",
         3158,
         3053.0,
         89,
         360,
         1,
         "Rural",
         "Y"
        ],
        [
         "LP001925",
         "Female",
         "No",
         "0",
         "Graduate",
         "Yes",
         2600,
         1717.0,
         99,
         300,
         1,
         "Semiurban",
         "N"
        ],
        [
         "LP001926",
         "Male",
         "Yes",
         "0",
         "Graduate",
         "No",
         3704,
         2000.0,
         120,
         360,
         1,
         "Rural",
         "Y"
        ],
        [
         "LP001931",
         "Female",
         "No",
         "0",
         "Graduate",
         "No",
         4124,
         0.0,
         115,
         360,
         1,
         "Semiurban",
         "Y"
        ],
        [
         "LP001935",
         "Male",
         "No",
         "0",
         "Graduate",
         "No",
         9508,
         0.0,
         187,
         360,
         1,
         "Rural",
         "Y"
        ],
        [
         "LP001936",
         "Male",
         "Yes",
         "0",
         "Graduate",
         "No",
         3075,
         2416.0,
         139,
         360,
         1,
         "Rural",
         "Y"
        ],
        [
         "LP001938",
         "Male",
         "Yes",
         "2",
         "Graduate",
         "No",
         4400,
         0.0,
         127,
         360,
         0,
         "Semiurban",
         "N"
        ],
        [
         "LP001940",
         "Male",
         "Yes",
         "2",
         "Graduate",
         "No",
         3153,
         1560.0,
         134,
         360,
         1,
         "Urban",
         "Y"
        ],
        [
         "LP001945",
         "Female",
         "No",
         null,
         "Graduate",
         "No",
         5417,
         0.0,
         143,
         480,
         0,
         "Urban",
         "N"
        ],
        [
         "LP001947",
         "Male",
         "Yes",
         "0",
         "Graduate",
         "No",
         2383,
         3334.0,
         172,
         360,
         1,
         "Semiurban",
         "Y"
        ],
        [
         "LP001949",
         "Male",
         "Yes",
         "3+",
         "Graduate",
         null,
         4416,
         1250.0,
         110,
         360,
         1,
         "Urban",
         "Y"
        ],
        [
         "LP001953",
         "Male",
         "Yes",
         "1",
         "Graduate",
         "No",
         6875,
         0.0,
         200,
         360,
         1,
         "Semiurban",
         "Y"
        ],
        [
         "LP001954",
         "Female",
         "Yes",
         "1",
         "Graduate",
         "No",
         4666,
         0.0,
         135,
         360,
         1,
         "Urban",
         "Y"
        ],
        [
         "LP001955",
         "Female",
         "No",
         "0",
         "Graduate",
         "No",
         5000,
         2541.0,
         151,
         480,
         1,
         "Rural",
         "N"
        ],
        [
         "LP001963",
         "Male",
         "Yes",
         "1",
         "Graduate",
         "No",
         2014,
         2925.0,
         113,
         360,
         1,
         "Urban",
         "N"
        ],
        [
         "LP001964",
         "Male",
         "Yes",
         "0",
         "Not Graduate",
         "No",
         1800,
         2934.0,
         93,
         360,
         0,
         "Urban",
         "N"
        ],
        [
         "LP001972",
         "Male",
         "Yes",
         null,
         "Not Graduate",
         "No",
         2875,
         1750.0,
         105,
         360,
         1,
         "Semiurban",
         "Y"
        ],
        [
         "LP001974",
         "Female",
         "No",
         "0",
         "Graduate",
         "No",
         5000,
         0.0,
         132,
         360,
         1,
         "Rural",
         "Y"
        ],
        [
         "LP001977",
         "Male",
         "Yes",
         "1",
         "Graduate",
         "No",
         1625,
         1803.0,
         96,
         360,
         1,
         "Urban",
         "Y"
        ],
        [
         "LP001978",
         "Male",
         "No",
         "0",
         "Graduate",
         "No",
         4000,
         2500.0,
         140,
         360,
         1,
         "Rural",
         "Y"
        ],
        [
         "LP001990",
         "Male",
         "No",
         "0",
         "Not Graduate",
         "No",
         2000,
         0.0,
         null,
         360,
         1,
         "Urban",
         "N"
        ],
        [
         "LP001993",
         "Female",
         "No",
         "0",
         "Graduate",
         "No",
         3762,
         1666.0,
         135,
         360,
         1,
         "Rural",
         "Y"
        ],
        [
         "LP001994",
         "Female",
         "No",
         "0",
         "Graduate",
         "No",
         2400,
         1863.0,
         104,
         360,
         0,
         "Urban",
         "N"
        ],
        [
         "LP001996",
         "Male",
         "No",
         "0",
         "Graduate",
         "No",
         20233,
         0.0,
         480,
         360,
         1,
         "Rural",
         "N"
        ],
        [
         "LP001998",
         "Male",
         "Yes",
         "2",
         "Not Graduate",
         "No",
         7667,
         0.0,
         185,
         360,
         null,
         "Rural",
         "Y"
        ],
        [
         "LP002002",
         "Female",
         "No",
         "0",
         "Graduate",
         "No",
         2917,
         0.0,
         84,
         360,
         1,
         "Semiurban",
         "Y"
        ],
        [
         "LP002004",
         "Male",
         "No",
         "0",
         "Not Graduate",
         "No",
         2927,
         2405.0,
         111,
         360,
         1,
         "Semiurban",
         "Y"
        ],
        [
         "LP002006",
         "Female",
         "No",
         "0",
         "Graduate",
         "No",
         2507,
         0.0,
         56,
         360,
         1,
         "Rural",
         "Y"
        ],
        [
         "LP002008",
         "Male",
         "Yes",
         "2",
         "Graduate",
         "Yes",
         5746,
         0.0,
         144,
         84,
         null,
         "Rural",
         "Y"
        ],
        [
         "LP002024",
         null,
         "Yes",
         "0",
         "Graduate",
         "No",
         2473,
         1843.0,
         159,
         360,
         1,
         "Rural",
         "N"
        ],
        [
         "LP002031",
         "Male",
         "Yes",
         "1",
         "Not Graduate",
         "No",
         3399,
         1640.0,
         111,
         180,
         1,
         "Urban",
         "Y"
        ],
        [
         "LP002035",
         "Male",
         "Yes",
         "2",
         "Graduate",
         "No",
         3717,
         0.0,
         120,
         360,
         1,
         "Semiurban",
         "Y"
        ],
        [
         "LP002036",
         "Male",
         "Yes",
         "0",
         "Graduate",
         "No",
         2058,
         2134.0,
         88,
         360,
         null,
         "Urban",
         "Y"
        ],
        [
         "LP002043",
         "Female",
         "No",
         "1",
         "Graduate",
         "No",
         3541,
         0.0,
         112,
         360,
         null,
         "Semiurban",
         "Y"
        ],
        [
         "LP002050",
         "Male",
         "Yes",
         "1",
         "Graduate",
         "Yes",
         10000,
         0.0,
         155,
         360,
         1,
         "Rural",
         "N"
        ],
        [
         "LP002051",
         "Male",
         "Yes",
         "0",
         "Graduate",
         "No",
         2400,
         2167.0,
         115,
         360,
         1,
         "Semiurban",
         "Y"
        ],
        [
         "LP002053",
         "Male",
         "Yes",
         "3+",
         "Graduate",
         "No",
         4342,
         189.0,
         124,
         360,
         1,
         "Semiurban",
         "Y"
        ],
        [
         "LP002054",
         "Male",
         "Yes",
         "2",
         "Not Graduate",
         "No",
         3601,
         1590.0,
         null,
         360,
         1,
         "Rural",
         "Y"
        ],
        [
         "LP002055",
         "Female",
         "No",
         "0",
         "Graduate",
         "No",
         3166,
         2985.0,
         132,
         360,
         null,
         "Rural",
         "Y"
        ],
        [
         "LP002065",
         "Male",
         "Yes",
         "3+",
         "Graduate",
         "No",
         15000,
         0.0,
         300,
         360,
         1,
         "Rural",
         "Y"
        ],
        [
         "LP002067",
         "Male",
         "Yes",
         "1",
         "Graduate",
         "Yes",
         8666,
         4983.0,
         376,
         360,
         0,
         "Rural",
         "N"
        ],
        [
         "LP002068",
         "Male",
         "No",
         "0",
         "Graduate",
         "No",
         4917,
         0.0,
         130,
         360,
         0,
         "Rural",
         "Y"
        ],
        [
         "LP002082",
         "Male",
         "Yes",
         "0",
         "Graduate",
         "Yes",
         5818,
         2160.0,
         184,
         360,
         1,
         "Semiurban",
         "Y"
        ],
        [
         "LP002086",
         "Female",
         "Yes",
         "0",
         "Graduate",
         "No",
         4333,
         2451.0,
         110,
         360,
         1,
         "Urban",
         "N"
        ],
        [
         "LP002087",
         "Female",
         "No",
         "0",
         "Graduate",
         "No",
         2500,
         0.0,
         67,
         360,
         1,
         "Urban",
         "Y"
        ],
        [
         "LP002097",
         "Male",
         "No",
         "1",
         "Graduate",
         "No",
         4384,
         1793.0,
         117,
         360,
         1,
         "Urban",
         "Y"
        ],
        [
         "LP002098",
         "Male",
         "No",
         "0",
         "Graduate",
         "No",
         2935,
         0.0,
         98,
         360,
         1,
         "Semiurban",
         "Y"
        ],
        [
         "LP002100",
         "Male",
         "No",
         null,
         "Graduate",
         "No",
         2833,
         0.0,
         71,
         360,
         1,
         "Urban",
         "Y"
        ],
        [
         "LP002101",
         "Male",
         "Yes",
         "0",
         "Graduate",
         null,
         63337,
         0.0,
         490,
         180,
         1,
         "Urban",
         "Y"
        ],
        [
         "LP002103",
         null,
         "Yes",
         "1",
         "Graduate",
         "Yes",
         9833,
         1833.0,
         182,
         180,
         1,
         "Urban",
         "Y"
        ],
        [
         "LP002106",
         "Male",
         "Yes",
         null,
         "Graduate",
         "Yes",
         5503,
         4490.0,
         70,
         null,
         1,
         "Semiurban",
         "Y"
        ],
        [
         "LP002110",
         "Male",
         "Yes",
         "1",
         "Graduate",
         null,
         5250,
         688.0,
         160,
         360,
         1,
         "Rural",
         "Y"
        ],
        [
         "LP002112",
         "Male",
         "Yes",
         "2",
         "Graduate",
         "Yes",
         2500,
         4600.0,
         176,
         360,
         1,
         "Rural",
         "Y"
        ],
        [
         "LP002113",
         "Female",
         "No",
         "3+",
         "Not Graduate",
         "No",
         1830,
         0.0,
         null,
         360,
         0,
         "Urban",
         "N"
        ],
        [
         "LP002114",
         "Female",
         "No",
         "0",
         "Graduate",
         "No",
         4160,
         0.0,
         71,
         360,
         1,
         "Semiurban",
         "Y"
        ],
        [
         "LP002115",
         "Male",
         "Yes",
         "3+",
         "Not Graduate",
         "No",
         2647,
         1587.0,
         173,
         360,
         1,
         "Rural",
         "N"
        ],
        [
         "LP002116",
         "Female",
         "No",
         "0",
         "Graduate",
         "No",
         2378,
         0.0,
         46,
         360,
         1,
         "Rural",
         "N"
        ],
        [
         "LP002119",
         "Male",
         "Yes",
         "1",
         "Not Graduate",
         "No",
         4554,
         1229.0,
         158,
         360,
         1,
         "Urban",
         "Y"
        ],
        [
         "LP002126",
         "Male",
         "Yes",
         "3+",
         "Not Graduate",
         "No",
         3173,
         0.0,
         74,
         360,
         1,
         "Semiurban",
         "Y"
        ],
        [
         "LP002128",
         "Male",
         "Yes",
         "2",
         "Graduate",
         null,
         2583,
         2330.0,
         125,
         360,
         1,
         "Rural",
         "Y"
        ],
        [
         "LP002129",
         "Male",
         "Yes",
         "0",
         "Graduate",
         "No",
         2499,
         2458.0,
         160,
         360,
         1,
         "Semiurban",
         "Y"
        ],
        [
         "LP002130",
         "Male",
         "Yes",
         null,
         "Not Graduate",
         "No",
         3523,
         3230.0,
         152,
         360,
         0,
         "Rural",
         "N"
        ],
        [
         "LP002131",
         "Male",
         "Yes",
         "2",
         "Not Graduate",
         "No",
         3083,
         2168.0,
         126,
         360,
         1,
         "Urban",
         "Y"
        ],
        [
         "LP002137",
         "Male",
         "Yes",
         "0",
         "Graduate",
         "No",
         6333,
         4583.0,
         259,
         360,
         null,
         "Semiurban",
         "Y"
        ],
        [
         "LP002138",
         "Male",
         "Yes",
         "0",
         "Graduate",
         "No",
         2625,
         6250.0,
         187,
         360,
         1,
         "Rural",
         "Y"
        ],
        [
         "LP002139",
         "Male",
         "Yes",
         "0",
         "Graduate",
         "No",
         9083,
         0.0,
         228,
         360,
         1,
         "Semiurban",
         "Y"
        ],
        [
         "LP002140",
         "Male",
         "No",
         "0",
         "Graduate",
         "No",
         8750,
         4167.0,
         308,
         360,
         1,
         "Rural",
         "N"
        ],
        [
         "LP002141",
         "Male",
         "Yes",
         "3+",
         "Graduate",
         "No",
         2666,
         2083.0,
         95,
         360,
         1,
         "Rural",
         "Y"
        ],
        [
         "LP002142",
         "Female",
         "Yes",
         "0",
         "Graduate",
         "Yes",
         5500,
         0.0,
         105,
         360,
         0,
         "Rural",
         "N"
        ],
        [
         "LP002143",
         "Female",
         "Yes",
         "0",
         "Graduate",
         "No",
         2423,
         505.0,
         130,
         360,
         1,
         "Semiurban",
         "Y"
        ],
        [
         "LP002144",
         "Female",
         "No",
         null,
         "Graduate",
         "No",
         3813,
         0.0,
         116,
         180,
         1,
         "Urban",
         "Y"
        ],
        [
         "LP002149",
         "Male",
         "Yes",
         "2",
         "Graduate",
         "No",
         8333,
         3167.0,
         165,
         360,
         1,
         "Rural",
         "Y"
        ],
        [
         "LP002151",
         "Male",
         "Yes",
         "1",
         "Graduate",
         "No",
         3875,
         0.0,
         67,
         360,
         1,
         "Urban",
         "N"
        ],
        [
         "LP002158",
         "Male",
         "Yes",
         "0",
         "Not Graduate",
         "No",
         3000,
         1666.0,
         100,
         480,
         0,
         "Urban",
         "N"
        ],
        [
         "LP002160",
         "Male",
         "Yes",
         "3+",
         "Graduate",
         "No",
         5167,
         3167.0,
         200,
         360,
         1,
         "Semiurban",
         "Y"
        ],
        [
         "LP002161",
         "Female",
         "No",
         "1",
         "Graduate",
         "No",
         4723,
         0.0,
         81,
         360,
         1,
         "Semiurban",
         "N"
        ],
        [
         "LP002170",
         "Male",
         "Yes",
         "2",
         "Graduate",
         "No",
         5000,
         3667.0,
         236,
         360,
         1,
         "Semiurban",
         "Y"
        ],
        [
         "LP002175",
         "Male",
         "Yes",
         "0",
         "Graduate",
         "No",
         4750,
         2333.0,
         130,
         360,
         1,
         "Urban",
         "Y"
        ],
        [
         "LP002178",
         "Male",
         "Yes",
         "0",
         "Graduate",
         "No",
         3013,
         3033.0,
         95,
         300,
         null,
         "Urban",
         "Y"
        ],
        [
         "LP002180",
         "Male",
         "No",
         "0",
         "Graduate",
         "Yes",
         6822,
         0.0,
         141,
         360,
         1,
         "Rural",
         "Y"
        ],
        [
         "LP002181",
         "Male",
         "No",
         "0",
         "Not Graduate",
         "No",
         6216,
         0.0,
         133,
         360,
         1,
         "Rural",
         "N"
        ],
        [
         "LP002187",
         "Male",
         "No",
         "0",
         "Graduate",
         "No",
         2500,
         0.0,
         96,
         480,
         1,
         "Semiurban",
         "N"
        ],
        [
         "LP002188",
         "Male",
         "No",
         "0",
         "Graduate",
         "No",
         5124,
         0.0,
         124,
         null,
         0,
         "Rural",
         "N"
        ],
        [
         "LP002190",
         "Male",
         "Yes",
         "1",
         "Graduate",
         "No",
         6325,
         0.0,
         175,
         360,
         1,
         "Semiurban",
         "Y"
        ],
        [
         "LP002191",
         "Male",
         "Yes",
         "0",
         "Graduate",
         "No",
         19730,
         5266.0,
         570,
         360,
         1,
         "Rural",
         "N"
        ],
        [
         "LP002194",
         "Female",
         "No",
         "0",
         "Graduate",
         "Yes",
         15759,
         0.0,
         55,
         360,
         1,
         "Semiurban",
         "Y"
        ],
        [
         "LP002197",
         "Male",
         "Yes",
         "2",
         "Graduate",
         "No",
         5185,
         0.0,
         155,
         360,
         1,
         "Semiurban",
         "Y"
        ],
        [
         "LP002201",
         "Male",
         "Yes",
         "2",
         "Graduate",
         "Yes",
         9323,
         7873.0,
         380,
         300,
         1,
         "Rural",
         "Y"
        ],
        [
         "LP002205",
         "Male",
         "No",
         "1",
         "Graduate",
         "No",
         3062,
         1987.0,
         111,
         180,
         0,
         "Urban",
         "N"
        ],
        [
         "LP002209",
         "Female",
         "No",
         "0",
         "Graduate",
         null,
         2764,
         1459.0,
         110,
         360,
         1,
         "Urban",
         "Y"
        ],
        [
         "LP002211",
         "Male",
         "Yes",
         "0",
         "Graduate",
         "No",
         4817,
         923.0,
         120,
         180,
         1,
         "Urban",
         "Y"
        ],
        [
         "LP002219",
         "Male",
         "Yes",
         "3+",
         "Graduate",
         "No",
         8750,
         4996.0,
         130,
         360,
         1,
         "Rural",
         "Y"
        ],
        [
         "LP002223",
         "Male",
         "Yes",
         "0",
         "Graduate",
         "No",
         4310,
         0.0,
         130,
         360,
         null,
         "Semiurban",
         "Y"
        ],
        [
         "LP002224",
         "Male",
         "No",
         "0",
         "Graduate",
         "No",
         3069,
         0.0,
         71,
         480,
         1,
         "Urban",
         "N"
        ],
        [
         "LP002225",
         "Male",
         "Yes",
         "2",
         "Graduate",
         "No",
         5391,
         0.0,
         130,
         360,
         1,
         "Urban",
         "Y"
        ],
        [
         "LP002226",
         "Male",
         "Yes",
         "0",
         "Graduate",
         null,
         3333,
         2500.0,
         128,
         360,
         1,
         "Semiurban",
         "Y"
        ],
        [
         "LP002229",
         "Male",
         "No",
         "0",
         "Graduate",
         "No",
         5941,
         4232.0,
         296,
         360,
         1,
         "Semiurban",
         "Y"
        ],
        [
         "LP002231",
         "Female",
         "No",
         "0",
         "Graduate",
         "No",
         6000,
         0.0,
         156,
         360,
         1,
         "Urban",
         "Y"
        ],
        [
         "LP002234",
         "Male",
         "No",
         "0",
         "Graduate",
         "Yes",
         7167,
         0.0,
         128,
         360,
         1,
         "Urban",
         "Y"
        ],
        [
         "LP002236",
         "Male",
         "Yes",
         "2",
         "Graduate",
         "No",
         4566,
         0.0,
         100,
         360,
         1,
         "Urban",
         "N"
        ],
        [
         "LP002237",
         "Male",
         "No",
         "1",
         "Graduate",
         null,
         3667,
         0.0,
         113,
         180,
         1,
         "Urban",
         "Y"
        ],
        [
         "LP002239",
         "Male",
         "No",
         "0",
         "Not Graduate",
         "No",
         2346,
         1600.0,
         132,
         360,
         1,
         "Semiurban",
         "Y"
        ],
        [
         "LP002243",
         "Male",
         "Yes",
         "0",
         "Not Graduate",
         "No",
         3010,
         3136.0,
         null,
         360,
         0,
         "Urban",
         "N"
        ],
        [
         "LP002244",
         "Male",
         "Yes",
         "0",
         "Graduate",
         "No",
         2333,
         2417.0,
         136,
         360,
         1,
         "Urban",
         "Y"
        ],
        [
         "LP002250",
         "Male",
         "Yes",
         "0",
         "Graduate",
         "No",
         5488,
         0.0,
         125,
         360,
         1,
         "Rural",
         "Y"
        ],
        [
         "LP002255",
         "Male",
         "No",
         "3+",
         "Graduate",
         "No",
         9167,
         0.0,
         185,
         360,
         1,
         "Rural",
         "Y"
        ],
        [
         "LP002262",
         "Male",
         "Yes",
         "3+",
         "Graduate",
         "No",
         9504,
         0.0,
         275,
         360,
         1,
         "Rural",
         "Y"
        ],
        [
         "LP002263",
         "Male",
         "Yes",
         "0",
         "Graduate",
         "No",
         2583,
         2115.0,
         120,
         360,
         null,
         "Urban",
         "Y"
        ],
        [
         "LP002265",
         "Male",
         "Yes",
         "2",
         "Not Graduate",
         "No",
         1993,
         1625.0,
         113,
         180,
         1,
         "Semiurban",
         "Y"
        ],
        [
         "LP002266",
         "Male",
         "Yes",
         "2",
         "Graduate",
         "No",
         3100,
         1400.0,
         113,
         360,
         1,
         "Urban",
         "Y"
        ],
        [
         "LP002272",
         "Male",
         "Yes",
         "2",
         "Graduate",
         "No",
         3276,
         484.0,
         135,
         360,
         null,
         "Semiurban",
         "Y"
        ],
        [
         "LP002277",
         "Female",
         "No",
         "0",
         "Graduate",
         "No",
         3180,
         0.0,
         71,
         360,
         0,
         "Urban",
         "N"
        ],
        [
         "LP002281",
         "Male",
         "Yes",
         "0",
         "Graduate",
         "No",
         3033,
         1459.0,
         95,
         360,
         1,
         "Urban",
         "Y"
        ],
        [
         "LP002284",
         "Male",
         "No",
         "0",
         "Not Graduate",
         "No",
         3902,
         1666.0,
         109,
         360,
         1,
         "Rural",
         "Y"
        ],
        [
         "LP002287",
         "Female",
         "No",
         "0",
         "Graduate",
         "No",
         1500,
         1800.0,
         103,
         360,
         0,
         "Semiurban",
         "N"
        ],
        [
         "LP002288",
         "Male",
         "Yes",
         "2",
         "Not Graduate",
         "No",
         2889,
         0.0,
         45,
         180,
         0,
         "Urban",
         "N"
        ],
        [
         "LP002296",
         "Male",
         "No",
         "0",
         "Not Graduate",
         "No",
         2755,
         0.0,
         65,
         300,
         1,
         "Rural",
         "N"
        ],
        [
         "LP002297",
         "Male",
         "No",
         "0",
         "Graduate",
         "No",
         2500,
         20000.0,
         103,
         360,
         1,
         "Semiurban",
         "Y"
        ],
        [
         "LP002300",
         "Female",
         "No",
         "0",
         "Not Graduate",
         "No",
         1963,
         0.0,
         53,
         360,
         1,
         "Semiurban",
         "Y"
        ],
        [
         "LP002301",
         "Female",
         "No",
         "0",
         "Graduate",
         "Yes",
         7441,
         0.0,
         194,
         360,
         1,
         "Rural",
         "N"
        ],
        [
         "LP002305",
         "Female",
         "No",
         "0",
         "Graduate",
         "No",
         4547,
         0.0,
         115,
         360,
         1,
         "Semiurban",
         "Y"
        ],
        [
         "LP002308",
         "Male",
         "Yes",
         "0",
         "Not Graduate",
         "No",
         2167,
         2400.0,
         115,
         360,
         1,
         "Urban",
         "Y"
        ],
        [
         "LP002314",
         "Female",
         "No",
         "0",
         "Not Graduate",
         "No",
         2213,
         0.0,
         66,
         360,
         1,
         "Rural",
         "Y"
        ],
        [
         "LP002315",
         "Male",
         "Yes",
         "1",
         "Graduate",
         "No",
         8300,
         0.0,
         152,
         300,
         0,
         "Semiurban",
         "N"
        ],
        [
         "LP002317",
         "Male",
         "Yes",
         "3+",
         "Graduate",
         "No",
         81000,
         0.0,
         360,
         360,
         0,
         "Rural",
         "N"
        ],
        [
         "LP002318",
         "Female",
         "No",
         "1",
         "Not Graduate",
         "Yes",
         3867,
         0.0,
         62,
         360,
         1,
         "Semiurban",
         "N"
        ],
        [
         "LP002319",
         "Male",
         "Yes",
         "0",
         "Graduate",
         null,
         6256,
         0.0,
         160,
         360,
         null,
         "Urban",
         "Y"
        ],
        [
         "LP002328",
         "Male",
         "Yes",
         "0",
         "Not Graduate",
         "No",
         6096,
         0.0,
         218,
         360,
         0,
         "Rural",
         "N"
        ],
        [
         "LP002332",
         "Male",
         "Yes",
         "0",
         "Not Graduate",
         "No",
         2253,
         2033.0,
         110,
         360,
         1,
         "Rural",
         "Y"
        ],
        [
         "LP002335",
         "Female",
         "Yes",
         "0",
         "Not Graduate",
         "No",
         2149,
         3237.0,
         178,
         360,
         0,
         "Semiurban",
         "N"
        ],
        [
         "LP002337",
         "Female",
         "No",
         "0",
         "Graduate",
         "No",
         2995,
         0.0,
         60,
         360,
         1,
         "Urban",
         "Y"
        ],
        [
         "LP002341",
         "Female",
         "No",
         "1",
         "Graduate",
         "No",
         2600,
         0.0,
         160,
         360,
         1,
         "Urban",
         "N"
        ],
        [
         "LP002342",
         "Male",
         "Yes",
         "2",
         "Graduate",
         "Yes",
         1600,
         20000.0,
         239,
         360,
         1,
         "Urban",
         "N"
        ],
        [
         "LP002345",
         "Male",
         "Yes",
         "0",
         "Graduate",
         "No",
         1025,
         2773.0,
         112,
         360,
         1,
         "Rural",
         "Y"
        ],
        [
         "LP002347",
         "Male",
         "Yes",
         "0",
         "Graduate",
         "No",
         3246,
         1417.0,
         138,
         360,
         1,
         "Semiurban",
         "Y"
        ],
        [
         "LP002348",
         "Male",
         "Yes",
         "0",
         "Graduate",
         "No",
         5829,
         0.0,
         138,
         360,
         1,
         "Rural",
         "Y"
        ],
        [
         "LP002357",
         "Female",
         "No",
         "0",
         "Not Graduate",
         "No",
         2720,
         0.0,
         80,
         null,
         0,
         "Urban",
         "N"
        ],
        [
         "LP002361",
         "Male",
         "Yes",
         "0",
         "Graduate",
         "No",
         1820,
         1719.0,
         100,
         360,
         1,
         "Urban",
         "Y"
        ],
        [
         "LP002362",
         "Male",
         "Yes",
         "1",
         "Graduate",
         "No",
         7250,
         1667.0,
         110,
         null,
         0,
         "Urban",
         "N"
        ],
        [
         "LP002364",
         "Male",
         "Yes",
         "0",
         "Graduate",
         "No",
         14880,
         0.0,
         96,
         360,
         1,
         "Semiurban",
         "Y"
        ],
        [
         "LP002366",
         "Male",
         "Yes",
         "0",
         "Graduate",
         "No",
         2666,
         4300.0,
         121,
         360,
         1,
         "Rural",
         "Y"
        ],
        [
         "LP002367",
         "Female",
         "No",
         "1",
         "Not Graduate",
         "No",
         4606,
         0.0,
         81,
         360,
         1,
         "Rural",
         "N"
        ],
        [
         "LP002368",
         "Male",
         "Yes",
         "2",
         "Graduate",
         "No",
         5935,
         0.0,
         133,
         360,
         1,
         "Semiurban",
         "Y"
        ],
        [
         "LP002369",
         "Male",
         "Yes",
         "0",
         "Graduate",
         "No",
         2920,
         16.12000084,
         87,
         360,
         1,
         "Rural",
         "Y"
        ],
        [
         "LP002370",
         "Male",
         "No",
         "0",
         "Not Graduate",
         "No",
         2717,
         0.0,
         60,
         180,
         1,
         "Urban",
         "Y"
        ],
        [
         "LP002377",
         "Female",
         "No",
         "1",
         "Graduate",
         "Yes",
         8624,
         0.0,
         150,
         360,
         1,
         "Semiurban",
         "Y"
        ],
        [
         "LP002379",
         "Male",
         "No",
         "0",
         "Graduate",
         "No",
         6500,
         0.0,
         105,
         360,
         0,
         "Rural",
         "N"
        ],
        [
         "LP002386",
         "Male",
         "No",
         "0",
         "Graduate",
         null,
         12876,
         0.0,
         405,
         360,
         1,
         "Semiurban",
         "Y"
        ],
        [
         "LP002387",
         "Male",
         "Yes",
         "0",
         "Graduate",
         "No",
         2425,
         2340.0,
         143,
         360,
         1,
         "Semiurban",
         "Y"
        ],
        [
         "LP002390",
         "Male",
         "No",
         "0",
         "Graduate",
         "No",
         3750,
         0.0,
         100,
         360,
         1,
         "Urban",
         "Y"
        ],
        [
         "LP002393",
         "Female",
         null,
         null,
         "Graduate",
         "No",
         10047,
         0.0,
         null,
         240,
         1,
         "Semiurban",
         "Y"
        ],
        [
         "LP002398",
         "Male",
         "No",
         "0",
         "Graduate",
         "No",
         1926,
         1851.0,
         50,
         360,
         1,
         "Semiurban",
         "Y"
        ],
        [
         "LP002401",
         "Male",
         "Yes",
         "0",
         "Graduate",
         "No",
         2213,
         1125.0,
         null,
         360,
         1,
         "Urban",
         "Y"
        ],
        [
         "LP002403",
         "Male",
         "No",
         "0",
         "Graduate",
         "Yes",
         10416,
         0.0,
         187,
         360,
         0,
         "Urban",
         "N"
        ],
        [
         "LP002407",
         "Female",
         "Yes",
         "0",
         "Not Graduate",
         "Yes",
         7142,
         0.0,
         138,
         360,
         1,
         "Rural",
         "Y"
        ],
        [
         "LP002408",
         "Male",
         "No",
         "0",
         "Graduate",
         "No",
         3660,
         5064.0,
         187,
         360,
         1,
         "Semiurban",
         "Y"
        ],
        [
         "LP002409",
         "Male",
         "Yes",
         "0",
         "Graduate",
         "No",
         7901,
         1833.0,
         180,
         360,
         1,
         "Rural",
         "Y"
        ],
        [
         "LP002418",
         "Male",
         "No",
         "3+",
         "Not Graduate",
         "No",
         4707,
         1993.0,
         148,
         360,
         1,
         "Semiurban",
         "Y"
        ],
        [
         "LP002422",
         "Male",
         "No",
         "1",
         "Graduate",
         "No",
         37719,
         0.0,
         152,
         360,
         1,
         "Semiurban",
         "Y"
        ],
        [
         "LP002424",
         "Male",
         "Yes",
         "0",
         "Graduate",
         "No",
         7333,
         8333.0,
         175,
         300,
         null,
         "Rural",
         "Y"
        ],
        [
         "LP002429",
         "Male",
         "Yes",
         "1",
         "Graduate",
         "Yes",
         3466,
         1210.0,
         130,
         360,
         1,
         "Rural",
         "Y"
        ],
        [
         "LP002434",
         "Male",
         "Yes",
         "2",
         "Not Graduate",
         "No",
         4652,
         0.0,
         110,
         360,
         1,
         "Rural",
         "Y"
        ],
        [
         "LP002435",
         "Male",
         "Yes",
         "0",
         "Graduate",
         null,
         3539,
         1376.0,
         55,
         360,
         1,
         "Rural",
         "N"
        ],
        [
         "LP002443",
         "Male",
         "Yes",
         "2",
         "Graduate",
         "No",
         3340,
         1710.0,
         150,
         360,
         0,
         "Rural",
         "N"
        ],
        [
         "LP002444",
         "Male",
         "No",
         "1",
         "Not Graduate",
         "Yes",
         2769,
         1542.0,
         190,
         360,
         null,
         "Semiurban",
         "N"
        ],
        [
         "LP002446",
         "Male",
         "Yes",
         "2",
         "Not Graduate",
         "No",
         2309,
         1255.0,
         125,
         360,
         0,
         "Rural",
         "N"
        ],
        [
         "LP002447",
         "Male",
         "Yes",
         "2",
         "Not Graduate",
         "No",
         1958,
         1456.0,
         60,
         300,
         null,
         "Urban",
         "Y"
        ],
        [
         "LP002448",
         "Male",
         "Yes",
         "0",
         "Graduate",
         "No",
         3948,
         1733.0,
         149,
         360,
         0,
         "Rural",
         "N"
        ],
        [
         "LP002449",
         "Male",
         "Yes",
         "0",
         "Graduate",
         "No",
         2483,
         2466.0,
         90,
         180,
         0,
         "Rural",
         "Y"
        ],
        [
         "LP002453",
         "Male",
         "No",
         "0",
         "Graduate",
         "Yes",
         7085,
         0.0,
         84,
         360,
         1,
         "Semiurban",
         "Y"
        ],
        [
         "LP002455",
         "Male",
         "Yes",
         "2",
         "Graduate",
         "No",
         3859,
         0.0,
         96,
         360,
         1,
         "Semiurban",
         "Y"
        ],
        [
         "LP002459",
         "Male",
         "Yes",
         "0",
         "Graduate",
         "No",
         4301,
         0.0,
         118,
         360,
         1,
         "Urban",
         "Y"
        ],
        [
         "LP002467",
         "Male",
         "Yes",
         "0",
         "Graduate",
         "No",
         3708,
         2569.0,
         173,
         360,
         1,
         "Urban",
         "N"
        ],
        [
         "LP002472",
         "Male",
         "No",
         "2",
         "Graduate",
         "No",
         4354,
         0.0,
         136,
         360,
         1,
         "Rural",
         "Y"
        ],
        [
         "LP002473",
         "Male",
         "Yes",
         "0",
         "Graduate",
         "No",
         8334,
         0.0,
         160,
         360,
         1,
         "Semiurban",
         "N"
        ],
        [
         "LP002478",
         null,
         "Yes",
         "0",
         "Graduate",
         "Yes",
         2083,
         4083.0,
         160,
         360,
         null,
         "Semiurban",
         "Y"
        ],
        [
         "LP002484",
         "Male",
         "Yes",
         "3+",
         "Graduate",
         "No",
         7740,
         0.0,
         128,
         180,
         1,
         "Urban",
         "Y"
        ],
        [
         "LP002487",
         "Male",
         "Yes",
         "0",
         "Graduate",
         "No",
         3015,
         2188.0,
         153,
         360,
         1,
         "Rural",
         "Y"
        ],
        [
         "LP002489",
         "Female",
         "No",
         "1",
         "Not Graduate",
         null,
         5191,
         0.0,
         132,
         360,
         1,
         "Semiurban",
         "Y"
        ],
        [
         "LP002493",
         "Male",
         "No",
         "0",
         "Graduate",
         "No",
         4166,
         0.0,
         98,
         360,
         0,
         "Semiurban",
         "N"
        ],
        [
         "LP002494",
         "Male",
         "No",
         "0",
         "Graduate",
         "No",
         6000,
         0.0,
         140,
         360,
         1,
         "Rural",
         "Y"
        ],
        [
         "LP002500",
         "Male",
         "Yes",
         "3+",
         "Not Graduate",
         "No",
         2947,
         1664.0,
         70,
         180,
         0,
         "Urban",
         "N"
        ],
        [
         "LP002501",
         null,
         "Yes",
         "0",
         "Graduate",
         "No",
         16692,
         0.0,
         110,
         360,
         1,
         "Semiurban",
         "Y"
        ],
        [
         "LP002502",
         "Female",
         "Yes",
         "2",
         "Not Graduate",
         null,
         210,
         2917.0,
         98,
         360,
         1,
         "Semiurban",
         "Y"
        ],
        [
         "LP002505",
         "Male",
         "Yes",
         "0",
         "Graduate",
         "No",
         4333,
         2451.0,
         110,
         360,
         1,
         "Urban",
         "N"
        ],
        [
         "LP002515",
         "Male",
         "Yes",
         "1",
         "Graduate",
         "Yes",
         3450,
         2079.0,
         162,
         360,
         1,
         "Semiurban",
         "Y"
        ],
        [
         "LP002517",
         "Male",
         "Yes",
         "1",
         "Not Graduate",
         "No",
         2653,
         1500.0,
         113,
         180,
         0,
         "Rural",
         "N"
        ],
        [
         "LP002519",
         "Male",
         "Yes",
         "3+",
         "Graduate",
         "No",
         4691,
         0.0,
         100,
         360,
         1,
         "Semiurban",
         "Y"
        ],
        [
         "LP002522",
         "Female",
         "No",
         "0",
         "Graduate",
         "Yes",
         2500,
         0.0,
         93,
         360,
         null,
         "Urban",
         "Y"
        ],
        [
         "LP002524",
         "Male",
         "No",
         "2",
         "Graduate",
         "No",
         5532,
         4648.0,
         162,
         360,
         1,
         "Rural",
         "Y"
        ],
        [
         "LP002527",
         "Male",
         "Yes",
         "2",
         "Graduate",
         "Yes",
         16525,
         1014.0,
         150,
         360,
         1,
         "Rural",
         "Y"
        ],
        [
         "LP002529",
         "Male",
         "Yes",
         "2",
         "Graduate",
         "No",
         6700,
         1750.0,
         230,
         300,
         1,
         "Semiurban",
         "Y"
        ],
        [
         "LP002530",
         null,
         "Yes",
         "2",
         "Graduate",
         "No",
         2873,
         1872.0,
         132,
         360,
         0,
         "Semiurban",
         "N"
        ],
        [
         "LP002531",
         "Male",
         "Yes",
         "1",
         "Graduate",
         "Yes",
         16667,
         2250.0,
         86,
         360,
         1,
         "Semiurban",
         "Y"
        ],
        [
         "LP002533",
         "Male",
         "Yes",
         "2",
         "Graduate",
         "No",
         2947,
         1603.0,
         null,
         360,
         1,
         "Urban",
         "N"
        ],
        [
         "LP002534",
         "Female",
         "No",
         "0",
         "Not Graduate",
         "No",
         4350,
         0.0,
         154,
         360,
         1,
         "Rural",
         "Y"
        ],
        [
         "LP002536",
         "Male",
         "Yes",
         "3+",
         "Not Graduate",
         "No",
         3095,
         0.0,
         113,
         360,
         1,
         "Rural",
         "Y"
        ],
        [
         "LP002537",
         "Male",
         "Yes",
         "0",
         "Graduate",
         "No",
         2083,
         3150.0,
         128,
         360,
         1,
         "Semiurban",
         "Y"
        ],
        [
         "LP002541",
         "Male",
         "Yes",
         "0",
         "Graduate",
         "No",
         10833,
         0.0,
         234,
         360,
         1,
         "Semiurban",
         "Y"
        ],
        [
         "LP002543",
         "Male",
         "Yes",
         "2",
         "Graduate",
         "No",
         8333,
         0.0,
         246,
         360,
         1,
         "Semiurban",
         "Y"
        ],
        [
         "LP002544",
         "Male",
         "Yes",
         "1",
         "Not Graduate",
         "No",
         1958,
         2436.0,
         131,
         360,
         1,
         "Rural",
         "Y"
        ],
        [
         "LP002545",
         "Male",
         "No",
         "2",
         "Graduate",
         "No",
         3547,
         0.0,
         80,
         360,
         0,
         "Rural",
         "N"
        ],
        [
         "LP002547",
         "Male",
         "Yes",
         "1",
         "Graduate",
         "No",
         18333,
         0.0,
         500,
         360,
         1,
         "Urban",
         "N"
        ],
        [
         "LP002555",
         "Male",
         "Yes",
         "2",
         "Graduate",
         "Yes",
         4583,
         2083.0,
         160,
         360,
         1,
         "Semiurban",
         "Y"
        ],
        [
         "LP002556",
         "Male",
         "No",
         "0",
         "Graduate",
         "No",
         2435,
         0.0,
         75,
         360,
         1,
         "Urban",
         "N"
        ],
        [
         "LP002560",
         "Male",
         "No",
         "0",
         "Not Graduate",
         "No",
         2699,
         2785.0,
         96,
         360,
         null,
         "Semiurban",
         "Y"
        ],
        [
         "LP002562",
         "Male",
         "Yes",
         "1",
         "Not Graduate",
         "No",
         5333,
         1131.0,
         186,
         360,
         null,
         "Urban",
         "Y"
        ],
        [
         "LP002571",
         "Male",
         "No",
         "0",
         "Not Graduate",
         "No",
         3691,
         0.0,
         110,
         360,
         1,
         "Rural",
         "Y"
        ],
        [
         "LP002582",
         "Female",
         "No",
         "0",
         "Not Graduate",
         "Yes",
         17263,
         0.0,
         225,
         360,
         1,
         "Semiurban",
         "Y"
        ],
        [
         "LP002585",
         "Male",
         "Yes",
         "0",
         "Graduate",
         "No",
         3597,
         2157.0,
         119,
         360,
         0,
         "Rural",
         "N"
        ],
        [
         "LP002586",
         "Female",
         "Yes",
         "1",
         "Graduate",
         "No",
         3326,
         913.0,
         105,
         84,
         1,
         "Semiurban",
         "Y"
        ],
        [
         "LP002587",
         "Male",
         "Yes",
         "0",
         "Not Graduate",
         "No",
         2600,
         1700.0,
         107,
         360,
         1,
         "Rural",
         "Y"
        ],
        [
         "LP002588",
         "Male",
         "Yes",
         "0",
         "Graduate",
         "No",
         4625,
         2857.0,
         111,
         12,
         null,
         "Urban",
         "Y"
        ],
        [
         "LP002600",
         "Male",
         "Yes",
         "1",
         "Graduate",
         "Yes",
         2895,
         0.0,
         95,
         360,
         1,
         "Semiurban",
         "Y"
        ],
        [
         "LP002602",
         "Male",
         "No",
         "0",
         "Graduate",
         "No",
         6283,
         4416.0,
         209,
         360,
         0,
         "Rural",
         "N"
        ],
        [
         "LP002603",
         "Female",
         "No",
         "0",
         "Graduate",
         "No",
         645,
         3683.0,
         113,
         480,
         1,
         "Rural",
         "Y"
        ],
        [
         "LP002606",
         "Female",
         "No",
         "0",
         "Graduate",
         "No",
         3159,
         0.0,
         100,
         360,
         1,
         "Semiurban",
         "Y"
        ],
        [
         "LP002615",
         "Male",
         "Yes",
         "2",
         "Graduate",
         "No",
         4865,
         5624.0,
         208,
         360,
         1,
         "Semiurban",
         "Y"
        ],
        [
         "LP002618",
         "Male",
         "Yes",
         "1",
         "Not Graduate",
         "No",
         4050,
         5302.0,
         138,
         360,
         null,
         "Rural",
         "N"
        ],
        [
         "LP002619",
         "Male",
         "Yes",
         "0",
         "Not Graduate",
         "No",
         3814,
         1483.0,
         124,
         300,
         1,
         "Semiurban",
         "Y"
        ],
        [
         "LP002622",
         "Male",
         "Yes",
         "2",
         "Graduate",
         "No",
         3510,
         4416.0,
         243,
         360,
         1,
         "Rural",
         "Y"
        ],
        [
         "LP002624",
         "Male",
         "Yes",
         "0",
         "Graduate",
         "No",
         20833,
         6667.0,
         480,
         360,
         null,
         "Urban",
         "Y"
        ],
        [
         "LP002625",
         null,
         "No",
         "0",
         "Graduate",
         "No",
         3583,
         0.0,
         96,
         360,
         1,
         "Urban",
         "N"
        ],
        [
         "LP002626",
         "Male",
         "Yes",
         "0",
         "Graduate",
         "Yes",
         2479,
         3013.0,
         188,
         360,
         1,
         "Urban",
         "Y"
        ],
        [
         "LP002634",
         "Female",
         "No",
         "1",
         "Graduate",
         "No",
         13262,
         0.0,
         40,
         360,
         1,
         "Urban",
         "Y"
        ],
        [
         "LP002637",
         "Male",
         "No",
         "0",
         "Not Graduate",
         "No",
         3598,
         1287.0,
         100,
         360,
         1,
         "Rural",
         "N"
        ],
        [
         "LP002640",
         "Male",
         "Yes",
         "1",
         "Graduate",
         "No",
         6065,
         2004.0,
         250,
         360,
         1,
         "Semiurban",
         "Y"
        ],
        [
         "LP002643",
         "Male",
         "Yes",
         "2",
         "Graduate",
         "No",
         3283,
         2035.0,
         148,
         360,
         1,
         "Urban",
         "Y"
        ],
        [
         "LP002648",
         "Male",
         "Yes",
         "0",
         "Graduate",
         "No",
         2130,
         6666.0,
         70,
         180,
         1,
         "Semiurban",
         "N"
        ],
        [
         "LP002652",
         "Male",
         "No",
         "0",
         "Graduate",
         "No",
         5815,
         3666.0,
         311,
         360,
         1,
         "Rural",
         "N"
        ],
        [
         "LP002659",
         "Male",
         "Yes",
         "3+",
         "Graduate",
         "No",
         3466,
         3428.0,
         150,
         360,
         1,
         "Rural",
         "Y"
        ],
        [
         "LP002670",
         "Female",
         "Yes",
         "2",
         "Graduate",
         "No",
         2031,
         1632.0,
         113,
         480,
         1,
         "Semiurban",
         "Y"
        ],
        [
         "LP002682",
         "Male",
         "Yes",
         null,
         "Not Graduate",
         "No",
         3074,
         1800.0,
         123,
         360,
         0,
         "Semiurban",
         "N"
        ],
        [
         "LP002683",
         "Male",
         "No",
         "0",
         "Graduate",
         "No",
         4683,
         1915.0,
         185,
         360,
         1,
         "Semiurban",
         "N"
        ],
        [
         "LP002684",
         "Female",
         "No",
         "0",
         "Not Graduate",
         "No",
         3400,
         0.0,
         95,
         360,
         1,
         "Rural",
         "N"
        ],
        [
         "LP002689",
         "Male",
         "Yes",
         "2",
         "Not Graduate",
         "No",
         2192,
         1742.0,
         45,
         360,
         1,
         "Semiurban",
         "Y"
        ],
        [
         "LP002690",
         "Male",
         "No",
         "0",
         "Graduate",
         "No",
         2500,
         0.0,
         55,
         360,
         1,
         "Semiurban",
         "Y"
        ],
        [
         "LP002692",
         "Male",
         "Yes",
         "3+",
         "Graduate",
         "Yes",
         5677,
         1424.0,
         100,
         360,
         1,
         "Rural",
         "Y"
        ],
        [
         "LP002693",
         "Male",
         "Yes",
         "2",
         "Graduate",
         "Yes",
         7948,
         7166.0,
         480,
         360,
         1,
         "Rural",
         "Y"
        ],
        [
         "LP002697",
         "Male",
         "No",
         "0",
         "Graduate",
         "No",
         4680,
         2087.0,
         null,
         360,
         1,
         "Semiurban",
         "N"
        ],
        [
         "LP002699",
         "Male",
         "Yes",
         "2",
         "Graduate",
         "Yes",
         17500,
         0.0,
         400,
         360,
         1,
         "Rural",
         "Y"
        ],
        [
         "LP002705",
         "Male",
         "Yes",
         "0",
         "Graduate",
         "No",
         3775,
         0.0,
         110,
         360,
         1,
         "Semiurban",
         "Y"
        ],
        [
         "LP002706",
         "Male",
         "Yes",
         "1",
         "Not Graduate",
         "No",
         5285,
         1430.0,
         161,
         360,
         0,
         "Semiurban",
         "Y"
        ],
        [
         "LP002714",
         "Male",
         "No",
         "1",
         "Not Graduate",
         "No",
         2679,
         1302.0,
         94,
         360,
         1,
         "Semiurban",
         "Y"
        ],
        [
         "LP002716",
         "Male",
         "No",
         "0",
         "Not Graduate",
         "No",
         6783,
         0.0,
         130,
         360,
         1,
         "Semiurban",
         "Y"
        ],
        [
         "LP002717",
         "Male",
         "Yes",
         "0",
         "Graduate",
         "No",
         1025,
         5500.0,
         216,
         360,
         null,
         "Rural",
         "Y"
        ],
        [
         "LP002720",
         "Male",
         "Yes",
         "3+",
         "Graduate",
         "No",
         4281,
         0.0,
         100,
         360,
         1,
         "Urban",
         "Y"
        ],
        [
         "LP002723",
         "Male",
         "No",
         "2",
         "Graduate",
         "No",
         3588,
         0.0,
         110,
         360,
         0,
         "Rural",
         "N"
        ],
        [
         "LP002729",
         "Male",
         "No",
         "1",
         "Graduate",
         "No",
         11250,
         0.0,
         196,
         360,
         null,
         "Semiurban",
         "N"
        ],
        [
         "LP002731",
         "Female",
         "No",
         "0",
         "Not Graduate",
         "Yes",
         18165,
         0.0,
         125,
         360,
         1,
         "Urban",
         "Y"
        ],
        [
         "LP002732",
         "Male",
         "No",
         "0",
         "Not Graduate",
         null,
         2550,
         2042.0,
         126,
         360,
         1,
         "Rural",
         "Y"
        ],
        [
         "LP002734",
         "Male",
         "Yes",
         "0",
         "Graduate",
         "No",
         6133,
         3906.0,
         324,
         360,
         1,
         "Urban",
         "Y"
        ],
        [
         "LP002738",
         "Male",
         "No",
         "2",
         "Graduate",
         "No",
         3617,
         0.0,
         107,
         360,
         1,
         "Semiurban",
         "Y"
        ],
        [
         "LP002739",
         "Male",
         "Yes",
         "0",
         "Not Graduate",
         "No",
         2917,
         536.0,
         66,
         360,
         1,
         "Rural",
         "N"
        ],
        [
         "LP002740",
         "Male",
         "Yes",
         "3+",
         "Graduate",
         "No",
         6417,
         0.0,
         157,
         180,
         1,
         "Rural",
         "Y"
        ],
        [
         "LP002741",
         "Female",
         "Yes",
         "1",
         "Graduate",
         "No",
         4608,
         2845.0,
         140,
         180,
         1,
         "Semiurban",
         "Y"
        ],
        [
         "LP002743",
         "Female",
         "No",
         "0",
         "Graduate",
         "No",
         2138,
         0.0,
         99,
         360,
         0,
         "Semiurban",
         "N"
        ],
        [
         "LP002753",
         "Female",
         "No",
         "1",
         "Graduate",
         null,
         3652,
         0.0,
         95,
         360,
         1,
         "Semiurban",
         "Y"
        ],
        [
         "LP002755",
         "Male",
         "Yes",
         "1",
         "Not Graduate",
         "No",
         2239,
         2524.0,
         128,
         360,
         1,
         "Urban",
         "Y"
        ],
        [
         "LP002757",
         "Female",
         "Yes",
         "0",
         "Not Graduate",
         "No",
         3017,
         663.0,
         102,
         360,
         null,
         "Semiurban",
         "Y"
        ],
        [
         "LP002767",
         "Male",
         "Yes",
         "0",
         "Graduate",
         "No",
         2768,
         1950.0,
         155,
         360,
         1,
         "Rural",
         "Y"
        ],
        [
         "LP002768",
         "Male",
         "No",
         "0",
         "Not Graduate",
         "No",
         3358,
         0.0,
         80,
         36,
         1,
         "Semiurban",
         "N"
        ],
        [
         "LP002772",
         "Male",
         "No",
         "0",
         "Graduate",
         "No",
         2526,
         1783.0,
         145,
         360,
         1,
         "Rural",
         "Y"
        ],
        [
         "LP002776",
         "Female",
         "No",
         "0",
         "Graduate",
         "No",
         5000,
         0.0,
         103,
         360,
         0,
         "Semiurban",
         "N"
        ],
        [
         "LP002777",
         "Male",
         "Yes",
         "0",
         "Graduate",
         "No",
         2785,
         2016.0,
         110,
         360,
         1,
         "Rural",
         "Y"
        ],
        [
         "LP002778",
         "Male",
         "Yes",
         "2",
         "Graduate",
         "Yes",
         6633,
         0.0,
         null,
         360,
         0,
         "Rural",
         "N"
        ],
        [
         "LP002784",
         "Male",
         "Yes",
         "1",
         "Not Graduate",
         "No",
         2492,
         2375.0,
         null,
         360,
         1,
         "Rural",
         "Y"
        ],
        [
         "LP002785",
         "Male",
         "Yes",
         "1",
         "Graduate",
         "No",
         3333,
         3250.0,
         158,
         360,
         1,
         "Urban",
         "Y"
        ],
        [
         "LP002788",
         "Male",
         "Yes",
         "0",
         "Not Graduate",
         "No",
         2454,
         2333.0,
         181,
         360,
         0,
         "Urban",
         "N"
        ],
        [
         "LP002789",
         "Male",
         "Yes",
         "0",
         "Graduate",
         "No",
         3593,
         4266.0,
         132,
         180,
         0,
         "Rural",
         "N"
        ],
        [
         "LP002792",
         "Male",
         "Yes",
         "1",
         "Graduate",
         "No",
         5468,
         1032.0,
         26,
         360,
         1,
         "Semiurban",
         "Y"
        ],
        [
         "LP002794",
         "Female",
         "No",
         "0",
         "Graduate",
         "No",
         2667,
         1625.0,
         84,
         360,
         null,
         "Urban",
         "Y"
        ],
        [
         "LP002795",
         "Male",
         "Yes",
         "3+",
         "Graduate",
         "Yes",
         10139,
         0.0,
         260,
         360,
         1,
         "Semiurban",
         "Y"
        ],
        [
         "LP002798",
         "Male",
         "Yes",
         "0",
         "Graduate",
         "No",
         3887,
         2669.0,
         162,
         360,
         1,
         "Semiurban",
         "Y"
        ],
        [
         "LP002804",
         "Female",
         "Yes",
         "0",
         "Graduate",
         "No",
         4180,
         2306.0,
         182,
         360,
         1,
         "Semiurban",
         "Y"
        ],
        [
         "LP002807",
         "Male",
         "Yes",
         "2",
         "Not Graduate",
         "No",
         3675,
         242.0,
         108,
         360,
         1,
         "Semiurban",
         "Y"
        ],
        [
         "LP002813",
         "Female",
         "Yes",
         "1",
         "Graduate",
         "Yes",
         19484,
         0.0,
         600,
         360,
         1,
         "Semiurban",
         "Y"
        ],
        [
         "LP002820",
         "Male",
         "Yes",
         "0",
         "Graduate",
         "No",
         5923,
         2054.0,
         211,
         360,
         1,
         "Rural",
         "Y"
        ],
        [
         "LP002821",
         "Male",
         "No",
         "0",
         "Not Graduate",
         "Yes",
         5800,
         0.0,
         132,
         360,
         1,
         "Semiurban",
         "Y"
        ],
        [
         "LP002832",
         "Male",
         "Yes",
         "2",
         "Graduate",
         "No",
         8799,
         0.0,
         258,
         360,
         0,
         "Urban",
         "N"
        ],
        [
         "LP002833",
         "Male",
         "Yes",
         "0",
         "Not Graduate",
         "No",
         4467,
         0.0,
         120,
         360,
         null,
         "Rural",
         "Y"
        ],
        [
         "LP002836",
         "Male",
         "No",
         "0",
         "Graduate",
         "No",
         3333,
         0.0,
         70,
         360,
         1,
         "Urban",
         "Y"
        ],
        [
         "LP002837",
         "Male",
         "Yes",
         "3+",
         "Graduate",
         "No",
         3400,
         2500.0,
         123,
         360,
         0,
         "Rural",
         "N"
        ],
        [
         "LP002840",
         "Female",
         "No",
         "0",
         "Graduate",
         "No",
         2378,
         0.0,
         9,
         360,
         1,
         "Urban",
         "N"
        ],
        [
         "LP002841",
         "Male",
         "Yes",
         "0",
         "Graduate",
         "No",
         3166,
         2064.0,
         104,
         360,
         0,
         "Urban",
         "N"
        ],
        [
         "LP002842",
         "Male",
         "Yes",
         "1",
         "Graduate",
         "No",
         3417,
         1750.0,
         186,
         360,
         1,
         "Urban",
         "Y"
        ],
        [
         "LP002847",
         "Male",
         "Yes",
         null,
         "Graduate",
         "No",
         5116,
         1451.0,
         165,
         360,
         0,
         "Urban",
         "N"
        ],
        [
         "LP002855",
         "Male",
         "Yes",
         "2",
         "Graduate",
         "No",
         16666,
         0.0,
         275,
         360,
         1,
         "Urban",
         "Y"
        ],
        [
         "LP002862",
         "Male",
         "Yes",
         "2",
         "Not Graduate",
         "No",
         6125,
         1625.0,
         187,
         480,
         1,
         "Semiurban",
         "N"
        ],
        [
         "LP002863",
         "Male",
         "Yes",
         "3+",
         "Graduate",
         "No",
         6406,
         0.0,
         150,
         360,
         1,
         "Semiurban",
         "N"
        ],
        [
         "LP002868",
         "Male",
         "Yes",
         "2",
         "Graduate",
         "No",
         3159,
         461.0,
         108,
         84,
         1,
         "Urban",
         "Y"
        ],
        [
         "LP002872",
         null,
         "Yes",
         "0",
         "Graduate",
         "No",
         3087,
         2210.0,
         136,
         360,
         0,
         "Semiurban",
         "N"
        ],
        [
         "LP002874",
         "Male",
         "No",
         "0",
         "Graduate",
         "No",
         3229,
         2739.0,
         110,
         360,
         1,
         "Urban",
         "Y"
        ],
        [
         "LP002877",
         "Male",
         "Yes",
         "1",
         "Graduate",
         "No",
         1782,
         2232.0,
         107,
         360,
         1,
         "Rural",
         "Y"
        ],
        [
         "LP002888",
         "Male",
         "No",
         "0",
         "Graduate",
         null,
         3182,
         2917.0,
         161,
         360,
         1,
         "Urban",
         "Y"
        ],
        [
         "LP002892",
         "Male",
         "Yes",
         "2",
         "Graduate",
         "No",
         6540,
         0.0,
         205,
         360,
         1,
         "Semiurban",
         "Y"
        ],
        [
         "LP002893",
         "Male",
         "No",
         "0",
         "Graduate",
         "No",
         1836,
         33837.0,
         90,
         360,
         1,
         "Urban",
         "N"
        ],
        [
         "LP002894",
         "Female",
         "Yes",
         "0",
         "Graduate",
         "No",
         3166,
         0.0,
         36,
         360,
         1,
         "Semiurban",
         "Y"
        ],
        [
         "LP002898",
         "Male",
         "Yes",
         "1",
         "Graduate",
         "No",
         1880,
         0.0,
         61,
         360,
         null,
         "Rural",
         "N"
        ],
        [
         "LP002911",
         "Male",
         "Yes",
         "1",
         "Graduate",
         "No",
         2787,
         1917.0,
         146,
         360,
         0,
         "Rural",
         "N"
        ],
        [
         "LP002912",
         "Male",
         "Yes",
         "1",
         "Graduate",
         "No",
         4283,
         3000.0,
         172,
         84,
         1,
         "Rural",
         "N"
        ],
        [
         "LP002916",
         "Male",
         "Yes",
         "0",
         "Graduate",
         "No",
         2297,
         1522.0,
         104,
         360,
         1,
         "Urban",
         "Y"
        ],
        [
         "LP002917",
         "Female",
         "No",
         "0",
         "Not Graduate",
         "No",
         2165,
         0.0,
         70,
         360,
         1,
         "Semiurban",
         "Y"
        ],
        [
         "LP002925",
         null,
         "No",
         "0",
         "Graduate",
         "No",
         4750,
         0.0,
         94,
         360,
         1,
         "Semiurban",
         "Y"
        ],
        [
         "LP002926",
         "Male",
         "Yes",
         "2",
         "Graduate",
         "Yes",
         2726,
         0.0,
         106,
         360,
         0,
         "Semiurban",
         "N"
        ],
        [
         "LP002928",
         "Male",
         "Yes",
         "0",
         "Graduate",
         "No",
         3000,
         3416.0,
         56,
         180,
         1,
         "Semiurban",
         "Y"
        ],
        [
         "LP002931",
         "Male",
         "Yes",
         "2",
         "Graduate",
         "Yes",
         6000,
         0.0,
         205,
         240,
         1,
         "Semiurban",
         "N"
        ],
        [
         "LP002933",
         null,
         "No",
         "3+",
         "Graduate",
         "Yes",
         9357,
         0.0,
         292,
         360,
         1,
         "Semiurban",
         "Y"
        ],
        [
         "LP002936",
         "Male",
         "Yes",
         "0",
         "Graduate",
         "No",
         3859,
         3300.0,
         142,
         180,
         1,
         "Rural",
         "Y"
        ],
        [
         "LP002938",
         "Male",
         "Yes",
         "0",
         "Graduate",
         "Yes",
         16120,
         0.0,
         260,
         360,
         1,
         "Urban",
         "Y"
        ],
        [
         "LP002940",
         "Male",
         "No",
         "0",
         "Not Graduate",
         "No",
         3833,
         0.0,
         110,
         360,
         1,
         "Rural",
         "Y"
        ],
        [
         "LP002941",
         "Male",
         "Yes",
         "2",
         "Not Graduate",
         "Yes",
         6383,
         1000.0,
         187,
         360,
         1,
         "Rural",
         "N"
        ],
        [
         "LP002943",
         "Male",
         "No",
         null,
         "Graduate",
         "No",
         2987,
         0.0,
         88,
         360,
         0,
         "Semiurban",
         "N"
        ],
        [
         "LP002945",
         "Male",
         "Yes",
         "0",
         "Graduate",
         "Yes",
         9963,
         0.0,
         180,
         360,
         1,
         "Rural",
         "Y"
        ],
        [
         "LP002948",
         "Male",
         "Yes",
         "2",
         "Graduate",
         "No",
         5780,
         0.0,
         192,
         360,
         1,
         "Urban",
         "Y"
        ],
        [
         "LP002949",
         "Female",
         "No",
         "3+",
         "Graduate",
         null,
         416,
         41667.0,
         350,
         180,
         null,
         "Urban",
         "N"
        ],
        [
         "LP002950",
         "Male",
         "Yes",
         "0",
         "Not Graduate",
         null,
         2894,
         2792.0,
         155,
         360,
         1,
         "Rural",
         "Y"
        ],
        [
         "LP002953",
         "Male",
         "Yes",
         "3+",
         "Graduate",
         "No",
         5703,
         0.0,
         128,
         360,
         1,
         "Urban",
         "Y"
        ],
        [
         "LP002958",
         "Male",
         "No",
         "0",
         "Graduate",
         "No",
         3676,
         4301.0,
         172,
         360,
         1,
         "Rural",
         "Y"
        ],
        [
         "LP002959",
         "Female",
         "Yes",
         "1",
         "Graduate",
         "No",
         12000,
         0.0,
         496,
         360,
         1,
         "Semiurban",
         "Y"
        ],
        [
         "LP002960",
         "Male",
         "Yes",
         "0",
         "Not Graduate",
         "No",
         2400,
         3800.0,
         null,
         180,
         1,
         "Urban",
         "N"
        ],
        [
         "LP002961",
         "Male",
         "Yes",
         "1",
         "Graduate",
         "No",
         3400,
         2500.0,
         173,
         360,
         1,
         "Semiurban",
         "Y"
        ],
        [
         "LP002964",
         "Male",
         "Yes",
         "2",
         "Not Graduate",
         "No",
         3987,
         1411.0,
         157,
         360,
         1,
         "Rural",
         "Y"
        ],
        [
         "LP002974",
         "Male",
         "Yes",
         "0",
         "Graduate",
         "No",
         3232,
         1950.0,
         108,
         360,
         1,
         "Rural",
         "Y"
        ],
        [
         "LP002978",
         "Female",
         "No",
         "0",
         "Graduate",
         "No",
         2900,
         0.0,
         71,
         360,
         1,
         "Rural",
         "Y"
        ],
        [
         "LP002979",
         "Male",
         "Yes",
         "3+",
         "Graduate",
         "No",
         4106,
         0.0,
         40,
         180,
         1,
         "Rural",
         "Y"
        ],
        [
         "LP002983",
         "Male",
         "Yes",
         "1",
         "Graduate",
         "No",
         8072,
         240.0,
         253,
         360,
         1,
         "Urban",
         "Y"
        ],
        [
         "LP002984",
         "Male",
         "Yes",
         "2",
         "Graduate",
         "No",
         7583,
         0.0,
         187,
         360,
         1,
         "Urban",
         "Y"
        ],
        [
         "LP002990",
         "Female",
         "No",
         "0",
         "Graduate",
         "Yes",
         4583,
         0.0,
         133,
         360,
         0,
         "Semiurban",
         "N"
        ]
       ],
       "datasetInfos": [],
       "dbfsResultPath": null,
       "isJsonSchema": true,
       "metadata": {},
       "overflow": false,
       "plotOptions": {
        "customPlotOptions": {},
        "displayType": "table",
        "pivotAggregation": null,
        "pivotColumns": null,
        "xColumns": null,
        "yColumns": null
       },
       "removedWidgets": [],
       "schema": [
        {
         "metadata": "{}",
         "name": "Loan_ID",
         "type": "\"string\""
        },
        {
         "metadata": "{}",
         "name": "Gender",
         "type": "\"string\""
        },
        {
         "metadata": "{}",
         "name": "Married",
         "type": "\"string\""
        },
        {
         "metadata": "{}",
         "name": "Dependents",
         "type": "\"string\""
        },
        {
         "metadata": "{}",
         "name": "Education",
         "type": "\"string\""
        },
        {
         "metadata": "{}",
         "name": "Self_Employed",
         "type": "\"string\""
        },
        {
         "metadata": "{}",
         "name": "ApplicantIncome",
         "type": "\"integer\""
        },
        {
         "metadata": "{}",
         "name": "CoapplicantIncome",
         "type": "\"double\""
        },
        {
         "metadata": "{}",
         "name": "LoanAmount",
         "type": "\"integer\""
        },
        {
         "metadata": "{}",
         "name": "Loan_Amount_Term",
         "type": "\"integer\""
        },
        {
         "metadata": "{}",
         "name": "Credit_History",
         "type": "\"integer\""
        },
        {
         "metadata": "{}",
         "name": "Property_Area",
         "type": "\"string\""
        },
        {
         "metadata": "{}",
         "name": "Loan_Status",
         "type": "\"string\""
        }
       ],
       "type": "table"
      }
     },
     "output_type": "display_data"
    }
   ],
   "source": [
    "# Show first few rows\n",
    "df.display(5)"
   ]
  },
  {
   "cell_type": "code",
   "execution_count": 0,
   "metadata": {
    "application/vnd.databricks.v1+cell": {
     "cellMetadata": {
      "byteLimit": 2048000,
      "rowLimit": 10000
     },
     "inputWidgets": {},
     "nuid": "38678d9c-d691-4337-8125-d3765ea2fd9f",
     "showTitle": false,
     "tableResultSettingsMap": {},
     "title": ""
    }
   },
   "outputs": [
    {
     "output_type": "stream",
     "name": "stdout",
     "output_type": "stream",
     "text": [
      "root\n |-- Loan_ID: string (nullable = true)\n |-- Gender: string (nullable = true)\n |-- Married: string (nullable = true)\n |-- Dependents: string (nullable = true)\n |-- Education: string (nullable = true)\n |-- Self_Employed: string (nullable = true)\n |-- ApplicantIncome: integer (nullable = true)\n |-- CoapplicantIncome: double (nullable = true)\n |-- LoanAmount: integer (nullable = true)\n |-- Loan_Amount_Term: integer (nullable = true)\n |-- Credit_History: integer (nullable = true)\n |-- Property_Area: string (nullable = true)\n |-- Loan_Status: string (nullable = true)\n\n"
     ]
    }
   ],
   "source": [
    "# Schema\n",
    "df.printSchema()"
   ]
  },
  {
   "cell_type": "markdown",
   "metadata": {
    "application/vnd.databricks.v1+cell": {
     "cellMetadata": {
      "byteLimit": 2048000,
      "rowLimit": 10000
     },
     "inputWidgets": {},
     "nuid": "41492891-794b-49d7-94c2-35ec711f42c2",
     "showTitle": false,
     "tableResultSettingsMap": {},
     "title": ""
    }
   },
   "source": [
    "Basic EDA – Data Understanding\n",
    "\n"
   ]
  },
  {
   "cell_type": "code",
   "execution_count": 0,
   "metadata": {
    "application/vnd.databricks.v1+cell": {
     "cellMetadata": {
      "byteLimit": 2048000,
      "rowLimit": 10000
     },
     "inputWidgets": {},
     "nuid": "ac49ccc5-d5bb-4b92-b843-6def3024c2e5",
     "showTitle": false,
     "tableResultSettingsMap": {},
     "title": ""
    }
   },
   "outputs": [
    {
     "output_type": "stream",
     "name": "stdout",
     "output_type": "stream",
     "text": [
      "Rows: 614, Columns: 13\n"
     ]
    }
   ],
   "source": [
    "# 1. Shape of Data\n",
    "\n",
    "print(f\"Rows: {df.count()}, Columns: {len(df.columns)}\")"
   ]
  },
  {
   "cell_type": "code",
   "execution_count": 0,
   "metadata": {
    "application/vnd.databricks.v1+cell": {
     "cellMetadata": {
      "byteLimit": 2048000,
      "rowLimit": 10000
     },
     "inputWidgets": {},
     "nuid": "edc34552-755d-4647-9a3c-3490d9768769",
     "showTitle": false,
     "tableResultSettingsMap": {},
     "title": ""
    }
   },
   "outputs": [
    {
     "output_type": "display_data",
     "data": {
      "text/html": [
       "<style scoped>\n",
       "  .table-result-container {\n",
       "    max-height: 300px;\n",
       "    overflow: auto;\n",
       "  }\n",
       "  table, th, td {\n",
       "    border: 1px solid black;\n",
       "    border-collapse: collapse;\n",
       "  }\n",
       "  th, td {\n",
       "    padding: 5px;\n",
       "  }\n",
       "  th {\n",
       "    text-align: left;\n",
       "  }\n",
       "</style><div class='table-result-container'><table class='table-result'><thead style='background-color: white'><tr><th>summary</th><th>Loan_ID</th><th>Gender</th><th>Married</th><th>Dependents</th><th>Education</th><th>Self_Employed</th><th>ApplicantIncome</th><th>CoapplicantIncome</th><th>LoanAmount</th><th>Loan_Amount_Term</th><th>Credit_History</th><th>Property_Area</th><th>Loan_Status</th></tr></thead><tbody><tr><td>count</td><td>614</td><td>601</td><td>611</td><td>599</td><td>614</td><td>582</td><td>614</td><td>614</td><td>592</td><td>600</td><td>564</td><td>614</td><td>614</td></tr><tr><td>mean</td><td>null</td><td>null</td><td>null</td><td>0.5547445255474452</td><td>null</td><td>null</td><td>5403.459283387622</td><td>1621.245798027101</td><td>146.41216216216216</td><td>342.0</td><td>0.8421985815602837</td><td>null</td><td>null</td></tr><tr><td>stddev</td><td>null</td><td>null</td><td>null</td><td>0.7853289861674291</td><td>null</td><td>null</td><td>6109.041673387174</td><td>2926.2483692241917</td><td>85.58732523570545</td><td>65.12040985461256</td><td>0.36487831923640496</td><td>null</td><td>null</td></tr><tr><td>min</td><td>LP001002</td><td>Female</td><td>No</td><td>0</td><td>Graduate</td><td>No</td><td>150</td><td>0.0</td><td>9</td><td>12</td><td>0</td><td>Rural</td><td>N</td></tr><tr><td>max</td><td>LP002990</td><td>Male</td><td>Yes</td><td>3+</td><td>Not Graduate</td><td>Yes</td><td>81000</td><td>41667.0</td><td>700</td><td>480</td><td>1</td><td>Urban</td><td>Y</td></tr></tbody></table></div>"
      ]
     },
     "metadata": {
      "application/vnd.databricks.v1+output": {
       "addedWidgets": {},
       "aggData": [],
       "aggError": "",
       "aggOverflow": false,
       "aggSchema": [],
       "aggSeriesLimitReached": false,
       "aggType": "",
       "arguments": {},
       "columnCustomDisplayInfos": {},
       "data": [
        [
         "count",
         "614",
         "601",
         "611",
         "599",
         "614",
         "582",
         "614",
         "614",
         "592",
         "600",
         "564",
         "614",
         "614"
        ],
        [
         "mean",
         null,
         null,
         null,
         "0.5547445255474452",
         null,
         null,
         "5403.459283387622",
         "1621.245798027101",
         "146.41216216216216",
         "342.0",
         "0.8421985815602837",
         null,
         null
        ],
        [
         "stddev",
         null,
         null,
         null,
         "0.7853289861674291",
         null,
         null,
         "6109.041673387174",
         "2926.2483692241917",
         "85.58732523570545",
         "65.12040985461256",
         "0.36487831923640496",
         null,
         null
        ],
        [
         "min",
         "LP001002",
         "Female",
         "No",
         "0",
         "Graduate",
         "No",
         "150",
         "0.0",
         "9",
         "12",
         "0",
         "Rural",
         "N"
        ],
        [
         "max",
         "LP002990",
         "Male",
         "Yes",
         "3+",
         "Not Graduate",
         "Yes",
         "81000",
         "41667.0",
         "700",
         "480",
         "1",
         "Urban",
         "Y"
        ]
       ],
       "datasetInfos": [],
       "dbfsResultPath": null,
       "isJsonSchema": true,
       "metadata": {},
       "overflow": false,
       "plotOptions": {
        "customPlotOptions": {},
        "displayType": "table",
        "pivotAggregation": null,
        "pivotColumns": null,
        "xColumns": null,
        "yColumns": null
       },
       "removedWidgets": [],
       "schema": [
        {
         "metadata": "{}",
         "name": "summary",
         "type": "\"string\""
        },
        {
         "metadata": "{}",
         "name": "Loan_ID",
         "type": "\"string\""
        },
        {
         "metadata": "{}",
         "name": "Gender",
         "type": "\"string\""
        },
        {
         "metadata": "{}",
         "name": "Married",
         "type": "\"string\""
        },
        {
         "metadata": "{}",
         "name": "Dependents",
         "type": "\"string\""
        },
        {
         "metadata": "{}",
         "name": "Education",
         "type": "\"string\""
        },
        {
         "metadata": "{}",
         "name": "Self_Employed",
         "type": "\"string\""
        },
        {
         "metadata": "{}",
         "name": "ApplicantIncome",
         "type": "\"string\""
        },
        {
         "metadata": "{}",
         "name": "CoapplicantIncome",
         "type": "\"string\""
        },
        {
         "metadata": "{}",
         "name": "LoanAmount",
         "type": "\"string\""
        },
        {
         "metadata": "{}",
         "name": "Loan_Amount_Term",
         "type": "\"string\""
        },
        {
         "metadata": "{}",
         "name": "Credit_History",
         "type": "\"string\""
        },
        {
         "metadata": "{}",
         "name": "Property_Area",
         "type": "\"string\""
        },
        {
         "metadata": "{}",
         "name": "Loan_Status",
         "type": "\"string\""
        }
       ],
       "type": "table"
      }
     },
     "output_type": "display_data"
    }
   ],
   "source": [
    "# 2. Column Summary\n",
    "df.describe().display()"
   ]
  },
  {
   "cell_type": "code",
   "execution_count": 0,
   "metadata": {
    "application/vnd.databricks.v1+cell": {
     "cellMetadata": {
      "byteLimit": 2048000,
      "rowLimit": 10000
     },
     "inputWidgets": {},
     "nuid": "290c7caf-a853-4d06-aab3-bcbd3d2d8ef7",
     "showTitle": false,
     "tableResultSettingsMap": {},
     "title": ""
    }
   },
   "outputs": [
    {
     "output_type": "display_data",
     "data": {
      "text/html": [
       "<style scoped>\n",
       "  .table-result-container {\n",
       "    max-height: 300px;\n",
       "    overflow: auto;\n",
       "  }\n",
       "  table, th, td {\n",
       "    border: 1px solid black;\n",
       "    border-collapse: collapse;\n",
       "  }\n",
       "  th, td {\n",
       "    padding: 5px;\n",
       "  }\n",
       "  th {\n",
       "    text-align: left;\n",
       "  }\n",
       "</style><div class='table-result-container'><table class='table-result'><thead style='background-color: white'><tr><th>Loan_ID</th><th>Gender</th><th>Married</th><th>Dependents</th><th>Education</th><th>Self_Employed</th><th>ApplicantIncome</th><th>CoapplicantIncome</th><th>LoanAmount</th><th>Loan_Amount_Term</th><th>Credit_History</th><th>Property_Area</th><th>Loan_Status</th></tr></thead><tbody><tr><td>0</td><td>13</td><td>3</td><td>15</td><td>0</td><td>32</td><td>0</td><td>0</td><td>22</td><td>14</td><td>50</td><td>0</td><td>0</td></tr></tbody></table></div>"
      ]
     },
     "metadata": {
      "application/vnd.databricks.v1+output": {
       "addedWidgets": {},
       "aggData": [],
       "aggError": "",
       "aggOverflow": false,
       "aggSchema": [],
       "aggSeriesLimitReached": false,
       "aggType": "",
       "arguments": {},
       "columnCustomDisplayInfos": {},
       "data": [
        [
         0,
         13,
         3,
         15,
         0,
         32,
         0,
         0,
         22,
         14,
         50,
         0,
         0
        ]
       ],
       "datasetInfos": [],
       "dbfsResultPath": null,
       "isJsonSchema": true,
       "metadata": {},
       "overflow": false,
       "plotOptions": {
        "customPlotOptions": {},
        "displayType": "table",
        "pivotAggregation": null,
        "pivotColumns": null,
        "xColumns": null,
        "yColumns": null
       },
       "removedWidgets": [],
       "schema": [
        {
         "metadata": "{}",
         "name": "Loan_ID",
         "type": "\"long\""
        },
        {
         "metadata": "{}",
         "name": "Gender",
         "type": "\"long\""
        },
        {
         "metadata": "{}",
         "name": "Married",
         "type": "\"long\""
        },
        {
         "metadata": "{}",
         "name": "Dependents",
         "type": "\"long\""
        },
        {
         "metadata": "{}",
         "name": "Education",
         "type": "\"long\""
        },
        {
         "metadata": "{}",
         "name": "Self_Employed",
         "type": "\"long\""
        },
        {
         "metadata": "{}",
         "name": "ApplicantIncome",
         "type": "\"long\""
        },
        {
         "metadata": "{}",
         "name": "CoapplicantIncome",
         "type": "\"long\""
        },
        {
         "metadata": "{}",
         "name": "LoanAmount",
         "type": "\"long\""
        },
        {
         "metadata": "{}",
         "name": "Loan_Amount_Term",
         "type": "\"long\""
        },
        {
         "metadata": "{}",
         "name": "Credit_History",
         "type": "\"long\""
        },
        {
         "metadata": "{}",
         "name": "Property_Area",
         "type": "\"long\""
        },
        {
         "metadata": "{}",
         "name": "Loan_Status",
         "type": "\"long\""
        }
       ],
       "type": "table"
      }
     },
     "output_type": "display_data"
    }
   ],
   "source": [
    "# 3. Null Values\n",
    "from pyspark.sql.functions import col, sum\n",
    "\n",
    "df.select([sum(col(c).isNull().cast(\"int\")).alias(c) for c in df.columns]).display()"
   ]
  },
  {
   "cell_type": "markdown",
   "metadata": {
    "application/vnd.databricks.v1+cell": {
     "cellMetadata": {
      "byteLimit": 2048000,
      "rowLimit": 10000
     },
     "inputWidgets": {},
     "nuid": "d5e6d9f6-1106-4719-a687-9d3319d727ea",
     "showTitle": false,
     "tableResultSettingsMap": {},
     "title": ""
    }
   },
   "source": [
    "Data Cleaning\n",
    "\n"
   ]
  },
  {
   "cell_type": "code",
   "execution_count": 0,
   "metadata": {
    "application/vnd.databricks.v1+cell": {
     "cellMetadata": {
      "byteLimit": 2048000,
      "rowLimit": 10000
     },
     "inputWidgets": {},
     "nuid": "107aa3e0-d8a9-4810-9976-4926214f381a",
     "showTitle": false,
     "tableResultSettingsMap": {},
     "title": ""
    }
   },
   "outputs": [],
   "source": [
    "# Remove duplicates:\n",
    "df = df.dropDuplicates()"
   ]
  },
  {
   "cell_type": "code",
   "execution_count": 0,
   "metadata": {
    "application/vnd.databricks.v1+cell": {
     "cellMetadata": {
      "byteLimit": 2048000,
      "rowLimit": 10000
     },
     "inputWidgets": {},
     "nuid": "c1201eda-09ea-4606-bc06-9eb2f7715b28",
     "showTitle": false,
     "tableResultSettingsMap": {},
     "title": ""
    }
   },
   "outputs": [],
   "source": [
    "# Fill or drop nulls:\n",
    "df = df.na.drop()  # or df = df.na.fill(\"value\")"
   ]
  },
  {
   "cell_type": "markdown",
   "metadata": {
    "application/vnd.databricks.v1+cell": {
     "cellMetadata": {
      "byteLimit": 2048000,
      "rowLimit": 10000
     },
     "inputWidgets": {},
     "nuid": "98cb1ce6-c6ae-482b-b478-256febfe8a4b",
     "showTitle": false,
     "tableResultSettingsMap": {},
     "title": ""
    }
   },
   "source": [
    "Visualization in Databricks"
   ]
  },
  {
   "cell_type": "code",
   "execution_count": 0,
   "metadata": {
    "application/vnd.databricks.v1+cell": {
     "cellMetadata": {
      "byteLimit": 2048000,
      "rowLimit": 10000
     },
     "inputWidgets": {},
     "nuid": "2a1075ac-e029-4f25-b0ef-87d3aefdfed8",
     "showTitle": false,
     "tableResultSettingsMap": {},
     "title": ""
    }
   },
   "outputs": [
    {
     "output_type": "display_data",
     "data": {
      "text/html": [
       "<style scoped>\n",
       "  .table-result-container {\n",
       "    max-height: 300px;\n",
       "    overflow: auto;\n",
       "  }\n",
       "  table, th, td {\n",
       "    border: 1px solid black;\n",
       "    border-collapse: collapse;\n",
       "  }\n",
       "  th, td {\n",
       "    padding: 5px;\n",
       "  }\n",
       "  th {\n",
       "    text-align: left;\n",
       "  }\n",
       "</style><div class='table-result-container'><table class='table-result'><thead style='background-color: white'><tr><th>Loan_Status</th><th>count</th></tr></thead><tbody><tr><td>Y</td><td>332</td></tr><tr><td>N</td><td>148</td></tr></tbody></table></div>"
      ]
     },
     "metadata": {
      "application/vnd.databricks.v1+output": {
       "addedWidgets": {},
       "aggData": [],
       "aggError": "",
       "aggOverflow": false,
       "aggSchema": [],
       "aggSeriesLimitReached": false,
       "aggType": "",
       "arguments": {},
       "columnCustomDisplayInfos": {},
       "data": [
        [
         "Y",
         332
        ],
        [
         "N",
         148
        ]
       ],
       "datasetInfos": [],
       "dbfsResultPath": null,
       "isJsonSchema": true,
       "metadata": {},
       "overflow": false,
       "plotOptions": {
        "customPlotOptions": {},
        "displayType": "table",
        "pivotAggregation": null,
        "pivotColumns": null,
        "xColumns": null,
        "yColumns": null
       },
       "removedWidgets": [],
       "schema": [
        {
         "metadata": "{}",
         "name": "Loan_Status",
         "type": "\"string\""
        },
        {
         "metadata": "{}",
         "name": "count",
         "type": "\"long\""
        }
       ],
       "type": "table"
      }
     },
     "output_type": "display_data"
    },
    {
     "output_type": "display_data",
     "data": {
      "text/plain": [
       "Databricks visualization. Run in Databricks to view."
      ]
     },
     "metadata": {
      "application/vnd.databricks.v1.subcommand+json": {
       "baseErrorDetails": null,
       "bindings": {},
       "collapsed": false,
       "command": "%python\n__backend_agg_display_orig = display\n__backend_agg_dfs = []\ndef __backend_agg_display_new(df):\n    __backend_agg_df_modules = [\"pandas.core.frame\", \"databricks.koalas.frame\", \"pyspark.sql.dataframe\", \"pyspark.pandas.frame\", \"pyspark.sql.connect.dataframe\"]\n    if (type(df).__module__ in __backend_agg_df_modules and type(df).__name__ == 'DataFrame') or isinstance(df, list):\n        __backend_agg_dfs.append(df)\n\ndisplay = __backend_agg_display_new\n\ndef __backend_agg_user_code_fn():\n    import base64\n    exec(base64.standard_b64decode(\"IyAxLiAgTG9hbiBTdGF0dXMgRGlzdHJpYnV0aW9uIChUYXJnZXQgVmFyaWFibGUpCmRmLmdyb3VwQnkoIkxvYW5fU3RhdHVzIikuY291bnQoKS5kaXNwbGF5KCk=\").decode())\n\ntry:\n    # run user code\n    __backend_agg_user_code_fn()\n\n    #reset display function\n    display = __backend_agg_display_orig\n\n    if len(__backend_agg_dfs) > 0:\n        # create a temp view\n        if type(__backend_agg_dfs[0]).__module__ == \"databricks.koalas.frame\":\n            # koalas dataframe\n            __backend_agg_dfs[0].to_spark().createOrReplaceTempView(\"DatabricksViewbd8c463\")\n        elif type(__backend_agg_dfs[0]).__module__ == \"pandas.core.frame\" or isinstance(__backend_agg_dfs[0], list):\n            # pandas dataframe\n            spark.createDataFrame(__backend_agg_dfs[0]).createOrReplaceTempView(\"DatabricksViewbd8c463\")\n        else:\n            __backend_agg_dfs[0].createOrReplaceTempView(\"DatabricksViewbd8c463\")\n        #run backend agg\n        display(spark.sql(\"\"\"WITH q AS (select * from DatabricksViewbd8c463) SELECT `Loan_Status`,SUM(`count`) `column_fe7e48b1163` FROM q GROUP BY `Loan_Status`\"\"\"))\n    else:\n        displayHTML(\"dataframe no longer exists. If you're using dataframe.display(), use display(dataframe) instead.\")\n\n\nfinally:\n    spark.sql(\"drop view if exists DatabricksViewbd8c463\")\n    display = __backend_agg_display_orig\n    del __backend_agg_display_new\n    del __backend_agg_display_orig\n    del __backend_agg_dfs\n    del __backend_agg_user_code_fn\n\n",
       "commandTitle": "Loan Status Distribution",
       "commandType": "auto",
       "commandVersion": 0,
       "commentThread": [],
       "commentsVisible": false,
       "contentSha256Hex": null,
       "customPlotOptions": {
        "redashChart": [
         {
          "key": "type",
          "value": "CHART"
         },
         {
          "key": "options",
          "value": {
           "alignYAxesAtZero": true,
           "coefficient": 1,
           "columnConfigurationMap": {
            "x": {
             "column": "Loan_Status",
             "id": "column_fe7e48b1162"
            },
            "y": [
             {
              "column": "count",
              "id": "column_fe7e48b1163",
              "transform": "SUM"
             }
            ]
           },
           "dateTimeFormat": "DD/MM/YYYY HH:mm",
           "direction": {
            "type": "counterclockwise"
           },
           "error_y": {
            "type": "data",
            "visible": true
           },
           "globalSeriesType": "pie",
           "legend": {
            "traceorder": "normal"
           },
           "missingValuesAsZero": true,
           "numberFormat": "0,0.[00000]",
           "percentFormat": "0[.]00%",
           "series": {
            "error_y": {
             "type": "data",
             "visible": true
            },
            "stacking": null
           },
           "seriesOptions": {
            "column_fe7e48b1163": {
             "name": "count",
             "type": "pie",
             "yAxis": 0
            }
           },
           "showDataLabels": true,
           "sizemode": "diameter",
           "sortX": true,
           "sortY": true,
           "swappedAxes": false,
           "textFormat": "",
           "useAggregationsUi": true,
           "valuesOptions": {},
           "version": 2,
           "xAxis": {
            "labels": {
             "enabled": true
            },
            "type": "-"
           },
           "yAxis": [
            {
             "type": "-"
            },
            {
             "opposite": true,
             "type": "-"
            }
           ]
          }
         }
        ]
       },
       "datasetPreviewNameToCmdIdMap": {},
       "diffDeletes": [],
       "diffInserts": [],
       "displayType": "redashChart",
       "error": null,
       "errorDetails": null,
       "errorSummary": null,
       "errorTraceType": null,
       "finishTime": 0,
       "globalVars": {},
       "guid": "",
       "height": "auto",
       "hideCommandCode": false,
       "hideCommandResult": false,
       "iPythonMetadata": null,
       "inputWidgets": {},
       "isLockedInExamMode": false,
       "latestUser": "a user",
       "latestUserId": null,
       "listResultMetadata": null,
       "metadata": {
        "byteLimit": 2048000,
        "rowLimit": 10000
       },
       "nuid": "19e45035-c952-4ae5-81ad-2d2ffb9a0630",
       "origId": 0,
       "parentHierarchy": [],
       "pivotAggregation": null,
       "pivotColumns": null,
       "position": 10.25,
       "resultDbfsErrorMessage": null,
       "resultDbfsStatus": "INLINED_IN_TREE",
       "results": null,
       "showCommandTitle": false,
       "startTime": 0,
       "state": "finished",
       "streamStates": {},
       "subcommandOptions": {
        "queryPlan": {
         "groups": [
          {
           "column": "Loan_Status",
           "type": "column"
          }
         ],
         "selects": [
          {
           "column": "Loan_Status",
           "type": "column"
          },
          {
           "alias": "column_fe7e48b1163",
           "args": [
            {
             "column": "count",
             "type": "column"
            }
           ],
           "function": "SUM",
           "type": "function"
          }
         ]
        }
       },
       "submitTime": 0,
       "subtype": "tableResultSubCmd.visualization",
       "tableResultIndex": 0,
       "tableResultSettingsMap": {},
       "useConsistentColors": false,
       "version": "CommandV1",
       "width": "auto",
       "workflows": [],
       "xColumns": null,
       "yColumns": null
      }
     },
     "output_type": "display_data"
    }
   ],
   "source": [
    "# 1.  Loan Status Distribution \n",
    "df.groupBy(\"Loan_Status\").count().display()"
   ]
  },
  {
   "cell_type": "code",
   "execution_count": 0,
   "metadata": {
    "application/vnd.databricks.v1+cell": {
     "cellMetadata": {
      "byteLimit": 2048000,
      "rowLimit": 10000
     },
     "inputWidgets": {},
     "nuid": "44dc1cf5-d8d4-4aa5-a09a-838bb66862cb",
     "showTitle": false,
     "tableResultSettingsMap": {},
     "title": ""
    }
   },
   "outputs": [
    {
     "output_type": "display_data",
     "data": {
      "text/html": [
       "<style scoped>\n",
       "  .table-result-container {\n",
       "    max-height: 300px;\n",
       "    overflow: auto;\n",
       "  }\n",
       "  table, th, td {\n",
       "    border: 1px solid black;\n",
       "    border-collapse: collapse;\n",
       "  }\n",
       "  th, td {\n",
       "    padding: 5px;\n",
       "  }\n",
       "  th {\n",
       "    text-align: left;\n",
       "  }\n",
       "</style><div class='table-result-container'><table class='table-result'><thead style='background-color: white'><tr><th>Gender</th><th>Loan_Status</th><th>count</th></tr></thead><tbody><tr><td>Female</td><td>Y</td><td>54</td></tr><tr><td>Female</td><td>N</td><td>32</td></tr><tr><td>Male</td><td>Y</td><td>278</td></tr><tr><td>Male</td><td>N</td><td>116</td></tr></tbody></table></div>"
      ]
     },
     "metadata": {
      "application/vnd.databricks.v1+output": {
       "addedWidgets": {},
       "aggData": [],
       "aggError": "",
       "aggOverflow": false,
       "aggSchema": [],
       "aggSeriesLimitReached": false,
       "aggType": "",
       "arguments": {},
       "columnCustomDisplayInfos": {},
       "data": [
        [
         "Female",
         "Y",
         54
        ],
        [
         "Female",
         "N",
         32
        ],
        [
         "Male",
         "Y",
         278
        ],
        [
         "Male",
         "N",
         116
        ]
       ],
       "datasetInfos": [],
       "dbfsResultPath": null,
       "isJsonSchema": true,
       "metadata": {},
       "overflow": false,
       "plotOptions": {
        "customPlotOptions": {},
        "displayType": "table",
        "pivotAggregation": null,
        "pivotColumns": null,
        "xColumns": null,
        "yColumns": null
       },
       "removedWidgets": [],
       "schema": [
        {
         "metadata": "{}",
         "name": "Gender",
         "type": "\"string\""
        },
        {
         "metadata": "{}",
         "name": "Loan_Status",
         "type": "\"string\""
        },
        {
         "metadata": "{}",
         "name": "count",
         "type": "\"long\""
        }
       ],
       "type": "table"
      }
     },
     "output_type": "display_data"
    },
    {
     "output_type": "display_data",
     "data": {
      "text/plain": [
       "Databricks visualization. Run in Databricks to view."
      ]
     },
     "metadata": {
      "application/vnd.databricks.v1.subcommand+json": {
       "baseErrorDetails": null,
       "bindings": {},
       "collapsed": false,
       "command": "%python\n__backend_agg_display_orig = display\n__backend_agg_dfs = []\ndef __backend_agg_display_new(df):\n    __backend_agg_df_modules = [\"pandas.core.frame\", \"databricks.koalas.frame\", \"pyspark.sql.dataframe\", \"pyspark.pandas.frame\", \"pyspark.sql.connect.dataframe\"]\n    if (type(df).__module__ in __backend_agg_df_modules and type(df).__name__ == 'DataFrame') or isinstance(df, list):\n        __backend_agg_dfs.append(df)\n\ndisplay = __backend_agg_display_new\n\ndef __backend_agg_user_code_fn():\n    import base64\n    exec(base64.standard_b64decode(\"IyAyLiBHZW5kZXItd2lzZSBMb2FuIFN0YXR1cwpkZi5ncm91cEJ5KCJHZW5kZXIiLCAiTG9hbl9TdGF0dXMiKS5jb3VudCgpLm9yZGVyQnkoIkdlbmRlciIpLmRpc3BsYXkoKQ==\").decode())\n\ntry:\n    # run user code\n    __backend_agg_user_code_fn()\n\n    #reset display function\n    display = __backend_agg_display_orig\n\n    if len(__backend_agg_dfs) > 0:\n        # create a temp view\n        if type(__backend_agg_dfs[0]).__module__ == \"databricks.koalas.frame\":\n            # koalas dataframe\n            __backend_agg_dfs[0].to_spark().createOrReplaceTempView(\"DatabricksView6cfcc36\")\n        elif type(__backend_agg_dfs[0]).__module__ == \"pandas.core.frame\" or isinstance(__backend_agg_dfs[0], list):\n            # pandas dataframe\n            spark.createDataFrame(__backend_agg_dfs[0]).createOrReplaceTempView(\"DatabricksView6cfcc36\")\n        else:\n            __backend_agg_dfs[0].createOrReplaceTempView(\"DatabricksView6cfcc36\")\n        #run backend agg\n        display(spark.sql(\"\"\"WITH q AS (select * from DatabricksView6cfcc36) SELECT `Gender`,`Loan_Status`,SUM(`count`) `column_fe7e48b1167` FROM q GROUP BY `Gender`,`Loan_Status`\"\"\"))\n    else:\n        displayHTML(\"dataframe no longer exists. If you're using dataframe.display(), use display(dataframe) instead.\")\n\n\nfinally:\n    spark.sql(\"drop view if exists DatabricksView6cfcc36\")\n    display = __backend_agg_display_orig\n    del __backend_agg_display_new\n    del __backend_agg_display_orig\n    del __backend_agg_dfs\n    del __backend_agg_user_code_fn\n\n",
       "commandTitle": "Gender",
       "commandType": "auto",
       "commandVersion": 0,
       "commentThread": [],
       "commentsVisible": false,
       "contentSha256Hex": null,
       "customPlotOptions": {
        "redashChart": [
         {
          "key": "type",
          "value": "CHART"
         },
         {
          "key": "options",
          "value": {
           "alignYAxesAtZero": true,
           "coefficient": 1,
           "columnConfigurationMap": {
            "series": {
             "column": "Loan_Status",
             "id": "column_fe7e48b1166"
            },
            "x": {
             "column": "Gender",
             "id": "column_fe7e48b1165"
            },
            "y": [
             {
              "column": "count",
              "id": "column_fe7e48b1167",
              "transform": "SUM"
             }
            ]
           },
           "dateTimeFormat": "DD/MM/YYYY HH:mm",
           "direction": {
            "type": "counterclockwise"
           },
           "error_y": {
            "type": "data",
            "visible": true
           },
           "globalSeriesType": "column",
           "legend": {
            "traceorder": "normal"
           },
           "missingValuesAsZero": true,
           "numberFormat": "0,0.[00000]",
           "percentFormat": "0[.]00%",
           "series": {
            "error_y": {
             "type": "data",
             "visible": true
            },
            "stacking": "stack"
           },
           "seriesOptions": {
            "column_fe7e48b1167": {
             "name": "count",
             "yAxis": 0
            }
           },
           "showDataLabels": false,
           "sizemode": "diameter",
           "sortX": true,
           "sortY": true,
           "swappedAxes": true,
           "textFormat": "",
           "useAggregationsUi": true,
           "valuesOptions": {},
           "version": 2,
           "xAxis": {
            "labels": {
             "enabled": true
            },
            "type": "-"
           },
           "yAxis": [
            {
             "type": "-"
            },
            {
             "opposite": true,
             "type": "-"
            }
           ]
          }
         }
        ]
       },
       "datasetPreviewNameToCmdIdMap": {},
       "diffDeletes": [],
       "diffInserts": [],
       "displayType": "redashChart",
       "error": null,
       "errorDetails": null,
       "errorSummary": null,
       "errorTraceType": null,
       "finishTime": 0,
       "globalVars": {},
       "guid": "",
       "height": "auto",
       "hideCommandCode": false,
       "hideCommandResult": false,
       "iPythonMetadata": null,
       "inputWidgets": {},
       "isLockedInExamMode": false,
       "latestUser": "a user",
       "latestUserId": null,
       "listResultMetadata": null,
       "metadata": {
        "byteLimit": 2048000,
        "rowLimit": 10000
       },
       "nuid": "1ed45f1f-301d-4388-acc1-1979f7fc5d09",
       "origId": 0,
       "parentHierarchy": [],
       "pivotAggregation": null,
       "pivotColumns": null,
       "position": 11.0,
       "resultDbfsErrorMessage": null,
       "resultDbfsStatus": "INLINED_IN_TREE",
       "results": null,
       "showCommandTitle": false,
       "startTime": 0,
       "state": "finished",
       "streamStates": {},
       "subcommandOptions": {
        "queryPlan": {
         "groups": [
          {
           "column": "Gender",
           "type": "column"
          },
          {
           "column": "Loan_Status",
           "type": "column"
          }
         ],
         "selects": [
          {
           "column": "Gender",
           "type": "column"
          },
          {
           "column": "Loan_Status",
           "type": "column"
          },
          {
           "alias": "column_fe7e48b1167",
           "args": [
            {
             "column": "count",
             "type": "column"
            }
           ],
           "function": "SUM",
           "type": "function"
          }
         ]
        }
       },
       "submitTime": 0,
       "subtype": "tableResultSubCmd.visualization",
       "tableResultIndex": 0,
       "tableResultSettingsMap": {},
       "useConsistentColors": false,
       "version": "CommandV1",
       "width": "auto",
       "workflows": [],
       "xColumns": null,
       "yColumns": null
      }
     },
     "output_type": "display_data"
    },
    {
     "output_type": "display_data",
     "data": {
      "text/plain": [
       "Databricks visualization. Run in Databricks to view."
      ]
     },
     "metadata": {
      "application/vnd.databricks.v1.subcommand+json": {
       "baseErrorDetails": null,
       "bindings": {},
       "collapsed": false,
       "command": "%python\n__backend_agg_display_orig = display\n__backend_agg_dfs = []\ndef __backend_agg_display_new(df):\n    __backend_agg_df_modules = [\"pandas.core.frame\", \"databricks.koalas.frame\", \"pyspark.sql.dataframe\", \"pyspark.pandas.frame\", \"pyspark.sql.connect.dataframe\"]\n    if (type(df).__module__ in __backend_agg_df_modules and type(df).__name__ == 'DataFrame') or isinstance(df, list):\n        __backend_agg_dfs.append(df)\n\ndisplay = __backend_agg_display_new\n\ndef __backend_agg_user_code_fn():\n    import base64\n    exec(base64.standard_b64decode(\"IyAyLiBHZW5kZXItd2lzZSBMb2FuIFN0YXR1cwpkZi5ncm91cEJ5KCJHZW5kZXIiLCAiTG9hbl9TdGF0dXMiKS5jb3VudCgpLm9yZGVyQnkoIkdlbmRlciIpLmRpc3BsYXkoKQ==\").decode())\n\ntry:\n    # run user code\n    __backend_agg_user_code_fn()\n\n    #reset display function\n    display = __backend_agg_display_orig\n\n    if len(__backend_agg_dfs) > 0:\n        # create a temp view\n        if type(__backend_agg_dfs[0]).__module__ == \"databricks.koalas.frame\":\n            # koalas dataframe\n            __backend_agg_dfs[0].to_spark().createOrReplaceTempView(\"DatabricksView1a5dd2c\")\n        elif type(__backend_agg_dfs[0]).__module__ == \"pandas.core.frame\" or isinstance(__backend_agg_dfs[0], list):\n            # pandas dataframe\n            spark.createDataFrame(__backend_agg_dfs[0]).createOrReplaceTempView(\"DatabricksView1a5dd2c\")\n        else:\n            __backend_agg_dfs[0].createOrReplaceTempView(\"DatabricksView1a5dd2c\")\n        #run backend agg\n        display(spark.sql(\"\"\"WITH q AS (select * from DatabricksView1a5dd2c) SELECT `Loan_Status`,`Loan_Status`,SUM(`count`) `column_fe7e48b1171` FROM q GROUP BY `Loan_Status`\"\"\"))\n    else:\n        displayHTML(\"dataframe no longer exists. If you're using dataframe.display(), use display(dataframe) instead.\")\n\n\nfinally:\n    spark.sql(\"drop view if exists DatabricksView1a5dd2c\")\n    display = __backend_agg_display_orig\n    del __backend_agg_display_new\n    del __backend_agg_display_orig\n    del __backend_agg_dfs\n    del __backend_agg_user_code_fn\n\n",
       "commandTitle": "Loan_Status",
       "commandType": "auto",
       "commandVersion": 0,
       "commentThread": [],
       "commentsVisible": false,
       "contentSha256Hex": null,
       "customPlotOptions": {
        "redashChart": [
         {
          "key": "type",
          "value": "CHART"
         },
         {
          "key": "options",
          "value": {
           "alignYAxesAtZero": true,
           "coefficient": 1,
           "columnConfigurationMap": {
            "series": {
             "column": "Loan_Status",
             "id": "column_fe7e48b1170"
            },
            "x": {
             "column": "Loan_Status",
             "id": "column_fe7e48b1173"
            },
            "y": [
             {
              "column": "count",
              "id": "column_fe7e48b1171",
              "transform": "SUM"
             }
            ]
           },
           "dateTimeFormat": "DD/MM/YYYY HH:mm",
           "direction": {
            "type": "counterclockwise"
           },
           "error_y": {
            "type": "data",
            "visible": true
           },
           "globalSeriesType": "column",
           "isAggregationOn": true,
           "legend": {
            "traceorder": "normal"
           },
           "missingValuesAsZero": true,
           "numberFormat": "0,0.[00000]",
           "percentFormat": "0[.]00%",
           "series": {
            "error_y": {
             "type": "data",
             "visible": true
            },
            "stacking": "stack"
           },
           "seriesOptions": {
            "column_fe7e48b1171": {
             "name": "count",
             "yAxis": 0
            }
           },
           "showDataLabels": false,
           "sizemode": "diameter",
           "sortX": true,
           "sortY": true,
           "swappedAxes": true,
           "textFormat": "",
           "useAggregationsUi": true,
           "valuesOptions": {},
           "version": 2,
           "xAxis": {
            "labels": {
             "enabled": true
            },
            "type": "-"
           },
           "yAxis": [
            {
             "type": "-"
            },
            {
             "opposite": true,
             "type": "-"
            }
           ]
          }
         }
        ]
       },
       "datasetPreviewNameToCmdIdMap": {},
       "diffDeletes": [],
       "diffInserts": [],
       "displayType": "redashChart",
       "error": null,
       "errorDetails": null,
       "errorSummary": null,
       "errorTraceType": null,
       "finishTime": 0,
       "globalVars": {},
       "guid": "",
       "height": "auto",
       "hideCommandCode": false,
       "hideCommandResult": false,
       "iPythonMetadata": null,
       "inputWidgets": {},
       "isLockedInExamMode": false,
       "latestUser": "a user",
       "latestUserId": null,
       "listResultMetadata": null,
       "metadata": {
        "byteLimit": 2048000,
        "rowLimit": 10000
       },
       "nuid": "6f578a10-2dd0-4cbb-b582-03b76b23d7ba",
       "origId": 0,
       "parentHierarchy": [],
       "pivotAggregation": null,
       "pivotColumns": null,
       "position": 12.0,
       "resultDbfsErrorMessage": null,
       "resultDbfsStatus": "INLINED_IN_TREE",
       "results": null,
       "showCommandTitle": false,
       "startTime": 0,
       "state": "finished",
       "streamStates": {},
       "subcommandOptions": {
        "queryPlan": {
         "groups": [
          {
           "column": "Loan_Status",
           "type": "column"
          },
          {
           "column": "Loan_Status",
           "type": "column"
          }
         ],
         "selects": [
          {
           "column": "Loan_Status",
           "type": "column"
          },
          {
           "column": "Loan_Status",
           "type": "column"
          },
          {
           "alias": "column_fe7e48b1171",
           "args": [
            {
             "column": "count",
             "type": "column"
            }
           ],
           "function": "SUM",
           "type": "function"
          }
         ]
        }
       },
       "submitTime": 0,
       "subtype": "tableResultSubCmd.visualization",
       "tableResultIndex": 0,
       "tableResultSettingsMap": {},
       "useConsistentColors": false,
       "version": "CommandV1",
       "width": "auto",
       "workflows": [],
       "xColumns": null,
       "yColumns": null
      }
     },
     "output_type": "display_data"
    },
    {
     "output_type": "display_data",
     "data": {
      "text/plain": [
       "Databricks visualization. Run in Databricks to view."
      ]
     },
     "metadata": {
      "application/vnd.databricks.v1.subcommand+json": {
       "baseErrorDetails": null,
       "bindings": {},
       "collapsed": false,
       "command": "%python\n__backend_agg_display_orig = display\n__backend_agg_dfs = []\ndef __backend_agg_display_new(df):\n    __backend_agg_df_modules = [\"pandas.core.frame\", \"databricks.koalas.frame\", \"pyspark.sql.dataframe\", \"pyspark.pandas.frame\", \"pyspark.sql.connect.dataframe\"]\n    if (type(df).__module__ in __backend_agg_df_modules and type(df).__name__ == 'DataFrame') or isinstance(df, list):\n        __backend_agg_dfs.append(df)\n\ndisplay = __backend_agg_display_new\n\ndef __backend_agg_user_code_fn():\n    import base64\n    exec(base64.standard_b64decode(\"IyAyLiBHZW5kZXItd2lzZSBMb2FuIFN0YXR1cwpkZi5ncm91cEJ5KCJHZW5kZXIiLCAiTG9hbl9TdGF0dXMiKS5jb3VudCgpLm9yZGVyQnkoIkdlbmRlciIpLmRpc3BsYXkoKQ==\").decode())\n\ntry:\n    # run user code\n    __backend_agg_user_code_fn()\n\n    #reset display function\n    display = __backend_agg_display_orig\n\n    if len(__backend_agg_dfs) > 0:\n        # create a temp view\n        if type(__backend_agg_dfs[0]).__module__ == \"databricks.koalas.frame\":\n            # koalas dataframe\n            __backend_agg_dfs[0].to_spark().createOrReplaceTempView(\"DatabricksViewe4ed280\")\n        elif type(__backend_agg_dfs[0]).__module__ == \"pandas.core.frame\" or isinstance(__backend_agg_dfs[0], list):\n            # pandas dataframe\n            spark.createDataFrame(__backend_agg_dfs[0]).createOrReplaceTempView(\"DatabricksViewe4ed280\")\n        else:\n            __backend_agg_dfs[0].createOrReplaceTempView(\"DatabricksViewe4ed280\")\n        #run backend agg\n        display(spark.sql(\"\"\"WITH q AS (select * from DatabricksViewe4ed280) SELECT `count`,`Loan_Status`,SUM(`count`) `column_fe7e48b1176` FROM q GROUP BY `Loan_Status`,`count`\"\"\"))\n    else:\n        displayHTML(\"dataframe no longer exists. If you're using dataframe.display(), use display(dataframe) instead.\")\n\n\nfinally:\n    spark.sql(\"drop view if exists DatabricksViewe4ed280\")\n    display = __backend_agg_display_orig\n    del __backend_agg_display_new\n    del __backend_agg_display_orig\n    del __backend_agg_dfs\n    del __backend_agg_user_code_fn\n\n",
       "commandTitle": "count",
       "commandType": "auto",
       "commandVersion": 0,
       "commentThread": [],
       "commentsVisible": false,
       "contentSha256Hex": null,
       "customPlotOptions": {
        "redashChart": [
         {
          "key": "type",
          "value": "CHART"
         },
         {
          "key": "options",
          "value": {
           "alignYAxesAtZero": true,
           "coefficient": 1,
           "columnConfigurationMap": {
            "series": {
             "column": "Loan_Status",
             "id": "column_fe7e48b1175"
            },
            "x": {
             "column": "count",
             "id": "column_fe7e48b1178"
            },
            "y": [
             {
              "column": "count",
              "id": "column_fe7e48b1176",
              "transform": "SUM"
             }
            ]
           },
           "dateTimeFormat": "DD/MM/YYYY HH:mm",
           "direction": {
            "type": "counterclockwise"
           },
           "error_y": {
            "type": "data",
            "visible": true
           },
           "globalSeriesType": "column",
           "isAggregationOn": true,
           "legend": {
            "traceorder": "normal"
           },
           "missingValuesAsZero": true,
           "numberFormat": "0,0.[00000]",
           "percentFormat": "0[.]00%",
           "series": {
            "error_y": {
             "type": "data",
             "visible": true
            },
            "stacking": "stack"
           },
           "seriesOptions": {
            "column_fe7e48b1176": {
             "name": "count",
             "yAxis": 0
            }
           },
           "showDataLabels": false,
           "sizemode": "diameter",
           "sortX": true,
           "sortY": true,
           "swappedAxes": true,
           "textFormat": "",
           "useAggregationsUi": true,
           "valuesOptions": {},
           "version": 2,
           "xAxis": {
            "labels": {
             "enabled": true
            },
            "type": "-"
           },
           "yAxis": [
            {
             "type": "-"
            },
            {
             "opposite": true,
             "type": "-"
            }
           ]
          }
         }
        ]
       },
       "datasetPreviewNameToCmdIdMap": {},
       "diffDeletes": [],
       "diffInserts": [],
       "displayType": "redashChart",
       "error": null,
       "errorDetails": null,
       "errorSummary": null,
       "errorTraceType": null,
       "finishTime": 0,
       "globalVars": {},
       "guid": "",
       "height": "auto",
       "hideCommandCode": false,
       "hideCommandResult": false,
       "iPythonMetadata": null,
       "inputWidgets": {},
       "isLockedInExamMode": false,
       "latestUser": "a user",
       "latestUserId": null,
       "listResultMetadata": null,
       "metadata": {
        "byteLimit": 2048000,
        "rowLimit": 10000
       },
       "nuid": "507c58e1-b9e8-4a20-a420-d887028766d8",
       "origId": 0,
       "parentHierarchy": [],
       "pivotAggregation": null,
       "pivotColumns": null,
       "position": 13.0,
       "resultDbfsErrorMessage": null,
       "resultDbfsStatus": "INLINED_IN_TREE",
       "results": null,
       "showCommandTitle": false,
       "startTime": 0,
       "state": "finished",
       "streamStates": {},
       "subcommandOptions": {
        "queryPlan": {
         "groups": [
          {
           "column": "count",
           "type": "column"
          },
          {
           "column": "Loan_Status",
           "type": "column"
          }
         ],
         "selects": [
          {
           "column": "count",
           "type": "column"
          },
          {
           "column": "Loan_Status",
           "type": "column"
          },
          {
           "alias": "column_fe7e48b1176",
           "args": [
            {
             "column": "count",
             "type": "column"
            }
           ],
           "function": "SUM",
           "type": "function"
          }
         ]
        }
       },
       "submitTime": 0,
       "subtype": "tableResultSubCmd.visualization",
       "tableResultIndex": 0,
       "tableResultSettingsMap": {},
       "useConsistentColors": false,
       "version": "CommandV1",
       "width": "auto",
       "workflows": [],
       "xColumns": null,
       "yColumns": null
      }
     },
     "output_type": "display_data"
    }
   ],
   "source": [
    "# 2. Gender-wise Loan Status\n",
    "df.groupBy(\"Gender\", \"Loan_Status\").count().orderBy(\"Gender\").display()"
   ]
  },
  {
   "cell_type": "code",
   "execution_count": 0,
   "metadata": {
    "application/vnd.databricks.v1+cell": {
     "cellMetadata": {
      "byteLimit": 2048000,
      "rowLimit": 10000
     },
     "inputWidgets": {},
     "nuid": "d9c85075-1594-493c-8218-daa9c919e266",
     "showTitle": false,
     "tableResultSettingsMap": {},
     "title": ""
    }
   },
   "outputs": [
    {
     "output_type": "display_data",
     "data": {
      "text/html": [
       "<style scoped>\n",
       "  .table-result-container {\n",
       "    max-height: 300px;\n",
       "    overflow: auto;\n",
       "  }\n",
       "  table, th, td {\n",
       "    border: 1px solid black;\n",
       "    border-collapse: collapse;\n",
       "  }\n",
       "  th, td {\n",
       "    padding: 5px;\n",
       "  }\n",
       "  th {\n",
       "    text-align: left;\n",
       "  }\n",
       "</style><div class='table-result-container'><table class='table-result'><thead style='background-color: white'><tr><th>Education</th><th>Loan_Status</th><th>count</th></tr></thead><tbody><tr><td>Not Graduate</td><td>N</td><td>36</td></tr><tr><td>Graduate</td><td>N</td><td>112</td></tr><tr><td>Graduate</td><td>Y</td><td>271</td></tr><tr><td>Not Graduate</td><td>Y</td><td>61</td></tr></tbody></table></div>"
      ]
     },
     "metadata": {
      "application/vnd.databricks.v1+output": {
       "addedWidgets": {},
       "aggData": [],
       "aggError": "",
       "aggOverflow": false,
       "aggSchema": [],
       "aggSeriesLimitReached": false,
       "aggType": "",
       "arguments": {},
       "columnCustomDisplayInfos": {},
       "data": [
        [
         "Not Graduate",
         "N",
         36
        ],
        [
         "Graduate",
         "N",
         112
        ],
        [
         "Graduate",
         "Y",
         271
        ],
        [
         "Not Graduate",
         "Y",
         61
        ]
       ],
       "datasetInfos": [],
       "dbfsResultPath": null,
       "isJsonSchema": true,
       "metadata": {},
       "overflow": false,
       "plotOptions": {
        "customPlotOptions": {},
        "displayType": "table",
        "pivotAggregation": null,
        "pivotColumns": null,
        "xColumns": null,
        "yColumns": null
       },
       "removedWidgets": [],
       "schema": [
        {
         "metadata": "{}",
         "name": "Education",
         "type": "\"string\""
        },
        {
         "metadata": "{}",
         "name": "Loan_Status",
         "type": "\"string\""
        },
        {
         "metadata": "{}",
         "name": "count",
         "type": "\"long\""
        }
       ],
       "type": "table"
      }
     },
     "output_type": "display_data"
    },
    {
     "output_type": "display_data",
     "data": {
      "text/plain": [
       "Databricks visualization. Run in Databricks to view."
      ]
     },
     "metadata": {
      "application/vnd.databricks.v1.subcommand+json": {
       "baseErrorDetails": null,
       "bindings": {},
       "collapsed": false,
       "command": "%python\n__backend_agg_display_orig = display\n__backend_agg_dfs = []\ndef __backend_agg_display_new(df):\n    __backend_agg_df_modules = [\"pandas.core.frame\", \"databricks.koalas.frame\", \"pyspark.sql.dataframe\", \"pyspark.pandas.frame\", \"pyspark.sql.connect.dataframe\"]\n    if (type(df).__module__ in __backend_agg_df_modules and type(df).__name__ == 'DataFrame') or isinstance(df, list):\n        __backend_agg_dfs.append(df)\n\ndisplay = __backend_agg_display_new\n\ndef __backend_agg_user_code_fn():\n    import base64\n    exec(base64.standard_b64decode(\"IyAzLiBFZHVjYXRpb24gdnMgTG9hbiBTdGF0dXMKZGYuZ3JvdXBCeSgiRWR1Y2F0aW9uIiwgIkxvYW5fU3RhdHVzIikuY291bnQoKS5kaXNwbGF5KCk=\").decode())\n\ntry:\n    # run user code\n    __backend_agg_user_code_fn()\n\n    #reset display function\n    display = __backend_agg_display_orig\n\n    if len(__backend_agg_dfs) > 0:\n        # create a temp view\n        if type(__backend_agg_dfs[0]).__module__ == \"databricks.koalas.frame\":\n            # koalas dataframe\n            __backend_agg_dfs[0].to_spark().createOrReplaceTempView(\"DatabricksViewea7dd77\")\n        elif type(__backend_agg_dfs[0]).__module__ == \"pandas.core.frame\" or isinstance(__backend_agg_dfs[0], list):\n            # pandas dataframe\n            spark.createDataFrame(__backend_agg_dfs[0]).createOrReplaceTempView(\"DatabricksViewea7dd77\")\n        else:\n            __backend_agg_dfs[0].createOrReplaceTempView(\"DatabricksViewea7dd77\")\n        #run backend agg\n        display(spark.sql(\"\"\"WITH q AS (select * from DatabricksViewea7dd77) SELECT `Education`,`Loan_Status`,SUM(`count`) `column_fe7e48b1181` FROM q GROUP BY `Education`,`Loan_Status`\"\"\"))\n    else:\n        displayHTML(\"dataframe no longer exists. If you're using dataframe.display(), use display(dataframe) instead.\")\n\n\nfinally:\n    spark.sql(\"drop view if exists DatabricksViewea7dd77\")\n    display = __backend_agg_display_orig\n    del __backend_agg_display_new\n    del __backend_agg_display_orig\n    del __backend_agg_dfs\n    del __backend_agg_user_code_fn\n\n",
       "commandTitle": "Education vs Loan Status",
       "commandType": "auto",
       "commandVersion": 0,
       "commentThread": [],
       "commentsVisible": false,
       "contentSha256Hex": null,
       "customPlotOptions": {
        "redashChart": [
         {
          "key": "type",
          "value": "CHART"
         },
         {
          "key": "options",
          "value": {
           "alignYAxesAtZero": true,
           "coefficient": 1,
           "columnConfigurationMap": {
            "series": {
             "column": "Loan_Status",
             "id": "column_fe7e48b1180"
            },
            "x": {
             "column": "Education",
             "id": "column_fe7e48b1179"
            },
            "y": [
             {
              "column": "count",
              "id": "column_fe7e48b1181",
              "transform": "SUM"
             }
            ]
           },
           "dateTimeFormat": "DD/MM/YYYY HH:mm",
           "direction": {
            "type": "counterclockwise"
           },
           "error_y": {
            "type": "data",
            "visible": true
           },
           "globalSeriesType": "column",
           "isAggregationOn": true,
           "legend": {
            "traceorder": "normal"
           },
           "missingValuesAsZero": true,
           "numberFormat": "0,0.[00000]",
           "percentFormat": "0[.]00%",
           "series": {
            "error_y": {
             "type": "data",
             "visible": true
            },
            "stacking": null
           },
           "seriesOptions": {
            "column_fe7e48b1181": {
             "name": "count",
             "type": "column",
             "yAxis": 0
            },
            "count": {
             "name": "count",
             "type": "column",
             "yAxis": 0
            }
           },
           "showDataLabels": false,
           "sizemode": "diameter",
           "sortX": true,
           "sortY": true,
           "swappedAxes": false,
           "textFormat": "",
           "useAggregationsUi": true,
           "valuesOptions": {},
           "version": 2,
           "xAxis": {
            "labels": {
             "enabled": true
            },
            "type": "-"
           },
           "yAxis": [
            {
             "type": "-"
            },
            {
             "opposite": true,
             "type": "-"
            }
           ]
          }
         }
        ]
       },
       "datasetPreviewNameToCmdIdMap": {},
       "diffDeletes": [],
       "diffInserts": [],
       "displayType": "redashChart",
       "error": null,
       "errorDetails": null,
       "errorSummary": null,
       "errorTraceType": null,
       "finishTime": 0,
       "globalVars": {},
       "guid": "",
       "height": "auto",
       "hideCommandCode": false,
       "hideCommandResult": false,
       "iPythonMetadata": null,
       "inputWidgets": {},
       "isLockedInExamMode": false,
       "latestUser": "a user",
       "latestUserId": null,
       "listResultMetadata": null,
       "metadata": {
        "byteLimit": 2048000,
        "rowLimit": 10000
       },
       "nuid": "8a91ffe7-e30b-42ba-b3ac-87797f33ad69",
       "origId": 0,
       "parentHierarchy": [],
       "pivotAggregation": null,
       "pivotColumns": null,
       "position": 12.0,
       "resultDbfsErrorMessage": null,
       "resultDbfsStatus": "INLINED_IN_TREE",
       "results": null,
       "showCommandTitle": false,
       "startTime": 0,
       "state": "finished",
       "streamStates": {},
       "subcommandOptions": {
        "queryPlan": {
         "groups": [
          {
           "column": "Education",
           "type": "column"
          },
          {
           "column": "Loan_Status",
           "type": "column"
          }
         ],
         "selects": [
          {
           "column": "Education",
           "type": "column"
          },
          {
           "column": "Loan_Status",
           "type": "column"
          },
          {
           "alias": "column_fe7e48b1181",
           "args": [
            {
             "column": "count",
             "type": "column"
            }
           ],
           "function": "SUM",
           "type": "function"
          }
         ]
        }
       },
       "submitTime": 0,
       "subtype": "tableResultSubCmd.visualization",
       "tableResultIndex": 0,
       "tableResultSettingsMap": {},
       "useConsistentColors": false,
       "version": "CommandV1",
       "width": "auto",
       "workflows": [],
       "xColumns": null,
       "yColumns": null
      }
     },
     "output_type": "display_data"
    }
   ],
   "source": [
    "# 3. Education vs Loan Status\n",
    "df.groupBy(\"Education\", \"Loan_Status\").count().display()"
   ]
  },
  {
   "cell_type": "code",
   "execution_count": 0,
   "metadata": {
    "application/vnd.databricks.v1+cell": {
     "cellMetadata": {
      "byteLimit": 2048000,
      "rowLimit": 10000
     },
     "inputWidgets": {},
     "nuid": "ad74c946-660e-4e9e-9301-65eeb7badc23",
     "showTitle": false,
     "tableResultSettingsMap": {},
     "title": ""
    }
   },
   "outputs": [
    {
     "output_type": "display_data",
     "data": {
      "text/html": [
       "<style scoped>\n",
       "  .table-result-container {\n",
       "    max-height: 300px;\n",
       "    overflow: auto;\n",
       "  }\n",
       "  table, th, td {\n",
       "    border: 1px solid black;\n",
       "    border-collapse: collapse;\n",
       "  }\n",
       "  th, td {\n",
       "    padding: 5px;\n",
       "  }\n",
       "  th {\n",
       "    text-align: left;\n",
       "  }\n",
       "</style><div class='table-result-container'><table class='table-result'><thead style='background-color: white'><tr><th>Property_Area</th><th>Loan_Status</th><th>count</th></tr></thead><tbody><tr><td>Rural</td><td>Y</td><td>85</td></tr><tr><td>Urban</td><td>N</td><td>52</td></tr><tr><td>Semiurban</td><td>Y</td><td>149</td></tr><tr><td>Urban</td><td>Y</td><td>98</td></tr><tr><td>Rural</td><td>N</td><td>54</td></tr><tr><td>Semiurban</td><td>N</td><td>42</td></tr></tbody></table></div>"
      ]
     },
     "metadata": {
      "application/vnd.databricks.v1+output": {
       "addedWidgets": {},
       "aggData": [],
       "aggError": "",
       "aggOverflow": false,
       "aggSchema": [],
       "aggSeriesLimitReached": false,
       "aggType": "",
       "arguments": {},
       "columnCustomDisplayInfos": {},
       "data": [
        [
         "Rural",
         "Y",
         85
        ],
        [
         "Urban",
         "N",
         52
        ],
        [
         "Semiurban",
         "Y",
         149
        ],
        [
         "Urban",
         "Y",
         98
        ],
        [
         "Rural",
         "N",
         54
        ],
        [
         "Semiurban",
         "N",
         42
        ]
       ],
       "datasetInfos": [],
       "dbfsResultPath": null,
       "isJsonSchema": true,
       "metadata": {},
       "overflow": false,
       "plotOptions": {
        "customPlotOptions": {},
        "displayType": "table",
        "pivotAggregation": null,
        "pivotColumns": null,
        "xColumns": null,
        "yColumns": null
       },
       "removedWidgets": [],
       "schema": [
        {
         "metadata": "{}",
         "name": "Property_Area",
         "type": "\"string\""
        },
        {
         "metadata": "{}",
         "name": "Loan_Status",
         "type": "\"string\""
        },
        {
         "metadata": "{}",
         "name": "count",
         "type": "\"long\""
        }
       ],
       "type": "table"
      }
     },
     "output_type": "display_data"
    },
    {
     "output_type": "display_data",
     "data": {
      "text/plain": [
       "Databricks visualization. Run in Databricks to view."
      ]
     },
     "metadata": {
      "application/vnd.databricks.v1.subcommand+json": {
       "baseErrorDetails": null,
       "bindings": {},
       "collapsed": false,
       "command": "%python\n__backend_agg_display_orig = display\n__backend_agg_dfs = []\ndef __backend_agg_display_new(df):\n    __backend_agg_df_modules = [\"pandas.core.frame\", \"databricks.koalas.frame\", \"pyspark.sql.dataframe\", \"pyspark.pandas.frame\", \"pyspark.sql.connect.dataframe\"]\n    if (type(df).__module__ in __backend_agg_df_modules and type(df).__name__ == 'DataFrame') or isinstance(df, list):\n        __backend_agg_dfs.append(df)\n\ndisplay = __backend_agg_display_new\n\ndef __backend_agg_user_code_fn():\n    import base64\n    exec(base64.standard_b64decode(\"IyA0LiBQcm9wZXJ0eSBBcmVhIHZzIExvYW4gU3RhdHVzCmRmLmdyb3VwQnkoIlByb3BlcnR5X0FyZWEiLCAiTG9hbl9TdGF0dXMiKS5jb3VudCgpLmRpc3BsYXkoKQ==\").decode())\n\ntry:\n    # run user code\n    __backend_agg_user_code_fn()\n\n    #reset display function\n    display = __backend_agg_display_orig\n\n    if len(__backend_agg_dfs) > 0:\n        # create a temp view\n        if type(__backend_agg_dfs[0]).__module__ == \"databricks.koalas.frame\":\n            # koalas dataframe\n            __backend_agg_dfs[0].to_spark().createOrReplaceTempView(\"DatabricksView64d9ec2\")\n        elif type(__backend_agg_dfs[0]).__module__ == \"pandas.core.frame\" or isinstance(__backend_agg_dfs[0], list):\n            # pandas dataframe\n            spark.createDataFrame(__backend_agg_dfs[0]).createOrReplaceTempView(\"DatabricksView64d9ec2\")\n        else:\n            __backend_agg_dfs[0].createOrReplaceTempView(\"DatabricksView64d9ec2\")\n        #run backend agg\n        display(spark.sql(\"\"\"WITH q AS (select * from DatabricksView64d9ec2) SELECT `Property_Area`,`Loan_Status`,SUM(`count`) `column_fe7e48b1190` FROM q GROUP BY `Loan_Status`,`Property_Area`\"\"\"))\n    else:\n        displayHTML(\"dataframe no longer exists. If you're using dataframe.display(), use display(dataframe) instead.\")\n\n\nfinally:\n    spark.sql(\"drop view if exists DatabricksView64d9ec2\")\n    display = __backend_agg_display_orig\n    del __backend_agg_display_new\n    del __backend_agg_display_orig\n    del __backend_agg_dfs\n    del __backend_agg_user_code_fn\n\n",
       "commandTitle": "Property Area vs Loan Status",
       "commandType": "auto",
       "commandVersion": 0,
       "commentThread": [],
       "commentsVisible": false,
       "contentSha256Hex": null,
       "customPlotOptions": {
        "redashChart": [
         {
          "key": "type",
          "value": "CHART"
         },
         {
          "key": "options",
          "value": {
           "alignYAxesAtZero": true,
           "coefficient": 1,
           "columnConfigurationMap": {
            "series": {
             "column": "Loan_Status",
             "id": "column_fe7e48b1189"
            },
            "x": {
             "column": "Property_Area",
             "id": "column_fe7e48b1188"
            },
            "y": [
             {
              "column": "count",
              "id": "column_fe7e48b1190",
              "transform": "SUM"
             }
            ]
           },
           "dateTimeFormat": "DD/MM/YYYY HH:mm",
           "direction": {
            "type": "counterclockwise"
           },
           "error_y": {
            "type": "data",
            "visible": true
           },
           "globalSeriesType": "column",
           "legend": {
            "traceorder": "normal"
           },
           "missingValuesAsZero": true,
           "numberFormat": "0,0.[00000]",
           "percentFormat": "0[.]00%",
           "series": {
            "error_y": {
             "type": "data",
             "visible": true
            },
            "stacking": "stack"
           },
           "seriesOptions": {
            "column_fe7e48b1190": {
             "name": "count",
             "yAxis": 0
            }
           },
           "showDataLabels": false,
           "sizemode": "diameter",
           "sortX": true,
           "sortY": true,
           "swappedAxes": true,
           "textFormat": "",
           "useAggregationsUi": true,
           "valuesOptions": {},
           "version": 2,
           "xAxis": {
            "labels": {
             "enabled": true
            },
            "type": "-"
           },
           "yAxis": [
            {
             "type": "-"
            },
            {
             "opposite": true,
             "type": "-"
            }
           ]
          }
         }
        ]
       },
       "datasetPreviewNameToCmdIdMap": {},
       "diffDeletes": [],
       "diffInserts": [],
       "displayType": "redashChart",
       "error": null,
       "errorDetails": null,
       "errorSummary": null,
       "errorTraceType": null,
       "finishTime": 0,
       "globalVars": {},
       "guid": "",
       "height": "auto",
       "hideCommandCode": false,
       "hideCommandResult": false,
       "iPythonMetadata": null,
       "inputWidgets": {},
       "isLockedInExamMode": false,
       "latestUser": "a user",
       "latestUserId": null,
       "listResultMetadata": null,
       "metadata": {
        "byteLimit": 2048000,
        "rowLimit": 10000
       },
       "nuid": "4d3cbfae-aa7e-4ad9-880f-0df4b4501ae3",
       "origId": 0,
       "parentHierarchy": [],
       "pivotAggregation": null,
       "pivotColumns": null,
       "position": 13.0,
       "resultDbfsErrorMessage": null,
       "resultDbfsStatus": "INLINED_IN_TREE",
       "results": null,
       "showCommandTitle": false,
       "startTime": 0,
       "state": "finished",
       "streamStates": {},
       "subcommandOptions": {
        "queryPlan": {
         "groups": [
          {
           "column": "Property_Area",
           "type": "column"
          },
          {
           "column": "Loan_Status",
           "type": "column"
          }
         ],
         "selects": [
          {
           "column": "Property_Area",
           "type": "column"
          },
          {
           "column": "Loan_Status",
           "type": "column"
          },
          {
           "alias": "column_fe7e48b1190",
           "args": [
            {
             "column": "count",
             "type": "column"
            }
           ],
           "function": "SUM",
           "type": "function"
          }
         ]
        }
       },
       "submitTime": 0,
       "subtype": "tableResultSubCmd.visualization",
       "tableResultIndex": 0,
       "tableResultSettingsMap": {},
       "useConsistentColors": false,
       "version": "CommandV1",
       "width": "auto",
       "workflows": [],
       "xColumns": null,
       "yColumns": null
      }
     },
     "output_type": "display_data"
    }
   ],
   "source": [
    "# 4. Property Area vs Loan Status\n",
    "df.groupBy(\"Property_Area\", \"Loan_Status\").count().display()"
   ]
  },
  {
   "cell_type": "code",
   "execution_count": 0,
   "metadata": {
    "application/vnd.databricks.v1+cell": {
     "cellMetadata": {
      "byteLimit": 2048000,
      "rowLimit": 10000
     },
     "inputWidgets": {},
     "nuid": "0abf8791-231b-4040-a47c-d7b07bf4bc39",
     "showTitle": false,
     "tableResultSettingsMap": {},
     "title": ""
    }
   },
   "outputs": [
    {
     "output_type": "display_data",
     "data": {
      "text/html": [
       "<style scoped>\n",
       "  .table-result-container {\n",
       "    max-height: 300px;\n",
       "    overflow: auto;\n",
       "  }\n",
       "  table, th, td {\n",
       "    border: 1px solid black;\n",
       "    border-collapse: collapse;\n",
       "  }\n",
       "  th, td {\n",
       "    padding: 5px;\n",
       "  }\n",
       "  th {\n",
       "    text-align: left;\n",
       "  }\n",
       "</style><div class='table-result-container'><table class='table-result'><thead style='background-color: white'><tr><th>ApplicantIncome</th><th>LoanAmount</th></tr></thead><tbody><tr><td>2237</td><td>63</td></tr><tr><td>7583</td><td>187</td></tr><tr><td>1625</td><td>96</td></tr><tr><td>1820</td><td>100</td></tr><tr><td>2192</td><td>45</td></tr><tr><td>3600</td><td>80</td></tr><tr><td>11500</td><td>286</td></tr><tr><td>2221</td><td>60</td></tr><tr><td>7085</td><td>84</td></tr><tr><td>16525</td><td>150</td></tr><tr><td>1538</td><td>30</td></tr><tr><td>3522</td><td>81</td></tr><tr><td>15000</td><td>300</td></tr><tr><td>3450</td><td>162</td></tr><tr><td>6133</td><td>324</td></tr><tr><td>1299</td><td>17</td></tr><tr><td>5516</td><td>495</td></tr><tr><td>3125</td><td>170</td></tr><tr><td>4124</td><td>115</td></tr><tr><td>3173</td><td>74</td></tr><tr><td>3166</td><td>36</td></tr><tr><td>4283</td><td>172</td></tr><tr><td>2484</td><td>137</td></tr><tr><td>4350</td><td>154</td></tr><tr><td>2500</td><td>104</td></tr><tr><td>3333</td><td>158</td></tr><tr><td>1811</td><td>54</td></tr><tr><td>5941</td><td>296</td></tr><tr><td>2666</td><td>121</td></tr><tr><td>3229</td><td>110</td></tr><tr><td>3000</td><td>56</td></tr><tr><td>5726</td><td>258</td></tr><tr><td>6325</td><td>175</td></tr><tr><td>5800</td><td>132</td></tr><tr><td>4300</td><td>136</td></tr><tr><td>7933</td><td>275</td></tr><tr><td>3418</td><td>127</td></tr><tr><td>4554</td><td>158</td></tr><tr><td>5500</td><td>105</td></tr><tr><td>3859</td><td>142</td></tr><tr><td>3155</td><td>140</td></tr><tr><td>3000</td><td>66</td></tr><tr><td>7787</td><td>240</td></tr><tr><td>3927</td><td>112</td></tr><tr><td>2330</td><td>100</td></tr><tr><td>11146</td><td>136</td></tr><tr><td>6500</td><td>105</td></tr><tr><td>2366</td><td>136</td></tr><tr><td>8333</td><td>165</td></tr><tr><td>2435</td><td>75</td></tr><tr><td>4106</td><td>40</td></tr><tr><td>4750</td><td>130</td></tr><tr><td>3333</td><td>70</td></tr><tr><td>39147</td><td>120</td></tr><tr><td>3357</td><td>144</td></tr><tr><td>5266</td><td>187</td></tr><tr><td>9703</td><td>112</td></tr><tr><td>2947</td><td>70</td></tr><tr><td>2718</td><td>70</td></tr><tr><td>3917</td><td>124</td></tr><tr><td>6875</td><td>200</td></tr><tr><td>2253</td><td>110</td></tr><tr><td>4301</td><td>118</td></tr><tr><td>10513</td><td>160</td></tr><tr><td>4583</td><td>255</td></tr><tr><td>3244</td><td>80</td></tr><tr><td>1442</td><td>35</td></tr><tr><td>2995</td><td>60</td></tr><tr><td>2165</td><td>70</td></tr><tr><td>4095</td><td>151</td></tr><tr><td>4606</td><td>81</td></tr><tr><td>5000</td><td>236</td></tr><tr><td>1993</td><td>113</td></tr><tr><td>645</td><td>113</td></tr><tr><td>2479</td><td>59</td></tr><tr><td>15759</td><td>55</td></tr><tr><td>2661</td><td>279</td></tr><tr><td>4133</td><td>122</td></tr><tr><td>4166</td><td>44</td></tr><tr><td>3727</td><td>131</td></tr><tr><td>6950</td><td>175</td></tr><tr><td>6000</td><td>140</td></tr><tr><td>3366</td><td>135</td></tr><tr><td>2971</td><td>144</td></tr><tr><td>14880</td><td>96</td></tr><tr><td>3750</td><td>100</td></tr><tr><td>2378</td><td>9</td></tr><tr><td>8000</td><td>200</td></tr><tr><td>2833</td><td>126</td></tr><tr><td>2717</td><td>60</td></tr><tr><td>6045</td><td>115</td></tr><tr><td>19730</td><td>570</td></tr><tr><td>7167</td><td>128</td></tr><tr><td>7901</td><td>180</td></tr><tr><td>2500</td><td>103</td></tr><tr><td>3029</td><td>99</td></tr><tr><td>5708</td><td>187</td></tr><tr><td>2600</td><td>99</td></tr><tr><td>4384</td><td>117</td></tr><tr><td>1853</td><td>114</td></tr><tr><td>3667</td><td>144</td></tr><tr><td>3748</td><td>110</td></tr><tr><td>8334</td><td>160</td></tr><tr><td>2479</td><td>188</td></tr><tr><td>5468</td><td>26</td></tr><tr><td>2014</td><td>113</td></tr><tr><td>3547</td><td>80</td></tr><tr><td>3775</td><td>110</td></tr><tr><td>11757</td><td>187</td></tr><tr><td>4344</td><td>87</td></tr><tr><td>4885</td><td>48</td></tr><tr><td>6383</td><td>187</td></tr><tr><td>8333</td><td>187</td></tr><tr><td>3208</td><td>172</td></tr><tr><td>3283</td><td>148</td></tr><tr><td>5829</td><td>138</td></tr><tr><td>4865</td><td>208</td></tr><tr><td>1378</td><td>167</td></tr><tr><td>5819</td><td>120</td></tr><tr><td>1809</td><td>90</td></tr><tr><td>3400</td><td>123</td></tr><tr><td>8080</td><td>180</td></tr><tr><td>4053</td><td>158</td></tr><tr><td>3510</td><td>243</td></tr><tr><td>3417</td><td>186</td></tr><tr><td>6540</td><td>205</td></tr><tr><td>3800</td><td>216</td></tr><tr><td>5042</td><td>185</td></tr><tr><td>2620</td><td>150</td></tr><tr><td>3427</td><td>138</td></tr><tr><td>10416</td><td>187</td></tr><tr><td>4281</td><td>100</td></tr><tr><td>33846</td><td>260</td></tr><tr><td>150</td><td>135</td></tr><tr><td>4354</td><td>136</td></tr><tr><td>4230</td><td>112</td></tr><tr><td>2787</td><td>146</td></tr><tr><td>5815</td><td>311</td></tr><tr><td>3173</td><td>137</td></tr><tr><td>3103</td><td>80</td></tr><tr><td>3902</td><td>109</td></tr><tr><td>3588</td><td>110</td></tr><tr><td>1977</td><td>50</td></tr><tr><td>6283</td><td>209</td></tr><tr><td>1928</td><td>100</td></tr><tr><td>3500</td><td>81</td></tr><tr><td>3000</td><td>100</td></tr><tr><td>9323</td><td>380</td></tr><tr><td>3993</td><td>207</td></tr><tr><td>3075</td><td>139</td></tr><tr><td>2927</td><td>111</td></tr><tr><td>3466</td><td>130</td></tr><tr><td>3159</td><td>108</td></tr><tr><td>8624</td><td>150</td></tr><tr><td>1782</td><td>107</td></tr><tr><td>37719</td><td>152</td></tr><tr><td>6822</td><td>141</td></tr><tr><td>2510</td><td>140</td></tr><tr><td>3660</td><td>187</td></tr><tr><td>2309</td><td>125</td></tr><tr><td>4583</td><td>133</td></tr><tr><td>8799</td><td>258</td></tr><tr><td>6000</td><td>205</td></tr><tr><td>2137</td><td>137</td></tr><tr><td>5000</td><td>151</td></tr><tr><td>17263</td><td>225</td></tr><tr><td>4167</td><td>158</td></tr><tr><td>3762</td><td>135</td></tr><tr><td>3750</td><td>113</td></tr><tr><td>3250</td><td>170</td></tr><tr><td>5818</td><td>184</td></tr><tr><td>81000</td><td>360</td></tr><tr><td>3867</td><td>62</td></tr><tr><td>3704</td><td>120</td></tr><tr><td>5488</td><td>125</td></tr><tr><td>4583</td><td>128</td></tr><tr><td>5649</td><td>44</td></tr><tr><td>2014</td><td>74</td></tr><tr><td>2425</td><td>143</td></tr><tr><td>4006</td><td>168</td></tr><tr><td>2500</td><td>120</td></tr><tr><td>3089</td><td>121</td></tr><tr><td>4400</td><td>127</td></tr><tr><td>8666</td><td>376</td></tr><tr><td>6000</td><td>141</td></tr><tr><td>1800</td><td>93</td></tr><tr><td>18165</td><td>125</td></tr><tr><td>3358</td><td>80</td></tr><tr><td>10750</td><td>312</td></tr><tr><td>2957</td><td>81</td></tr><tr><td>1500</td><td>103</td></tr><tr><td>3340</td><td>150</td></tr><tr><td>3497</td><td>116</td></tr><tr><td>4226</td><td>110</td></tr><tr><td>2917</td><td>84</td></tr><tr><td>8300</td><td>152</td></tr><tr><td>2895</td><td>95</td></tr><tr><td>8333</td><td>280</td></tr><tr><td>2609</td><td>165</td></tr><tr><td>2138</td><td>99</td></tr><tr><td>3510</td><td>76</td></tr><tr><td>2799</td><td>122</td></tr><tr><td>4333</td><td>110</td></tr><tr><td>4691</td><td>100</td></tr><tr><td>2583</td><td>120</td></tr><tr><td>16667</td><td>86</td></tr><tr><td>3062</td><td>111</td></tr><tr><td>7142</td><td>138</td></tr><tr><td>3948</td><td>149</td></tr><tr><td>3430</td><td>128</td></tr><tr><td>3400</td><td>173</td></tr><tr><td>7660</td><td>104</td></tr><tr><td>3941</td><td>134</td></tr><tr><td>10000</td><td>225</td></tr><tr><td>9328</td><td>188</td></tr><tr><td>4708</td><td>150</td></tr><tr><td>2600</td><td>160</td></tr><tr><td>13262</td><td>40</td></tr><tr><td>4188</td><td>115</td></tr><tr><td>12841</td><td>349</td></tr><tr><td>3406</td><td>123</td></tr><tr><td>2167</td><td>115</td></tr><tr><td>2060</td><td>134</td></tr><tr><td>2750</td><td>115</td></tr><tr><td>4166</td><td>98</td></tr><tr><td>8333</td><td>246</td></tr><tr><td>6406</td><td>150</td></tr><tr><td>6277</td><td>118</td></tr><tr><td>3237</td><td>30</td></tr><tr><td>9504</td><td>275</td></tr><tr><td>4707</td><td>148</td></tr><tr><td>6400</td><td>180</td></tr><tr><td>3083</td><td>126</td></tr><tr><td>6216</td><td>133</td></tr><tr><td>16120</td><td>260</td></tr><tr><td>2900</td><td>71</td></tr><tr><td>11000</td><td>83</td></tr><tr><td>4723</td><td>81</td></tr><tr><td>14583</td><td>436</td></tr><tr><td>5166</td><td>128</td></tr><tr><td>8750</td><td>130</td></tr><tr><td>3200</td><td>70</td></tr><tr><td>3812</td><td>112</td></tr><tr><td>2400</td><td>104</td></tr><tr><td>4408</td><td>120</td></tr><tr><td>2876</td><td>90</td></tr><tr><td>5500</td><td>170</td></tr><tr><td>10000</td><td>155</td></tr><tr><td>3676</td><td>172</td></tr><tr><td>4000</td><td>144</td></tr><tr><td>3159</td><td>100</td></tr><tr><td>3887</td><td>162</td></tr><tr><td>4180</td><td>182</td></tr><tr><td>9963</td><td>180</td></tr><tr><td>3036</td><td>158</td></tr><tr><td>1800</td><td>47</td></tr><tr><td>3846</td><td>111</td></tr><tr><td>2483</td><td>90</td></tr><tr><td>18333</td><td>500</td></tr><tr><td>3717</td><td>120</td></tr><tr><td>5532</td><td>162</td></tr><tr><td>2297</td><td>104</td></tr><tr><td>5821</td><td>144</td></tr><tr><td>4009</td><td>116</td></tr><tr><td>7948</td><td>480</td></tr><tr><td>3620</td><td>25</td></tr><tr><td>3850</td><td>100</td></tr><tr><td>2889</td><td>45</td></tr><tr><td>3459</td><td>25</td></tr><tr><td>6033</td><td>160</td></tr><tr><td>16250</td><td>192</td></tr><tr><td>2383</td><td>172</td></tr><tr><td>4817</td><td>120</td></tr><tr><td>1926</td><td>50</td></tr><tr><td>3166</td><td>104</td></tr><tr><td>6250</td><td>128</td></tr><tr><td>1958</td><td>131</td></tr><tr><td>2239</td><td>128</td></tr><tr><td>3675</td><td>108</td></tr><tr><td>4950</td><td>125</td></tr><tr><td>3500</td><td>114</td></tr><tr><td>4300</td><td>194</td></tr><tr><td>4666</td><td>135</td></tr><tr><td>2785</td><td>110</td></tr><tr><td>4860</td><td>125</td></tr><tr><td>3254</td><td>50</td></tr><tr><td>4583</td><td>84</td></tr><tr><td>5417</td><td>168</td></tr><tr><td>2454</td><td>181</td></tr><tr><td>3086</td><td>120</td></tr><tr><td>4166</td><td>116</td></tr><tr><td>11417</td><td>225</td></tr><tr><td>14866</td><td>70</td></tr><tr><td>5000</td><td>132</td></tr><tr><td>4000</td><td>140</td></tr><tr><td>2647</td><td>173</td></tr><tr><td>8566</td><td>210</td></tr><tr><td>4191</td><td>120</td></tr><tr><td>2583</td><td>104</td></tr><tr><td>3597</td><td>119</td></tr><tr><td>1668</td><td>201</td></tr><tr><td>16666</td><td>275</td></tr><tr><td>2755</td><td>65</td></tr><tr><td>2500</td><td>176</td></tr><tr><td>2679</td><td>94</td></tr><tr><td>5677</td><td>100</td></tr><tr><td>4692</td><td>106</td></tr><tr><td>4000</td><td>290</td></tr><tr><td>3158</td><td>89</td></tr><tr><td>3875</td><td>67</td></tr><tr><td>2333</td><td>136</td></tr><tr><td>6096</td><td>218</td></tr><tr><td>3073</td><td>200</td></tr><tr><td>2698</td><td>122</td></tr><tr><td>7200</td><td>120</td></tr><tr><td>6400</td><td>200</td></tr><tr><td>2130</td><td>70</td></tr><tr><td>3500</td><td>135</td></tr><tr><td>5391</td><td>130</td></tr><tr><td>1836</td><td>90</td></tr><tr><td>4342</td><td>124</td></tr><tr><td>4333</td><td>160</td></tr><tr><td>3598</td><td>100</td></tr><tr><td>9538</td><td>187</td></tr><tr><td>5703</td><td>128</td></tr><tr><td>3167</td><td>154</td></tr><tr><td>4895</td><td>102</td></tr><tr><td>14683</td><td>304</td></tr><tr><td>9166</td><td>244</td></tr><tr><td>2600</td><td>90</td></tr><tr><td>4652</td><td>110</td></tr><tr><td>2333</td><td>102</td></tr><tr><td>7441</td><td>194</td></tr><tr><td>2031</td><td>113</td></tr><tr><td>2768</td><td>155</td></tr><tr><td>2333</td><td>95</td></tr><tr><td>4887</td><td>133</td></tr><tr><td>2645</td><td>120</td></tr><tr><td>3691</td><td>110</td></tr><tr><td>3625</td><td>108</td></tr><tr><td>2625</td><td>187</td></tr><tr><td>2423</td><td>130</td></tr><tr><td>7100</td><td>125</td></tr><tr><td>5780</td><td>192</td></tr><tr><td>5955</td><td>315</td></tr><tr><td>2577</td><td>152</td></tr><tr><td>5250</td><td>94</td></tr><tr><td>3153</td><td>134</td></tr><tr><td>9560</td><td>191</td></tr><tr><td>4288</td><td>133</td></tr><tr><td>3708</td><td>173</td></tr><tr><td>6000</td><td>156</td></tr><tr><td>3273</td><td>81</td></tr><tr><td>3069</td><td>71</td></tr><tr><td>3100</td><td>113</td></tr><tr><td>3466</td><td>150</td></tr><tr><td>3246</td><td>138</td></tr><tr><td>4160</td><td>71</td></tr><tr><td>10000</td><td>214</td></tr><tr><td>4547</td><td>115</td></tr><tr><td>3988</td><td>50</td></tr><tr><td>3399</td><td>111</td></tr><tr><td>9083</td><td>228</td></tr><tr><td>5923</td><td>211</td></tr><tr><td>1759</td><td>131</td></tr><tr><td>2507</td><td>56</td></tr><tr><td>5000</td><td>103</td></tr><tr><td>3987</td><td>157</td></tr><tr><td>2500</td><td>96</td></tr><tr><td>3859</td><td>96</td></tr><tr><td>4608</td><td>140</td></tr><tr><td>3858</td><td>76</td></tr><tr><td>3180</td><td>71</td></tr><tr><td>5703</td><td>130</td></tr><tr><td>9167</td><td>185</td></tr><tr><td>6065</td><td>250</td></tr><tr><td>2600</td><td>116</td></tr><tr><td>3052</td><td>100</td></tr><tr><td>3481</td><td>155</td></tr><tr><td>5185</td><td>155</td></tr><tr><td>20233</td><td>480</td></tr><tr><td>2666</td><td>95</td></tr><tr><td>2653</td><td>113</td></tr><tr><td>6125</td><td>187</td></tr><tr><td>2708</td><td>97</td></tr><tr><td>6250</td><td>188</td></tr><tr><td>5316</td><td>136</td></tr><tr><td>3316</td><td>88</td></tr><tr><td>4917</td><td>130</td></tr><tr><td>5568</td><td>175</td></tr><tr><td>2178</td><td>66</td></tr><tr><td>2726</td><td>106</td></tr><tr><td>3326</td><td>105</td></tr><tr><td>4200</td><td>129</td></tr><tr><td>10833</td><td>234</td></tr><tr><td>2439</td><td>129</td></tr><tr><td>39999</td><td>600</td></tr><tr><td>2491</td><td>104</td></tr><tr><td>2301</td><td>78</td></tr><tr><td>9508</td><td>187</td></tr><tr><td>1600</td><td>239</td></tr><tr><td>2600</td><td>107</td></tr><tr><td>4683</td><td>185</td></tr><tr><td>4166</td><td>184</td></tr><tr><td>2045</td><td>101</td></tr><tr><td>3083</td><td>255</td></tr><tr><td>2500</td><td>67</td></tr><tr><td>2378</td><td>46</td></tr><tr><td>2920</td><td>87</td></tr><tr><td>2083</td><td>128</td></tr><tr><td>3814</td><td>124</td></tr><tr><td>1000</td><td>110</td></tr><tr><td>6250</td><td>108</td></tr><tr><td>6050</td><td>120</td></tr><tr><td>1863</td><td>98</td></tr><tr><td>2499</td><td>160</td></tr><tr><td>12500</td><td>320</td></tr><tr><td>2935</td><td>98</td></tr><tr><td>12000</td><td>496</td></tr><tr><td>5417</td><td>267</td></tr><tr><td>2965</td><td>155</td></tr><tr><td>4333</td><td>110</td></tr><tr><td>8072</td><td>253</td></tr><tr><td>10408</td><td>259</td></tr><tr><td>14999</td><td>242</td></tr><tr><td>10139</td><td>260</td></tr><tr><td>2213</td><td>66</td></tr><tr><td>3593</td><td>132</td></tr><tr><td>3315</td><td>96</td></tr><tr><td>1963</td><td>53</td></tr><tr><td>5285</td><td>161</td></tr><tr><td>4843</td><td>151</td></tr><tr><td>6608</td><td>137</td></tr><tr><td>7740</td><td>128</td></tr><tr><td>3167</td><td>74</td></tr><tr><td>4600</td><td>73</td></tr><tr><td>6417</td><td>157</td></tr><tr><td>2281</td><td>113</td></tr><tr><td>17500</td><td>400</td></tr><tr><td>3167</td><td>180</td></tr><tr><td>3400</td><td>95</td></tr><tr><td>2132</td><td>96</td></tr><tr><td>6700</td><td>230</td></tr><tr><td>2917</td><td>66</td></tr><tr><td>3750</td><td>176</td></tr><tr><td>2071</td><td>94</td></tr><tr><td>2400</td><td>115</td></tr><tr><td>2882</td><td>123</td></tr><tr><td>5167</td><td>200</td></tr><tr><td>1025</td><td>112</td></tr><tr><td>3232</td><td>108</td></tr><tr><td>2149</td><td>178</td></tr><tr><td>9323</td><td>75</td></tr><tr><td>4583</td><td>112</td></tr><tr><td>3750</td><td>116</td></tr><tr><td>6250</td><td>210</td></tr><tr><td>2500</td><td>55</td></tr><tr><td>1875</td><td>97</td></tr><tr><td>2958</td><td>131</td></tr><tr><td>4923</td><td>166</td></tr><tr><td>3015</td><td>153</td></tr><tr><td>4616</td><td>134</td></tr><tr><td>2346</td><td>132</td></tr><tr><td>2526</td><td>145</td></tr><tr><td>5695</td><td>175</td></tr><tr><td>6783</td><td>130</td></tr><tr><td>19484</td><td>600</td></tr><tr><td>3900</td><td>90</td></tr><tr><td>3095</td><td>113</td></tr><tr><td>3617</td><td>107</td></tr><tr><td>3833</td><td>110</td></tr><tr><td>12000</td><td>164</td></tr><tr><td>4566</td><td>100</td></tr><tr><td>3200</td><td>126</td></tr><tr><td>3975</td><td>55</td></tr><tr><td>4583</td><td>160</td></tr><tr><td>8750</td><td>308</td></tr><tr><td>3033</td><td>95</td></tr><tr><td>5935</td><td>133</td></tr><tr><td>14583</td><td>185</td></tr></tbody></table></div>"
      ]
     },
     "metadata": {
      "application/vnd.databricks.v1+output": {
       "addedWidgets": {},
       "aggData": [],
       "aggError": "",
       "aggOverflow": false,
       "aggSchema": [],
       "aggSeriesLimitReached": false,
       "aggType": "",
       "arguments": {},
       "columnCustomDisplayInfos": {},
       "data": [
        [
         2237,
         63
        ],
        [
         7583,
         187
        ],
        [
         1625,
         96
        ],
        [
         1820,
         100
        ],
        [
         2192,
         45
        ],
        [
         3600,
         80
        ],
        [
         11500,
         286
        ],
        [
         2221,
         60
        ],
        [
         7085,
         84
        ],
        [
         16525,
         150
        ],
        [
         1538,
         30
        ],
        [
         3522,
         81
        ],
        [
         15000,
         300
        ],
        [
         3450,
         162
        ],
        [
         6133,
         324
        ],
        [
         1299,
         17
        ],
        [
         5516,
         495
        ],
        [
         3125,
         170
        ],
        [
         4124,
         115
        ],
        [
         3173,
         74
        ],
        [
         3166,
         36
        ],
        [
         4283,
         172
        ],
        [
         2484,
         137
        ],
        [
         4350,
         154
        ],
        [
         2500,
         104
        ],
        [
         3333,
         158
        ],
        [
         1811,
         54
        ],
        [
         5941,
         296
        ],
        [
         2666,
         121
        ],
        [
         3229,
         110
        ],
        [
         3000,
         56
        ],
        [
         5726,
         258
        ],
        [
         6325,
         175
        ],
        [
         5800,
         132
        ],
        [
         4300,
         136
        ],
        [
         7933,
         275
        ],
        [
         3418,
         127
        ],
        [
         4554,
         158
        ],
        [
         5500,
         105
        ],
        [
         3859,
         142
        ],
        [
         3155,
         140
        ],
        [
         3000,
         66
        ],
        [
         7787,
         240
        ],
        [
         3927,
         112
        ],
        [
         2330,
         100
        ],
        [
         11146,
         136
        ],
        [
         6500,
         105
        ],
        [
         2366,
         136
        ],
        [
         8333,
         165
        ],
        [
         2435,
         75
        ],
        [
         4106,
         40
        ],
        [
         4750,
         130
        ],
        [
         3333,
         70
        ],
        [
         39147,
         120
        ],
        [
         3357,
         144
        ],
        [
         5266,
         187
        ],
        [
         9703,
         112
        ],
        [
         2947,
         70
        ],
        [
         2718,
         70
        ],
        [
         3917,
         124
        ],
        [
         6875,
         200
        ],
        [
         2253,
         110
        ],
        [
         4301,
         118
        ],
        [
         10513,
         160
        ],
        [
         4583,
         255
        ],
        [
         3244,
         80
        ],
        [
         1442,
         35
        ],
        [
         2995,
         60
        ],
        [
         2165,
         70
        ],
        [
         4095,
         151
        ],
        [
         4606,
         81
        ],
        [
         5000,
         236
        ],
        [
         1993,
         113
        ],
        [
         645,
         113
        ],
        [
         2479,
         59
        ],
        [
         15759,
         55
        ],
        [
         2661,
         279
        ],
        [
         4133,
         122
        ],
        [
         4166,
         44
        ],
        [
         3727,
         131
        ],
        [
         6950,
         175
        ],
        [
         6000,
         140
        ],
        [
         3366,
         135
        ],
        [
         2971,
         144
        ],
        [
         14880,
         96
        ],
        [
         3750,
         100
        ],
        [
         2378,
         9
        ],
        [
         8000,
         200
        ],
        [
         2833,
         126
        ],
        [
         2717,
         60
        ],
        [
         6045,
         115
        ],
        [
         19730,
         570
        ],
        [
         7167,
         128
        ],
        [
         7901,
         180
        ],
        [
         2500,
         103
        ],
        [
         3029,
         99
        ],
        [
         5708,
         187
        ],
        [
         2600,
         99
        ],
        [
         4384,
         117
        ],
        [
         1853,
         114
        ],
        [
         3667,
         144
        ],
        [
         3748,
         110
        ],
        [
         8334,
         160
        ],
        [
         2479,
         188
        ],
        [
         5468,
         26
        ],
        [
         2014,
         113
        ],
        [
         3547,
         80
        ],
        [
         3775,
         110
        ],
        [
         11757,
         187
        ],
        [
         4344,
         87
        ],
        [
         4885,
         48
        ],
        [
         6383,
         187
        ],
        [
         8333,
         187
        ],
        [
         3208,
         172
        ],
        [
         3283,
         148
        ],
        [
         5829,
         138
        ],
        [
         4865,
         208
        ],
        [
         1378,
         167
        ],
        [
         5819,
         120
        ],
        [
         1809,
         90
        ],
        [
         3400,
         123
        ],
        [
         8080,
         180
        ],
        [
         4053,
         158
        ],
        [
         3510,
         243
        ],
        [
         3417,
         186
        ],
        [
         6540,
         205
        ],
        [
         3800,
         216
        ],
        [
         5042,
         185
        ],
        [
         2620,
         150
        ],
        [
         3427,
         138
        ],
        [
         10416,
         187
        ],
        [
         4281,
         100
        ],
        [
         33846,
         260
        ],
        [
         150,
         135
        ],
        [
         4354,
         136
        ],
        [
         4230,
         112
        ],
        [
         2787,
         146
        ],
        [
         5815,
         311
        ],
        [
         3173,
         137
        ],
        [
         3103,
         80
        ],
        [
         3902,
         109
        ],
        [
         3588,
         110
        ],
        [
         1977,
         50
        ],
        [
         6283,
         209
        ],
        [
         1928,
         100
        ],
        [
         3500,
         81
        ],
        [
         3000,
         100
        ],
        [
         9323,
         380
        ],
        [
         3993,
         207
        ],
        [
         3075,
         139
        ],
        [
         2927,
         111
        ],
        [
         3466,
         130
        ],
        [
         3159,
         108
        ],
        [
         8624,
         150
        ],
        [
         1782,
         107
        ],
        [
         37719,
         152
        ],
        [
         6822,
         141
        ],
        [
         2510,
         140
        ],
        [
         3660,
         187
        ],
        [
         2309,
         125
        ],
        [
         4583,
         133
        ],
        [
         8799,
         258
        ],
        [
         6000,
         205
        ],
        [
         2137,
         137
        ],
        [
         5000,
         151
        ],
        [
         17263,
         225
        ],
        [
         4167,
         158
        ],
        [
         3762,
         135
        ],
        [
         3750,
         113
        ],
        [
         3250,
         170
        ],
        [
         5818,
         184
        ],
        [
         81000,
         360
        ],
        [
         3867,
         62
        ],
        [
         3704,
         120
        ],
        [
         5488,
         125
        ],
        [
         4583,
         128
        ],
        [
         5649,
         44
        ],
        [
         2014,
         74
        ],
        [
         2425,
         143
        ],
        [
         4006,
         168
        ],
        [
         2500,
         120
        ],
        [
         3089,
         121
        ],
        [
         4400,
         127
        ],
        [
         8666,
         376
        ],
        [
         6000,
         141
        ],
        [
         1800,
         93
        ],
        [
         18165,
         125
        ],
        [
         3358,
         80
        ],
        [
         10750,
         312
        ],
        [
         2957,
         81
        ],
        [
         1500,
         103
        ],
        [
         3340,
         150
        ],
        [
         3497,
         116
        ],
        [
         4226,
         110
        ],
        [
         2917,
         84
        ],
        [
         8300,
         152
        ],
        [
         2895,
         95
        ],
        [
         8333,
         280
        ],
        [
         2609,
         165
        ],
        [
         2138,
         99
        ],
        [
         3510,
         76
        ],
        [
         2799,
         122
        ],
        [
         4333,
         110
        ],
        [
         4691,
         100
        ],
        [
         2583,
         120
        ],
        [
         16667,
         86
        ],
        [
         3062,
         111
        ],
        [
         7142,
         138
        ],
        [
         3948,
         149
        ],
        [
         3430,
         128
        ],
        [
         3400,
         173
        ],
        [
         7660,
         104
        ],
        [
         3941,
         134
        ],
        [
         10000,
         225
        ],
        [
         9328,
         188
        ],
        [
         4708,
         150
        ],
        [
         2600,
         160
        ],
        [
         13262,
         40
        ],
        [
         4188,
         115
        ],
        [
         12841,
         349
        ],
        [
         3406,
         123
        ],
        [
         2167,
         115
        ],
        [
         2060,
         134
        ],
        [
         2750,
         115
        ],
        [
         4166,
         98
        ],
        [
         8333,
         246
        ],
        [
         6406,
         150
        ],
        [
         6277,
         118
        ],
        [
         3237,
         30
        ],
        [
         9504,
         275
        ],
        [
         4707,
         148
        ],
        [
         6400,
         180
        ],
        [
         3083,
         126
        ],
        [
         6216,
         133
        ],
        [
         16120,
         260
        ],
        [
         2900,
         71
        ],
        [
         11000,
         83
        ],
        [
         4723,
         81
        ],
        [
         14583,
         436
        ],
        [
         5166,
         128
        ],
        [
         8750,
         130
        ],
        [
         3200,
         70
        ],
        [
         3812,
         112
        ],
        [
         2400,
         104
        ],
        [
         4408,
         120
        ],
        [
         2876,
         90
        ],
        [
         5500,
         170
        ],
        [
         10000,
         155
        ],
        [
         3676,
         172
        ],
        [
         4000,
         144
        ],
        [
         3159,
         100
        ],
        [
         3887,
         162
        ],
        [
         4180,
         182
        ],
        [
         9963,
         180
        ],
        [
         3036,
         158
        ],
        [
         1800,
         47
        ],
        [
         3846,
         111
        ],
        [
         2483,
         90
        ],
        [
         18333,
         500
        ],
        [
         3717,
         120
        ],
        [
         5532,
         162
        ],
        [
         2297,
         104
        ],
        [
         5821,
         144
        ],
        [
         4009,
         116
        ],
        [
         7948,
         480
        ],
        [
         3620,
         25
        ],
        [
         3850,
         100
        ],
        [
         2889,
         45
        ],
        [
         3459,
         25
        ],
        [
         6033,
         160
        ],
        [
         16250,
         192
        ],
        [
         2383,
         172
        ],
        [
         4817,
         120
        ],
        [
         1926,
         50
        ],
        [
         3166,
         104
        ],
        [
         6250,
         128
        ],
        [
         1958,
         131
        ],
        [
         2239,
         128
        ],
        [
         3675,
         108
        ],
        [
         4950,
         125
        ],
        [
         3500,
         114
        ],
        [
         4300,
         194
        ],
        [
         4666,
         135
        ],
        [
         2785,
         110
        ],
        [
         4860,
         125
        ],
        [
         3254,
         50
        ],
        [
         4583,
         84
        ],
        [
         5417,
         168
        ],
        [
         2454,
         181
        ],
        [
         3086,
         120
        ],
        [
         4166,
         116
        ],
        [
         11417,
         225
        ],
        [
         14866,
         70
        ],
        [
         5000,
         132
        ],
        [
         4000,
         140
        ],
        [
         2647,
         173
        ],
        [
         8566,
         210
        ],
        [
         4191,
         120
        ],
        [
         2583,
         104
        ],
        [
         3597,
         119
        ],
        [
         1668,
         201
        ],
        [
         16666,
         275
        ],
        [
         2755,
         65
        ],
        [
         2500,
         176
        ],
        [
         2679,
         94
        ],
        [
         5677,
         100
        ],
        [
         4692,
         106
        ],
        [
         4000,
         290
        ],
        [
         3158,
         89
        ],
        [
         3875,
         67
        ],
        [
         2333,
         136
        ],
        [
         6096,
         218
        ],
        [
         3073,
         200
        ],
        [
         2698,
         122
        ],
        [
         7200,
         120
        ],
        [
         6400,
         200
        ],
        [
         2130,
         70
        ],
        [
         3500,
         135
        ],
        [
         5391,
         130
        ],
        [
         1836,
         90
        ],
        [
         4342,
         124
        ],
        [
         4333,
         160
        ],
        [
         3598,
         100
        ],
        [
         9538,
         187
        ],
        [
         5703,
         128
        ],
        [
         3167,
         154
        ],
        [
         4895,
         102
        ],
        [
         14683,
         304
        ],
        [
         9166,
         244
        ],
        [
         2600,
         90
        ],
        [
         4652,
         110
        ],
        [
         2333,
         102
        ],
        [
         7441,
         194
        ],
        [
         2031,
         113
        ],
        [
         2768,
         155
        ],
        [
         2333,
         95
        ],
        [
         4887,
         133
        ],
        [
         2645,
         120
        ],
        [
         3691,
         110
        ],
        [
         3625,
         108
        ],
        [
         2625,
         187
        ],
        [
         2423,
         130
        ],
        [
         7100,
         125
        ],
        [
         5780,
         192
        ],
        [
         5955,
         315
        ],
        [
         2577,
         152
        ],
        [
         5250,
         94
        ],
        [
         3153,
         134
        ],
        [
         9560,
         191
        ],
        [
         4288,
         133
        ],
        [
         3708,
         173
        ],
        [
         6000,
         156
        ],
        [
         3273,
         81
        ],
        [
         3069,
         71
        ],
        [
         3100,
         113
        ],
        [
         3466,
         150
        ],
        [
         3246,
         138
        ],
        [
         4160,
         71
        ],
        [
         10000,
         214
        ],
        [
         4547,
         115
        ],
        [
         3988,
         50
        ],
        [
         3399,
         111
        ],
        [
         9083,
         228
        ],
        [
         5923,
         211
        ],
        [
         1759,
         131
        ],
        [
         2507,
         56
        ],
        [
         5000,
         103
        ],
        [
         3987,
         157
        ],
        [
         2500,
         96
        ],
        [
         3859,
         96
        ],
        [
         4608,
         140
        ],
        [
         3858,
         76
        ],
        [
         3180,
         71
        ],
        [
         5703,
         130
        ],
        [
         9167,
         185
        ],
        [
         6065,
         250
        ],
        [
         2600,
         116
        ],
        [
         3052,
         100
        ],
        [
         3481,
         155
        ],
        [
         5185,
         155
        ],
        [
         20233,
         480
        ],
        [
         2666,
         95
        ],
        [
         2653,
         113
        ],
        [
         6125,
         187
        ],
        [
         2708,
         97
        ],
        [
         6250,
         188
        ],
        [
         5316,
         136
        ],
        [
         3316,
         88
        ],
        [
         4917,
         130
        ],
        [
         5568,
         175
        ],
        [
         2178,
         66
        ],
        [
         2726,
         106
        ],
        [
         3326,
         105
        ],
        [
         4200,
         129
        ],
        [
         10833,
         234
        ],
        [
         2439,
         129
        ],
        [
         39999,
         600
        ],
        [
         2491,
         104
        ],
        [
         2301,
         78
        ],
        [
         9508,
         187
        ],
        [
         1600,
         239
        ],
        [
         2600,
         107
        ],
        [
         4683,
         185
        ],
        [
         4166,
         184
        ],
        [
         2045,
         101
        ],
        [
         3083,
         255
        ],
        [
         2500,
         67
        ],
        [
         2378,
         46
        ],
        [
         2920,
         87
        ],
        [
         2083,
         128
        ],
        [
         3814,
         124
        ],
        [
         1000,
         110
        ],
        [
         6250,
         108
        ],
        [
         6050,
         120
        ],
        [
         1863,
         98
        ],
        [
         2499,
         160
        ],
        [
         12500,
         320
        ],
        [
         2935,
         98
        ],
        [
         12000,
         496
        ],
        [
         5417,
         267
        ],
        [
         2965,
         155
        ],
        [
         4333,
         110
        ],
        [
         8072,
         253
        ],
        [
         10408,
         259
        ],
        [
         14999,
         242
        ],
        [
         10139,
         260
        ],
        [
         2213,
         66
        ],
        [
         3593,
         132
        ],
        [
         3315,
         96
        ],
        [
         1963,
         53
        ],
        [
         5285,
         161
        ],
        [
         4843,
         151
        ],
        [
         6608,
         137
        ],
        [
         7740,
         128
        ],
        [
         3167,
         74
        ],
        [
         4600,
         73
        ],
        [
         6417,
         157
        ],
        [
         2281,
         113
        ],
        [
         17500,
         400
        ],
        [
         3167,
         180
        ],
        [
         3400,
         95
        ],
        [
         2132,
         96
        ],
        [
         6700,
         230
        ],
        [
         2917,
         66
        ],
        [
         3750,
         176
        ],
        [
         2071,
         94
        ],
        [
         2400,
         115
        ],
        [
         2882,
         123
        ],
        [
         5167,
         200
        ],
        [
         1025,
         112
        ],
        [
         3232,
         108
        ],
        [
         2149,
         178
        ],
        [
         9323,
         75
        ],
        [
         4583,
         112
        ],
        [
         3750,
         116
        ],
        [
         6250,
         210
        ],
        [
         2500,
         55
        ],
        [
         1875,
         97
        ],
        [
         2958,
         131
        ],
        [
         4923,
         166
        ],
        [
         3015,
         153
        ],
        [
         4616,
         134
        ],
        [
         2346,
         132
        ],
        [
         2526,
         145
        ],
        [
         5695,
         175
        ],
        [
         6783,
         130
        ],
        [
         19484,
         600
        ],
        [
         3900,
         90
        ],
        [
         3095,
         113
        ],
        [
         3617,
         107
        ],
        [
         3833,
         110
        ],
        [
         12000,
         164
        ],
        [
         4566,
         100
        ],
        [
         3200,
         126
        ],
        [
         3975,
         55
        ],
        [
         4583,
         160
        ],
        [
         8750,
         308
        ],
        [
         3033,
         95
        ],
        [
         5935,
         133
        ],
        [
         14583,
         185
        ]
       ],
       "datasetInfos": [],
       "dbfsResultPath": null,
       "isJsonSchema": true,
       "metadata": {},
       "overflow": false,
       "plotOptions": {
        "customPlotOptions": {},
        "displayType": "table",
        "pivotAggregation": null,
        "pivotColumns": null,
        "xColumns": null,
        "yColumns": null
       },
       "removedWidgets": [],
       "schema": [
        {
         "metadata": "{}",
         "name": "ApplicantIncome",
         "type": "\"integer\""
        },
        {
         "metadata": "{}",
         "name": "LoanAmount",
         "type": "\"integer\""
        }
       ],
       "type": "table"
      }
     },
     "output_type": "display_data"
    },
    {
     "output_type": "display_data",
     "data": {
      "text/plain": [
       "Databricks visualization. Run in Databricks to view."
      ]
     },
     "metadata": {
      "application/vnd.databricks.v1.subcommand+json": {
       "baseErrorDetails": null,
       "bindings": {},
       "collapsed": false,
       "command": "%python\n__backend_agg_display_orig = display\n__backend_agg_dfs = []\ndef __backend_agg_display_new(df):\n    __backend_agg_df_modules = [\"pandas.core.frame\", \"databricks.koalas.frame\", \"pyspark.sql.dataframe\", \"pyspark.pandas.frame\", \"pyspark.sql.connect.dataframe\"]\n    if (type(df).__module__ in __backend_agg_df_modules and type(df).__name__ == 'DataFrame') or isinstance(df, list):\n        __backend_agg_dfs.append(df)\n\ndisplay = __backend_agg_display_new\n\ndef __backend_agg_user_code_fn():\n    import base64\n    exec(base64.standard_b64decode(\"IyA1LiBBcHBsaWNhbnRJbmNvbWUgdnMgTG9hbkFtb3VudApkZi5zZWxlY3QoIkFwcGxpY2FudEluY29tZSIsICJMb2FuQW1vdW50IikuZGlzcGxheSgp\").decode())\n\ntry:\n    # run user code\n    __backend_agg_user_code_fn()\n\n    #reset display function\n    display = __backend_agg_display_orig\n\n    if len(__backend_agg_dfs) > 0:\n        # create a temp view\n        if type(__backend_agg_dfs[0]).__module__ == \"databricks.koalas.frame\":\n            # koalas dataframe\n            __backend_agg_dfs[0].to_spark().createOrReplaceTempView(\"DatabricksViewa0a8538\")\n        elif type(__backend_agg_dfs[0]).__module__ == \"pandas.core.frame\" or isinstance(__backend_agg_dfs[0], list):\n            # pandas dataframe\n            spark.createDataFrame(__backend_agg_dfs[0]).createOrReplaceTempView(\"DatabricksViewa0a8538\")\n        else:\n            __backend_agg_dfs[0].createOrReplaceTempView(\"DatabricksViewa0a8538\")\n        #run backend agg\n        display(spark.sql(\"\"\"WITH q AS (select * from DatabricksViewa0a8538) SELECT `ApplicantIncome`,`LoanAmount` FROM q\"\"\"))\n    else:\n        displayHTML(\"dataframe no longer exists. If you're using dataframe.display(), use display(dataframe) instead.\")\n\n\nfinally:\n    spark.sql(\"drop view if exists DatabricksViewa0a8538\")\n    display = __backend_agg_display_orig\n    del __backend_agg_display_new\n    del __backend_agg_display_orig\n    del __backend_agg_dfs\n    del __backend_agg_user_code_fn\n\n",
       "commandTitle": "ApplicantIncome vs LoanAmount",
       "commandType": "auto",
       "commandVersion": 0,
       "commentThread": [],
       "commentsVisible": false,
       "contentSha256Hex": null,
       "customPlotOptions": {
        "redashChart": [
         {
          "key": "type",
          "value": "CHART"
         },
         {
          "key": "options",
          "value": {
           "alignYAxesAtZero": true,
           "coefficient": 1,
           "columnConfigurationMap": {
            "x": {
             "column": "ApplicantIncome",
             "id": "column_fe7e48b1192"
            },
            "y": [
             {
              "column": "LoanAmount",
              "id": "column_fe7e48b1193"
             }
            ]
           },
           "dateTimeFormat": "DD/MM/YYYY HH:mm",
           "direction": {
            "type": "counterclockwise"
           },
           "error_y": {
            "type": "data",
            "visible": true
           },
           "globalSeriesType": "scatter",
           "legend": {
            "traceorder": "normal"
           },
           "missingValuesAsZero": true,
           "numberFormat": "0,0.[00000]",
           "percentFormat": "0[.]00%",
           "series": {
            "error_y": {
             "type": "data",
             "visible": true
            },
            "stacking": null
           },
           "seriesOptions": {
            "column_fe7e48b1193": {
             "name": "LoanAmount",
             "yAxis": 0
            }
           },
           "showDataLabels": false,
           "sizemode": "diameter",
           "sortX": true,
           "sortY": true,
           "swappedAxes": false,
           "textFormat": "",
           "useAggregationsUi": true,
           "valuesOptions": {},
           "version": 2,
           "xAxis": {
            "labels": {
             "enabled": true
            },
            "type": "-"
           },
           "yAxis": [
            {
             "type": "-"
            },
            {
             "opposite": true,
             "type": "-"
            }
           ]
          }
         }
        ]
       },
       "datasetPreviewNameToCmdIdMap": {},
       "diffDeletes": [],
       "diffInserts": [],
       "displayType": "redashChart",
       "error": null,
       "errorDetails": null,
       "errorSummary": null,
       "errorTraceType": null,
       "finishTime": 0,
       "globalVars": {},
       "guid": "",
       "height": "auto",
       "hideCommandCode": false,
       "hideCommandResult": false,
       "iPythonMetadata": null,
       "inputWidgets": {},
       "isLockedInExamMode": false,
       "latestUser": "a user",
       "latestUserId": null,
       "listResultMetadata": null,
       "metadata": {
        "byteLimit": 2048000,
        "rowLimit": 10000
       },
       "nuid": "3a5de898-f02c-4671-a3bb-cd3413f97980",
       "origId": 0,
       "parentHierarchy": [],
       "pivotAggregation": null,
       "pivotColumns": null,
       "position": 14.0,
       "resultDbfsErrorMessage": null,
       "resultDbfsStatus": "INLINED_IN_TREE",
       "results": null,
       "showCommandTitle": false,
       "startTime": 0,
       "state": "finished",
       "streamStates": {},
       "subcommandOptions": {
        "queryPlan": {
         "selects": [
          {
           "column": "ApplicantIncome",
           "type": "column"
          },
          {
           "column": "LoanAmount",
           "type": "column"
          }
         ]
        }
       },
       "submitTime": 0,
       "subtype": "tableResultSubCmd.visualization",
       "tableResultIndex": 0,
       "tableResultSettingsMap": {},
       "useConsistentColors": false,
       "version": "CommandV1",
       "width": "auto",
       "workflows": [],
       "xColumns": null,
       "yColumns": null
      }
     },
     "output_type": "display_data"
    }
   ],
   "source": [
    "# 5. ApplicantIncome vs LoanAmount\n",
    "df.select(\"ApplicantIncome\", \"LoanAmount\").display()"
   ]
  },
  {
   "cell_type": "code",
   "execution_count": 0,
   "metadata": {
    "application/vnd.databricks.v1+cell": {
     "cellMetadata": {
      "byteLimit": 2048000,
      "rowLimit": 10000
     },
     "inputWidgets": {},
     "nuid": "7387a5c7-55e3-4654-83ef-1df770bae5c6",
     "showTitle": false,
     "tableResultSettingsMap": {},
     "title": ""
    }
   },
   "outputs": [
    {
     "output_type": "display_data",
     "data": {
      "text/html": [
       "<style scoped>\n",
       "  .table-result-container {\n",
       "    max-height: 300px;\n",
       "    overflow: auto;\n",
       "  }\n",
       "  table, th, td {\n",
       "    border: 1px solid black;\n",
       "    border-collapse: collapse;\n",
       "  }\n",
       "  th, td {\n",
       "    padding: 5px;\n",
       "  }\n",
       "  th {\n",
       "    text-align: left;\n",
       "  }\n",
       "</style><div class='table-result-container'><table class='table-result'><thead style='background-color: white'><tr><th>ApplicantIncome</th></tr></thead><tbody><tr><td>2237</td></tr><tr><td>7583</td></tr><tr><td>1625</td></tr><tr><td>1820</td></tr><tr><td>2192</td></tr><tr><td>3600</td></tr><tr><td>11500</td></tr><tr><td>2221</td></tr><tr><td>7085</td></tr><tr><td>16525</td></tr><tr><td>1538</td></tr><tr><td>3522</td></tr><tr><td>15000</td></tr><tr><td>3450</td></tr><tr><td>6133</td></tr><tr><td>1299</td></tr><tr><td>5516</td></tr><tr><td>3125</td></tr><tr><td>4124</td></tr><tr><td>3173</td></tr><tr><td>3166</td></tr><tr><td>4283</td></tr><tr><td>2484</td></tr><tr><td>4350</td></tr><tr><td>2500</td></tr><tr><td>3333</td></tr><tr><td>1811</td></tr><tr><td>5941</td></tr><tr><td>2666</td></tr><tr><td>3229</td></tr><tr><td>3000</td></tr><tr><td>5726</td></tr><tr><td>6325</td></tr><tr><td>5800</td></tr><tr><td>4300</td></tr><tr><td>7933</td></tr><tr><td>3418</td></tr><tr><td>4554</td></tr><tr><td>5500</td></tr><tr><td>3859</td></tr><tr><td>3155</td></tr><tr><td>3000</td></tr><tr><td>7787</td></tr><tr><td>3927</td></tr><tr><td>2330</td></tr><tr><td>11146</td></tr><tr><td>6500</td></tr><tr><td>2366</td></tr><tr><td>8333</td></tr><tr><td>2435</td></tr><tr><td>4106</td></tr><tr><td>4750</td></tr><tr><td>3333</td></tr><tr><td>39147</td></tr><tr><td>3357</td></tr><tr><td>5266</td></tr><tr><td>9703</td></tr><tr><td>2947</td></tr><tr><td>2718</td></tr><tr><td>3917</td></tr><tr><td>6875</td></tr><tr><td>2253</td></tr><tr><td>4301</td></tr><tr><td>10513</td></tr><tr><td>4583</td></tr><tr><td>3244</td></tr><tr><td>1442</td></tr><tr><td>2995</td></tr><tr><td>2165</td></tr><tr><td>4095</td></tr><tr><td>4606</td></tr><tr><td>5000</td></tr><tr><td>1993</td></tr><tr><td>645</td></tr><tr><td>2479</td></tr><tr><td>15759</td></tr><tr><td>2661</td></tr><tr><td>4133</td></tr><tr><td>4166</td></tr><tr><td>3727</td></tr><tr><td>6950</td></tr><tr><td>6000</td></tr><tr><td>3366</td></tr><tr><td>2971</td></tr><tr><td>14880</td></tr><tr><td>3750</td></tr><tr><td>2378</td></tr><tr><td>8000</td></tr><tr><td>2833</td></tr><tr><td>2717</td></tr><tr><td>6045</td></tr><tr><td>19730</td></tr><tr><td>7167</td></tr><tr><td>7901</td></tr><tr><td>2500</td></tr><tr><td>3029</td></tr><tr><td>5708</td></tr><tr><td>2600</td></tr><tr><td>4384</td></tr><tr><td>1853</td></tr><tr><td>3667</td></tr><tr><td>3748</td></tr><tr><td>8334</td></tr><tr><td>2479</td></tr><tr><td>5468</td></tr><tr><td>2014</td></tr><tr><td>3547</td></tr><tr><td>3775</td></tr><tr><td>11757</td></tr><tr><td>4344</td></tr><tr><td>4885</td></tr><tr><td>6383</td></tr><tr><td>8333</td></tr><tr><td>3208</td></tr><tr><td>3283</td></tr><tr><td>5829</td></tr><tr><td>4865</td></tr><tr><td>1378</td></tr><tr><td>5819</td></tr><tr><td>1809</td></tr><tr><td>3400</td></tr><tr><td>8080</td></tr><tr><td>4053</td></tr><tr><td>3510</td></tr><tr><td>3417</td></tr><tr><td>6540</td></tr><tr><td>3800</td></tr><tr><td>5042</td></tr><tr><td>2620</td></tr><tr><td>3427</td></tr><tr><td>10416</td></tr><tr><td>4281</td></tr><tr><td>33846</td></tr><tr><td>150</td></tr><tr><td>4354</td></tr><tr><td>4230</td></tr><tr><td>2787</td></tr><tr><td>5815</td></tr><tr><td>3173</td></tr><tr><td>3103</td></tr><tr><td>3902</td></tr><tr><td>3588</td></tr><tr><td>1977</td></tr><tr><td>6283</td></tr><tr><td>1928</td></tr><tr><td>3500</td></tr><tr><td>3000</td></tr><tr><td>9323</td></tr><tr><td>3993</td></tr><tr><td>3075</td></tr><tr><td>2927</td></tr><tr><td>3466</td></tr><tr><td>3159</td></tr><tr><td>8624</td></tr><tr><td>1782</td></tr><tr><td>37719</td></tr><tr><td>6822</td></tr><tr><td>2510</td></tr><tr><td>3660</td></tr><tr><td>2309</td></tr><tr><td>4583</td></tr><tr><td>8799</td></tr><tr><td>6000</td></tr><tr><td>2137</td></tr><tr><td>5000</td></tr><tr><td>17263</td></tr><tr><td>4167</td></tr><tr><td>3762</td></tr><tr><td>3750</td></tr><tr><td>3250</td></tr><tr><td>5818</td></tr><tr><td>81000</td></tr><tr><td>3867</td></tr><tr><td>3704</td></tr><tr><td>5488</td></tr><tr><td>4583</td></tr><tr><td>5649</td></tr><tr><td>2014</td></tr><tr><td>2425</td></tr><tr><td>4006</td></tr><tr><td>2500</td></tr><tr><td>3089</td></tr><tr><td>4400</td></tr><tr><td>8666</td></tr><tr><td>6000</td></tr><tr><td>1800</td></tr><tr><td>18165</td></tr><tr><td>3358</td></tr><tr><td>10750</td></tr><tr><td>2957</td></tr><tr><td>1500</td></tr><tr><td>3340</td></tr><tr><td>3497</td></tr><tr><td>4226</td></tr><tr><td>2917</td></tr><tr><td>8300</td></tr><tr><td>2895</td></tr><tr><td>8333</td></tr><tr><td>2609</td></tr><tr><td>2138</td></tr><tr><td>3510</td></tr><tr><td>2799</td></tr><tr><td>4333</td></tr><tr><td>4691</td></tr><tr><td>2583</td></tr><tr><td>16667</td></tr><tr><td>3062</td></tr><tr><td>7142</td></tr><tr><td>3948</td></tr><tr><td>3430</td></tr><tr><td>3400</td></tr><tr><td>7660</td></tr><tr><td>3941</td></tr><tr><td>10000</td></tr><tr><td>9328</td></tr><tr><td>4708</td></tr><tr><td>2600</td></tr><tr><td>13262</td></tr><tr><td>4188</td></tr><tr><td>12841</td></tr><tr><td>3406</td></tr><tr><td>2167</td></tr><tr><td>2060</td></tr><tr><td>2750</td></tr><tr><td>4166</td></tr><tr><td>8333</td></tr><tr><td>6406</td></tr><tr><td>6277</td></tr><tr><td>3237</td></tr><tr><td>9504</td></tr><tr><td>4707</td></tr><tr><td>6400</td></tr><tr><td>3083</td></tr><tr><td>6216</td></tr><tr><td>16120</td></tr><tr><td>2900</td></tr><tr><td>11000</td></tr><tr><td>4723</td></tr><tr><td>14583</td></tr><tr><td>5166</td></tr><tr><td>8750</td></tr><tr><td>3200</td></tr><tr><td>3812</td></tr><tr><td>2400</td></tr><tr><td>4408</td></tr><tr><td>2876</td></tr><tr><td>5500</td></tr><tr><td>10000</td></tr><tr><td>3676</td></tr><tr><td>4000</td></tr><tr><td>3159</td></tr><tr><td>3887</td></tr><tr><td>4180</td></tr><tr><td>9963</td></tr><tr><td>3036</td></tr><tr><td>1800</td></tr><tr><td>3846</td></tr><tr><td>2483</td></tr><tr><td>18333</td></tr><tr><td>3717</td></tr><tr><td>5532</td></tr><tr><td>2297</td></tr><tr><td>5821</td></tr><tr><td>4009</td></tr><tr><td>7948</td></tr><tr><td>3620</td></tr><tr><td>3850</td></tr><tr><td>2889</td></tr><tr><td>3459</td></tr><tr><td>6033</td></tr><tr><td>16250</td></tr><tr><td>2383</td></tr><tr><td>4817</td></tr><tr><td>1926</td></tr><tr><td>3166</td></tr><tr><td>6250</td></tr><tr><td>1958</td></tr><tr><td>2239</td></tr><tr><td>3675</td></tr><tr><td>4950</td></tr><tr><td>3500</td></tr><tr><td>4300</td></tr><tr><td>4666</td></tr><tr><td>2785</td></tr><tr><td>4860</td></tr><tr><td>3254</td></tr><tr><td>4583</td></tr><tr><td>5417</td></tr><tr><td>2454</td></tr><tr><td>3086</td></tr><tr><td>4166</td></tr><tr><td>11417</td></tr><tr><td>14866</td></tr><tr><td>5000</td></tr><tr><td>4000</td></tr><tr><td>2647</td></tr><tr><td>8566</td></tr><tr><td>4191</td></tr><tr><td>2583</td></tr><tr><td>3597</td></tr><tr><td>1668</td></tr><tr><td>16666</td></tr><tr><td>2755</td></tr><tr><td>2500</td></tr><tr><td>2679</td></tr><tr><td>5677</td></tr><tr><td>4692</td></tr><tr><td>4000</td></tr><tr><td>3158</td></tr><tr><td>3875</td></tr><tr><td>2333</td></tr><tr><td>6096</td></tr><tr><td>3073</td></tr><tr><td>2698</td></tr><tr><td>7200</td></tr><tr><td>6400</td></tr><tr><td>2130</td></tr><tr><td>3500</td></tr><tr><td>5391</td></tr><tr><td>1836</td></tr><tr><td>4342</td></tr><tr><td>4333</td></tr><tr><td>3598</td></tr><tr><td>9538</td></tr><tr><td>5703</td></tr><tr><td>3167</td></tr><tr><td>4895</td></tr><tr><td>14683</td></tr><tr><td>9166</td></tr><tr><td>2600</td></tr><tr><td>4652</td></tr><tr><td>2333</td></tr><tr><td>7441</td></tr><tr><td>2031</td></tr><tr><td>2768</td></tr><tr><td>2333</td></tr><tr><td>4887</td></tr><tr><td>2645</td></tr><tr><td>3691</td></tr><tr><td>3625</td></tr><tr><td>2625</td></tr><tr><td>2423</td></tr><tr><td>7100</td></tr><tr><td>5780</td></tr><tr><td>5955</td></tr><tr><td>2577</td></tr><tr><td>5250</td></tr><tr><td>3153</td></tr><tr><td>9560</td></tr><tr><td>4288</td></tr><tr><td>3708</td></tr><tr><td>6000</td></tr><tr><td>3273</td></tr><tr><td>3069</td></tr><tr><td>3100</td></tr><tr><td>3466</td></tr><tr><td>3246</td></tr><tr><td>4160</td></tr><tr><td>10000</td></tr><tr><td>4547</td></tr><tr><td>3988</td></tr><tr><td>3399</td></tr><tr><td>9083</td></tr><tr><td>5923</td></tr><tr><td>1759</td></tr><tr><td>2507</td></tr><tr><td>5000</td></tr><tr><td>3987</td></tr><tr><td>2500</td></tr><tr><td>3859</td></tr><tr><td>4608</td></tr><tr><td>3858</td></tr><tr><td>3180</td></tr><tr><td>5703</td></tr><tr><td>9167</td></tr><tr><td>6065</td></tr><tr><td>2600</td></tr><tr><td>3052</td></tr><tr><td>3481</td></tr><tr><td>5185</td></tr><tr><td>20233</td></tr><tr><td>2666</td></tr><tr><td>2653</td></tr><tr><td>6125</td></tr><tr><td>2708</td></tr><tr><td>6250</td></tr><tr><td>5316</td></tr><tr><td>3316</td></tr><tr><td>4917</td></tr><tr><td>5568</td></tr><tr><td>2178</td></tr><tr><td>2726</td></tr><tr><td>3326</td></tr><tr><td>4200</td></tr><tr><td>10833</td></tr><tr><td>2439</td></tr><tr><td>39999</td></tr><tr><td>2491</td></tr><tr><td>2301</td></tr><tr><td>9508</td></tr><tr><td>1600</td></tr><tr><td>2600</td></tr><tr><td>4683</td></tr><tr><td>4166</td></tr><tr><td>2045</td></tr><tr><td>3083</td></tr><tr><td>2500</td></tr><tr><td>2378</td></tr><tr><td>2920</td></tr><tr><td>2083</td></tr><tr><td>3814</td></tr><tr><td>1000</td></tr><tr><td>6250</td></tr><tr><td>6050</td></tr><tr><td>1863</td></tr><tr><td>2499</td></tr><tr><td>12500</td></tr><tr><td>2935</td></tr><tr><td>12000</td></tr><tr><td>5417</td></tr><tr><td>2965</td></tr><tr><td>4333</td></tr><tr><td>8072</td></tr><tr><td>10408</td></tr><tr><td>14999</td></tr><tr><td>10139</td></tr><tr><td>2213</td></tr><tr><td>3593</td></tr><tr><td>3315</td></tr><tr><td>1963</td></tr><tr><td>5285</td></tr><tr><td>4843</td></tr><tr><td>6608</td></tr><tr><td>7740</td></tr><tr><td>3167</td></tr><tr><td>4600</td></tr><tr><td>6417</td></tr><tr><td>2281</td></tr><tr><td>17500</td></tr><tr><td>3167</td></tr><tr><td>3400</td></tr><tr><td>2132</td></tr><tr><td>6700</td></tr><tr><td>2917</td></tr><tr><td>3750</td></tr><tr><td>2071</td></tr><tr><td>2400</td></tr><tr><td>2882</td></tr><tr><td>5167</td></tr><tr><td>1025</td></tr><tr><td>3232</td></tr><tr><td>2149</td></tr><tr><td>9323</td></tr><tr><td>4583</td></tr><tr><td>3750</td></tr><tr><td>6250</td></tr><tr><td>2500</td></tr><tr><td>1875</td></tr><tr><td>2958</td></tr><tr><td>4923</td></tr><tr><td>3015</td></tr><tr><td>4616</td></tr><tr><td>2346</td></tr><tr><td>2526</td></tr><tr><td>5695</td></tr><tr><td>6783</td></tr><tr><td>19484</td></tr><tr><td>3900</td></tr><tr><td>3095</td></tr><tr><td>3617</td></tr><tr><td>3833</td></tr><tr><td>12000</td></tr><tr><td>4566</td></tr><tr><td>3200</td></tr><tr><td>3975</td></tr><tr><td>4583</td></tr><tr><td>8750</td></tr><tr><td>3033</td></tr><tr><td>5935</td></tr><tr><td>14583</td></tr></tbody></table></div>"
      ]
     },
     "metadata": {
      "application/vnd.databricks.v1+output": {
       "addedWidgets": {},
       "aggData": [],
       "aggError": "",
       "aggOverflow": false,
       "aggSchema": [],
       "aggSeriesLimitReached": false,
       "aggType": "",
       "arguments": {},
       "columnCustomDisplayInfos": {},
       "data": [
        [
         2237
        ],
        [
         7583
        ],
        [
         1625
        ],
        [
         1820
        ],
        [
         2192
        ],
        [
         3600
        ],
        [
         11500
        ],
        [
         2221
        ],
        [
         7085
        ],
        [
         16525
        ],
        [
         1538
        ],
        [
         3522
        ],
        [
         15000
        ],
        [
         3450
        ],
        [
         6133
        ],
        [
         1299
        ],
        [
         5516
        ],
        [
         3125
        ],
        [
         4124
        ],
        [
         3173
        ],
        [
         3166
        ],
        [
         4283
        ],
        [
         2484
        ],
        [
         4350
        ],
        [
         2500
        ],
        [
         3333
        ],
        [
         1811
        ],
        [
         5941
        ],
        [
         2666
        ],
        [
         3229
        ],
        [
         3000
        ],
        [
         5726
        ],
        [
         6325
        ],
        [
         5800
        ],
        [
         4300
        ],
        [
         7933
        ],
        [
         3418
        ],
        [
         4554
        ],
        [
         5500
        ],
        [
         3859
        ],
        [
         3155
        ],
        [
         3000
        ],
        [
         7787
        ],
        [
         3927
        ],
        [
         2330
        ],
        [
         11146
        ],
        [
         6500
        ],
        [
         2366
        ],
        [
         8333
        ],
        [
         2435
        ],
        [
         4106
        ],
        [
         4750
        ],
        [
         3333
        ],
        [
         39147
        ],
        [
         3357
        ],
        [
         5266
        ],
        [
         9703
        ],
        [
         2947
        ],
        [
         2718
        ],
        [
         3917
        ],
        [
         6875
        ],
        [
         2253
        ],
        [
         4301
        ],
        [
         10513
        ],
        [
         4583
        ],
        [
         3244
        ],
        [
         1442
        ],
        [
         2995
        ],
        [
         2165
        ],
        [
         4095
        ],
        [
         4606
        ],
        [
         5000
        ],
        [
         1993
        ],
        [
         645
        ],
        [
         2479
        ],
        [
         15759
        ],
        [
         2661
        ],
        [
         4133
        ],
        [
         4166
        ],
        [
         3727
        ],
        [
         6950
        ],
        [
         6000
        ],
        [
         3366
        ],
        [
         2971
        ],
        [
         14880
        ],
        [
         3750
        ],
        [
         2378
        ],
        [
         8000
        ],
        [
         2833
        ],
        [
         2717
        ],
        [
         6045
        ],
        [
         19730
        ],
        [
         7167
        ],
        [
         7901
        ],
        [
         2500
        ],
        [
         3029
        ],
        [
         5708
        ],
        [
         2600
        ],
        [
         4384
        ],
        [
         1853
        ],
        [
         3667
        ],
        [
         3748
        ],
        [
         8334
        ],
        [
         2479
        ],
        [
         5468
        ],
        [
         2014
        ],
        [
         3547
        ],
        [
         3775
        ],
        [
         11757
        ],
        [
         4344
        ],
        [
         4885
        ],
        [
         6383
        ],
        [
         8333
        ],
        [
         3208
        ],
        [
         3283
        ],
        [
         5829
        ],
        [
         4865
        ],
        [
         1378
        ],
        [
         5819
        ],
        [
         1809
        ],
        [
         3400
        ],
        [
         8080
        ],
        [
         4053
        ],
        [
         3510
        ],
        [
         3417
        ],
        [
         6540
        ],
        [
         3800
        ],
        [
         5042
        ],
        [
         2620
        ],
        [
         3427
        ],
        [
         10416
        ],
        [
         4281
        ],
        [
         33846
        ],
        [
         150
        ],
        [
         4354
        ],
        [
         4230
        ],
        [
         2787
        ],
        [
         5815
        ],
        [
         3173
        ],
        [
         3103
        ],
        [
         3902
        ],
        [
         3588
        ],
        [
         1977
        ],
        [
         6283
        ],
        [
         1928
        ],
        [
         3500
        ],
        [
         3000
        ],
        [
         9323
        ],
        [
         3993
        ],
        [
         3075
        ],
        [
         2927
        ],
        [
         3466
        ],
        [
         3159
        ],
        [
         8624
        ],
        [
         1782
        ],
        [
         37719
        ],
        [
         6822
        ],
        [
         2510
        ],
        [
         3660
        ],
        [
         2309
        ],
        [
         4583
        ],
        [
         8799
        ],
        [
         6000
        ],
        [
         2137
        ],
        [
         5000
        ],
        [
         17263
        ],
        [
         4167
        ],
        [
         3762
        ],
        [
         3750
        ],
        [
         3250
        ],
        [
         5818
        ],
        [
         81000
        ],
        [
         3867
        ],
        [
         3704
        ],
        [
         5488
        ],
        [
         4583
        ],
        [
         5649
        ],
        [
         2014
        ],
        [
         2425
        ],
        [
         4006
        ],
        [
         2500
        ],
        [
         3089
        ],
        [
         4400
        ],
        [
         8666
        ],
        [
         6000
        ],
        [
         1800
        ],
        [
         18165
        ],
        [
         3358
        ],
        [
         10750
        ],
        [
         2957
        ],
        [
         1500
        ],
        [
         3340
        ],
        [
         3497
        ],
        [
         4226
        ],
        [
         2917
        ],
        [
         8300
        ],
        [
         2895
        ],
        [
         8333
        ],
        [
         2609
        ],
        [
         2138
        ],
        [
         3510
        ],
        [
         2799
        ],
        [
         4333
        ],
        [
         4691
        ],
        [
         2583
        ],
        [
         16667
        ],
        [
         3062
        ],
        [
         7142
        ],
        [
         3948
        ],
        [
         3430
        ],
        [
         3400
        ],
        [
         7660
        ],
        [
         3941
        ],
        [
         10000
        ],
        [
         9328
        ],
        [
         4708
        ],
        [
         2600
        ],
        [
         13262
        ],
        [
         4188
        ],
        [
         12841
        ],
        [
         3406
        ],
        [
         2167
        ],
        [
         2060
        ],
        [
         2750
        ],
        [
         4166
        ],
        [
         8333
        ],
        [
         6406
        ],
        [
         6277
        ],
        [
         3237
        ],
        [
         9504
        ],
        [
         4707
        ],
        [
         6400
        ],
        [
         3083
        ],
        [
         6216
        ],
        [
         16120
        ],
        [
         2900
        ],
        [
         11000
        ],
        [
         4723
        ],
        [
         14583
        ],
        [
         5166
        ],
        [
         8750
        ],
        [
         3200
        ],
        [
         3812
        ],
        [
         2400
        ],
        [
         4408
        ],
        [
         2876
        ],
        [
         5500
        ],
        [
         10000
        ],
        [
         3676
        ],
        [
         4000
        ],
        [
         3159
        ],
        [
         3887
        ],
        [
         4180
        ],
        [
         9963
        ],
        [
         3036
        ],
        [
         1800
        ],
        [
         3846
        ],
        [
         2483
        ],
        [
         18333
        ],
        [
         3717
        ],
        [
         5532
        ],
        [
         2297
        ],
        [
         5821
        ],
        [
         4009
        ],
        [
         7948
        ],
        [
         3620
        ],
        [
         3850
        ],
        [
         2889
        ],
        [
         3459
        ],
        [
         6033
        ],
        [
         16250
        ],
        [
         2383
        ],
        [
         4817
        ],
        [
         1926
        ],
        [
         3166
        ],
        [
         6250
        ],
        [
         1958
        ],
        [
         2239
        ],
        [
         3675
        ],
        [
         4950
        ],
        [
         3500
        ],
        [
         4300
        ],
        [
         4666
        ],
        [
         2785
        ],
        [
         4860
        ],
        [
         3254
        ],
        [
         4583
        ],
        [
         5417
        ],
        [
         2454
        ],
        [
         3086
        ],
        [
         4166
        ],
        [
         11417
        ],
        [
         14866
        ],
        [
         5000
        ],
        [
         4000
        ],
        [
         2647
        ],
        [
         8566
        ],
        [
         4191
        ],
        [
         2583
        ],
        [
         3597
        ],
        [
         1668
        ],
        [
         16666
        ],
        [
         2755
        ],
        [
         2500
        ],
        [
         2679
        ],
        [
         5677
        ],
        [
         4692
        ],
        [
         4000
        ],
        [
         3158
        ],
        [
         3875
        ],
        [
         2333
        ],
        [
         6096
        ],
        [
         3073
        ],
        [
         2698
        ],
        [
         7200
        ],
        [
         6400
        ],
        [
         2130
        ],
        [
         3500
        ],
        [
         5391
        ],
        [
         1836
        ],
        [
         4342
        ],
        [
         4333
        ],
        [
         3598
        ],
        [
         9538
        ],
        [
         5703
        ],
        [
         3167
        ],
        [
         4895
        ],
        [
         14683
        ],
        [
         9166
        ],
        [
         2600
        ],
        [
         4652
        ],
        [
         2333
        ],
        [
         7441
        ],
        [
         2031
        ],
        [
         2768
        ],
        [
         2333
        ],
        [
         4887
        ],
        [
         2645
        ],
        [
         3691
        ],
        [
         3625
        ],
        [
         2625
        ],
        [
         2423
        ],
        [
         7100
        ],
        [
         5780
        ],
        [
         5955
        ],
        [
         2577
        ],
        [
         5250
        ],
        [
         3153
        ],
        [
         9560
        ],
        [
         4288
        ],
        [
         3708
        ],
        [
         6000
        ],
        [
         3273
        ],
        [
         3069
        ],
        [
         3100
        ],
        [
         3466
        ],
        [
         3246
        ],
        [
         4160
        ],
        [
         10000
        ],
        [
         4547
        ],
        [
         3988
        ],
        [
         3399
        ],
        [
         9083
        ],
        [
         5923
        ],
        [
         1759
        ],
        [
         2507
        ],
        [
         5000
        ],
        [
         3987
        ],
        [
         2500
        ],
        [
         3859
        ],
        [
         4608
        ],
        [
         3858
        ],
        [
         3180
        ],
        [
         5703
        ],
        [
         9167
        ],
        [
         6065
        ],
        [
         2600
        ],
        [
         3052
        ],
        [
         3481
        ],
        [
         5185
        ],
        [
         20233
        ],
        [
         2666
        ],
        [
         2653
        ],
        [
         6125
        ],
        [
         2708
        ],
        [
         6250
        ],
        [
         5316
        ],
        [
         3316
        ],
        [
         4917
        ],
        [
         5568
        ],
        [
         2178
        ],
        [
         2726
        ],
        [
         3326
        ],
        [
         4200
        ],
        [
         10833
        ],
        [
         2439
        ],
        [
         39999
        ],
        [
         2491
        ],
        [
         2301
        ],
        [
         9508
        ],
        [
         1600
        ],
        [
         2600
        ],
        [
         4683
        ],
        [
         4166
        ],
        [
         2045
        ],
        [
         3083
        ],
        [
         2500
        ],
        [
         2378
        ],
        [
         2920
        ],
        [
         2083
        ],
        [
         3814
        ],
        [
         1000
        ],
        [
         6250
        ],
        [
         6050
        ],
        [
         1863
        ],
        [
         2499
        ],
        [
         12500
        ],
        [
         2935
        ],
        [
         12000
        ],
        [
         5417
        ],
        [
         2965
        ],
        [
         4333
        ],
        [
         8072
        ],
        [
         10408
        ],
        [
         14999
        ],
        [
         10139
        ],
        [
         2213
        ],
        [
         3593
        ],
        [
         3315
        ],
        [
         1963
        ],
        [
         5285
        ],
        [
         4843
        ],
        [
         6608
        ],
        [
         7740
        ],
        [
         3167
        ],
        [
         4600
        ],
        [
         6417
        ],
        [
         2281
        ],
        [
         17500
        ],
        [
         3167
        ],
        [
         3400
        ],
        [
         2132
        ],
        [
         6700
        ],
        [
         2917
        ],
        [
         3750
        ],
        [
         2071
        ],
        [
         2400
        ],
        [
         2882
        ],
        [
         5167
        ],
        [
         1025
        ],
        [
         3232
        ],
        [
         2149
        ],
        [
         9323
        ],
        [
         4583
        ],
        [
         3750
        ],
        [
         6250
        ],
        [
         2500
        ],
        [
         1875
        ],
        [
         2958
        ],
        [
         4923
        ],
        [
         3015
        ],
        [
         4616
        ],
        [
         2346
        ],
        [
         2526
        ],
        [
         5695
        ],
        [
         6783
        ],
        [
         19484
        ],
        [
         3900
        ],
        [
         3095
        ],
        [
         3617
        ],
        [
         3833
        ],
        [
         12000
        ],
        [
         4566
        ],
        [
         3200
        ],
        [
         3975
        ],
        [
         4583
        ],
        [
         8750
        ],
        [
         3033
        ],
        [
         5935
        ],
        [
         14583
        ]
       ],
       "datasetInfos": [],
       "dbfsResultPath": null,
       "isJsonSchema": true,
       "metadata": {},
       "overflow": false,
       "plotOptions": {
        "customPlotOptions": {},
        "displayType": "table",
        "pivotAggregation": null,
        "pivotColumns": null,
        "xColumns": null,
        "yColumns": null
       },
       "removedWidgets": [],
       "schema": [
        {
         "metadata": "{}",
         "name": "ApplicantIncome",
         "type": "\"integer\""
        }
       ],
       "type": "table"
      }
     },
     "output_type": "display_data"
    },
    {
     "output_type": "display_data",
     "data": {
      "text/plain": [
       "Databricks visualization. Run in Databricks to view."
      ]
     },
     "metadata": {
      "application/vnd.databricks.v1.subcommand+json": {
       "baseErrorDetails": null,
       "bindings": {},
       "collapsed": false,
       "command": "%python\n__backend_agg_display_orig = display\n__backend_agg_dfs = []\ndef __backend_agg_display_new(df):\n    __backend_agg_df_modules = [\"pandas.core.frame\", \"databricks.koalas.frame\", \"pyspark.sql.dataframe\", \"pyspark.pandas.frame\", \"pyspark.sql.connect.dataframe\"]\n    if (type(df).__module__ in __backend_agg_df_modules and type(df).__name__ == 'DataFrame') or isinstance(df, list):\n        __backend_agg_dfs.append(df)\n\ndisplay = __backend_agg_display_new\n\ndef __backend_agg_user_code_fn():\n    import base64\n    exec(base64.standard_b64decode(\"IyA2LiBJbmNvbWUgRGlzdHJpYnV0aW9uCmRmLnNlbGVjdCgiQXBwbGljYW50SW5jb21lIikuZGlzcGxheSgp\").decode())\n\ntry:\n    # run user code\n    __backend_agg_user_code_fn()\n\n    #reset display function\n    display = __backend_agg_display_orig\n\n    if len(__backend_agg_dfs) > 0:\n        # create a temp view\n        if type(__backend_agg_dfs[0]).__module__ == \"databricks.koalas.frame\":\n            # koalas dataframe\n            __backend_agg_dfs[0].to_spark().createOrReplaceTempView(\"DatabricksView31ed613\")\n        elif type(__backend_agg_dfs[0]).__module__ == \"pandas.core.frame\" or isinstance(__backend_agg_dfs[0], list):\n            # pandas dataframe\n            spark.createDataFrame(__backend_agg_dfs[0]).createOrReplaceTempView(\"DatabricksView31ed613\")\n        else:\n            __backend_agg_dfs[0].createOrReplaceTempView(\"DatabricksView31ed613\")\n        #run backend agg\n        display(spark.sql(\"\"\"WITH q AS (select * from DatabricksView31ed613) ,min_max AS (SELECT `ApplicantIncome`,(SELECT MAX(`ApplicantIncome`) FROM q) `target_column_max`,(SELECT MIN(`ApplicantIncome`) FROM q) `target_column_min` FROM q) ,histogram_meta AS (SELECT `ApplicantIncome`,`target_column_min` `min_value`,IF(`target_column_max` = `target_column_min`,`target_column_max` + 1,`target_column_max`) `max_value`,(`target_column_max` - `target_column_min`) / 10 `step` FROM min_max) SELECT IF(ISNULL(`ApplicantIncome`),NULL,LEAST(WIDTH_BUCKET(`ApplicantIncome`,`min_value`,`max_value`,10),10)) `ApplicantIncome_BIN`,FIRST(`min_value` + ((IF(ISNULL(`ApplicantIncome`),NULL,LEAST(WIDTH_BUCKET(`ApplicantIncome`,`min_value`,`max_value`,10),10)) - 1) * `step`)) `ApplicantIncome_BIN_LOWER_BOUND`,FIRST(`step`) `ApplicantIncome_BIN_STEP`,COUNT(`ApplicantIncome`) `COUNT` FROM histogram_meta GROUP BY `ApplicantIncome_BIN`\"\"\"))\n    else:\n        displayHTML(\"dataframe no longer exists. If you're using dataframe.display(), use display(dataframe) instead.\")\n\n\nfinally:\n    spark.sql(\"drop view if exists DatabricksView31ed613\")\n    display = __backend_agg_display_orig\n    del __backend_agg_display_new\n    del __backend_agg_display_orig\n    del __backend_agg_dfs\n    del __backend_agg_user_code_fn\n\n",
       "commandTitle": "Income Distribution",
       "commandType": "auto",
       "commandVersion": 0,
       "commentThread": [],
       "commentsVisible": false,
       "contentSha256Hex": null,
       "customPlotOptions": {
        "redashChart": [
         {
          "key": "type",
          "value": "CHART"
         },
         {
          "key": "options",
          "value": {
           "alignYAxesAtZero": true,
           "coefficient": 1,
           "columnConfigurationMap": {
            "x": {
             "column": "ApplicantIncome",
             "id": "column_fe7e48b1194"
            }
           },
           "dateTimeFormat": "DD/MM/YYYY HH:mm",
           "direction": {
            "type": "counterclockwise"
           },
           "error_y": {
            "type": "data",
            "visible": true
           },
           "globalSeriesType": "histogram",
           "legend": {
            "traceorder": "normal"
           },
           "missingValuesAsZero": true,
           "numBins": 10,
           "numberFormat": "0,0.[00000]",
           "percentFormat": "0[.]00%",
           "series": {
            "error_y": {
             "type": "data",
             "visible": true
            },
            "stacking": null
           },
           "seriesOptions": {},
           "showDataLabels": false,
           "sizemode": "diameter",
           "sortX": true,
           "sortY": true,
           "swappedAxes": false,
           "textFormat": "",
           "useAggregationsUi": true,
           "valuesOptions": {},
           "version": 2,
           "xAxis": {
            "labels": {
             "enabled": true
            },
            "type": "-"
           },
           "yAxis": [
            {
             "type": "-"
            },
            {
             "opposite": true,
             "type": "-"
            }
           ]
          }
         }
        ]
       },
       "datasetPreviewNameToCmdIdMap": {},
       "diffDeletes": [],
       "diffInserts": [],
       "displayType": "redashChart",
       "error": null,
       "errorDetails": null,
       "errorSummary": null,
       "errorTraceType": null,
       "finishTime": 0,
       "globalVars": {},
       "guid": "",
       "height": "auto",
       "hideCommandCode": false,
       "hideCommandResult": false,
       "iPythonMetadata": null,
       "inputWidgets": {},
       "isLockedInExamMode": false,
       "latestUser": "a user",
       "latestUserId": null,
       "listResultMetadata": null,
       "metadata": {
        "byteLimit": 2048000,
        "rowLimit": 10000
       },
       "nuid": "9c232d0a-3a79-4f98-a7a5-eb4408843c5e",
       "origId": 0,
       "parentHierarchy": [],
       "pivotAggregation": null,
       "pivotColumns": null,
       "position": 15.0,
       "resultDbfsErrorMessage": null,
       "resultDbfsStatus": "INLINED_IN_TREE",
       "results": null,
       "showCommandTitle": false,
       "startTime": 0,
       "state": "finished",
       "streamStates": {},
       "subcommandOptions": {
        "queryPlan": {
         "groups": [
          {
           "column": "ApplicantIncome_BIN",
           "type": "column"
          }
         ],
         "selects": [
          {
           "alias": "ApplicantIncome_BIN",
           "args": [
            {
             "column": "ApplicantIncome",
             "type": "column"
            },
            {
             "number": 10,
             "type": "number"
            }
           ],
           "function": "BIN",
           "type": "function"
          },
          {
           "alias": "ApplicantIncome_BIN_LOWER_BOUND",
           "args": [
            {
             "column": "ApplicantIncome",
             "type": "column"
            },
            {
             "number": 10,
             "type": "number"
            }
           ],
           "function": "BIN_LOWER_BOUND",
           "type": "function"
          },
          {
           "alias": "ApplicantIncome_BIN_STEP",
           "args": [
            {
             "column": "ApplicantIncome",
             "type": "column"
            },
            {
             "number": 10,
             "type": "number"
            }
           ],
           "function": "BIN_STEP",
           "type": "function"
          },
          {
           "alias": "COUNT",
           "args": [
            {
             "column": "ApplicantIncome",
             "type": "column"
            }
           ],
           "function": "COUNT",
           "type": "function"
          }
         ]
        }
       },
       "submitTime": 0,
       "subtype": "tableResultSubCmd.visualization",
       "tableResultIndex": 0,
       "tableResultSettingsMap": {},
       "useConsistentColors": false,
       "version": "CommandV1",
       "width": "auto",
       "workflows": [],
       "xColumns": null,
       "yColumns": null
      }
     },
     "output_type": "display_data"
    }
   ],
   "source": [
    "# 6. Income Distribution\n",
    "df.select(\"ApplicantIncome\").display()"
   ]
  },
  {
   "cell_type": "code",
   "execution_count": 0,
   "metadata": {
    "application/vnd.databricks.v1+cell": {
     "cellMetadata": {
      "byteLimit": 2048000,
      "rowLimit": 10000
     },
     "inputWidgets": {},
     "nuid": "2f192ae0-3e6a-432a-b1a3-7d89e192506d",
     "showTitle": false,
     "tableResultSettingsMap": {},
     "title": ""
    }
   },
   "outputs": [
    {
     "output_type": "display_data",
     "data": {
      "text/html": [
       "<style scoped>\n",
       "  .table-result-container {\n",
       "    max-height: 300px;\n",
       "    overflow: auto;\n",
       "  }\n",
       "  table, th, td {\n",
       "    border: 1px solid black;\n",
       "    border-collapse: collapse;\n",
       "  }\n",
       "  th, td {\n",
       "    padding: 5px;\n",
       "  }\n",
       "  th {\n",
       "    text-align: left;\n",
       "  }\n",
       "</style><div class='table-result-container'><table class='table-result'><thead style='background-color: white'><tr><th>Education</th><th>LoanAmount</th></tr></thead><tbody><tr><td>Graduate</td><td>63</td></tr><tr><td>Graduate</td><td>187</td></tr><tr><td>Graduate</td><td>96</td></tr><tr><td>Graduate</td><td>100</td></tr><tr><td>Not Graduate</td><td>45</td></tr><tr><td>Graduate</td><td>80</td></tr><tr><td>Graduate</td><td>286</td></tr><tr><td>Graduate</td><td>60</td></tr><tr><td>Graduate</td><td>84</td></tr><tr><td>Graduate</td><td>150</td></tr><tr><td>Graduate</td><td>30</td></tr><tr><td>Not Graduate</td><td>81</td></tr><tr><td>Graduate</td><td>300</td></tr><tr><td>Graduate</td><td>162</td></tr><tr><td>Graduate</td><td>324</td></tr><tr><td>Graduate</td><td>17</td></tr><tr><td>Graduate</td><td>495</td></tr><tr><td>Graduate</td><td>170</td></tr><tr><td>Graduate</td><td>115</td></tr><tr><td>Not Graduate</td><td>74</td></tr><tr><td>Graduate</td><td>36</td></tr><tr><td>Graduate</td><td>172</td></tr><tr><td>Graduate</td><td>137</td></tr><tr><td>Not Graduate</td><td>154</td></tr><tr><td>Graduate</td><td>104</td></tr><tr><td>Graduate</td><td>158</td></tr><tr><td>Graduate</td><td>54</td></tr><tr><td>Graduate</td><td>296</td></tr><tr><td>Graduate</td><td>121</td></tr><tr><td>Graduate</td><td>110</td></tr><tr><td>Graduate</td><td>56</td></tr><tr><td>Graduate</td><td>258</td></tr><tr><td>Graduate</td><td>175</td></tr><tr><td>Not Graduate</td><td>132</td></tr><tr><td>Graduate</td><td>136</td></tr><tr><td>Graduate</td><td>275</td></tr><tr><td>Graduate</td><td>127</td></tr><tr><td>Not Graduate</td><td>158</td></tr><tr><td>Graduate</td><td>105</td></tr><tr><td>Graduate</td><td>142</td></tr><tr><td>Graduate</td><td>140</td></tr><tr><td>Graduate</td><td>66</td></tr><tr><td>Graduate</td><td>240</td></tr><tr><td>Graduate</td><td>112</td></tr><tr><td>Graduate</td><td>100</td></tr><tr><td>Graduate</td><td>136</td></tr><tr><td>Graduate</td><td>105</td></tr><tr><td>Graduate</td><td>136</td></tr><tr><td>Graduate</td><td>165</td></tr><tr><td>Graduate</td><td>75</td></tr><tr><td>Graduate</td><td>40</td></tr><tr><td>Graduate</td><td>130</td></tr><tr><td>Graduate</td><td>70</td></tr><tr><td>Graduate</td><td>120</td></tr><tr><td>Not Graduate</td><td>144</td></tr><tr><td>Graduate</td><td>187</td></tr><tr><td>Graduate</td><td>112</td></tr><tr><td>Not Graduate</td><td>70</td></tr><tr><td>Graduate</td><td>70</td></tr><tr><td>Not Graduate</td><td>124</td></tr><tr><td>Graduate</td><td>200</td></tr><tr><td>Not Graduate</td><td>110</td></tr><tr><td>Graduate</td><td>118</td></tr><tr><td>Graduate</td><td>160</td></tr><tr><td>Graduate</td><td>255</td></tr><tr><td>Graduate</td><td>80</td></tr><tr><td>Not Graduate</td><td>35</td></tr><tr><td>Graduate</td><td>60</td></tr><tr><td>Not Graduate</td><td>70</td></tr><tr><td>Graduate</td><td>151</td></tr><tr><td>Not Graduate</td><td>81</td></tr><tr><td>Graduate</td><td>236</td></tr><tr><td>Not Graduate</td><td>113</td></tr><tr><td>Graduate</td><td>113</td></tr><tr><td>Graduate</td><td>59</td></tr><tr><td>Graduate</td><td>55</td></tr><tr><td>Not Graduate</td><td>279</td></tr><tr><td>Graduate</td><td>122</td></tr><tr><td>Graduate</td><td>44</td></tr><tr><td>Graduate</td><td>131</td></tr><tr><td>Graduate</td><td>175</td></tr><tr><td>Graduate</td><td>140</td></tr><tr><td>Graduate</td><td>135</td></tr><tr><td>Graduate</td><td>144</td></tr><tr><td>Graduate</td><td>96</td></tr><tr><td>Graduate</td><td>100</td></tr><tr><td>Graduate</td><td>9</td></tr><tr><td>Graduate</td><td>200</td></tr><tr><td>Graduate</td><td>126</td></tr><tr><td>Not Graduate</td><td>60</td></tr><tr><td>Not Graduate</td><td>115</td></tr><tr><td>Graduate</td><td>570</td></tr><tr><td>Graduate</td><td>128</td></tr><tr><td>Graduate</td><td>180</td></tr><tr><td>Graduate</td><td>103</td></tr><tr><td>Graduate</td><td>99</td></tr><tr><td>Graduate</td><td>187</td></tr><tr><td>Graduate</td><td>99</td></tr><tr><td>Graduate</td><td>117</td></tr><tr><td>Graduate</td><td>114</td></tr><tr><td>Graduate</td><td>144</td></tr><tr><td>Not Graduate</td><td>110</td></tr><tr><td>Graduate</td><td>160</td></tr><tr><td>Graduate</td><td>188</td></tr><tr><td>Graduate</td><td>26</td></tr><tr><td>Graduate</td><td>113</td></tr><tr><td>Graduate</td><td>80</td></tr><tr><td>Graduate</td><td>110</td></tr><tr><td>Graduate</td><td>187</td></tr><tr><td>Not Graduate</td><td>87</td></tr><tr><td>Not Graduate</td><td>48</td></tr><tr><td>Not Graduate</td><td>187</td></tr><tr><td>Graduate</td><td>187</td></tr><tr><td>Graduate</td><td>172</td></tr><tr><td>Graduate</td><td>148</td></tr><tr><td>Graduate</td><td>138</td></tr><tr><td>Graduate</td><td>208</td></tr><tr><td>Graduate</td><td>167</td></tr><tr><td>Graduate</td><td>120</td></tr><tr><td>Graduate</td><td>90</td></tr><tr><td>Graduate</td><td>123</td></tr><tr><td>Graduate</td><td>180</td></tr><tr><td>Not Graduate</td><td>158</td></tr><tr><td>Graduate</td><td>243</td></tr><tr><td>Graduate</td><td>186</td></tr><tr><td>Graduate</td><td>205</td></tr><tr><td>Graduate</td><td>216</td></tr><tr><td>Graduate</td><td>185</td></tr><tr><td>Graduate</td><td>150</td></tr><tr><td>Graduate</td><td>138</td></tr><tr><td>Graduate</td><td>187</td></tr><tr><td>Graduate</td><td>100</td></tr><tr><td>Graduate</td><td>260</td></tr><tr><td>Graduate</td><td>135</td></tr><tr><td>Graduate</td><td>136</td></tr><tr><td>Graduate</td><td>112</td></tr><tr><td>Graduate</td><td>146</td></tr><tr><td>Graduate</td><td>311</td></tr><tr><td>Graduate</td><td>137</td></tr><tr><td>Graduate</td><td>80</td></tr><tr><td>Not Graduate</td><td>109</td></tr><tr><td>Graduate</td><td>110</td></tr><tr><td>Graduate</td><td>50</td></tr><tr><td>Graduate</td><td>209</td></tr><tr><td>Not Graduate</td><td>100</td></tr><tr><td>Graduate</td><td>81</td></tr><tr><td>Not Graduate</td><td>100</td></tr><tr><td>Graduate</td><td>380</td></tr><tr><td>Graduate</td><td>207</td></tr><tr><td>Graduate</td><td>139</td></tr><tr><td>Not Graduate</td><td>111</td></tr><tr><td>Graduate</td><td>130</td></tr><tr><td>Graduate</td><td>108</td></tr><tr><td>Graduate</td><td>150</td></tr><tr><td>Graduate</td><td>107</td></tr><tr><td>Graduate</td><td>152</td></tr><tr><td>Graduate</td><td>141</td></tr><tr><td>Not Graduate</td><td>140</td></tr><tr><td>Graduate</td><td>187</td></tr><tr><td>Not Graduate</td><td>125</td></tr><tr><td>Graduate</td><td>133</td></tr><tr><td>Graduate</td><td>258</td></tr><tr><td>Graduate</td><td>205</td></tr><tr><td>Graduate</td><td>137</td></tr><tr><td>Graduate</td><td>151</td></tr><tr><td>Not Graduate</td><td>225</td></tr><tr><td>Graduate</td><td>158</td></tr><tr><td>Graduate</td><td>135</td></tr><tr><td>Graduate</td><td>113</td></tr><tr><td>Graduate</td><td>170</td></tr><tr><td>Graduate</td><td>184</td></tr><tr><td>Graduate</td><td>360</td></tr><tr><td>Not Graduate</td><td>62</td></tr><tr><td>Graduate</td><td>120</td></tr><tr><td>Graduate</td><td>125</td></tr><tr><td>Graduate</td><td>128</td></tr><tr><td>Graduate</td><td>44</td></tr><tr><td>Graduate</td><td>74</td></tr><tr><td>Graduate</td><td>143</td></tr><tr><td>Graduate</td><td>168</td></tr><tr><td>Graduate</td><td>120</td></tr><tr><td>Graduate</td><td>121</td></tr><tr><td>Graduate</td><td>127</td></tr><tr><td>Graduate</td><td>376</td></tr><tr><td>Graduate</td><td>141</td></tr><tr><td>Not Graduate</td><td>93</td></tr><tr><td>Not Graduate</td><td>125</td></tr><tr><td>Not Graduate</td><td>80</td></tr><tr><td>Graduate</td><td>312</td></tr><tr><td>Graduate</td><td>81</td></tr><tr><td>Graduate</td><td>103</td></tr><tr><td>Graduate</td><td>150</td></tr><tr><td>Graduate</td><td>116</td></tr><tr><td>Not Graduate</td><td>110</td></tr><tr><td>Graduate</td><td>84</td></tr><tr><td>Graduate</td><td>152</td></tr><tr><td>Graduate</td><td>95</td></tr><tr><td>Graduate</td><td>280</td></tr><tr><td>Not Graduate</td><td>165</td></tr><tr><td>Graduate</td><td>99</td></tr><tr><td>Graduate</td><td>76</td></tr><tr><td>Graduate</td><td>122</td></tr><tr><td>Graduate</td><td>110</td></tr><tr><td>Graduate</td><td>100</td></tr><tr><td>Not Graduate</td><td>120</td></tr><tr><td>Graduate</td><td>86</td></tr><tr><td>Graduate</td><td>111</td></tr><tr><td>Not Graduate</td><td>138</td></tr><tr><td>Graduate</td><td>149</td></tr><tr><td>Graduate</td><td>128</td></tr><tr><td>Graduate</td><td>173</td></tr><tr><td>Not Graduate</td><td>104</td></tr><tr><td>Graduate</td><td>134</td></tr><tr><td>Graduate</td><td>225</td></tr><tr><td>Graduate</td><td>188</td></tr><tr><td>Graduate</td><td>150</td></tr><tr><td>Graduate</td><td>160</td></tr><tr><td>Graduate</td><td>40</td></tr><tr><td>Not Graduate</td><td>115</td></tr><tr><td>Graduate</td><td>349</td></tr><tr><td>Not Graduate</td><td>123</td></tr><tr><td>Not Graduate</td><td>115</td></tr><tr><td>Graduate</td><td>134</td></tr><tr><td>Graduate</td><td>115</td></tr><tr><td>Graduate</td><td>98</td></tr><tr><td>Graduate</td><td>246</td></tr><tr><td>Graduate</td><td>150</td></tr><tr><td>Graduate</td><td>118</td></tr><tr><td>Graduate</td><td>30</td></tr><tr><td>Graduate</td><td>275</td></tr><tr><td>Not Graduate</td><td>148</td></tr><tr><td>Graduate</td><td>180</td></tr><tr><td>Not Graduate</td><td>126</td></tr><tr><td>Not Graduate</td><td>133</td></tr><tr><td>Graduate</td><td>260</td></tr><tr><td>Graduate</td><td>71</td></tr><tr><td>Graduate</td><td>83</td></tr><tr><td>Graduate</td><td>81</td></tr><tr><td>Graduate</td><td>436</td></tr><tr><td>Graduate</td><td>128</td></tr><tr><td>Graduate</td><td>130</td></tr><tr><td>Graduate</td><td>70</td></tr><tr><td>Graduate</td><td>112</td></tr><tr><td>Graduate</td><td>104</td></tr><tr><td>Not Graduate</td><td>120</td></tr><tr><td>Graduate</td><td>90</td></tr><tr><td>Graduate</td><td>170</td></tr><tr><td>Graduate</td><td>155</td></tr><tr><td>Graduate</td><td>172</td></tr><tr><td>Graduate</td><td>144</td></tr><tr><td>Graduate</td><td>100</td></tr><tr><td>Graduate</td><td>162</td></tr><tr><td>Graduate</td><td>182</td></tr><tr><td>Graduate</td><td>180</td></tr><tr><td>Graduate</td><td>158</td></tr><tr><td>Graduate</td><td>47</td></tr><tr><td>Graduate</td><td>111</td></tr><tr><td>Graduate</td><td>90</td></tr><tr><td>Graduate</td><td>500</td></tr><tr><td>Graduate</td><td>120</td></tr><tr><td>Graduate</td><td>162</td></tr><tr><td>Graduate</td><td>104</td></tr><tr><td>Graduate</td><td>144</td></tr><tr><td>Graduate</td><td>116</td></tr><tr><td>Graduate</td><td>480</td></tr><tr><td>Not Graduate</td><td>25</td></tr><tr><td>Not Graduate</td><td>100</td></tr><tr><td>Not Graduate</td><td>45</td></tr><tr><td>Graduate</td><td>25</td></tr><tr><td>Not Graduate</td><td>160</td></tr><tr><td>Graduate</td><td>192</td></tr><tr><td>Graduate</td><td>172</td></tr><tr><td>Graduate</td><td>120</td></tr><tr><td>Graduate</td><td>50</td></tr><tr><td>Graduate</td><td>104</td></tr><tr><td>Graduate</td><td>128</td></tr><tr><td>Not Graduate</td><td>131</td></tr><tr><td>Not Graduate</td><td>128</td></tr><tr><td>Not Graduate</td><td>108</td></tr><tr><td>Graduate</td><td>125</td></tr><tr><td>Graduate</td><td>114</td></tr><tr><td>Not Graduate</td><td>194</td></tr><tr><td>Graduate</td><td>135</td></tr><tr><td>Graduate</td><td>110</td></tr><tr><td>Graduate</td><td>125</td></tr><tr><td>Graduate</td><td>50</td></tr><tr><td>Graduate</td><td>84</td></tr><tr><td>Graduate</td><td>168</td></tr><tr><td>Not Graduate</td><td>181</td></tr><tr><td>Graduate</td><td>120</td></tr><tr><td>Graduate</td><td>116</td></tr><tr><td>Graduate</td><td>225</td></tr><tr><td>Graduate</td><td>70</td></tr><tr><td>Graduate</td><td>132</td></tr><tr><td>Graduate</td><td>140</td></tr><tr><td>Not Graduate</td><td>173</td></tr><tr><td>Graduate</td><td>210</td></tr><tr><td>Graduate</td><td>120</td></tr><tr><td>Not Graduate</td><td>104</td></tr><tr><td>Graduate</td><td>119</td></tr><tr><td>Not Graduate</td><td>201</td></tr><tr><td>Graduate</td><td>275</td></tr><tr><td>Not Graduate</td><td>65</td></tr><tr><td>Graduate</td><td>176</td></tr><tr><td>Not Graduate</td><td>94</td></tr><tr><td>Graduate</td><td>100</td></tr><tr><td>Graduate</td><td>106</td></tr><tr><td>Graduate</td><td>290</td></tr><tr><td>Graduate</td><td>89</td></tr><tr><td>Graduate</td><td>67</td></tr><tr><td>Graduate</td><td>136</td></tr><tr><td>Not Graduate</td><td>218</td></tr><tr><td>Graduate</td><td>200</td></tr><tr><td>Graduate</td><td>122</td></tr><tr><td>Graduate</td><td>120</td></tr><tr><td>Graduate</td><td>200</td></tr><tr><td>Graduate</td><td>70</td></tr><tr><td>Not Graduate</td><td>135</td></tr><tr><td>Graduate</td><td>130</td></tr><tr><td>Graduate</td><td>90</td></tr><tr><td>Graduate</td><td>124</td></tr><tr><td>Graduate</td><td>160</td></tr><tr><td>Not Graduate</td><td>100</td></tr><tr><td>Graduate</td><td>187</td></tr><tr><td>Graduate</td><td>128</td></tr><tr><td>Graduate</td><td>154</td></tr><tr><td>Graduate</td><td>102</td></tr><tr><td>Graduate</td><td>304</td></tr><tr><td>Graduate</td><td>244</td></tr><tr><td>Not Graduate</td><td>90</td></tr><tr><td>Not Graduate</td><td>110</td></tr><tr><td>Not Graduate</td><td>102</td></tr><tr><td>Graduate</td><td>194</td></tr><tr><td>Graduate</td><td>113</td></tr><tr><td>Graduate</td><td>155</td></tr><tr><td>Not Graduate</td><td>95</td></tr><tr><td>Not Graduate</td><td>133</td></tr><tr><td>Graduate</td><td>120</td></tr><tr><td>Not Graduate</td><td>110</td></tr><tr><td>Graduate</td><td>108</td></tr><tr><td>Graduate</td><td>187</td></tr><tr><td>Graduate</td><td>130</td></tr><tr><td>Not Graduate</td><td>125</td></tr><tr><td>Graduate</td><td>192</td></tr><tr><td>Graduate</td><td>315</td></tr><tr><td>Graduate</td><td>152</td></tr><tr><td>Graduate</td><td>94</td></tr><tr><td>Graduate</td><td>134</td></tr><tr><td>Graduate</td><td>191</td></tr><tr><td>Not Graduate</td><td>133</td></tr><tr><td>Graduate</td><td>173</td></tr><tr><td>Graduate</td><td>156</td></tr><tr><td>Not Graduate</td><td>81</td></tr><tr><td>Graduate</td><td>71</td></tr><tr><td>Graduate</td><td>113</td></tr><tr><td>Graduate</td><td>150</td></tr><tr><td>Graduate</td><td>138</td></tr><tr><td>Graduate</td><td>71</td></tr><tr><td>Graduate</td><td>214</td></tr><tr><td>Graduate</td><td>115</td></tr><tr><td>Graduate</td><td>50</td></tr><tr><td>Not Graduate</td><td>111</td></tr><tr><td>Graduate</td><td>228</td></tr><tr><td>Graduate</td><td>211</td></tr><tr><td>Graduate</td><td>131</td></tr><tr><td>Graduate</td><td>56</td></tr><tr><td>Graduate</td><td>103</td></tr><tr><td>Not Graduate</td><td>157</td></tr><tr><td>Graduate</td><td>96</td></tr><tr><td>Graduate</td><td>96</td></tr><tr><td>Graduate</td><td>140</td></tr><tr><td>Graduate</td><td>76</td></tr><tr><td>Graduate</td><td>71</td></tr><tr><td>Not Graduate</td><td>130</td></tr><tr><td>Graduate</td><td>185</td></tr><tr><td>Graduate</td><td>250</td></tr><tr><td>Not Graduate</td><td>116</td></tr><tr><td>Graduate</td><td>100</td></tr><tr><td>Graduate</td><td>155</td></tr><tr><td>Graduate</td><td>155</td></tr><tr><td>Graduate</td><td>480</td></tr><tr><td>Graduate</td><td>95</td></tr><tr><td>Not Graduate</td><td>113</td></tr><tr><td>Not Graduate</td><td>187</td></tr><tr><td>Graduate</td><td>97</td></tr><tr><td>Graduate</td><td>188</td></tr><tr><td>Graduate</td><td>136</td></tr><tr><td>Graduate</td><td>88</td></tr><tr><td>Graduate</td><td>130</td></tr><tr><td>Graduate</td><td>175</td></tr><tr><td>Graduate</td><td>66</td></tr><tr><td>Graduate</td><td>106</td></tr><tr><td>Graduate</td><td>105</td></tr><tr><td>Not Graduate</td><td>129</td></tr><tr><td>Graduate</td><td>234</td></tr><tr><td>Graduate</td><td>129</td></tr><tr><td>Graduate</td><td>600</td></tr><tr><td>Graduate</td><td>104</td></tr><tr><td>Graduate</td><td>78</td></tr><tr><td>Graduate</td><td>187</td></tr><tr><td>Graduate</td><td>239</td></tr><tr><td>Not Graduate</td><td>107</td></tr><tr><td>Graduate</td><td>185</td></tr><tr><td>Graduate</td><td>184</td></tr><tr><td>Graduate</td><td>101</td></tr><tr><td>Graduate</td><td>255</td></tr><tr><td>Graduate</td><td>67</td></tr><tr><td>Graduate</td><td>46</td></tr><tr><td>Graduate</td><td>87</td></tr><tr><td>Graduate</td><td>128</td></tr><tr><td>Not Graduate</td><td>124</td></tr><tr><td>Graduate</td><td>110</td></tr><tr><td>Graduate</td><td>108</td></tr><tr><td>Graduate</td><td>120</td></tr><tr><td>Not Graduate</td><td>98</td></tr><tr><td>Graduate</td><td>160</td></tr><tr><td>Graduate</td><td>320</td></tr><tr><td>Graduate</td><td>98</td></tr><tr><td>Graduate</td><td>496</td></tr><tr><td>Graduate</td><td>267</td></tr><tr><td>Graduate</td><td>155</td></tr><tr><td>Graduate</td><td>110</td></tr><tr><td>Graduate</td><td>253</td></tr><tr><td>Graduate</td><td>259</td></tr><tr><td>Graduate</td><td>242</td></tr><tr><td>Graduate</td><td>260</td></tr><tr><td>Not Graduate</td><td>66</td></tr><tr><td>Graduate</td><td>132</td></tr><tr><td>Graduate</td><td>96</td></tr><tr><td>Not Graduate</td><td>53</td></tr><tr><td>Not Graduate</td><td>161</td></tr><tr><td>Graduate</td><td>151</td></tr><tr><td>Not Graduate</td><td>137</td></tr><tr><td>Graduate</td><td>128</td></tr><tr><td>Graduate</td><td>74</td></tr><tr><td>Graduate</td><td>73</td></tr><tr><td>Graduate</td><td>157</td></tr><tr><td>Not Graduate</td><td>113</td></tr><tr><td>Graduate</td><td>400</td></tr><tr><td>Graduate</td><td>180</td></tr><tr><td>Not Graduate</td><td>95</td></tr><tr><td>Graduate</td><td>96</td></tr><tr><td>Graduate</td><td>230</td></tr><tr><td>Not Graduate</td><td>66</td></tr><tr><td>Graduate</td><td>176</td></tr><tr><td>Not Graduate</td><td>94</td></tr><tr><td>Graduate</td><td>115</td></tr><tr><td>Graduate</td><td>123</td></tr><tr><td>Graduate</td><td>200</td></tr><tr><td>Graduate</td><td>112</td></tr><tr><td>Graduate</td><td>108</td></tr><tr><td>Not Graduate</td><td>178</td></tr><tr><td>Graduate</td><td>75</td></tr><tr><td>Graduate</td><td>112</td></tr><tr><td>Graduate</td><td>116</td></tr><tr><td>Graduate</td><td>210</td></tr><tr><td>Graduate</td><td>55</td></tr><tr><td>Not Graduate</td><td>97</td></tr><tr><td>Graduate</td><td>131</td></tr><tr><td>Graduate</td><td>166</td></tr><tr><td>Graduate</td><td>153</td></tr><tr><td>Graduate</td><td>134</td></tr><tr><td>Not Graduate</td><td>132</td></tr><tr><td>Graduate</td><td>145</td></tr><tr><td>Graduate</td><td>175</td></tr><tr><td>Not Graduate</td><td>130</td></tr><tr><td>Graduate</td><td>600</td></tr><tr><td>Graduate</td><td>90</td></tr><tr><td>Not Graduate</td><td>113</td></tr><tr><td>Graduate</td><td>107</td></tr><tr><td>Not Graduate</td><td>110</td></tr><tr><td>Graduate</td><td>164</td></tr><tr><td>Graduate</td><td>100</td></tr><tr><td>Not Graduate</td><td>126</td></tr><tr><td>Not Graduate</td><td>55</td></tr><tr><td>Graduate</td><td>160</td></tr><tr><td>Graduate</td><td>308</td></tr><tr><td>Graduate</td><td>95</td></tr><tr><td>Graduate</td><td>133</td></tr><tr><td>Graduate</td><td>185</td></tr></tbody></table></div>"
      ]
     },
     "metadata": {
      "application/vnd.databricks.v1+output": {
       "addedWidgets": {},
       "aggData": [],
       "aggError": "",
       "aggOverflow": false,
       "aggSchema": [],
       "aggSeriesLimitReached": false,
       "aggType": "",
       "arguments": {},
       "columnCustomDisplayInfos": {},
       "data": [
        [
         "Graduate",
         63
        ],
        [
         "Graduate",
         187
        ],
        [
         "Graduate",
         96
        ],
        [
         "Graduate",
         100
        ],
        [
         "Not Graduate",
         45
        ],
        [
         "Graduate",
         80
        ],
        [
         "Graduate",
         286
        ],
        [
         "Graduate",
         60
        ],
        [
         "Graduate",
         84
        ],
        [
         "Graduate",
         150
        ],
        [
         "Graduate",
         30
        ],
        [
         "Not Graduate",
         81
        ],
        [
         "Graduate",
         300
        ],
        [
         "Graduate",
         162
        ],
        [
         "Graduate",
         324
        ],
        [
         "Graduate",
         17
        ],
        [
         "Graduate",
         495
        ],
        [
         "Graduate",
         170
        ],
        [
         "Graduate",
         115
        ],
        [
         "Not Graduate",
         74
        ],
        [
         "Graduate",
         36
        ],
        [
         "Graduate",
         172
        ],
        [
         "Graduate",
         137
        ],
        [
         "Not Graduate",
         154
        ],
        [
         "Graduate",
         104
        ],
        [
         "Graduate",
         158
        ],
        [
         "Graduate",
         54
        ],
        [
         "Graduate",
         296
        ],
        [
         "Graduate",
         121
        ],
        [
         "Graduate",
         110
        ],
        [
         "Graduate",
         56
        ],
        [
         "Graduate",
         258
        ],
        [
         "Graduate",
         175
        ],
        [
         "Not Graduate",
         132
        ],
        [
         "Graduate",
         136
        ],
        [
         "Graduate",
         275
        ],
        [
         "Graduate",
         127
        ],
        [
         "Not Graduate",
         158
        ],
        [
         "Graduate",
         105
        ],
        [
         "Graduate",
         142
        ],
        [
         "Graduate",
         140
        ],
        [
         "Graduate",
         66
        ],
        [
         "Graduate",
         240
        ],
        [
         "Graduate",
         112
        ],
        [
         "Graduate",
         100
        ],
        [
         "Graduate",
         136
        ],
        [
         "Graduate",
         105
        ],
        [
         "Graduate",
         136
        ],
        [
         "Graduate",
         165
        ],
        [
         "Graduate",
         75
        ],
        [
         "Graduate",
         40
        ],
        [
         "Graduate",
         130
        ],
        [
         "Graduate",
         70
        ],
        [
         "Graduate",
         120
        ],
        [
         "Not Graduate",
         144
        ],
        [
         "Graduate",
         187
        ],
        [
         "Graduate",
         112
        ],
        [
         "Not Graduate",
         70
        ],
        [
         "Graduate",
         70
        ],
        [
         "Not Graduate",
         124
        ],
        [
         "Graduate",
         200
        ],
        [
         "Not Graduate",
         110
        ],
        [
         "Graduate",
         118
        ],
        [
         "Graduate",
         160
        ],
        [
         "Graduate",
         255
        ],
        [
         "Graduate",
         80
        ],
        [
         "Not Graduate",
         35
        ],
        [
         "Graduate",
         60
        ],
        [
         "Not Graduate",
         70
        ],
        [
         "Graduate",
         151
        ],
        [
         "Not Graduate",
         81
        ],
        [
         "Graduate",
         236
        ],
        [
         "Not Graduate",
         113
        ],
        [
         "Graduate",
         113
        ],
        [
         "Graduate",
         59
        ],
        [
         "Graduate",
         55
        ],
        [
         "Not Graduate",
         279
        ],
        [
         "Graduate",
         122
        ],
        [
         "Graduate",
         44
        ],
        [
         "Graduate",
         131
        ],
        [
         "Graduate",
         175
        ],
        [
         "Graduate",
         140
        ],
        [
         "Graduate",
         135
        ],
        [
         "Graduate",
         144
        ],
        [
         "Graduate",
         96
        ],
        [
         "Graduate",
         100
        ],
        [
         "Graduate",
         9
        ],
        [
         "Graduate",
         200
        ],
        [
         "Graduate",
         126
        ],
        [
         "Not Graduate",
         60
        ],
        [
         "Not Graduate",
         115
        ],
        [
         "Graduate",
         570
        ],
        [
         "Graduate",
         128
        ],
        [
         "Graduate",
         180
        ],
        [
         "Graduate",
         103
        ],
        [
         "Graduate",
         99
        ],
        [
         "Graduate",
         187
        ],
        [
         "Graduate",
         99
        ],
        [
         "Graduate",
         117
        ],
        [
         "Graduate",
         114
        ],
        [
         "Graduate",
         144
        ],
        [
         "Not Graduate",
         110
        ],
        [
         "Graduate",
         160
        ],
        [
         "Graduate",
         188
        ],
        [
         "Graduate",
         26
        ],
        [
         "Graduate",
         113
        ],
        [
         "Graduate",
         80
        ],
        [
         "Graduate",
         110
        ],
        [
         "Graduate",
         187
        ],
        [
         "Not Graduate",
         87
        ],
        [
         "Not Graduate",
         48
        ],
        [
         "Not Graduate",
         187
        ],
        [
         "Graduate",
         187
        ],
        [
         "Graduate",
         172
        ],
        [
         "Graduate",
         148
        ],
        [
         "Graduate",
         138
        ],
        [
         "Graduate",
         208
        ],
        [
         "Graduate",
         167
        ],
        [
         "Graduate",
         120
        ],
        [
         "Graduate",
         90
        ],
        [
         "Graduate",
         123
        ],
        [
         "Graduate",
         180
        ],
        [
         "Not Graduate",
         158
        ],
        [
         "Graduate",
         243
        ],
        [
         "Graduate",
         186
        ],
        [
         "Graduate",
         205
        ],
        [
         "Graduate",
         216
        ],
        [
         "Graduate",
         185
        ],
        [
         "Graduate",
         150
        ],
        [
         "Graduate",
         138
        ],
        [
         "Graduate",
         187
        ],
        [
         "Graduate",
         100
        ],
        [
         "Graduate",
         260
        ],
        [
         "Graduate",
         135
        ],
        [
         "Graduate",
         136
        ],
        [
         "Graduate",
         112
        ],
        [
         "Graduate",
         146
        ],
        [
         "Graduate",
         311
        ],
        [
         "Graduate",
         137
        ],
        [
         "Graduate",
         80
        ],
        [
         "Not Graduate",
         109
        ],
        [
         "Graduate",
         110
        ],
        [
         "Graduate",
         50
        ],
        [
         "Graduate",
         209
        ],
        [
         "Not Graduate",
         100
        ],
        [
         "Graduate",
         81
        ],
        [
         "Not Graduate",
         100
        ],
        [
         "Graduate",
         380
        ],
        [
         "Graduate",
         207
        ],
        [
         "Graduate",
         139
        ],
        [
         "Not Graduate",
         111
        ],
        [
         "Graduate",
         130
        ],
        [
         "Graduate",
         108
        ],
        [
         "Graduate",
         150
        ],
        [
         "Graduate",
         107
        ],
        [
         "Graduate",
         152
        ],
        [
         "Graduate",
         141
        ],
        [
         "Not Graduate",
         140
        ],
        [
         "Graduate",
         187
        ],
        [
         "Not Graduate",
         125
        ],
        [
         "Graduate",
         133
        ],
        [
         "Graduate",
         258
        ],
        [
         "Graduate",
         205
        ],
        [
         "Graduate",
         137
        ],
        [
         "Graduate",
         151
        ],
        [
         "Not Graduate",
         225
        ],
        [
         "Graduate",
         158
        ],
        [
         "Graduate",
         135
        ],
        [
         "Graduate",
         113
        ],
        [
         "Graduate",
         170
        ],
        [
         "Graduate",
         184
        ],
        [
         "Graduate",
         360
        ],
        [
         "Not Graduate",
         62
        ],
        [
         "Graduate",
         120
        ],
        [
         "Graduate",
         125
        ],
        [
         "Graduate",
         128
        ],
        [
         "Graduate",
         44
        ],
        [
         "Graduate",
         74
        ],
        [
         "Graduate",
         143
        ],
        [
         "Graduate",
         168
        ],
        [
         "Graduate",
         120
        ],
        [
         "Graduate",
         121
        ],
        [
         "Graduate",
         127
        ],
        [
         "Graduate",
         376
        ],
        [
         "Graduate",
         141
        ],
        [
         "Not Graduate",
         93
        ],
        [
         "Not Graduate",
         125
        ],
        [
         "Not Graduate",
         80
        ],
        [
         "Graduate",
         312
        ],
        [
         "Graduate",
         81
        ],
        [
         "Graduate",
         103
        ],
        [
         "Graduate",
         150
        ],
        [
         "Graduate",
         116
        ],
        [
         "Not Graduate",
         110
        ],
        [
         "Graduate",
         84
        ],
        [
         "Graduate",
         152
        ],
        [
         "Graduate",
         95
        ],
        [
         "Graduate",
         280
        ],
        [
         "Not Graduate",
         165
        ],
        [
         "Graduate",
         99
        ],
        [
         "Graduate",
         76
        ],
        [
         "Graduate",
         122
        ],
        [
         "Graduate",
         110
        ],
        [
         "Graduate",
         100
        ],
        [
         "Not Graduate",
         120
        ],
        [
         "Graduate",
         86
        ],
        [
         "Graduate",
         111
        ],
        [
         "Not Graduate",
         138
        ],
        [
         "Graduate",
         149
        ],
        [
         "Graduate",
         128
        ],
        [
         "Graduate",
         173
        ],
        [
         "Not Graduate",
         104
        ],
        [
         "Graduate",
         134
        ],
        [
         "Graduate",
         225
        ],
        [
         "Graduate",
         188
        ],
        [
         "Graduate",
         150
        ],
        [
         "Graduate",
         160
        ],
        [
         "Graduate",
         40
        ],
        [
         "Not Graduate",
         115
        ],
        [
         "Graduate",
         349
        ],
        [
         "Not Graduate",
         123
        ],
        [
         "Not Graduate",
         115
        ],
        [
         "Graduate",
         134
        ],
        [
         "Graduate",
         115
        ],
        [
         "Graduate",
         98
        ],
        [
         "Graduate",
         246
        ],
        [
         "Graduate",
         150
        ],
        [
         "Graduate",
         118
        ],
        [
         "Graduate",
         30
        ],
        [
         "Graduate",
         275
        ],
        [
         "Not Graduate",
         148
        ],
        [
         "Graduate",
         180
        ],
        [
         "Not Graduate",
         126
        ],
        [
         "Not Graduate",
         133
        ],
        [
         "Graduate",
         260
        ],
        [
         "Graduate",
         71
        ],
        [
         "Graduate",
         83
        ],
        [
         "Graduate",
         81
        ],
        [
         "Graduate",
         436
        ],
        [
         "Graduate",
         128
        ],
        [
         "Graduate",
         130
        ],
        [
         "Graduate",
         70
        ],
        [
         "Graduate",
         112
        ],
        [
         "Graduate",
         104
        ],
        [
         "Not Graduate",
         120
        ],
        [
         "Graduate",
         90
        ],
        [
         "Graduate",
         170
        ],
        [
         "Graduate",
         155
        ],
        [
         "Graduate",
         172
        ],
        [
         "Graduate",
         144
        ],
        [
         "Graduate",
         100
        ],
        [
         "Graduate",
         162
        ],
        [
         "Graduate",
         182
        ],
        [
         "Graduate",
         180
        ],
        [
         "Graduate",
         158
        ],
        [
         "Graduate",
         47
        ],
        [
         "Graduate",
         111
        ],
        [
         "Graduate",
         90
        ],
        [
         "Graduate",
         500
        ],
        [
         "Graduate",
         120
        ],
        [
         "Graduate",
         162
        ],
        [
         "Graduate",
         104
        ],
        [
         "Graduate",
         144
        ],
        [
         "Graduate",
         116
        ],
        [
         "Graduate",
         480
        ],
        [
         "Not Graduate",
         25
        ],
        [
         "Not Graduate",
         100
        ],
        [
         "Not Graduate",
         45
        ],
        [
         "Graduate",
         25
        ],
        [
         "Not Graduate",
         160
        ],
        [
         "Graduate",
         192
        ],
        [
         "Graduate",
         172
        ],
        [
         "Graduate",
         120
        ],
        [
         "Graduate",
         50
        ],
        [
         "Graduate",
         104
        ],
        [
         "Graduate",
         128
        ],
        [
         "Not Graduate",
         131
        ],
        [
         "Not Graduate",
         128
        ],
        [
         "Not Graduate",
         108
        ],
        [
         "Graduate",
         125
        ],
        [
         "Graduate",
         114
        ],
        [
         "Not Graduate",
         194
        ],
        [
         "Graduate",
         135
        ],
        [
         "Graduate",
         110
        ],
        [
         "Graduate",
         125
        ],
        [
         "Graduate",
         50
        ],
        [
         "Graduate",
         84
        ],
        [
         "Graduate",
         168
        ],
        [
         "Not Graduate",
         181
        ],
        [
         "Graduate",
         120
        ],
        [
         "Graduate",
         116
        ],
        [
         "Graduate",
         225
        ],
        [
         "Graduate",
         70
        ],
        [
         "Graduate",
         132
        ],
        [
         "Graduate",
         140
        ],
        [
         "Not Graduate",
         173
        ],
        [
         "Graduate",
         210
        ],
        [
         "Graduate",
         120
        ],
        [
         "Not Graduate",
         104
        ],
        [
         "Graduate",
         119
        ],
        [
         "Not Graduate",
         201
        ],
        [
         "Graduate",
         275
        ],
        [
         "Not Graduate",
         65
        ],
        [
         "Graduate",
         176
        ],
        [
         "Not Graduate",
         94
        ],
        [
         "Graduate",
         100
        ],
        [
         "Graduate",
         106
        ],
        [
         "Graduate",
         290
        ],
        [
         "Graduate",
         89
        ],
        [
         "Graduate",
         67
        ],
        [
         "Graduate",
         136
        ],
        [
         "Not Graduate",
         218
        ],
        [
         "Graduate",
         200
        ],
        [
         "Graduate",
         122
        ],
        [
         "Graduate",
         120
        ],
        [
         "Graduate",
         200
        ],
        [
         "Graduate",
         70
        ],
        [
         "Not Graduate",
         135
        ],
        [
         "Graduate",
         130
        ],
        [
         "Graduate",
         90
        ],
        [
         "Graduate",
         124
        ],
        [
         "Graduate",
         160
        ],
        [
         "Not Graduate",
         100
        ],
        [
         "Graduate",
         187
        ],
        [
         "Graduate",
         128
        ],
        [
         "Graduate",
         154
        ],
        [
         "Graduate",
         102
        ],
        [
         "Graduate",
         304
        ],
        [
         "Graduate",
         244
        ],
        [
         "Not Graduate",
         90
        ],
        [
         "Not Graduate",
         110
        ],
        [
         "Not Graduate",
         102
        ],
        [
         "Graduate",
         194
        ],
        [
         "Graduate",
         113
        ],
        [
         "Graduate",
         155
        ],
        [
         "Not Graduate",
         95
        ],
        [
         "Not Graduate",
         133
        ],
        [
         "Graduate",
         120
        ],
        [
         "Not Graduate",
         110
        ],
        [
         "Graduate",
         108
        ],
        [
         "Graduate",
         187
        ],
        [
         "Graduate",
         130
        ],
        [
         "Not Graduate",
         125
        ],
        [
         "Graduate",
         192
        ],
        [
         "Graduate",
         315
        ],
        [
         "Graduate",
         152
        ],
        [
         "Graduate",
         94
        ],
        [
         "Graduate",
         134
        ],
        [
         "Graduate",
         191
        ],
        [
         "Not Graduate",
         133
        ],
        [
         "Graduate",
         173
        ],
        [
         "Graduate",
         156
        ],
        [
         "Not Graduate",
         81
        ],
        [
         "Graduate",
         71
        ],
        [
         "Graduate",
         113
        ],
        [
         "Graduate",
         150
        ],
        [
         "Graduate",
         138
        ],
        [
         "Graduate",
         71
        ],
        [
         "Graduate",
         214
        ],
        [
         "Graduate",
         115
        ],
        [
         "Graduate",
         50
        ],
        [
         "Not Graduate",
         111
        ],
        [
         "Graduate",
         228
        ],
        [
         "Graduate",
         211
        ],
        [
         "Graduate",
         131
        ],
        [
         "Graduate",
         56
        ],
        [
         "Graduate",
         103
        ],
        [
         "Not Graduate",
         157
        ],
        [
         "Graduate",
         96
        ],
        [
         "Graduate",
         96
        ],
        [
         "Graduate",
         140
        ],
        [
         "Graduate",
         76
        ],
        [
         "Graduate",
         71
        ],
        [
         "Not Graduate",
         130
        ],
        [
         "Graduate",
         185
        ],
        [
         "Graduate",
         250
        ],
        [
         "Not Graduate",
         116
        ],
        [
         "Graduate",
         100
        ],
        [
         "Graduate",
         155
        ],
        [
         "Graduate",
         155
        ],
        [
         "Graduate",
         480
        ],
        [
         "Graduate",
         95
        ],
        [
         "Not Graduate",
         113
        ],
        [
         "Not Graduate",
         187
        ],
        [
         "Graduate",
         97
        ],
        [
         "Graduate",
         188
        ],
        [
         "Graduate",
         136
        ],
        [
         "Graduate",
         88
        ],
        [
         "Graduate",
         130
        ],
        [
         "Graduate",
         175
        ],
        [
         "Graduate",
         66
        ],
        [
         "Graduate",
         106
        ],
        [
         "Graduate",
         105
        ],
        [
         "Not Graduate",
         129
        ],
        [
         "Graduate",
         234
        ],
        [
         "Graduate",
         129
        ],
        [
         "Graduate",
         600
        ],
        [
         "Graduate",
         104
        ],
        [
         "Graduate",
         78
        ],
        [
         "Graduate",
         187
        ],
        [
         "Graduate",
         239
        ],
        [
         "Not Graduate",
         107
        ],
        [
         "Graduate",
         185
        ],
        [
         "Graduate",
         184
        ],
        [
         "Graduate",
         101
        ],
        [
         "Graduate",
         255
        ],
        [
         "Graduate",
         67
        ],
        [
         "Graduate",
         46
        ],
        [
         "Graduate",
         87
        ],
        [
         "Graduate",
         128
        ],
        [
         "Not Graduate",
         124
        ],
        [
         "Graduate",
         110
        ],
        [
         "Graduate",
         108
        ],
        [
         "Graduate",
         120
        ],
        [
         "Not Graduate",
         98
        ],
        [
         "Graduate",
         160
        ],
        [
         "Graduate",
         320
        ],
        [
         "Graduate",
         98
        ],
        [
         "Graduate",
         496
        ],
        [
         "Graduate",
         267
        ],
        [
         "Graduate",
         155
        ],
        [
         "Graduate",
         110
        ],
        [
         "Graduate",
         253
        ],
        [
         "Graduate",
         259
        ],
        [
         "Graduate",
         242
        ],
        [
         "Graduate",
         260
        ],
        [
         "Not Graduate",
         66
        ],
        [
         "Graduate",
         132
        ],
        [
         "Graduate",
         96
        ],
        [
         "Not Graduate",
         53
        ],
        [
         "Not Graduate",
         161
        ],
        [
         "Graduate",
         151
        ],
        [
         "Not Graduate",
         137
        ],
        [
         "Graduate",
         128
        ],
        [
         "Graduate",
         74
        ],
        [
         "Graduate",
         73
        ],
        [
         "Graduate",
         157
        ],
        [
         "Not Graduate",
         113
        ],
        [
         "Graduate",
         400
        ],
        [
         "Graduate",
         180
        ],
        [
         "Not Graduate",
         95
        ],
        [
         "Graduate",
         96
        ],
        [
         "Graduate",
         230
        ],
        [
         "Not Graduate",
         66
        ],
        [
         "Graduate",
         176
        ],
        [
         "Not Graduate",
         94
        ],
        [
         "Graduate",
         115
        ],
        [
         "Graduate",
         123
        ],
        [
         "Graduate",
         200
        ],
        [
         "Graduate",
         112
        ],
        [
         "Graduate",
         108
        ],
        [
         "Not Graduate",
         178
        ],
        [
         "Graduate",
         75
        ],
        [
         "Graduate",
         112
        ],
        [
         "Graduate",
         116
        ],
        [
         "Graduate",
         210
        ],
        [
         "Graduate",
         55
        ],
        [
         "Not Graduate",
         97
        ],
        [
         "Graduate",
         131
        ],
        [
         "Graduate",
         166
        ],
        [
         "Graduate",
         153
        ],
        [
         "Graduate",
         134
        ],
        [
         "Not Graduate",
         132
        ],
        [
         "Graduate",
         145
        ],
        [
         "Graduate",
         175
        ],
        [
         "Not Graduate",
         130
        ],
        [
         "Graduate",
         600
        ],
        [
         "Graduate",
         90
        ],
        [
         "Not Graduate",
         113
        ],
        [
         "Graduate",
         107
        ],
        [
         "Not Graduate",
         110
        ],
        [
         "Graduate",
         164
        ],
        [
         "Graduate",
         100
        ],
        [
         "Not Graduate",
         126
        ],
        [
         "Not Graduate",
         55
        ],
        [
         "Graduate",
         160
        ],
        [
         "Graduate",
         308
        ],
        [
         "Graduate",
         95
        ],
        [
         "Graduate",
         133
        ],
        [
         "Graduate",
         185
        ]
       ],
       "datasetInfos": [],
       "dbfsResultPath": null,
       "isJsonSchema": true,
       "metadata": {},
       "overflow": false,
       "plotOptions": {
        "customPlotOptions": {},
        "displayType": "table",
        "pivotAggregation": null,
        "pivotColumns": null,
        "xColumns": null,
        "yColumns": null
       },
       "removedWidgets": [],
       "schema": [
        {
         "metadata": "{}",
         "name": "Education",
         "type": "\"string\""
        },
        {
         "metadata": "{}",
         "name": "LoanAmount",
         "type": "\"integer\""
        }
       ],
       "type": "table"
      }
     },
     "output_type": "display_data"
    },
    {
     "output_type": "display_data",
     "data": {
      "text/plain": [
       "Databricks visualization. Run in Databricks to view."
      ]
     },
     "metadata": {
      "application/vnd.databricks.v1.subcommand+json": {
       "baseErrorDetails": null,
       "bindings": {},
       "collapsed": false,
       "command": "%python\n__backend_agg_display_orig = display\n__backend_agg_dfs = []\ndef __backend_agg_display_new(df):\n    __backend_agg_df_modules = [\"pandas.core.frame\", \"databricks.koalas.frame\", \"pyspark.sql.dataframe\", \"pyspark.pandas.frame\", \"pyspark.sql.connect.dataframe\"]\n    if (type(df).__module__ in __backend_agg_df_modules and type(df).__name__ == 'DataFrame') or isinstance(df, list):\n        __backend_agg_dfs.append(df)\n\ndisplay = __backend_agg_display_new\n\ndef __backend_agg_user_code_fn():\n    import base64\n    exec(base64.standard_b64decode(\"IyA3LiBMb2FuQW1vdW50IGJ5IEVkdWNhdGlvbgpkZi5zZWxlY3QoIkVkdWNhdGlvbiIsICJMb2FuQW1vdW50IikuZGlzcGxheSgp\").decode())\n\ntry:\n    # run user code\n    __backend_agg_user_code_fn()\n\n    #reset display function\n    display = __backend_agg_display_orig\n\n    if len(__backend_agg_dfs) > 0:\n        # create a temp view\n        if type(__backend_agg_dfs[0]).__module__ == \"databricks.koalas.frame\":\n            # koalas dataframe\n            __backend_agg_dfs[0].to_spark().createOrReplaceTempView(\"DatabricksViewc61a2f1\")\n        elif type(__backend_agg_dfs[0]).__module__ == \"pandas.core.frame\" or isinstance(__backend_agg_dfs[0], list):\n            # pandas dataframe\n            spark.createDataFrame(__backend_agg_dfs[0]).createOrReplaceTempView(\"DatabricksViewc61a2f1\")\n        else:\n            __backend_agg_dfs[0].createOrReplaceTempView(\"DatabricksViewc61a2f1\")\n        #run backend agg\n        display(spark.sql(\"\"\"WITH q AS (select * from DatabricksViewc61a2f1) SELECT `Education`,SUM(`LoanAmount`) `column_fe7e48b1196` FROM q GROUP BY `Education`\"\"\"))\n    else:\n        displayHTML(\"dataframe no longer exists. If you're using dataframe.display(), use display(dataframe) instead.\")\n\n\nfinally:\n    spark.sql(\"drop view if exists DatabricksViewc61a2f1\")\n    display = __backend_agg_display_orig\n    del __backend_agg_display_new\n    del __backend_agg_display_orig\n    del __backend_agg_dfs\n    del __backend_agg_user_code_fn\n\n",
       "commandTitle": "LoanAmount by Education",
       "commandType": "auto",
       "commandVersion": 0,
       "commentThread": [],
       "commentsVisible": false,
       "contentSha256Hex": null,
       "customPlotOptions": {
        "redashChart": [
         {
          "key": "type",
          "value": "CHART"
         },
         {
          "key": "options",
          "value": {
           "alignYAxesAtZero": true,
           "coefficient": 1,
           "columnConfigurationMap": {
            "x": {
             "column": "Education",
             "id": "column_fe7e48b1195"
            },
            "y": [
             {
              "column": "LoanAmount",
              "id": "column_fe7e48b1196",
              "transform": "SUM"
             }
            ]
           },
           "dateTimeFormat": "DD/MM/YYYY HH:mm",
           "direction": {
            "type": "counterclockwise"
           },
           "error_y": {
            "type": "data",
            "visible": true
           },
           "globalSeriesType": "column",
           "legend": {
            "traceorder": "normal"
           },
           "missingValuesAsZero": true,
           "numberFormat": "0,0.[00000]",
           "percentFormat": "0[.]00%",
           "series": {
            "error_y": {
             "type": "data",
             "visible": true
            },
            "stacking": null
           },
           "seriesOptions": {
            "column_fe7e48b1196": {
             "name": "LoanAmount",
             "yAxis": 0
            }
           },
           "showDataLabels": false,
           "sizemode": "diameter",
           "sortX": true,
           "sortY": true,
           "swappedAxes": true,
           "textFormat": "",
           "useAggregationsUi": true,
           "valuesOptions": {},
           "version": 2,
           "xAxis": {
            "labels": {
             "enabled": true
            },
            "type": "-"
           },
           "yAxis": [
            {
             "type": "-"
            },
            {
             "opposite": true,
             "type": "-"
            }
           ]
          }
         }
        ]
       },
       "datasetPreviewNameToCmdIdMap": {},
       "diffDeletes": [],
       "diffInserts": [],
       "displayType": "redashChart",
       "error": null,
       "errorDetails": null,
       "errorSummary": null,
       "errorTraceType": null,
       "finishTime": 0,
       "globalVars": {},
       "guid": "",
       "height": "auto",
       "hideCommandCode": false,
       "hideCommandResult": false,
       "iPythonMetadata": null,
       "inputWidgets": {},
       "isLockedInExamMode": false,
       "latestUser": "a user",
       "latestUserId": null,
       "listResultMetadata": null,
       "metadata": {
        "byteLimit": 2048000,
        "rowLimit": 10000
       },
       "nuid": "c63efe09-d813-420c-ac33-cf8969c88d21",
       "origId": 0,
       "parentHierarchy": [],
       "pivotAggregation": null,
       "pivotColumns": null,
       "position": 16.0,
       "resultDbfsErrorMessage": null,
       "resultDbfsStatus": "INLINED_IN_TREE",
       "results": null,
       "showCommandTitle": false,
       "startTime": 0,
       "state": "finished",
       "streamStates": {},
       "subcommandOptions": {
        "queryPlan": {
         "groups": [
          {
           "column": "Education",
           "type": "column"
          }
         ],
         "selects": [
          {
           "column": "Education",
           "type": "column"
          },
          {
           "alias": "column_fe7e48b1196",
           "args": [
            {
             "column": "LoanAmount",
             "type": "column"
            }
           ],
           "function": "SUM",
           "type": "function"
          }
         ]
        }
       },
       "submitTime": 0,
       "subtype": "tableResultSubCmd.visualization",
       "tableResultIndex": 0,
       "tableResultSettingsMap": {},
       "useConsistentColors": false,
       "version": "CommandV1",
       "width": "auto",
       "workflows": [],
       "xColumns": null,
       "yColumns": null
      }
     },
     "output_type": "display_data"
    }
   ],
   "source": [
    "# 7. LoanAmount by Education\n",
    "df.select(\"Education\", \"LoanAmount\").display()"
   ]
  }
 ],
 "metadata": {
  "application/vnd.databricks.v1+notebook": {
   "computePreferences": null,
   "dashboards": [],
   "environmentMetadata": {
    "base_environment": "",
    "environment_version": "2"
   },
   "inputWidgetPreferences": null,
   "language": "python",
   "notebookMetadata": {
    "pythonIndentUnit": 4
   },
   "notebookName": "EDA Visualization using .csv file",
   "widgets": {}
  },
  "language_info": {
   "name": "python"
  }
 },
 "nbformat": 4,
 "nbformat_minor": 0
}