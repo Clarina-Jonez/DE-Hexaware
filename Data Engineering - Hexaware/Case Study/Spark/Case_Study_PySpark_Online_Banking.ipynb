{
  "nbformat": 4,
  "nbformat_minor": 0,
  "metadata": {
    "colab": {
      "provenance": []
    },
    "kernelspec": {
      "name": "python3",
      "display_name": "Python 3"
    },
    "language_info": {
      "name": "python"
    }
  },
  "cells": [
    {
      "cell_type": "code",
      "execution_count": null,
      "metadata": {
        "id": "00CHS15SnPhb"
      },
      "outputs": [],
      "source": [
        "# Start Spark session\n",
        "from pyspark.sql import SparkSession\n",
        "spark = SparkSession.builder.appName(\"OnlineBankingCaseStudy\").getOrCreate()"
      ]
    },
    {
      "cell_type": "code",
      "source": [
        "# Load loandata.csv\n",
        "loan_df = spark.read.csv(\"loan.csv\", header=True, inferSchema=True)\n",
        "# Load credit.csv\n",
        "credit_df = spark.read.csv(\"credit card.csv\", header=True, inferSchema=True)\n",
        "\n",
        "# Load txn.csv\n",
        "txn_df = spark.read.csv(\"txn.csv\", header=True, inferSchema=True)"
      ],
      "metadata": {
        "id": "-LBVDs-anfMj"
      },
      "execution_count": null,
      "outputs": []
    },
    {
      "cell_type": "code",
      "source": [
        "loan_df.show(5)\n",
        "credit_df.show(5)\n",
        "txn_df.show(5)"
      ],
      "metadata": {
        "colab": {
          "base_uri": "https://localhost:8080/"
        },
        "id": "Y5vwTyyWnyma",
        "outputId": "a6a53575-1496-4a7d-8f4b-eef030b8be89"
      },
      "execution_count": null,
      "outputs": [
        {
          "output_type": "stream",
          "name": "stdout",
          "text": [
            "+-----------+---+------+------------+--------------+-----------+------+-----------+-------------+-------------+-----------+-------+------------+----------------+------------------+\n",
            "|Customer_ID|Age|Gender|  Occupation|Marital Status|Family Size|Income|Expenditure|Use Frequency|Loan Category|Loan Amount|Overdue| Debt Record| Returned Cheque| Dishonour of Bill|\n",
            "+-----------+---+------+------------+--------------+-----------+------+-----------+-------------+-------------+-----------+-------+------------+----------------+------------------+\n",
            "|    IB14001| 30|  MALE|BANK MANAGER|        SINGLE|          4| 50000|      22199|            6|      HOUSING| 10,00,000 |      5|      42,898|               6|                 9|\n",
            "|    IB14008| 44|  MALE|   PROFESSOR|       MARRIED|          6| 51000|      19999|            4|     SHOPPING|     50,000|      3|      33,999|               1|                 5|\n",
            "|    IB14012| 30|FEMALE|     DENTIST|        SINGLE|          3| 58450|      27675|            5|   TRAVELLING|     75,000|      6|      20,876|               3|                 1|\n",
            "|    IB14018| 29|  MALE|     TEACHER|       MARRIED|          5| 45767|      12787|            3|    GOLD LOAN|  6,00,000 |      7|      11,000|               0|                 4|\n",
            "|    IB14022| 34|  MALE|      POLICE|        SINGLE|          4| 43521|      11999|            3|   AUTOMOBILE|  2,00,000 |      2|      43,898|               1|                 2|\n",
            "+-----------+---+------+------------+--------------+-----------+------+-----------+-------------+-------------+-----------+-------+------------+----------------+------------------+\n",
            "only showing top 5 rows\n",
            "\n",
            "+---------+----------+--------+-----------+---------+------+---+------+---------+-------------+--------------+---------------+------+\n",
            "|RowNumber|CustomerId| Surname|CreditScore|Geography|Gender|Age|Tenure|  Balance|NumOfProducts|IsActiveMember|EstimatedSalary|Exited|\n",
            "+---------+----------+--------+-----------+---------+------+---+------+---------+-------------+--------------+---------------+------+\n",
            "|        1|  15634602|Hargrave|        619|   France|Female| 42|     2|      0.0|            1|             1|      101348.88|     1|\n",
            "|        2|  15647311|    Hill|        608|    Spain|Female| 41|     1| 83807.86|            1|             1|      112542.58|     0|\n",
            "|        3|  15619304|    Onio|        502|   France|Female| 42|     8| 159660.8|            3|             0|      113931.57|     1|\n",
            "|        4|  15701354|    Boni|        699|   France|Female| 39|     1|      0.0|            2|             0|       93826.63|     0|\n",
            "|        5|  15737888|Mitchell|        850|    Spain|Female| 43|     2|125510.82|            1|             1|        79084.1|     0|\n",
            "+---------+----------+--------+-----------+---------+------+---+------+---------+-------------+--------------+---------------+------+\n",
            "only showing top 5 rows\n",
            "\n",
            "+-------------+--------------------+----------+----------------+-------------+-----------+\n",
            "|   Account No| TRANSACTION DETAILS|VALUE DATE| WITHDRAWAL AMT | DEPOSIT AMT |BALANCE AMT|\n",
            "+-------------+--------------------+----------+----------------+-------------+-----------+\n",
            "|409000611074'|TRF FROM  Indiafo...| 29-Jun-17|            NULL|    1000000.0|  1000000.0|\n",
            "|409000611074'|TRF FROM  Indiafo...|  5-Jul-17|            NULL|    1000000.0|  2000000.0|\n",
            "|409000611074'|FDRL/INTERNAL FUN...| 18-Jul-17|            NULL|     500000.0|  2500000.0|\n",
            "|409000611074'|TRF FRM  Indiafor...|  1-Aug-17|            NULL|    3000000.0|  5500000.0|\n",
            "|409000611074'|FDRL/INTERNAL FUN...| 16-Aug-17|            NULL|     500000.0|  6000000.0|\n",
            "+-------------+--------------------+----------+----------------+-------------+-----------+\n",
            "only showing top 5 rows\n",
            "\n"
          ]
        }
      ]
    },
    {
      "cell_type": "code",
      "source": [
        "loan_df.printSchema()\n",
        "credit_df.printSchema()\n",
        "txn_df.printSchema()"
      ],
      "metadata": {
        "colab": {
          "base_uri": "https://localhost:8080/"
        },
        "id": "he_fzNEpn5jF",
        "outputId": "6ae4d3ae-4cfb-4742-ec41-6c9200e355fe"
      },
      "execution_count": null,
      "outputs": [
        {
          "output_type": "stream",
          "name": "stdout",
          "text": [
            "root\n",
            " |-- Customer_ID: string (nullable = true)\n",
            " |-- Age: integer (nullable = true)\n",
            " |-- Gender: string (nullable = true)\n",
            " |-- Occupation: string (nullable = true)\n",
            " |-- Marital Status: string (nullable = true)\n",
            " |-- Family Size: integer (nullable = true)\n",
            " |-- Income: integer (nullable = true)\n",
            " |-- Expenditure: integer (nullable = true)\n",
            " |-- Use Frequency: integer (nullable = true)\n",
            " |-- Loan Category: string (nullable = true)\n",
            " |-- Loan Amount: string (nullable = true)\n",
            " |-- Overdue: integer (nullable = true)\n",
            " |--  Debt Record: string (nullable = true)\n",
            " |--  Returned Cheque: integer (nullable = true)\n",
            " |--  Dishonour of Bill: integer (nullable = true)\n",
            "\n",
            "root\n",
            " |-- RowNumber: integer (nullable = true)\n",
            " |-- CustomerId: integer (nullable = true)\n",
            " |-- Surname: string (nullable = true)\n",
            " |-- CreditScore: integer (nullable = true)\n",
            " |-- Geography: string (nullable = true)\n",
            " |-- Gender: string (nullable = true)\n",
            " |-- Age: integer (nullable = true)\n",
            " |-- Tenure: integer (nullable = true)\n",
            " |-- Balance: double (nullable = true)\n",
            " |-- NumOfProducts: integer (nullable = true)\n",
            " |-- IsActiveMember: integer (nullable = true)\n",
            " |-- EstimatedSalary: double (nullable = true)\n",
            " |-- Exited: integer (nullable = true)\n",
            "\n",
            "root\n",
            " |-- Account No: string (nullable = true)\n",
            " |-- TRANSACTION DETAILS: string (nullable = true)\n",
            " |-- VALUE DATE: string (nullable = true)\n",
            " |--  WITHDRAWAL AMT : double (nullable = true)\n",
            " |--  DEPOSIT AMT : double (nullable = true)\n",
            " |-- BALANCE AMT: double (nullable = true)\n",
            "\n"
          ]
        }
      ]
    },
    {
      "cell_type": "markdown",
      "source": [
        " QUERIES FOR loan.csv"
      ],
      "metadata": {
        "id": "cLvp0iultQR9"
      }
    },
    {
      "cell_type": "code",
      "source": [
        "from pyspark.sql.functions import col\n",
        "\n",
        "# 1. Number of loans in each category\n",
        "loan_df.groupBy(\"Loan Category\").count().show()"
      ],
      "metadata": {
        "colab": {
          "base_uri": "https://localhost:8080/"
        },
        "id": "ZdDrjeD9n934",
        "outputId": "70731c3c-e9ab-4134-98db-1399063ebbce"
      },
      "execution_count": null,
      "outputs": [
        {
          "output_type": "stream",
          "name": "stdout",
          "text": [
            "+------------------+-----+\n",
            "|     Loan Category|count|\n",
            "+------------------+-----+\n",
            "|           HOUSING|   67|\n",
            "|        TRAVELLING|   53|\n",
            "|       BOOK STORES|    7|\n",
            "|       AGRICULTURE|   12|\n",
            "|         GOLD LOAN|   77|\n",
            "|  EDUCATIONAL LOAN|   20|\n",
            "|        AUTOMOBILE|   60|\n",
            "|          BUSINESS|   24|\n",
            "|COMPUTER SOFTWARES|   35|\n",
            "|           DINNING|   14|\n",
            "|          SHOPPING|   35|\n",
            "|       RESTAURANTS|   41|\n",
            "|       ELECTRONICS|   14|\n",
            "|          BUILDING|    7|\n",
            "|        RESTAURANT|   20|\n",
            "|   HOME APPLIANCES|   14|\n",
            "+------------------+-----+\n",
            "\n"
          ]
        }
      ]
    },
    {
      "cell_type": "code",
      "source": [
        "# 2. Number of people who have taken more than ₹1 lakh loan\n",
        "loan_df.filter(col(\"Loan Amount\") > 100000).count()"
      ],
      "metadata": {
        "colab": {
          "base_uri": "https://localhost:8080/"
        },
        "id": "ml4KL8BLoCRm",
        "outputId": "c3446b0d-94e4-40bf-c1f2-6558bdc380e4"
      },
      "execution_count": null,
      "outputs": [
        {
          "output_type": "execute_result",
          "data": {
            "text/plain": [
              "0"
            ]
          },
          "metadata": {},
          "execution_count": 7
        }
      ]
    },
    {
      "cell_type": "code",
      "source": [
        "# 3. Number of people with income > ₹60,000\n",
        "loan_df.filter(col(\"Income\") > 60000).count()"
      ],
      "metadata": {
        "colab": {
          "base_uri": "https://localhost:8080/"
        },
        "id": "X460CN_poTg2",
        "outputId": "57ae782a-48b4-4428-8d8c-a3f0f221cbcf"
      },
      "execution_count": null,
      "outputs": [
        {
          "output_type": "execute_result",
          "data": {
            "text/plain": [
              "198"
            ]
          },
          "metadata": {},
          "execution_count": 8
        }
      ]
    },
    {
      "cell_type": "code",
      "source": [
        "# 4. People with 2+ returned cheques and income < ₹50,000\n",
        "loan_df.filter((col(\" Returned Cheque\") >= 2) & (col(\"Income\") < 50000)).count()"
      ],
      "metadata": {
        "colab": {
          "base_uri": "https://localhost:8080/"
        },
        "id": "xOl5DozboYYw",
        "outputId": "39ef7c95-7da9-4ad6-c32f-cca60227a92b"
      },
      "execution_count": null,
      "outputs": [
        {
          "output_type": "execute_result",
          "data": {
            "text/plain": [
              "137"
            ]
          },
          "metadata": {},
          "execution_count": 12
        }
      ]
    },
    {
      "cell_type": "code",
      "source": [
        "# 5. People with 2+ returned cheques and are single\n",
        "loan_df.filter((col(\" Returned Cheque\") >= 2) & (col(\"Marital Status\") == \"Single\")).count()"
      ],
      "metadata": {
        "colab": {
          "base_uri": "https://localhost:8080/"
        },
        "id": "PQnGdAfUofuC",
        "outputId": "9f14c107-0a13-41f8-fefd-0391ec5a7a96"
      },
      "execution_count": null,
      "outputs": [
        {
          "output_type": "execute_result",
          "data": {
            "text/plain": [
              "0"
            ]
          },
          "metadata": {},
          "execution_count": 13
        }
      ]
    },
    {
      "cell_type": "code",
      "source": [
        "# 6. People with expenditure over ₹50,000 per month\n",
        "loan_df.filter(col(\"Expenditure\") > 50000).count()"
      ],
      "metadata": {
        "colab": {
          "base_uri": "https://localhost:8080/"
        },
        "id": "i4kShS7QpKnK",
        "outputId": "1fd666e3-3a4b-41b4-f009-14ee2bcfe422"
      },
      "execution_count": null,
      "outputs": [
        {
          "output_type": "execute_result",
          "data": {
            "text/plain": [
              "6"
            ]
          },
          "metadata": {},
          "execution_count": 14
        }
      ]
    },
    {
      "cell_type": "code",
      "source": [
        "# 7. Members eligible for credit card (assuming 'Credit_Eligible' or similar field, else skip)\n",
        "loan_df.select(\"Customer_ID\", \" Returned Cheque\", \"Expenditure\", \"Income\").show(5)"
      ],
      "metadata": {
        "colab": {
          "base_uri": "https://localhost:8080/"
        },
        "id": "yX3SmbIUr2yg",
        "outputId": "d1ec0dfe-3c61-4383-bbd6-9588f899135b"
      },
      "execution_count": null,
      "outputs": [
        {
          "output_type": "stream",
          "name": "stdout",
          "text": [
            "+-----------+----------------+-----------+------+\n",
            "|Customer_ID| Returned Cheque|Expenditure|Income|\n",
            "+-----------+----------------+-----------+------+\n",
            "|    IB14001|               6|      22199| 50000|\n",
            "|    IB14008|               1|      19999| 51000|\n",
            "|    IB14012|               3|      27675| 58450|\n",
            "|    IB14018|               0|      12787| 45767|\n",
            "|    IB14022|               1|      11999| 43521|\n",
            "+-----------+----------------+-----------+------+\n",
            "only showing top 5 rows\n",
            "\n"
          ]
        }
      ]
    },
    {
      "cell_type": "markdown",
      "source": [
        "QUERIES FOR credit.csv"
      ],
      "metadata": {
        "id": "vDuCQPkvtMZc"
      }
    },
    {
      "cell_type": "code",
      "source": [
        "# 1. Credit card users in Spain\n",
        "credit_df.filter(col(\"Geography\") == \"Spain\").count()"
      ],
      "metadata": {
        "colab": {
          "base_uri": "https://localhost:8080/"
        },
        "id": "ZC4RUQE4pp-C",
        "outputId": "0ee6fb3e-1dbe-41c1-a045-0eee29b5f237"
      },
      "execution_count": null,
      "outputs": [
        {
          "output_type": "execute_result",
          "data": {
            "text/plain": [
              "2477"
            ]
          },
          "metadata": {},
          "execution_count": 16
        }
      ]
    },
    {
      "cell_type": "code",
      "source": [
        "# 2. Eligible (e.g., CreditScore > 600) and Active (IsActiveMember == 1)\n",
        "credit_df.filter((col(\"CreditScore\") > 600) & (col(\"IsActiveMember\") == 1)).count()"
      ],
      "metadata": {
        "colab": {
          "base_uri": "https://localhost:8080/"
        },
        "id": "pj5VvEvMp0Xh",
        "outputId": "18c64faa-50c4-48dd-f680-d326928a33a3"
      },
      "execution_count": null,
      "outputs": [
        {
          "output_type": "execute_result",
          "data": {
            "text/plain": [
              "3639"
            ]
          },
          "metadata": {},
          "execution_count": 26
        }
      ]
    },
    {
      "cell_type": "markdown",
      "source": [
        "QUERIES FOR txn.csv"
      ],
      "metadata": {
        "id": "ycpZnq5htHr-"
      }
    },
    {
      "cell_type": "code",
      "source": [
        "from pyspark.sql.functions import max, min, sum, count\n",
        "\n",
        "# 1. Max withdrawal amount\n",
        "txn_df.select(max(\" WITHDRAWAL AMT \").alias(\"Max_Withdrawal\")).show()"
      ],
      "metadata": {
        "colab": {
          "base_uri": "https://localhost:8080/"
        },
        "id": "Az9DBLEaqTxO",
        "outputId": "13053033-eaa9-4677-d7eb-8f51bd780d4c"
      },
      "execution_count": null,
      "outputs": [
        {
          "output_type": "stream",
          "name": "stdout",
          "text": [
            "+--------------+\n",
            "|Max_Withdrawal|\n",
            "+--------------+\n",
            "| 4.594475464E8|\n",
            "+--------------+\n",
            "\n"
          ]
        }
      ]
    },
    {
      "cell_type": "code",
      "source": [
        "# 2. Min withdrawal amount per account\n",
        "txn_df.groupBy(\"Account No\").agg(min(\" WITHDRAWAL AMT \").alias(\"Min_Withdrawal\")).show()"
      ],
      "metadata": {
        "colab": {
          "base_uri": "https://localhost:8080/"
        },
        "id": "UZzm1Y8yqoHj",
        "outputId": "7ddb8981-364a-43ed-ece7-eb6c0fa37a53"
      },
      "execution_count": null,
      "outputs": [
        {
          "output_type": "stream",
          "name": "stdout",
          "text": [
            "+-------------+--------------+\n",
            "|   Account No|Min_Withdrawal|\n",
            "+-------------+--------------+\n",
            "|409000438611'|           0.2|\n",
            "|     1196711'|          0.25|\n",
            "|     1196428'|          0.25|\n",
            "|409000493210'|          0.01|\n",
            "|409000611074'|         120.0|\n",
            "|409000425051'|          1.25|\n",
            "|409000405747'|          21.0|\n",
            "|409000362497'|          0.97|\n",
            "|409000493201'|           2.1|\n",
            "|409000438620'|          0.34|\n",
            "+-------------+--------------+\n",
            "\n"
          ]
        }
      ]
    },
    {
      "cell_type": "code",
      "source": [
        "# 3. Max deposit amount per account\n",
        "txn_df.groupBy(\"Account No\").agg(max(\" DEPOSIT AMT \").alias(\"Max_Deposit\")).show()"
      ],
      "metadata": {
        "colab": {
          "base_uri": "https://localhost:8080/"
        },
        "id": "g2tFB51mrKbx",
        "outputId": "69988bae-4fa8-4ccb-ff1a-aef99799bdd9"
      },
      "execution_count": null,
      "outputs": [
        {
          "output_type": "stream",
          "name": "stdout",
          "text": [
            "+-------------+-------------+\n",
            "|   Account No|  Max_Deposit|\n",
            "+-------------+-------------+\n",
            "|409000438611'|     1.7025E8|\n",
            "|     1196711'|        5.0E8|\n",
            "|     1196428'|2.119594422E8|\n",
            "|409000493210'|        1.5E7|\n",
            "|409000611074'|    3000000.0|\n",
            "|409000425051'|        1.5E7|\n",
            "|409000405747'|      2.021E8|\n",
            "|409000362497'|        2.0E8|\n",
            "|409000493201'|    1000000.0|\n",
            "|409000438620'|      5.448E8|\n",
            "+-------------+-------------+\n",
            "\n"
          ]
        }
      ]
    },
    {
      "cell_type": "code",
      "source": [
        "# 4. Min deposit amount per account\n",
        "txn_df.groupBy(\"Account No\").agg(min(\" DEPOSIT AMT \").alias(\"Min_Deposit\")).show()"
      ],
      "metadata": {
        "colab": {
          "base_uri": "https://localhost:8080/"
        },
        "id": "7CcIMJzNsdVo",
        "outputId": "2823c91c-6fa6-4548-9e3b-1aee7ede74da"
      },
      "execution_count": null,
      "outputs": [
        {
          "output_type": "stream",
          "name": "stdout",
          "text": [
            "+-------------+-----------+\n",
            "|   Account No|Min_Deposit|\n",
            "+-------------+-----------+\n",
            "|409000438611'|       0.03|\n",
            "|     1196711'|       1.01|\n",
            "|     1196428'|        1.0|\n",
            "|409000493210'|       0.01|\n",
            "|409000611074'|     1320.0|\n",
            "|409000425051'|        1.0|\n",
            "|409000405747'|      500.0|\n",
            "|409000362497'|       0.03|\n",
            "|409000493201'|        0.9|\n",
            "|409000438620'|       0.07|\n",
            "+-------------+-----------+\n",
            "\n"
          ]
        }
      ]
    },
    {
      "cell_type": "code",
      "source": [
        "# 5. Sum of balance in all bank accounts\n",
        "txn_df.select(sum(\"BALANCE AMT\").alias(\"Total_Balance\")).show()"
      ],
      "metadata": {
        "colab": {
          "base_uri": "https://localhost:8080/"
        },
        "id": "RMKK37jAsl4k",
        "outputId": "a1b241b9-2651-4763-ff39-be3793caaca0"
      },
      "execution_count": null,
      "outputs": [
        {
          "output_type": "stream",
          "name": "stdout",
          "text": [
            "+--------------------+\n",
            "|       Total_Balance|\n",
            "+--------------------+\n",
            "|-1.63245212011488...|\n",
            "+--------------------+\n",
            "\n"
          ]
        }
      ]
    },
    {
      "cell_type": "code",
      "source": [
        "# 6. Number of transactions on each date\n",
        "txn_df.groupBy(\"VALUE DATE\").agg(count(\"*\").alias(\"Transaction_Count\")).show()"
      ],
      "metadata": {
        "colab": {
          "base_uri": "https://localhost:8080/"
        },
        "id": "jGX9BPu3suYS",
        "outputId": "d948e9a2-a9dc-4159-bfff-f4dacc6cad1d"
      },
      "execution_count": null,
      "outputs": [
        {
          "output_type": "stream",
          "name": "stdout",
          "text": [
            "+----------+-----------------+\n",
            "|VALUE DATE|Transaction_Count|\n",
            "+----------+-----------------+\n",
            "| 23-Dec-16|              143|\n",
            "|  7-Feb-19|               98|\n",
            "| 21-Jul-15|               80|\n",
            "|  9-Sep-15|               91|\n",
            "| 17-Jan-15|               16|\n",
            "| 18-Nov-17|               53|\n",
            "| 21-Feb-18|               77|\n",
            "| 20-Mar-18|               71|\n",
            "| 19-Apr-18|               71|\n",
            "| 21-Jun-16|               97|\n",
            "| 17-Oct-17|              101|\n",
            "|  3-Jan-18|               70|\n",
            "|  8-Jun-18|              223|\n",
            "| 15-Dec-18|               62|\n",
            "|  8-Aug-16|               97|\n",
            "| 17-Dec-16|               74|\n",
            "|  3-Sep-15|               83|\n",
            "| 21-Jan-16|               76|\n",
            "|  4-May-18|               92|\n",
            "|  7-Sep-17|               94|\n",
            "+----------+-----------------+\n",
            "only showing top 20 rows\n",
            "\n"
          ]
        }
      ]
    },
    {
      "cell_type": "code",
      "source": [
        "# 7. Customers with withdrawal amount > ₹1 lakh\n",
        "txn_df.filter(col(\" WITHDRAWAL AMT \") > 100000).select(\"Account No\", \" WITHDRAWAL AMT \").show()"
      ],
      "metadata": {
        "colab": {
          "base_uri": "https://localhost:8080/"
        },
        "id": "ktdK8kObsz6q",
        "outputId": "256c2ed8-8283-415f-b429-c5787e36cf15"
      },
      "execution_count": null,
      "outputs": [
        {
          "output_type": "stream",
          "name": "stdout",
          "text": [
            "+-------------+----------------+\n",
            "|   Account No| WITHDRAWAL AMT |\n",
            "+-------------+----------------+\n",
            "|409000611074'|        133900.0|\n",
            "|409000611074'|        195800.0|\n",
            "|409000611074'|        143800.0|\n",
            "|409000611074'|        331650.0|\n",
            "|409000611074'|        129000.0|\n",
            "|409000611074'|        230013.0|\n",
            "|409000611074'|        367900.0|\n",
            "|409000611074'|        108000.0|\n",
            "|409000611074'|        141000.0|\n",
            "|409000611074'|        206000.0|\n",
            "|409000611074'|        242300.0|\n",
            "|409000611074'|        113250.0|\n",
            "|409000611074'|        206900.0|\n",
            "|409000611074'|        276000.0|\n",
            "|409000611074'|        171000.0|\n",
            "|409000611074'|        189800.0|\n",
            "|409000611074'|        271323.0|\n",
            "|409000611074'|        200600.0|\n",
            "|409000611074'|        176900.0|\n",
            "|409000611074'|        150050.0|\n",
            "+-------------+----------------+\n",
            "only showing top 20 rows\n",
            "\n"
          ]
        }
      ]
    }
  ]
}