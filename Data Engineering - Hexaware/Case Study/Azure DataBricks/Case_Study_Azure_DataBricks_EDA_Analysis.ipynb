{
 "cells": [
  {
   "cell_type": "markdown",
   "metadata": {
    "application/vnd.databricks.v1+cell": {
     "cellMetadata": {},
     "inputWidgets": {},
     "nuid": "2e588a7b-32f8-4820-add7-31c8e05bba0b",
     "showTitle": false,
     "tableResultSettingsMap": {},
     "title": ""
    }
   },
   "source": [
    "####Read CSV from ADLS in Databricks (using Storage Account Key)"
   ]
  },
  {
   "cell_type": "code",
   "execution_count": 0,
   "metadata": {
    "application/vnd.databricks.v1+cell": {
     "cellMetadata": {
      "byteLimit": 2048000,
      "rowLimit": 10000
     },
     "inputWidgets": {},
     "nuid": "fe0cff1d-c1fa-4371-80f1-f05d3fe602f9",
     "showTitle": false,
     "tableResultSettingsMap": {},
     "title": ""
    }
   },
   "outputs": [
    {
     "output_type": "display_data",
     "data": {
      "text/html": [
       "<style scoped>\n",
       "  .table-result-container {\n",
       "    max-height: 300px;\n",
       "    overflow: auto;\n",
       "  }\n",
       "  table, th, td {\n",
       "    border: 1px solid black;\n",
       "    border-collapse: collapse;\n",
       "  }\n",
       "  th, td {\n",
       "    padding: 5px;\n",
       "  }\n",
       "  th {\n",
       "    text-align: left;\n",
       "  }\n",
       "</style><div class='table-result-container'><table class='table-result'><thead style='background-color: white'><tr><th>order_id</th><th>order_date</th><th>store</th><th>product</th><th>category</th><th>quantity</th><th>price</th><th>customer_age</th></tr></thead><tbody><tr><td>1001</td><td>2024-01-03</td><td>Bangalore</td><td>Apple iPhone 13</td><td>Electronics</td><td>1</td><td>699.0</td><td>34</td></tr><tr><td>1002</td><td>2024-01-04</td><td>Pune</td><td>Samsung Galaxy S21</td><td>Electronics</td><td>1</td><td>599.0</td><td>28</td></tr><tr><td>1003</td><td>2024-01-05</td><td>New Delhi</td><td>Logitech Mouse</td><td>Accessories</td><td>2</td><td>19.99</td><td>40</td></tr><tr><td>1004</td><td>2024-01-06</td><td>Bangalore</td><td>Nike Shoes</td><td>Footwear</td><td>1</td><td>120.5</td><td>26</td></tr><tr><td>1005</td><td>2024-01-06</td><td>Pune</td><td>Levi's Jeans</td><td>Apparel</td><td>1</td><td>49.99</td><td>31</td></tr><tr><td>1006</td><td>2024-01-07</td><td>Chennai</td><td>Apple AirPods</td><td>Electronics</td><td>1</td><td>129.0</td><td>29</td></tr><tr><td>1007</td><td>2024-01-08</td><td>Bangalore</td><td>Canon DSLR</td><td>Electronics</td><td>1</td><td>899.0</td><td>45</td></tr><tr><td>1008</td><td>2024-01-09</td><td>Pune</td><td>Adidas T-Shirt</td><td>Apparel</td><td>3</td><td>19.0</td><td>22</td></tr><tr><td>1009</td><td>2024-01-10</td><td>New Delhi</td><td>Dell Laptop</td><td>Electronics</td><td>1</td><td>999.0</td><td>37</td></tr><tr><td>1010</td><td>2024-01-11</td><td>Chennai</td><td>HP Printer</td><td>Electronics</td><td>1</td><td>199.99</td><td>50</td></tr><tr><td>1011</td><td>2024-01-12</td><td>Bangalore</td><td>Kitchen Blender</td><td>Home Appliances</td><td>1</td><td>39.99</td><td>33</td></tr><tr><td>1012</td><td>2024-01-13</td><td>Pune</td><td>Philips Mixer</td><td>Home Appliances</td><td>1</td><td>59.99</td><td>41</td></tr><tr><td>1013</td><td>2024-01-14</td><td>New Delhi</td><td>Sony Headphones</td><td>Electronics</td><td>2</td><td>89.5</td><td>27</td></tr><tr><td>1014</td><td>2024-01-15</td><td>Chennai</td><td>Reebok Shoes</td><td>Footwear</td><td>1</td><td>89.99</td><td>30</td></tr><tr><td>1015</td><td>2024-01-16</td><td>Bangalore</td><td>Apple iPad</td><td>Electronics</td><td>1</td><td>329.0</td><td>36</td></tr><tr><td>1016</td><td>2024-01-17</td><td>Pune</td><td>USB-C Cable</td><td>Accessories</td><td>5</td><td>4.99</td><td>25</td></tr><tr><td>1017</td><td>2024-01-18</td><td>New Delhi</td><td>Table Lamp</td><td>Home Appliances</td><td>2</td><td>24.5</td><td>48</td></tr><tr><td>1018</td><td>2024-01-19</td><td>Chennai</td><td>Water Bottle</td><td>Accessories</td><td>4</td><td>7.99</td><td>21</td></tr><tr><td>1019</td><td>2024-01-20</td><td>Bangalore</td><td>Backpack</td><td>Accessories</td><td>1</td><td>39.0</td><td>23</td></tr><tr><td>1020</td><td>2024-01-21</td><td>Pune</td><td>Samsung TV</td><td>Electronics</td><td>1</td><td>499.0</td><td>44</td></tr></tbody></table></div>"
      ]
     },
     "metadata": {
      "application/vnd.databricks.v1+output": {
       "addedWidgets": {},
       "aggData": [],
       "aggError": "",
       "aggOverflow": false,
       "aggSchema": [],
       "aggSeriesLimitReached": false,
       "aggType": "",
       "arguments": {},
       "columnCustomDisplayInfos": {},
       "data": [
        [
         1001,
         "2024-01-03",
         "Bangalore",
         "Apple iPhone 13",
         "Electronics",
         1,
         699.0,
         34
        ],
        [
         1002,
         "2024-01-04",
         "Pune",
         "Samsung Galaxy S21",
         "Electronics",
         1,
         599.0,
         28
        ],
        [
         1003,
         "2024-01-05",
         "New Delhi",
         "Logitech Mouse",
         "Accessories",
         2,
         19.99,
         40
        ],
        [
         1004,
         "2024-01-06",
         "Bangalore",
         "Nike Shoes",
         "Footwear",
         1,
         120.5,
         26
        ],
        [
         1005,
         "2024-01-06",
         "Pune",
         "Levi's Jeans",
         "Apparel",
         1,
         49.99,
         31
        ],
        [
         1006,
         "2024-01-07",
         "Chennai",
         "Apple AirPods",
         "Electronics",
         1,
         129.0,
         29
        ],
        [
         1007,
         "2024-01-08",
         "Bangalore",
         "Canon DSLR",
         "Electronics",
         1,
         899.0,
         45
        ],
        [
         1008,
         "2024-01-09",
         "Pune",
         "Adidas T-Shirt",
         "Apparel",
         3,
         19.0,
         22
        ],
        [
         1009,
         "2024-01-10",
         "New Delhi",
         "Dell Laptop",
         "Electronics",
         1,
         999.0,
         37
        ],
        [
         1010,
         "2024-01-11",
         "Chennai",
         "HP Printer",
         "Electronics",
         1,
         199.99,
         50
        ],
        [
         1011,
         "2024-01-12",
         "Bangalore",
         "Kitchen Blender",
         "Home Appliances",
         1,
         39.99,
         33
        ],
        [
         1012,
         "2024-01-13",
         "Pune",
         "Philips Mixer",
         "Home Appliances",
         1,
         59.99,
         41
        ],
        [
         1013,
         "2024-01-14",
         "New Delhi",
         "Sony Headphones",
         "Electronics",
         2,
         89.5,
         27
        ],
        [
         1014,
         "2024-01-15",
         "Chennai",
         "Reebok Shoes",
         "Footwear",
         1,
         89.99,
         30
        ],
        [
         1015,
         "2024-01-16",
         "Bangalore",
         "Apple iPad",
         "Electronics",
         1,
         329.0,
         36
        ],
        [
         1016,
         "2024-01-17",
         "Pune",
         "USB-C Cable",
         "Accessories",
         5,
         4.99,
         25
        ],
        [
         1017,
         "2024-01-18",
         "New Delhi",
         "Table Lamp",
         "Home Appliances",
         2,
         24.5,
         48
        ],
        [
         1018,
         "2024-01-19",
         "Chennai",
         "Water Bottle",
         "Accessories",
         4,
         7.99,
         21
        ],
        [
         1019,
         "2024-01-20",
         "Bangalore",
         "Backpack",
         "Accessories",
         1,
         39.0,
         23
        ],
        [
         1020,
         "2024-01-21",
         "Pune",
         "Samsung TV",
         "Electronics",
         1,
         499.0,
         44
        ]
       ],
       "datasetInfos": [],
       "dbfsResultPath": null,
       "isJsonSchema": true,
       "metadata": {},
       "overflow": false,
       "plotOptions": {
        "customPlotOptions": {},
        "displayType": "table",
        "pivotAggregation": null,
        "pivotColumns": null,
        "xColumns": null,
        "yColumns": null
       },
       "removedWidgets": [],
       "schema": [
        {
         "metadata": "{}",
         "name": "order_id",
         "type": "\"integer\""
        },
        {
         "metadata": "{\"__detected_date_formats\":\"yyyy-M-d\"}",
         "name": "order_date",
         "type": "\"date\""
        },
        {
         "metadata": "{}",
         "name": "store",
         "type": "\"string\""
        },
        {
         "metadata": "{}",
         "name": "product",
         "type": "\"string\""
        },
        {
         "metadata": "{}",
         "name": "category",
         "type": "\"string\""
        },
        {
         "metadata": "{}",
         "name": "quantity",
         "type": "\"integer\""
        },
        {
         "metadata": "{}",
         "name": "price",
         "type": "\"double\""
        },
        {
         "metadata": "{}",
         "name": "customer_age",
         "type": "\"integer\""
        }
       ],
       "type": "table"
      }
     },
     "output_type": "display_data"
    }
   ],
   "source": [
    "# Step 1: Set the storage account key\n",
    "spark.conf.set(\"fs.azure.account.key.hexdatastoragegen2.dfs.core.windows.net\", \n",
    "               \"3yXeqbl+vxjfPvR/0TDxvMsa7Q56vlBDcdyXjput7irnJ4TK6rHd/ETsfIBlCqO68tdiqKvAvf1n+AStOdiylw==\")\n",
    "\n",
    "# Step 2: Read the CSV from ADLS\n",
    "df = spark.read.format(\"csv\") \\\n",
    "    .option(\"header\", \"true\") \\\n",
    "    .option(\"inferSchema\", \"true\") \\\n",
    "    .load(\"abfss://datacontainer@hexdatastoragegen2.dfs.core.windows.net/sales/sales_data.csv\")\n",
    "\n",
    "# Step 3: Display the dataframe\n",
    "display(df)"
   ]
  },
  {
   "cell_type": "markdown",
   "metadata": {
    "application/vnd.databricks.v1+cell": {
     "cellMetadata": {},
     "inputWidgets": {},
     "nuid": "0e58e3e5-0624-4528-b402-29ae2c09035a",
     "showTitle": false,
     "tableResultSettingsMap": {},
     "title": ""
    }
   },
   "source": [
    "What will happen?\n",
    "\n",
    "- This will connect directly to your datacontainer in hexdatastoragegen2 using Key 1.\n",
    "\n",
    "- It will load sales/sales_data.csv into a PySpark DataFrame.\n",
    "\n",
    "- You’ll see a nice table in Databricks."
   ]
  },
  {
   "cell_type": "markdown",
   "metadata": {
    "application/vnd.databricks.v1+cell": {
     "cellMetadata": {},
     "inputWidgets": {},
     "nuid": "f3dd153e-d603-4bcc-9a02-42ecf8ffa1da",
     "showTitle": false,
     "tableResultSettingsMap": {},
     "title": ""
    }
   },
   "source": [
    "####Exploratory Data Analysis (EDA)"
   ]
  },
  {
   "cell_type": "markdown",
   "metadata": {
    "application/vnd.databricks.v1+cell": {
     "cellMetadata": {},
     "inputWidgets": {},
     "nuid": "8ab6df8e-fbbb-4827-893e-2f1060b84664",
     "showTitle": false,
     "tableResultSettingsMap": {},
     "title": ""
    }
   },
   "source": [
    "A — Check schema and sample"
   ]
  },
  {
   "cell_type": "code",
   "execution_count": 0,
   "metadata": {
    "application/vnd.databricks.v1+cell": {
     "cellMetadata": {
      "byteLimit": 2048000,
      "rowLimit": 10000
     },
     "inputWidgets": {},
     "nuid": "ff9a6b14-180c-4c57-98a4-045c7c2500df",
     "showTitle": false,
     "tableResultSettingsMap": {},
     "title": ""
    }
   },
   "outputs": [
    {
     "output_type": "stream",
     "name": "stdout",
     "output_type": "stream",
     "text": [
      "root\n |-- order_id: integer (nullable = true)\n |-- order_date: date (nullable = true)\n |-- store: string (nullable = true)\n |-- product: string (nullable = true)\n |-- category: string (nullable = true)\n |-- quantity: integer (nullable = true)\n |-- price: double (nullable = true)\n |-- customer_age: integer (nullable = true)\n\n"
     ]
    }
   ],
   "source": [
    "# Check structure of the DataFrame\n",
    "df.printSchema()"
   ]
  },
  {
   "cell_type": "code",
   "execution_count": 0,
   "metadata": {
    "application/vnd.databricks.v1+cell": {
     "cellMetadata": {
      "byteLimit": 2048000,
      "rowLimit": 10000
     },
     "inputWidgets": {},
     "nuid": "548b359c-3daf-4eb0-9e27-8cd009f858d8",
     "showTitle": false,
     "tableResultSettingsMap": {},
     "title": ""
    }
   },
   "outputs": [
    {
     "output_type": "stream",
     "name": "stdout",
     "output_type": "stream",
     "text": [
      "+--------+----------+---------+------------------+-----------+--------+-----+------------+\n|order_id|order_date|    store|           product|   category|quantity|price|customer_age|\n+--------+----------+---------+------------------+-----------+--------+-----+------------+\n|    1001|2024-01-03|Bangalore|   Apple iPhone 13|Electronics|       1|699.0|          34|\n|    1002|2024-01-04|     Pune|Samsung Galaxy S21|Electronics|       1|599.0|          28|\n|    1003|2024-01-05|New Delhi|    Logitech Mouse|Accessories|       2|19.99|          40|\n|    1004|2024-01-06|Bangalore|        Nike Shoes|   Footwear|       1|120.5|          26|\n|    1005|2024-01-06|     Pune|      Levi's Jeans|    Apparel|       1|49.99|          31|\n+--------+----------+---------+------------------+-----------+--------+-----+------------+\nonly showing top 5 rows\n"
     ]
    }
   ],
   "source": [
    "# Show first 5 rows\n",
    "df.show(5)"
   ]
  },
  {
   "cell_type": "markdown",
   "metadata": {
    "application/vnd.databricks.v1+cell": {
     "cellMetadata": {},
     "inputWidgets": {},
     "nuid": "48eb7993-f35a-4b24-b18e-f3dce4250c96",
     "showTitle": false,
     "tableResultSettingsMap": {},
     "title": ""
    }
   },
   "source": [
    "B — Basic statistics"
   ]
  },
  {
   "cell_type": "code",
   "execution_count": 0,
   "metadata": {
    "application/vnd.databricks.v1+cell": {
     "cellMetadata": {
      "byteLimit": 2048000,
      "rowLimit": 10000
     },
     "inputWidgets": {},
     "nuid": "d36f03f0-3f5a-40f4-96a9-d80e7a8cb5b0",
     "showTitle": false,
     "tableResultSettingsMap": {},
     "title": ""
    }
   },
   "outputs": [
    {
     "output_type": "display_data",
     "data": {
      "text/html": [
       "<style scoped>\n",
       "  .table-result-container {\n",
       "    max-height: 300px;\n",
       "    overflow: auto;\n",
       "  }\n",
       "  table, th, td {\n",
       "    border: 1px solid black;\n",
       "    border-collapse: collapse;\n",
       "  }\n",
       "  th, td {\n",
       "    padding: 5px;\n",
       "  }\n",
       "  th {\n",
       "    text-align: left;\n",
       "  }\n",
       "</style><div class='table-result-container'><table class='table-result'><thead style='background-color: white'><tr><th>summary</th><th>order_id</th><th>store</th><th>product</th><th>category</th><th>quantity</th><th>price</th><th>customer_age</th></tr></thead><tbody><tr><td>count</td><td>20</td><td>20</td><td>20</td><td>20</td><td>20</td><td>20</td><td>20</td></tr><tr><td>mean</td><td>1010.5</td><td>null</td><td>null</td><td>null</td><td>1.6</td><td>245.92099999999996</td><td>33.5</td></tr><tr><td>stddev</td><td>5.916079783099616</td><td>null</td><td>null</td><td>null</td><td>1.1424811411549587</td><td>316.1642249794276</td><td>8.82878068710808</td></tr><tr><td>min</td><td>1001</td><td>Bangalore</td><td>Adidas T-Shirt</td><td>Accessories</td><td>1</td><td>4.99</td><td>21</td></tr><tr><td>max</td><td>1020</td><td>Pune</td><td>Water Bottle</td><td>Home Appliances</td><td>5</td><td>999.0</td><td>50</td></tr></tbody></table></div>"
      ]
     },
     "metadata": {
      "application/vnd.databricks.v1+output": {
       "addedWidgets": {},
       "aggData": [],
       "aggError": "",
       "aggOverflow": false,
       "aggSchema": [],
       "aggSeriesLimitReached": false,
       "aggType": "",
       "arguments": {},
       "columnCustomDisplayInfos": {},
       "data": [
        [
         "count",
         "20",
         "20",
         "20",
         "20",
         "20",
         "20",
         "20"
        ],
        [
         "mean",
         "1010.5",
         null,
         null,
         null,
         "1.6",
         "245.92099999999996",
         "33.5"
        ],
        [
         "stddev",
         "5.916079783099616",
         null,
         null,
         null,
         "1.1424811411549587",
         "316.1642249794276",
         "8.82878068710808"
        ],
        [
         "min",
         "1001",
         "Bangalore",
         "Adidas T-Shirt",
         "Accessories",
         "1",
         "4.99",
         "21"
        ],
        [
         "max",
         "1020",
         "Pune",
         "Water Bottle",
         "Home Appliances",
         "5",
         "999.0",
         "50"
        ]
       ],
       "datasetInfos": [],
       "dbfsResultPath": null,
       "isJsonSchema": true,
       "metadata": {},
       "overflow": false,
       "plotOptions": {
        "customPlotOptions": {},
        "displayType": "table",
        "pivotAggregation": null,
        "pivotColumns": null,
        "xColumns": null,
        "yColumns": null
       },
       "removedWidgets": [],
       "schema": [
        {
         "metadata": "{}",
         "name": "summary",
         "type": "\"string\""
        },
        {
         "metadata": "{}",
         "name": "order_id",
         "type": "\"string\""
        },
        {
         "metadata": "{}",
         "name": "store",
         "type": "\"string\""
        },
        {
         "metadata": "{}",
         "name": "product",
         "type": "\"string\""
        },
        {
         "metadata": "{}",
         "name": "category",
         "type": "\"string\""
        },
        {
         "metadata": "{}",
         "name": "quantity",
         "type": "\"string\""
        },
        {
         "metadata": "{}",
         "name": "price",
         "type": "\"string\""
        },
        {
         "metadata": "{}",
         "name": "customer_age",
         "type": "\"string\""
        }
       ],
       "type": "table"
      }
     },
     "output_type": "display_data"
    }
   ],
   "source": [
    "# Summary statistics for all numeric columns\n",
    "df.describe().display()"
   ]
  },
  {
   "cell_type": "code",
   "execution_count": 0,
   "metadata": {
    "application/vnd.databricks.v1+cell": {
     "cellMetadata": {
      "byteLimit": 2048000,
      "rowLimit": 10000
     },
     "inputWidgets": {},
     "nuid": "218879dc-0c8a-413c-abf4-5107232448d8",
     "showTitle": false,
     "tableResultSettingsMap": {},
     "title": ""
    }
   },
   "outputs": [
    {
     "output_type": "stream",
     "name": "stdout",
     "output_type": "stream",
     "text": [
      "Total rows: 20\n"
     ]
    }
   ],
   "source": [
    "# Count of rows\n",
    "print(\"Total rows:\", df.count())"
   ]
  },
  {
   "cell_type": "code",
   "execution_count": 0,
   "metadata": {
    "application/vnd.databricks.v1+cell": {
     "cellMetadata": {
      "byteLimit": 2048000,
      "rowLimit": 10000
     },
     "inputWidgets": {},
     "nuid": "853c95ae-5d93-4e02-8c58-65c21347d6a3",
     "showTitle": false,
     "tableResultSettingsMap": {},
     "title": ""
    }
   },
   "outputs": [
    {
     "output_type": "stream",
     "name": "stdout",
     "output_type": "stream",
     "text": [
      "Rows without nulls: 20\n"
     ]
    }
   ],
   "source": [
    "# Count of rows with no missing values\n",
    "print(\"Rows without nulls:\", df.dropna().count())"
   ]
  },
  {
   "cell_type": "markdown",
   "metadata": {
    "application/vnd.databricks.v1+cell": {
     "cellMetadata": {},
     "inputWidgets": {},
     "nuid": "ecf3cf61-4cd7-4a3a-bbc1-356732fc4aa8",
     "showTitle": false,
     "tableResultSettingsMap": {},
     "title": ""
    }
   },
   "source": [
    "C — Column-level insights"
   ]
  },
  {
   "cell_type": "code",
   "execution_count": 0,
   "metadata": {
    "application/vnd.databricks.v1+cell": {
     "cellMetadata": {
      "byteLimit": 2048000,
      "rowLimit": 10000
     },
     "inputWidgets": {},
     "nuid": "129cbc7c-ca5e-450b-94e8-f300c0761f96",
     "showTitle": false,
     "tableResultSettingsMap": {},
     "title": ""
    }
   },
   "outputs": [
    {
     "output_type": "display_data",
     "data": {
      "text/html": [
       "<style scoped>\n",
       "  .table-result-container {\n",
       "    max-height: 300px;\n",
       "    overflow: auto;\n",
       "  }\n",
       "  table, th, td {\n",
       "    border: 1px solid black;\n",
       "    border-collapse: collapse;\n",
       "  }\n",
       "  th, td {\n",
       "    padding: 5px;\n",
       "  }\n",
       "  th {\n",
       "    text-align: left;\n",
       "  }\n",
       "</style><div class='table-result-container'><table class='table-result'><thead style='background-color: white'><tr><th>count(DISTINCT product)</th></tr></thead><tbody><tr><td>20</td></tr></tbody></table></div>"
      ]
     },
     "metadata": {
      "application/vnd.databricks.v1+output": {
       "addedWidgets": {},
       "aggData": [],
       "aggError": "",
       "aggOverflow": false,
       "aggSchema": [],
       "aggSeriesLimitReached": false,
       "aggType": "",
       "arguments": {},
       "columnCustomDisplayInfos": {},
       "data": [
        [
         20
        ]
       ],
       "datasetInfos": [],
       "dbfsResultPath": null,
       "isJsonSchema": true,
       "metadata": {},
       "overflow": false,
       "plotOptions": {
        "customPlotOptions": {},
        "displayType": "table",
        "pivotAggregation": null,
        "pivotColumns": null,
        "xColumns": null,
        "yColumns": null
       },
       "removedWidgets": [],
       "schema": [
        {
         "metadata": "{}",
         "name": "count(DISTINCT product)",
         "type": "\"long\""
        }
       ],
       "type": "table"
      }
     },
     "output_type": "display_data"
    }
   ],
   "source": [
    "from pyspark.sql.functions import col, countDistinct\n",
    "\n",
    "# Distinct products\n",
    "df.select(countDistinct(\"product\")).display()"
   ]
  },
  {
   "cell_type": "code",
   "execution_count": 0,
   "metadata": {
    "application/vnd.databricks.v1+cell": {
     "cellMetadata": {
      "byteLimit": 2048000,
      "rowLimit": 10000
     },
     "inputWidgets": {},
     "nuid": "718e8fd4-513c-4138-8e19-673f5d441a8a",
     "showTitle": false,
     "tableResultSettingsMap": {},
     "title": ""
    }
   },
   "outputs": [
    {
     "output_type": "display_data",
     "data": {
      "text/html": [
       "<style scoped>\n",
       "  .table-result-container {\n",
       "    max-height: 300px;\n",
       "    overflow: auto;\n",
       "  }\n",
       "  table, th, td {\n",
       "    border: 1px solid black;\n",
       "    border-collapse: collapse;\n",
       "  }\n",
       "  th, td {\n",
       "    padding: 5px;\n",
       "  }\n",
       "  th {\n",
       "    text-align: left;\n",
       "  }\n",
       "</style><div class='table-result-container'><table class='table-result'><thead style='background-color: white'><tr><th>category</th><th>sum(quantity)</th></tr></thead><tbody><tr><td>Apparel</td><td>4</td></tr><tr><td>Electronics</td><td>10</td></tr><tr><td>Footwear</td><td>2</td></tr><tr><td>Home Appliances</td><td>4</td></tr><tr><td>Accessories</td><td>12</td></tr></tbody></table></div>"
      ]
     },
     "metadata": {
      "application/vnd.databricks.v1+output": {
       "addedWidgets": {},
       "aggData": [],
       "aggError": "",
       "aggOverflow": false,
       "aggSchema": [],
       "aggSeriesLimitReached": false,
       "aggType": "",
       "arguments": {},
       "columnCustomDisplayInfos": {},
       "data": [
        [
         "Apparel",
         4
        ],
        [
         "Electronics",
         10
        ],
        [
         "Footwear",
         2
        ],
        [
         "Home Appliances",
         4
        ],
        [
         "Accessories",
         12
        ]
       ],
       "datasetInfos": [],
       "dbfsResultPath": null,
       "isJsonSchema": true,
       "metadata": {},
       "overflow": false,
       "plotOptions": {
        "customPlotOptions": {},
        "displayType": "table",
        "pivotAggregation": null,
        "pivotColumns": null,
        "xColumns": null,
        "yColumns": null
       },
       "removedWidgets": [],
       "schema": [
        {
         "metadata": "{}",
         "name": "category",
         "type": "\"string\""
        },
        {
         "metadata": "{}",
         "name": "sum(quantity)",
         "type": "\"long\""
        }
       ],
       "type": "table"
      }
     },
     "output_type": "display_data"
    }
   ],
   "source": [
    "# Total quantity sold per category\n",
    "df.groupBy(\"category\").sum(\"quantity\").display()"
   ]
  },
  {
   "cell_type": "code",
   "execution_count": 0,
   "metadata": {
    "application/vnd.databricks.v1+cell": {
     "cellMetadata": {
      "byteLimit": 2048000,
      "rowLimit": 10000
     },
     "inputWidgets": {},
     "nuid": "468b27ee-3f1c-47e9-be36-e11c2b6fefad",
     "showTitle": false,
     "tableResultSettingsMap": {},
     "title": ""
    }
   },
   "outputs": [
    {
     "output_type": "display_data",
     "data": {
      "text/html": [
       "<style scoped>\n",
       "  .table-result-container {\n",
       "    max-height: 300px;\n",
       "    overflow: auto;\n",
       "  }\n",
       "  table, th, td {\n",
       "    border: 1px solid black;\n",
       "    border-collapse: collapse;\n",
       "  }\n",
       "  th, td {\n",
       "    padding: 5px;\n",
       "  }\n",
       "  th {\n",
       "    text-align: left;\n",
       "  }\n",
       "</style><div class='table-result-container'><table class='table-result'><thead style='background-color: white'><tr><th>category</th><th>avg(price)</th></tr></thead><tbody><tr><td>Apparel</td><td>34.495000000000005</td></tr><tr><td>Electronics</td><td>493.60999999999996</td></tr><tr><td>Footwear</td><td>105.245</td></tr><tr><td>Home Appliances</td><td>41.49333333333333</td></tr><tr><td>Accessories</td><td>17.9925</td></tr></tbody></table></div>"
      ]
     },
     "metadata": {
      "application/vnd.databricks.v1+output": {
       "addedWidgets": {},
       "aggData": [],
       "aggError": "",
       "aggOverflow": false,
       "aggSchema": [],
       "aggSeriesLimitReached": false,
       "aggType": "",
       "arguments": {},
       "columnCustomDisplayInfos": {},
       "data": [
        [
         "Apparel",
         34.495000000000005
        ],
        [
         "Electronics",
         493.60999999999996
        ],
        [
         "Footwear",
         105.245
        ],
        [
         "Home Appliances",
         41.49333333333333
        ],
        [
         "Accessories",
         17.9925
        ]
       ],
       "datasetInfos": [],
       "dbfsResultPath": null,
       "isJsonSchema": true,
       "metadata": {},
       "overflow": false,
       "plotOptions": {
        "customPlotOptions": {},
        "displayType": "table",
        "pivotAggregation": null,
        "pivotColumns": null,
        "xColumns": null,
        "yColumns": null
       },
       "removedWidgets": [],
       "schema": [
        {
         "metadata": "{}",
         "name": "category",
         "type": "\"string\""
        },
        {
         "metadata": "{}",
         "name": "avg(price)",
         "type": "\"double\""
        }
       ],
       "type": "table"
      }
     },
     "output_type": "display_data"
    }
   ],
   "source": [
    "# Average price per category\n",
    "df.groupBy(\"category\").avg(\"price\").display()"
   ]
  },
  {
   "cell_type": "markdown",
   "metadata": {
    "application/vnd.databricks.v1+cell": {
     "cellMetadata": {},
     "inputWidgets": {},
     "nuid": "81e46453-5af1-4195-8693-e84aa5b2287b",
     "showTitle": false,
     "tableResultSettingsMap": {},
     "title": ""
    }
   },
   "source": [
    "D — Simple visualization"
   ]
  },
  {
   "cell_type": "code",
   "execution_count": 0,
   "metadata": {
    "application/vnd.databricks.v1+cell": {
     "cellMetadata": {
      "byteLimit": 2048000,
      "rowLimit": 10000
     },
     "inputWidgets": {},
     "nuid": "dd597cf9-79f5-48a8-9fa7-cbd7aecf4439",
     "showTitle": false,
     "tableResultSettingsMap": {},
     "title": ""
    }
   },
   "outputs": [
    {
     "output_type": "display_data",
     "data": {
      "text/html": [
       "<style scoped>\n",
       "  .table-result-container {\n",
       "    max-height: 300px;\n",
       "    overflow: auto;\n",
       "  }\n",
       "  table, th, td {\n",
       "    border: 1px solid black;\n",
       "    border-collapse: collapse;\n",
       "  }\n",
       "  th, td {\n",
       "    padding: 5px;\n",
       "  }\n",
       "  th {\n",
       "    text-align: left;\n",
       "  }\n",
       "</style><div class='table-result-container'><table class='table-result'><thead style='background-color: white'><tr><th>store</th><th>sum(price)</th></tr></thead><tbody><tr><td>Bangalore</td><td>2126.49</td></tr><tr><td>Chennai</td><td>426.97</td></tr><tr><td>Pune</td><td>1231.97</td></tr><tr><td>New Delhi</td><td>1132.99</td></tr></tbody></table></div>"
      ]
     },
     "metadata": {
      "application/vnd.databricks.v1+output": {
       "addedWidgets": {},
       "aggData": [],
       "aggError": "",
       "aggOverflow": false,
       "aggSchema": [],
       "aggSeriesLimitReached": false,
       "aggType": "",
       "arguments": {},
       "columnCustomDisplayInfos": {},
       "data": [
        [
         "Bangalore",
         2126.49
        ],
        [
         "Chennai",
         426.97
        ],
        [
         "Pune",
         1231.97
        ],
        [
         "New Delhi",
         1132.99
        ]
       ],
       "datasetInfos": [],
       "dbfsResultPath": null,
       "isJsonSchema": true,
       "metadata": {},
       "overflow": false,
       "plotOptions": {
        "customPlotOptions": {},
        "displayType": "table",
        "pivotAggregation": null,
        "pivotColumns": null,
        "xColumns": null,
        "yColumns": null
       },
       "removedWidgets": [],
       "schema": [
        {
         "metadata": "{}",
         "name": "store",
         "type": "\"string\""
        },
        {
         "metadata": "{}",
         "name": "sum(price)",
         "type": "\"double\""
        }
       ],
       "type": "table"
      }
     },
     "output_type": "display_data"
    },
    {
     "output_type": "display_data",
     "data": {
      "text/plain": [
       "Databricks visualization. Run in Databricks to view."
      ]
     },
     "metadata": {
      "application/vnd.databricks.v1.subcommand+json": {
       "baseErrorDetails": null,
       "bindings": {},
       "collapsed": false,
       "command": "%python\n__backend_agg_display_orig = display\n__backend_agg_dfs = []\ndef __backend_agg_display_new(df):\n    __backend_agg_df_modules = [\"pandas.core.frame\", \"databricks.koalas.frame\", \"pyspark.sql.dataframe\", \"pyspark.pandas.frame\", \"pyspark.sql.connect.dataframe\"]\n    if (type(df).__module__ in __backend_agg_df_modules and type(df).__name__ == 'DataFrame') or isinstance(df, list):\n        __backend_agg_dfs.append(df)\n\ndisplay = __backend_agg_display_new\n\ndef __backend_agg_user_code_fn():\n    import base64\n    exec(base64.standard_b64decode(\"IyBUb3RhbCBzYWxlcyBwZXIgc3RvcmUKZGYuZ3JvdXBCeSgic3RvcmUiKS5zdW0oInByaWNlIikuZGlzcGxheSgp\").decode())\n\ntry:\n    # run user code\n    __backend_agg_user_code_fn()\n\n    #reset display function\n    display = __backend_agg_display_orig\n\n    if len(__backend_agg_dfs) > 0:\n        # create a temp view\n        if type(__backend_agg_dfs[0]).__module__ == \"databricks.koalas.frame\":\n            # koalas dataframe\n            __backend_agg_dfs[0].to_spark().createOrReplaceTempView(\"DatabricksView2a1eceb\")\n        elif type(__backend_agg_dfs[0]).__module__ == \"pandas.core.frame\" or isinstance(__backend_agg_dfs[0], list):\n            # pandas dataframe\n            spark.createDataFrame(__backend_agg_dfs[0]).createOrReplaceTempView(\"DatabricksView2a1eceb\")\n        else:\n            __backend_agg_dfs[0].createOrReplaceTempView(\"DatabricksView2a1eceb\")\n        #run backend agg\n        display(spark.sql(\"\"\"WITH q AS (select * from DatabricksView2a1eceb) SELECT `store`,SUM(`sum(price)`) `column_a1bd876c64` FROM q GROUP BY `store`\"\"\"))\n    else:\n        displayHTML(\"dataframe no longer exists. If you're using dataframe.display(), use display(dataframe) instead.\")\n\n\nfinally:\n    spark.sql(\"drop view if exists DatabricksView2a1eceb\")\n    display = __backend_agg_display_orig\n    del __backend_agg_display_new\n    del __backend_agg_display_orig\n    del __backend_agg_dfs\n    del __backend_agg_user_code_fn\n\n",
       "commandTitle": "Visualization 1",
       "commandType": "auto",
       "commandVersion": 0,
       "commentThread": [],
       "commentsVisible": false,
       "contentSha256Hex": null,
       "customPlotOptions": {
        "redashChart": [
         {
          "key": "type",
          "value": "CHART"
         },
         {
          "key": "options",
          "value": {
           "alignYAxesAtZero": true,
           "coefficient": 1,
           "columnConfigurationMap": {
            "x": {
             "column": "store",
             "id": "column_a1bd876c63"
            },
            "y": [
             {
              "column": "sum(price)",
              "id": "column_a1bd876c64",
              "transform": "SUM"
             }
            ]
           },
           "dateTimeFormat": "DD/MM/YYYY HH:mm",
           "direction": {
            "type": "counterclockwise"
           },
           "error_y": {
            "type": "data",
            "visible": true
           },
           "globalSeriesType": "column",
           "legend": {
            "traceorder": "normal"
           },
           "missingValuesAsZero": true,
           "numberFormat": "0,0.[00000]",
           "percentFormat": "0[.]00%",
           "series": {
            "error_y": {
             "type": "data",
             "visible": true
            },
            "stacking": null
           },
           "seriesOptions": {
            "column_a1bd876c64": {
             "name": "sum(price)",
             "yAxis": 0
            }
           },
           "showDataLabels": false,
           "sizemode": "diameter",
           "sortX": true,
           "sortY": true,
           "swappedAxes": true,
           "textFormat": "",
           "useAggregationsUi": true,
           "valuesOptions": {},
           "version": 2,
           "xAxis": {
            "labels": {
             "enabled": true
            },
            "type": "-"
           },
           "yAxis": [
            {
             "type": "-"
            },
            {
             "opposite": true,
             "type": "-"
            }
           ]
          }
         }
        ]
       },
       "datasetPreviewNameToCmdIdMap": {},
       "diffDeletes": [],
       "diffInserts": [],
       "displayType": "redashChart",
       "error": null,
       "errorDetails": null,
       "errorSummary": null,
       "errorTraceType": null,
       "finishTime": 0,
       "globalVars": {},
       "guid": "",
       "height": "auto",
       "hideCommandCode": false,
       "hideCommandResult": false,
       "iPythonMetadata": null,
       "inputWidgets": {},
       "isLockedInExamMode": false,
       "latestUser": "a user",
       "latestUserId": null,
       "listResultMetadata": null,
       "metadata": {},
       "nuid": "6128577a-5a88-4c77-9ac3-94e3a867e436",
       "origId": 0,
       "parentHierarchy": [],
       "pivotAggregation": null,
       "pivotColumns": null,
       "position": 17.0,
       "resultDbfsErrorMessage": null,
       "resultDbfsStatus": "INLINED_IN_TREE",
       "results": null,
       "showCommandTitle": false,
       "startTime": 0,
       "state": "input",
       "streamStates": {},
       "subcommandOptions": {
        "queryPlan": {
         "groups": [
          {
           "column": "store",
           "type": "column"
          }
         ],
         "selects": [
          {
           "column": "store",
           "type": "column"
          },
          {
           "alias": "column_a1bd876c64",
           "args": [
            {
             "column": "sum(price)",
             "type": "column"
            }
           ],
           "function": "SUM",
           "type": "function"
          }
         ]
        }
       },
       "submitTime": 0,
       "subtype": "tableResultSubCmd.visualization",
       "tableResultIndex": 0,
       "tableResultSettingsMap": {},
       "useConsistentColors": false,
       "version": "CommandV1",
       "width": "auto",
       "workflows": [],
       "xColumns": null,
       "yColumns": null
      }
     },
     "output_type": "display_data"
    }
   ],
   "source": [
    "# Total sales per store\n",
    "df.groupBy(\"store\").sum(\"price\").display()"
   ]
  },
  {
   "cell_type": "markdown",
   "metadata": {
    "application/vnd.databricks.v1+cell": {
     "cellMetadata": {},
     "inputWidgets": {},
     "nuid": "3da73629-b458-4fda-8df7-99fa6a8ba89a",
     "showTitle": false,
     "tableResultSettingsMap": {},
     "title": ""
    }
   },
   "source": [
    "E — Save as Delta Table for SQL Queries"
   ]
  },
  {
   "cell_type": "code",
   "execution_count": 0,
   "metadata": {
    "application/vnd.databricks.v1+cell": {
     "cellMetadata": {
      "byteLimit": 2048000,
      "rowLimit": 10000
     },
     "inputWidgets": {},
     "nuid": "1a6a9a50-3e89-455b-ae1f-0712c131cd45",
     "showTitle": false,
     "tableResultSettingsMap": {},
     "title": ""
    }
   },
   "outputs": [],
   "source": [
    "# Save as managed Delta table\n",
    "df.write.format(\"delta\").mode(\"overwrite\").saveAsTable(\"sales_delta\")"
   ]
  },
  {
   "cell_type": "code",
   "execution_count": 0,
   "metadata": {
    "application/vnd.databricks.v1+cell": {
     "cellMetadata": {
      "byteLimit": 2048000,
      "implicitDf": true,
      "rowLimit": 10000
     },
     "inputWidgets": {},
     "nuid": "36e2e447-7764-47fb-9321-07b1fd862764",
     "showTitle": false,
     "tableResultSettingsMap": {},
     "title": ""
    }
   },
   "outputs": [
    {
     "output_type": "display_data",
     "data": {
      "text/html": [
       "<style scoped>\n",
       "  .table-result-container {\n",
       "    max-height: 300px;\n",
       "    overflow: auto;\n",
       "  }\n",
       "  table, th, td {\n",
       "    border: 1px solid black;\n",
       "    border-collapse: collapse;\n",
       "  }\n",
       "  th, td {\n",
       "    padding: 5px;\n",
       "  }\n",
       "  th {\n",
       "    text-align: left;\n",
       "  }\n",
       "</style><div class='table-result-container'><table class='table-result'><thead style='background-color: white'><tr><th>store</th><th>total_sales</th></tr></thead><tbody><tr><td>Bangalore</td><td>2126.49</td></tr><tr><td>Pune</td><td>1231.97</td></tr><tr><td>New Delhi</td><td>1132.99</td></tr><tr><td>Chennai</td><td>426.97</td></tr></tbody></table></div>"
      ]
     },
     "metadata": {
      "application/vnd.databricks.v1+output": {
       "addedWidgets": {},
       "aggData": [],
       "aggError": "",
       "aggOverflow": false,
       "aggSchema": [],
       "aggSeriesLimitReached": false,
       "aggType": "",
       "arguments": {},
       "columnCustomDisplayInfos": {},
       "data": [
        [
         "Bangalore",
         2126.49
        ],
        [
         "Pune",
         1231.97
        ],
        [
         "New Delhi",
         1132.99
        ],
        [
         "Chennai",
         426.97
        ]
       ],
       "datasetInfos": [
        {
         "name": "_sqldf",
         "schema": {
          "fields": [
           {
            "metadata": {},
            "name": "store",
            "nullable": true,
            "type": "string"
           },
           {
            "metadata": {},
            "name": "total_sales",
            "nullable": true,
            "type": "double"
           }
          ],
          "type": "struct"
         },
         "tableIdentifier": null,
         "typeStr": "pyspark.sql.dataframe.DataFrame"
        }
       ],
       "dbfsResultPath": null,
       "isJsonSchema": true,
       "metadata": {
        "createTempViewForImplicitDf": true,
        "dataframeName": "_sqldf",
        "executionCount": 22
       },
       "overflow": false,
       "plotOptions": {
        "customPlotOptions": {},
        "displayType": "table",
        "pivotAggregation": null,
        "pivotColumns": null,
        "xColumns": null,
        "yColumns": null
       },
       "removedWidgets": [],
       "schema": [
        {
         "metadata": "{}",
         "name": "store",
         "type": "\"string\""
        },
        {
         "metadata": "{}",
         "name": "total_sales",
         "type": "\"double\""
        }
       ],
       "type": "table"
      }
     },
     "output_type": "display_data"
    }
   ],
   "source": [
    "%sql\n",
    "SELECT store, SUM(price) AS total_sales\n",
    "FROM sales_delta\n",
    "GROUP BY store\n",
    "ORDER BY total_sales DESC;"
   ]
  }
 ],
 "metadata": {
  "application/vnd.databricks.v1+notebook": {
   "computePreferences": null,
   "dashboards": [],
   "environmentMetadata": {
    "base_environment": "",
    "environment_version": "2"
   },
   "inputWidgetPreferences": null,
   "language": "python",
   "notebookMetadata": {
    "mostRecentlyExecutedCommandWithImplicitDF": {
     "commandId": 8390912428785842,
     "dataframes": [
      "_sqldf"
     ]
    },
    "pythonIndentUnit": 4
   },
   "notebookName": "Case_Study_Azure_DataBricks_EDA_Analysis",
   "widgets": {}
  },
  "language_info": {
   "name": "python"
  }
 },
 "nbformat": 4,
 "nbformat_minor": 0
}